{
 "cells": [
  {
   "cell_type": "markdown",
   "metadata": {},
   "source": [
    "<div class=\"alert alert-info\">\n",
    "Привет, Алексей! Меня зовут Светлана и я буду проверять твой проект. Моя основная цель — не указать на совершенные тобою ошибки, а поделиться своим опытом и помочь тебе. Предлагаю общаться на «ты». Но если это не удобно - дай знать, и мы перейдем на «вы».\n",
    "\n",
    "<div class=\"alert alert-success\">\n",
    "<b>👍 Успех:</b> Зелёным цветом отмечены удачные и элегантные решения, на которые можно опираться в будущих проектах.\n",
    "</div>\n",
    "<div class=\"alert alert-warning\">\n",
    "<b>🤔 Рекомендация:</b> Жёлтым цветом выделено то, что в следующий раз можно сделать по-другому. Ты можешь учесть эти комментарии при выполнении будущих заданий или доработать проект сейчас (однако это не обязательно).\n",
    "</div>\n",
    "<div class=\"alert alert-danger\">\n",
    "<b>😔 Необходимо исправить:</b> Красным цветом выделены комментарии, без исправления которых, я не смогу принять проект :(\n",
    "</div>\n",
    "<div class=\"alert alert-info\">\n",
    "<b>👂 Совет:</b> Какие-то дополнительные материалы\n",
    "</div>\n",
    "Давай работать над проектом в диалоге: если ты что-то меняешь в проекте по моим рекомендациям — пиши об этом.\n",
    "Мне будет легче отследить изменения, если ты выделишь свои комментарии:\n",
    "<div class=\"alert alert-info\"> <b>🎓 Комментарий студента:</b> Например, вот так.</div>\n",
    "Пожалуйста, не перемещай, не изменяй и не удаляй мои комментарии. Всё это поможет выполнить повторную проверку твоего проекта быстрее.\n",
    " </div>\n"
   ]
  },
  {
   "cell_type": "markdown",
   "metadata": {},
   "source": [
    " ### Описание проекта\n",
    " \n",
    " Интернет-магазин товаров для дома «Пока все ещё тут» в срочном порядке ищет аналитиков. Вы поможете нашему магазину стать лучше, а клиентам — обустроить дом своей мечты. Наши ближайшие задачи — анализ товарного ассортимента и создание гипотез на основе полученных данных.\n",
    "«Пока все ещё тут» — мы создаём уют!\n"
   ]
  },
  {
   "cell_type": "markdown",
   "metadata": {},
   "source": [
    " ### Основные задачи исследования:\n",
    "1. Провести исследовательский анализ данных;\n",
    "2. Проанализировать торговый ассортимент;\n",
    "3. Выделить основной и дополнительный ассортимент;\n",
    "4. Сформулировать и проверить статистические гипотезы."
   ]
  },
  {
   "cell_type": "markdown",
   "metadata": {},
   "source": [
    " ### Описание данных\n",
    " Датасет описывает транзакции интернет-магазина товаров для дома и быта «Пока все ещё тут».\n",
    "\n",
    "Колонки в  *ecommerce_dataset.csv* :\n",
    "\n",
    "- `date` — дата заказа;\n",
    "- `customer_id` — идентификатор покупателя;\n",
    "- `order_id` — идентификатор заказа;\n",
    "- `product` — наименование товара;\n",
    "- `quantity` — количество товара в заказе;\n",
    "- `price` — цена товара."
   ]
  },
  {
   "cell_type": "markdown",
   "metadata": {},
   "source": [
    " ### Предобработка данных\n",
    "\n",
    "\n",
    "- Проверить типы данных в датафрейме и преобразовать там, где это необходимо.\n",
    "- Изучить пропуски в датафрейме;\n",
    "- Проверить, есть ли в данных дубликаты (явные и нет). Проанализировать дубликаты без учёта даты и времени;\n",
    "- Удалить строки(дубликаты) если все данные в строке совпадают кроме даты;\n",
    "- Проверить, что одному заказу соответствует один покупатель. Если нет, то оставить первый заказ, остальное удалить;\n",
    "- Изучить данные на предмет выбросов и аномалий. Если данные не влияют на исследование,то удалить их."
   ]
  },
  {
   "cell_type": "code",
   "execution_count": null,
   "metadata": {},
   "outputs": [],
   "source": [
    "# импорт необходимых библиотек\n",
    "import numpy as np\n",
    "import pandas as pd\n",
    "import seaborn as sns\n",
    "from scipy import stats as st\n",
    "import matplotlib.pyplot as plt\n",
    "import datetime as dt\n",
    "import re\n",
    "from pymystem3 import Mystem\n",
    "from collections import Counter\n",
    "import plotly.express as px\n",
    "import plotly.graph_objs as go\n",
    "from plotly.offline import plot\n",
    "from plotly.subplots import make_subplots"
   ]
  },
  {
   "cell_type": "code",
   "execution_count": null,
   "metadata": {},
   "outputs": [],
   "source": [
    "google_id = \"1DkqEQWZoHh22YrsYcNUxSzlhgFqdl0tf\"\n",
    "orders = pd.read_csv(f\"https://drive.google.com/uc?export=download&id={google_id}\" )"
   ]
  },
  {
   "cell_type": "code",
   "execution_count": null,
   "metadata": {},
   "outputs": [],
   "source": [
    "# получаю первоначальную информацию о данных\n",
    "orders.info()\n",
    "orders.head(3)"
   ]
  },
  {
   "cell_type": "markdown",
   "metadata": {},
   "source": [
    "<div class=\"alert alert-info\">\n",
    "     В данных представлена информация о 7474 заказах. Пропусков нет. Тип столбца с датой не соответствует необходимому."
   ]
  },
  {
   "cell_type": "markdown",
   "metadata": {},
   "source": [
    "<div class=\"alert alert-success\">\n",
    "<b>👍 Успех:</b> Есть описание задачи, план реализации проекта, импортированы нужные библиотеки, датасет загружен и просмотрен\n",
    "</div>"
   ]
  },
  {
   "cell_type": "code",
   "execution_count": null,
   "metadata": {
    "scrolled": true
   },
   "outputs": [],
   "source": [
    "# Разделил дату и время на два столбца для упрощения анализа далее.\n",
    "orders['date'] = pd.to_datetime(orders['date'], format='%Y%m%d%H')\n",
    "orders = orders.assign(Date=orders.date.dt.date, Time=orders.date.dt.time)\n",
    "orders.drop(['date'], axis= 1 , inplace= True )"
   ]
  },
  {
   "cell_type": "code",
   "execution_count": null,
   "metadata": {},
   "outputs": [],
   "source": [
    "# Привел названия столбцов к нижнему регистру\n",
    "orders= orders[['Date','Time','customer_id','order_id','product','quantity','price']]\n",
    "orders.columns = orders.columns.str.lower()"
   ]
  },
  {
   "cell_type": "code",
   "execution_count": null,
   "metadata": {
    "scrolled": true
   },
   "outputs": [],
   "source": [
    "# Изменил формат даты на datetime. Часы заказов выделил в отельный столбец. \n",
    "orders['date'] = pd.to_datetime(orders['date'])\n",
    "orders['time'] = pd.to_datetime(orders['time'], format='%H:%M:%S').dt.hour\n",
    "orders.rename(columns={'time':'hour'}, inplace=True)"
   ]
  },
  {
   "cell_type": "code",
   "execution_count": null,
   "metadata": {},
   "outputs": [],
   "source": [
    "print('Дата последнего заказа:',orders['date'].max())\n",
    "print('Дата первого заказа:',orders['date'].min())\n",
    "print('Всего заказов за период:',orders['order_id'].nunique())\n",
    "print('Всего покупателей за период:',orders['customer_id'].nunique())\n",
    "print('Уникальных продуктов:',orders['product'].nunique())"
   ]
  },
  {
   "cell_type": "code",
   "execution_count": null,
   "metadata": {},
   "outputs": [],
   "source": [
    "orders[orders.duplicated()].count()"
   ]
  },
  {
   "cell_type": "markdown",
   "metadata": {},
   "source": [
    "<div class=\"alert alert-info\">\n",
    "    Явных дубликатов не выявлено."
   ]
  },
  {
   "cell_type": "markdown",
   "metadata": {},
   "source": [
    "<div class=\"alert alert-success\">\n",
    "<b>👍 Успех:</b> Все верно!\n",
    "</div>"
   ]
  },
  {
   "cell_type": "code",
   "execution_count": null,
   "metadata": {},
   "outputs": [],
   "source": [
    "orders_without_date = orders.drop(['date','hour'], axis=1)\n",
    "orders_without_date[orders_without_date.duplicated()].count()"
   ]
  },
  {
   "cell_type": "code",
   "execution_count": null,
   "metadata": {
    "scrolled": true
   },
   "outputs": [],
   "source": [
    "# Убедился, что есть полное совпадение в данных без даты и времени.\n",
    "orders_without_date[orders_without_date.duplicated(keep=False)].head(30)"
   ]
  },
  {
   "cell_type": "markdown",
   "metadata": {},
   "source": [
    "<div class=\"alert alert-info\">\n",
    "Выявлено 1864 строки с полным совпадением кроме даты. "
   ]
  },
  {
   "cell_type": "code",
   "execution_count": null,
   "metadata": {},
   "outputs": [],
   "source": [
    "# Удалил строки-дубликаты без учёта даты\n",
    "orders2 = orders.drop_duplicates(subset=['customer_id', 'order_id','product','quantity','price'])\n",
    "orders2 = orders2.reset_index()\n",
    "orders2 = orders2.drop(['index'], axis=1)\n",
    "print(len(orders2.index))\n"
   ]
  },
  {
   "cell_type": "code",
   "execution_count": null,
   "metadata": {},
   "outputs": [],
   "source": [
    "# проверил, что строки-дубликаты удалены.\n",
    "orders_without_date2 = orders2.drop(['date','hour'], axis=1)\n",
    "orders_without_date2[orders_without_date2.duplicated()].count()"
   ]
  },
  {
   "cell_type": "markdown",
   "metadata": {},
   "source": [
    "<div class=\"alert alert-info\">\n",
    "    Удалил строки с неявными дубликаты."
   ]
  },
  {
   "cell_type": "code",
   "execution_count": null,
   "metadata": {},
   "outputs": [],
   "source": [
    "orders2.shape[0]/orders.shape[0]*100"
   ]
  },
  {
   "cell_type": "markdown",
   "metadata": {},
   "source": [
    "<div class=\"alert alert-info\">\n",
    "    В результате преобразований было удалено около 25% данных."
   ]
  },
  {
   "cell_type": "markdown",
   "metadata": {},
   "source": [
    "<div class=\"alert alert-danger\">\n",
    "<s><b>😔 Необходимо исправить:</b> Перед удалением нужно посмотреть на данные и убедиться, что это действительно дубли, посчитать процент удаленных данных</s>\n",
    "</div>"
   ]
  },
  {
   "cell_type": "markdown",
   "metadata": {},
   "source": [
    "<div class=\"alert alert-success\">\n",
    "<b>👍 Успех:</b> Все верно!\n",
    "</div>"
   ]
  },
  {
   "cell_type": "code",
   "execution_count": null,
   "metadata": {
    "scrolled": true
   },
   "outputs": [],
   "source": [
    "# сгруппировал df по номерам заказов,оставил только строки с уникальными номерами заказов. \n",
    "sorted = orders2.sort_values(['order_id', 'customer_id'], ascending = [True, False])\n",
    "unique_orders = sorted.groupby('order_id').first().reset_index()\n",
    "unique_orders.info()"
   ]
  },
  {
   "cell_type": "markdown",
   "metadata": {},
   "source": [
    "<div class=\"alert alert-info\">\n",
    "    Было выявлено, что некоторым заказам соответсвуют несколько покупателей. Удалил строки с дубликатами покупателей. Количество строк в обновленном датафрейме соответствует количеству заказов в исходном. "
   ]
  },
  {
   "cell_type": "code",
   "execution_count": null,
   "metadata": {
    "scrolled": true
   },
   "outputs": [],
   "source": [
    "#проверил,что одному заказу соответствует 1 покупатель.\n",
    "a = unique_orders.groupby('order_id')['customer_id'].nunique()\n",
    "a = pd.DataFrame({'order_id':a.index, 'customer_id':a.values})\n",
    "print(a.sort_values(by='customer_id',ascending=False).head(3))\n",
    "a['customer_id'].unique()"
   ]
  },
  {
   "cell_type": "markdown",
   "metadata": {},
   "source": [
    "<div class=\"alert alert-info\">\n",
    "29 заказов имеют более одного покупателя."
   ]
  },
  {
   "cell_type": "markdown",
   "metadata": {},
   "source": [
    "<div class=\"alert alert-success\">\n",
    "<b>👍 Успех:</b> Все верно!\n",
    "</div>"
   ]
  },
  {
   "cell_type": "code",
   "execution_count": null,
   "metadata": {},
   "outputs": [],
   "source": [
    "# Добавил в df столбцы с названиями дня недели и месяца.\n",
    "unique_orders['day_of_week'] = unique_orders['date'].dt.day_name()\n",
    "unique_orders['name_of_month'] = unique_orders['date'].dt.month_name()"
   ]
  },
  {
   "cell_type": "code",
   "execution_count": null,
   "metadata": {},
   "outputs": [],
   "source": [
    "# Добавил в df столбцы с номерами дня недели и месяца.\n",
    "unique_orders['num_of_week'] = unique_orders['date'].dt.weekday\n",
    "unique_orders['num_of_month'] = unique_orders['date'].dt.month"
   ]
  },
  {
   "cell_type": "code",
   "execution_count": null,
   "metadata": {},
   "outputs": [],
   "source": [
    "# убрал цифры,знаки и английские буквы в столбце product для увеличения скорости леммтизации.\n",
    "unique_orders['product2'] =  unique_orders['product'].apply(lambda x: re.sub(r'[^А-Яа-яd -]', '', str(x)))"
   ]
  },
  {
   "cell_type": "code",
   "execution_count": null,
   "metadata": {},
   "outputs": [],
   "source": [
    "# привел все пробелы к единому стилю.\n",
    "unique_orders['product2'] = unique_orders['product2'].str.replace('   ', ' ', regex=True)\n",
    "unique_orders['product2'] = unique_orders['product2'].str.replace('  ', ' ', regex=True)"
   ]
  },
  {
   "cell_type": "code",
   "execution_count": null,
   "metadata": {},
   "outputs": [],
   "source": [
    "# удалил пробелы в конце строк \n",
    "unique_orders['product2'] = unique_orders['product2'].str.rstrip()"
   ]
  },
  {
   "cell_type": "code",
   "execution_count": null,
   "metadata": {},
   "outputs": [],
   "source": [
    "# проверил примененные изменения\n",
    "unique_orders[['product2']].value_counts(normalize= True).head(3)"
   ]
  },
  {
   "cell_type": "code",
   "execution_count": null,
   "metadata": {},
   "outputs": [],
   "source": [
    "# использовал Mystem() для выделения лемм в отдельный столбец\n",
    "m = Mystem()\n",
    "unique_orders['lemmas'] = unique_orders['product2'].apply(m.lemmatize)"
   ]
  },
  {
   "cell_type": "markdown",
   "metadata": {},
   "source": [
    "<div class=\"alert alert-danger\">\n",
    "<s><b>😔 Необходимо исправить:</b> Почему решил использовать лемматизацию? Если у тебя получилось разобраться с лемматизацией стоит использовать словари а более компактную функцию (без использования такого количетва if). После разбиения на категории нужно проверить сколько товаров в каждой категории</s>\n",
    "</div>"
   ]
  },
  {
   "cell_type": "code",
   "execution_count": null,
   "metadata": {
    "scrolled": true
   },
   "outputs": [],
   "source": [
    "# выделил самые часто встречающиеся слова в названиях товаров с помощью Counter()\n",
    "lemmas = Counter(unique_orders['lemmas'].sum()).most_common()\n",
    "lemmas"
   ]
  },
  {
   "cell_type": "code",
   "execution_count": null,
   "metadata": {},
   "outputs": [],
   "source": [
    "building = ['пружина','петля','проволочный','инструмент','стремянка','корыто','цинк','строительный','сверло',\\\n",
    "            'сварка','стяжка','набор','измерительный','длина','батарейка','бензин','шило','сметка','уличный','веревка']\n",
    "kitchen = ['кружка','лоток','сковорода','сотейник','салатник','кастрюля','котел','овощеварка','мантоварка','соковарка','миска',\\\n",
    "           'противень','нож','столовая','столовый','чайный','терка','толкушка','тарелка','термокружок','свч','ложка','банка',\\\n",
    "           'крышка','пищевой','овощ','венчик','хлебница','рыбочистка','бокал','фужер','чайный','форма','картофелемялка',\\\n",
    "           'ножеточка','бутылка','стакан','лезвие','лопатка','ковш','разделочный','термос','сито','плита','пресс','чайник',\\\n",
    "           'эмалированный','заварочный','покрывало','хлопок','салфетка','одеяло','полотенце','подушка','скатерть','плед']\n",
    "garden = ['рассада','зелень','томат','капуста','перец','огурец','тыква','кабачок','клубника','арбуз','дыня','патиссон',\\\n",
    "          'баклажан','земляника','морковь','петрушка','пряный','лекарственный','цветок','рассада','однолетний','многолетний',\\\n",
    "          'петуния','черенок','крупноцветковый','цвести','садовый','объем','растение','комнатный','домашний' ,'горшок','кашпо',\\\n",
    "          'пеларгония','кассета','цветок','искусственный','композиция','подарочный','открытка','упаковка','новогодний','картина',\\\n",
    "          'фотография','муляж']\n",
    "home= ['гладильный','сушилка','одежда','вешалка','подкладка','подрукавник','обувь','плечики','одежный','обувной','d',\\\n",
    "       'вантуз','щетка','чехол','коврик','средство','электрический','миксер','фен','паровой','пылесос','весы','светильник']\n",
    "cleaning = ['ванный','ванна','ванная','туалет','туалетный','унитазный','унитаз','белье','стиральный',\\\n",
    "            'коврик','ковер','вантуз','посуда','мытье','чистка','щетка','мыло','швабра','зубной','кухонный',\\\n",
    "            'круглый','чистить','перчатка','деревянный','тряпка','скребок','ведро','карниз','совок','губка',\\\n",
    "            'антижир','кольцо','мл','чехол','придверный','средство']\n",
    "keeping = ['сумка','тележка','кофр','хранение','ящик','коробка','корзина','контейнер','таз','полка','комод']"
   ]
  },
  {
   "cell_type": "code",
   "execution_count": null,
   "metadata": {},
   "outputs": [],
   "source": [
    "# распределил слова из названий товаров по категорям с помощью функции.\n",
    "def lemmas_category(lemmas):\n",
    "    if any(i in lemmas for i in cleaning):\n",
    "        return 'Всё для уборки'\n",
    "    elif any(i in lemmas for i in garden):\n",
    "        return 'Всё для сада'\n",
    "    elif any(i in lemmas for i in keeping):\n",
    "        return 'Всё для хранения'\n",
    "    elif any(i in lemmas for i in building):\n",
    "        return 'Всё для стройки'\n",
    "    elif any(i in lemmas for i in kitchen):\n",
    "        return 'Всё для кухни'\n",
    "    else:\n",
    "        return 'Всё для дома'\n",
    "    "
   ]
  },
  {
   "cell_type": "code",
   "execution_count": null,
   "metadata": {},
   "outputs": [],
   "source": [
    "unique_orders['product_category'] = unique_orders['lemmas'].apply(lemmas_category)"
   ]
  },
  {
   "cell_type": "code",
   "execution_count": null,
   "metadata": {},
   "outputs": [],
   "source": [
    "unique_orders['product_category'].unique()"
   ]
  },
  {
   "cell_type": "code",
   "execution_count": null,
   "metadata": {},
   "outputs": [],
   "source": [
    "# все товары отнесены к категорям. \n",
    "print(unique_orders['product_category'].isna().sum())\n",
    "# после добавления категорий данные не \"потерялись\".\n",
    "print(unique_orders['product_category'].value_counts().sum())"
   ]
  },
  {
   "cell_type": "code",
   "execution_count": null,
   "metadata": {},
   "outputs": [],
   "source": [
    "# удалил ненужные столбцы\n",
    "unique_orders = unique_orders.drop(['lemmas','product2'], axis=1)"
   ]
  },
  {
   "cell_type": "markdown",
   "metadata": {},
   "source": [
    "<div class=\"alert alert-success\">\n",
    "<b>👍 Успех:</b> Все верно!\n",
    "</div>"
   ]
  },
  {
   "cell_type": "code",
   "execution_count": null,
   "metadata": {},
   "outputs": [],
   "source": [
    "unique_orders.groupby('product_category')['order_id'].count().sort_values(ascending=False).reset_index()"
   ]
  },
  {
   "cell_type": "markdown",
   "metadata": {},
   "source": [
    "<div class=\"alert alert-info\">\n",
    "    Больше всего товаров в категориях Всё для сада и всё для уборки, меньше всего-в категории всё для стройки."
   ]
  },
  {
   "cell_type": "code",
   "execution_count": null,
   "metadata": {},
   "outputs": [],
   "source": [
    "# изучил данные после изменений.\n",
    "unique_orders.info()\n",
    "print('Дата последнего заказа:',unique_orders['date'].max())\n",
    "print('Дата первого заказа:',unique_orders['date'].min())\n",
    "print('Всего заказов за период:',unique_orders['order_id'].nunique())\n",
    "print('Всего покупателей за период:',unique_orders['customer_id'].nunique())\n",
    "print('Уникальных продуктов:',unique_orders['product'].nunique())"
   ]
  },
  {
   "cell_type": "markdown",
   "metadata": {},
   "source": [
    "<div class=\"alert alert-info\">\n",
    "    Обновленные данные соответсвтуют изначальным параметрам даты,кол-ву заказов. Кол-во покупателей изменилось, так как были выявлены дубликаты. Кол-во уникальных продуктов также изменилось, вероятно, это следствие несоответсвия одному заказу одного покупателя."
   ]
  },
  {
   "cell_type": "code",
   "execution_count": null,
   "metadata": {},
   "outputs": [],
   "source": [
    "unique_orders.shape[0]/orders.shape[0]*100"
   ]
  },
  {
   "cell_type": "markdown",
   "metadata": {},
   "source": [
    "<div class=\"alert alert-info\">\n",
    "    Было удалено 53% данных от изначальных."
   ]
  },
  {
   "cell_type": "markdown",
   "metadata": {},
   "source": [
    "<div class=\"alert alert-danger\">\n",
    "<s><b>😔 Необходимо исправить:</b> После всех преобразовний нужно сразу отслеживать как данные изменились, на сколько процентов уменьшились, итоговое значение строк</s>\n",
    "</div>"
   ]
  },
  {
   "cell_type": "code",
   "execution_count": null,
   "metadata": {},
   "outputs": [],
   "source": [
    "unique_orders.sort_values(by='price',ascending=False).head(1)"
   ]
  },
  {
   "cell_type": "markdown",
   "metadata": {},
   "source": [
    "unique_orders.sort_values(by='price').head(1)"
   ]
  },
  {
   "cell_type": "markdown",
   "metadata": {},
   "source": [
    "<div class=\"alert alert-info\">\n",
    "Самый дешевый товар: Львиный зев Волшебный ковер, его цена 9 руб.\n",
    "\n",
    "\n",
    "Самый дорогой: Сушилка уличная Leifheit 85210 LINOMATIC, её цена 14917 руб."
   ]
  },
  {
   "cell_type": "markdown",
   "metadata": {},
   "source": [
    "<div class=\"alert alert-success\">\n",
    "<b>👍 Успех:</b> Все верно!\n",
    "</div>"
   ]
  },
  {
   "cell_type": "code",
   "execution_count": null,
   "metadata": {
    "scrolled": true
   },
   "outputs": [],
   "source": [
    "# Проверил данные через квантили.\n",
    "unique_orders.quantile ([0.95,0.99])"
   ]
  },
  {
   "cell_type": "code",
   "execution_count": null,
   "metadata": {},
   "outputs": [],
   "source": [
    "# Изучил данные по ценам товаров выше 99 квантиля.\n",
    "unique_orders.query('price>=6061').sort_values(by='price',ascending=False).head(3)"
   ]
  },
  {
   "cell_type": "code",
   "execution_count": null,
   "metadata": {
    "scrolled": false
   },
   "outputs": [],
   "source": [
    "# Изучил данные по количествам товаров выше 99 квантиля.\n",
    "unique_orders.query('quantity>=30').sort_values(by='quantity',ascending=False).head(3)"
   ]
  },
  {
   "cell_type": "code",
   "execution_count": null,
   "metadata": {},
   "outputs": [],
   "source": [
    "# Оставил данные без выброса.\n",
    "unique_orders = unique_orders.query('quantity<335')"
   ]
  },
  {
   "cell_type": "code",
   "execution_count": null,
   "metadata": {},
   "outputs": [],
   "source": [
    "# Проверил изменения.\n",
    "unique_orders.quantile ([0.95,0.99])"
   ]
  },
  {
   "cell_type": "markdown",
   "metadata": {},
   "source": [
    "<div class=\"alert alert-info\">\n",
    "- В столбцах с количеством и ценой присутсвуют выбросы.\n",
    "    \n",
    "- Был найден и удален выброс в количестве товаров: Вантуз с деревянной ручкой, который заказали 1000 штук.  \n",
    "    \n",
    "- В столбце с ценой не было найдено выбросов. Самый дорогой товар: Сушилка уличная Leifheit 85210 LINOMATIC, её цена 14917 руб. Это соответсвует реальности.\n",
    "    "
   ]
  },
  {
   "cell_type": "markdown",
   "metadata": {},
   "source": [
    "<div class=\"alert alert-success\">\n",
    "<b>👍 Успех:</b> Все верно!\n",
    "</div>"
   ]
  },
  {
   "cell_type": "code",
   "execution_count": null,
   "metadata": {
    "scrolled": true
   },
   "outputs": [],
   "source": [
    "# Построил boxplot для цен товаров.\n",
    "plt.figure(figsize=(15,5))\n",
    "sns.boxplot(data=unique_orders, x=\"price\", y=\"product_category\")"
   ]
  },
  {
   "cell_type": "code",
   "execution_count": null,
   "metadata": {},
   "outputs": [],
   "source": [
    "# Построил scatterplot количества товаров в заказах.\n",
    "plt.figure(figsize=(15,5))\n",
    "sns.scatterplot(x='quantity', y='product_category', data=unique_orders)"
   ]
  },
  {
   "cell_type": "code",
   "execution_count": null,
   "metadata": {},
   "outputs": [],
   "source": [
    "# Построил boxplot для часов дня заказа.\n",
    "plt.figure(figsize=(15,5))\n",
    "sns.boxplot(data=unique_orders, x=\"hour\", y=\"product_category\")"
   ]
  },
  {
   "cell_type": "markdown",
   "metadata": {},
   "source": [
    "<div class=\"alert alert-info\">\n",
    "1) Стоимость товара в основном не превышает 2000 руб.\n",
    "    \n",
    "2) Кол-во заказанных товаров в основном до 50 шт.\n",
    "    \n",
    "3) Самое большое количетсво заказов: с 10:00 до 15:00."
   ]
  },
  {
   "cell_type": "markdown",
   "metadata": {},
   "source": [
    "<div class=\"alert alert-success\">\n",
    "<b>👍 Успех:</b> Все верно!\n",
    "</div>"
   ]
  },
  {
   "cell_type": "markdown",
   "metadata": {},
   "source": [
    "<div class=\"alert alert-info\">\n",
    "Были добавлены стобцы с названием дня недели(day_of_week), названием времени года(seasons_of_year) и категории продукта (product_category)"
   ]
  },
  {
   "cell_type": "code",
   "execution_count": null,
   "metadata": {},
   "outputs": [],
   "source": [
    "# Проверил изменения.\n",
    "unique_orders.head(2)"
   ]
  },
  {
   "cell_type": "markdown",
   "metadata": {},
   "source": [
    "<div class=\"alert alert-danger\">\n",
    "<s><b>😔 Необходимо исправить:</b> Какие максимальные и минимальные цены? Они соттветствуею реальности? Сколько товаров одного наименования может быть в заказе? Здесь нет странных значений? Для определения аномалий стоит посмотреть 95 и 99 перцентили, построить боксплоты</s>\n",
    "</div>"
   ]
  },
  {
   "cell_type": "markdown",
   "metadata": {},
   "source": [
    " ### Проведите исследовательский анализ данных\n",
    "- Изучить самые дорогие и дешевые товары;\n",
    "- Сравнить данные о выручке по категориям и по кол-ву проданных товаров по категориям;\n",
    "- Провести анализ продаж по дням недели и часам для выявления времени повышенного спроса;\n",
    "- Изучить сезонность по временам года;\n",
    "- Провести ABC анализ  по выручке; \n",
    "- Выделить основной и дополнительный ассортимент по выручке;\n",
    "- Провести ABC анализ  для проданных категорий;\n",
    "- Выделить основной и дополнительный ассортимент по категориям;\n",
    "- Провести анализ по дням недели и часам исходя из данных ABC тестов."
   ]
  },
  {
   "cell_type": "code",
   "execution_count": null,
   "metadata": {},
   "outputs": [],
   "source": [
    "# построил таблицу 10 самых дешевые товаров.\n",
    "sorted_products = unique_orders[['product','price']]\n",
    "the_cheapest = sorted_products.drop_duplicates()\n",
    "the_cheapest=the_cheapest.sort_values(by='price',ascending=True).head(10)\n",
    "the_cheapest=the_cheapest.reset_index(drop= True)\n",
    "cm = sns.light_palette(\"green\", as_cmap=True)\n",
    "the_cheapest.style.background_gradient(cmap=cm)\n"
   ]
  },
  {
   "cell_type": "markdown",
   "metadata": {},
   "source": [
    "<div class=\"alert alert-info\">\n",
    "    В топ-3 самых дешевых товаров входят: 'Укроп Обильнолистный 3,0 г', 'Алиссум (лобулярия) Снежные одежды 0,2 г' и 'Львиный зев Волшебный ковер 0,05 г'. "
   ]
  },
  {
   "cell_type": "code",
   "execution_count": null,
   "metadata": {
    "scrolled": true
   },
   "outputs": [],
   "source": [
    "# построил таблицу 10 самых дорогих товаров.\n",
    "sorted_products\n",
    "most_expensive = sorted_products.drop_duplicates()\n",
    "most_expensive=most_expensive.sort_values(by='price',ascending=False).head(10)\n",
    "most_expensive=most_expensive.reset_index(drop= True)\n",
    "cm = sns.light_palette(\"green\", as_cmap=True)\n",
    "most_expensive.style.background_gradient(cmap=cm)"
   ]
  },
  {
   "cell_type": "markdown",
   "metadata": {},
   "source": [
    "<div class=\"alert alert-info\">\n",
    "    Топ-3 самых дорогих продукта составляют: 'Сушилка уличная Leifheit зеленая\t','Сумка-тележка хозяйственная Andersen Royal Shopper, Hera, синяя' и 'Сумка-тележка хозяйственная Andersen Alu Star Shopper, Hava, синяя'"
   ]
  },
  {
   "cell_type": "code",
   "execution_count": null,
   "metadata": {
    "scrolled": false
   },
   "outputs": [],
   "source": [
    "# Построил визуализации распределения категорий по выручке и кол-ву проданных товаров.\n",
    "fig = make_subplots(rows=1, cols=2, specs=[[{\"type\": \"pie\"}, {\"type\": \"pie\"}]])\n",
    "\n",
    "sorted_by_revenue = unique_orders.groupby('product_category')['price'].sum().sort_values(ascending=False).reset_index() \n",
    "fig = go.Figure(go.Pie(labels=sorted_by_revenue['product_category'], values=sorted_by_revenue['price'], pull=[0.2, 0, 0, 0]))\n",
    "fig.update_layout(\n",
    "    title_text=\"Выручка по категориям\")\n",
    "fig.show()\n",
    "\n",
    "sorted_by_quantity = unique_orders.groupby('product_category')['product'].count().sort_values(ascending=False).reset_index() \n",
    "fig = px.pie(sorted_by_quantity,values='product', names='product_category',color_discrete_sequence=px.colors.sequential.RdBu,hole=0.5)\n",
    "fig.update_layout(\n",
    "    title_text=\"Количество проданных товаров по категориям\")\n",
    "fig.show()\n"
   ]
  },
  {
   "cell_type": "markdown",
   "metadata": {},
   "source": [
    "<div class=\"alert alert-info\"> \n",
    "-Самой прибыльной является категория Всё для хранения, наименее прибыльная - Всё для сада.\n",
    "\n",
    "-Больше всего товаров было продано  в категории Всё для сада, меньше всего - в категории Всё для стройки.\n",
    "    "
   ]
  },
  {
   "cell_type": "markdown",
   "metadata": {},
   "source": [
    "<div class=\"alert alert-success\">\n",
    "<b>👍 Успех:</b> Все верно!\n",
    "</div>"
   ]
  },
  {
   "cell_type": "code",
   "execution_count": null,
   "metadata": {},
   "outputs": [],
   "source": [
    "# Создал необходимые для визуализаций df.\n",
    "unique_orders2 = unique_orders.pivot_table(index='num_of_month',columns='product_category', values='order_id', aggfunc='count').sort_values(by='num_of_month',ascending=False)\n",
    "unique_orders3 = unique_orders.pivot_table(index='num_of_week',columns='product_category', values='order_id', aggfunc='count').sort_values(by='num_of_week',ascending=False)\n",
    "unique_orders4 = unique_orders.pivot_table(index='hour',columns='product_category', values='order_id', aggfunc='count')"
   ]
  },
  {
   "cell_type": "code",
   "execution_count": null,
   "metadata": {
    "scrolled": true
   },
   "outputs": [],
   "source": [
    "# Построил визуализации распределения заказов.\n",
    "plt.figure(figsize=(15, 5))\n",
    "fig = sns.lineplot(data=unique_orders2, palette='Paired', dashes=False)\n",
    "fig.set_title('Распределение заказов по категориям по месяцам', fontsize=10)\n",
    "fig.set_xlabel('месяц')\n",
    "fig.set_ylabel('количество заказов')\n",
    "plt.show()\n",
    "\n",
    "plt.figure(figsize=(15, 5))\n",
    "fig = sns.lineplot(data=unique_orders3, palette='Paired', dashes=False)\n",
    "fig.set_title('Распределение заказов по категориям по дням недели', fontsize=10)\n",
    "fig.set_xlabel('день недели')\n",
    "fig.set_ylabel('количество заказов')\n",
    "plt.show()\n",
    "\n",
    "\n",
    "plt.figure(figsize=(15, 5))\n",
    "fig = sns.lineplot(data=unique_orders4, palette='Paired', dashes=False)\n",
    "fig.set_title('Распределение заказов по категориям по часам', fontsize=10)\n",
    "fig.set_xlabel('час')\n",
    "fig.set_ylabel('количество заказов')\n",
    "plt.show()"
   ]
  },
  {
   "cell_type": "markdown",
   "metadata": {},
   "source": [
    "<div class=\"alert alert-info\"> \n",
    "    \n",
    "- Наблюдается сезонность в течении года. Самое большое количество заказов зимой,затем кол-во снижается всю весну, летом в июне достигает минимумов и начинает расти к осени, достигая пика в декабре. Данная сезонность соответствует реальности, так как на зиму приходится больше всего выходных и праздников в году.\n",
    "\n",
    "- Категория 'Всё для уборки' практически во все месяца находится в лидерах по кол-ву заказов.\n",
    "\n",
    "- Категории 'Всё для стройки' и 'Всё для кухни' на протяжении всего года имеют мЕньшее кол-во заказов.\n",
    "       \n",
    "- В течении недели также наблюдается зависимость. На вторник приходится пик числа заказов, затем количество плавно снижается к выходным, достигая дна в субботу.\n",
    "   \n",
    "- Наибольшее количество заказов совершается с 10 до 13. Час-пик: с 11 до 12."
   ]
  },
  {
   "cell_type": "markdown",
   "metadata": {},
   "source": [
    "<div class=\"alert alert-danger\">\n",
    "<s><b>😔 Необходимо исправить:</b> Графики стоит построить с разбиенеие на товарные категории, посмотреть на продажи по месяцам, что бы проверить нет ли сезонности</s>\n",
    "</div>"
   ]
  },
  {
   "cell_type": "markdown",
   "metadata": {},
   "source": [
    "<div class=\"alert alert-success\">\n",
    "<b>👍 Успех:</b> Все верно!\n",
    "</div>"
   ]
  },
  {
   "cell_type": "code",
   "execution_count": null,
   "metadata": {},
   "outputs": [],
   "source": [
    "# создал агрегацию для расчета показателей дохода для каждого товара.\n",
    "abc_revenue = unique_orders.groupby('product').agg(\n",
    "    unique_product=('product', 'nunique'),\n",
    "    total_units=('quantity', 'sum'),\n",
    "    total_revenue=('price', 'sum'),\n",
    ").sort_values(by='total_revenue', ascending=False).reset_index()\n",
    "abc_revenue.head(3)"
   ]
  },
  {
   "cell_type": "code",
   "execution_count": null,
   "metadata": {},
   "outputs": [],
   "source": [
    "# добавил столбцы для рассчета ABC классов: кумулятивная выручка,общая выручка и кумулятивная доля в выручке.\n",
    "# использовал использовать cumsum() для вычисления совокупной суммы выручки, а затем для вычисления текущего процента выручки и сохранения его во фрейме данных\n",
    "abc_revenue['revenue_cumsum'] = abc_revenue['total_revenue'].cumsum()\n",
    "abc_revenue['revenue_total'] = abc_revenue['total_revenue'].sum()\n",
    "abc_revenue['revenue_running_percentage'] = (abc_revenue['revenue_cumsum'] / abc_revenue['revenue_total']) * 100\n"
   ]
  },
  {
   "cell_type": "code",
   "execution_count": null,
   "metadata": {},
   "outputs": [],
   "source": [
    "# Создал функцию для отнесения каждого товара к соответствующему классу на основе его вклада в процентный доход.\n",
    "def abc_classify_product(percentage):\n",
    "       if percentage > 0 and percentage <= 80:\n",
    "        return 'A'\n",
    "       elif percentage > 80 and percentage <= 90:\n",
    "        return 'B'\n",
    "       else:\n",
    "        return 'C'"
   ]
  },
  {
   "cell_type": "code",
   "execution_count": null,
   "metadata": {},
   "outputs": [],
   "source": [
    "# Добавил столбцы с категорией ABC и посчитал  рейтинг продаж продукта. \n",
    "abc_revenue['abc_class'] = abc_revenue['revenue_running_percentage'].apply(abc_classify_product)"
   ]
  },
  {
   "cell_type": "code",
   "execution_count": null,
   "metadata": {},
   "outputs": [],
   "source": [
    "# Проверил изменения.\n",
    "abc_revenue.head(2)"
   ]
  },
  {
   "cell_type": "code",
   "execution_count": null,
   "metadata": {},
   "outputs": [],
   "source": [
    "abc_revenue['abc_class'].unique()"
   ]
  },
  {
   "cell_type": "markdown",
   "metadata": {},
   "source": [
    "<div class=\"alert alert-danger\">\n",
    "    <s><b>😔 Необходимо исправить:</b> Нужно проверить что получилось</s>\n",
    "</div>"
   ]
  },
  {
   "cell_type": "code",
   "execution_count": null,
   "metadata": {},
   "outputs": [],
   "source": [
    "# Оставил в abc_revenue для объеденения.\n",
    "abc_revenue2=abc_revenue[['product','abc_class']]"
   ]
  },
  {
   "cell_type": "code",
   "execution_count": null,
   "metadata": {},
   "outputs": [],
   "source": [
    "# Добавил столбец с abc категорией товара в общий df.\n",
    "unique_orders_aabbcc = unique_orders.merge(abc_revenue2, how = 'inner', on = 'product')"
   ]
  },
  {
   "cell_type": "code",
   "execution_count": null,
   "metadata": {},
   "outputs": [],
   "source": [
    "# Проверил изменения.\n",
    "unique_orders_aabbcc.head(2)"
   ]
  },
  {
   "cell_type": "code",
   "execution_count": null,
   "metadata": {},
   "outputs": [],
   "source": [
    "# создал агрегацию для расчета показателей количества для каждого товара.\n",
    "abc_quantity = unique_orders.groupby('product').agg(\n",
    "    unique_product=('product', 'nunique'),\n",
    "    total_units=('quantity', 'count'),\n",
    "    total_quantity=('quantity', 'sum'),\n",
    ").sort_values(by='total_quantity', ascending=False).reset_index()\n",
    "abc_quantity.head(3)"
   ]
  },
  {
   "cell_type": "code",
   "execution_count": null,
   "metadata": {},
   "outputs": [],
   "source": [
    "# добавил столбцы для рассчета ABC классов: кумулятивная выручка,общая выручка и кумулятивная доля в выручке.\n",
    "# использовал использовать cumsum() для вычисления совокупной суммы выручки, а затем для вычисления текущего процента выручки и сохранения его во фрейме данных\n",
    "abc_quantity['quantity_cumsum'] = abc_quantity['total_quantity'].cumsum()\n",
    "abc_quantity['quantity_total'] = abc_quantity['total_quantity'].sum()\n",
    "abc_quantity['quantity_running_percentage'] = (abc_quantity['quantity_cumsum'] / abc_quantity['quantity_total']) * 100"
   ]
  },
  {
   "cell_type": "code",
   "execution_count": null,
   "metadata": {},
   "outputs": [],
   "source": [
    "# Добавил новый столбец.\n",
    "abc_quantity['abc_classs'] = abc_quantity['quantity_running_percentage'].apply(abc_classify_product)"
   ]
  },
  {
   "cell_type": "code",
   "execution_count": null,
   "metadata": {},
   "outputs": [],
   "source": [
    "# Проверил изменения.\n",
    "abc_quantity.head(2)"
   ]
  },
  {
   "cell_type": "code",
   "execution_count": null,
   "metadata": {},
   "outputs": [],
   "source": [
    "# Проверил изменения.\n",
    "abc_quantity['abc_classs'].unique()"
   ]
  },
  {
   "cell_type": "code",
   "execution_count": null,
   "metadata": {},
   "outputs": [],
   "source": [
    "# Подготовил данные для добавления в основной df.\n",
    "abc_quantity2=abc_quantity[['product','abc_classs']]"
   ]
  },
  {
   "cell_type": "code",
   "execution_count": null,
   "metadata": {},
   "outputs": [],
   "source": [
    "# Добавил новые данные в основной df\n",
    "unique_orders_aabbcc = unique_orders_aabbcc.merge(abc_quantity2, how = 'inner', on = 'product')"
   ]
  },
  {
   "cell_type": "code",
   "execution_count": null,
   "metadata": {},
   "outputs": [],
   "source": [
    "# Проверил изменения.\n",
    "unique_orders_aabbcc.head(2)"
   ]
  },
  {
   "cell_type": "code",
   "execution_count": null,
   "metadata": {},
   "outputs": [],
   "source": [
    "# Объеденил столбцы для получения необходимых abc категорий.\n",
    "unique_orders_aabbcc['abc_category'] = unique_orders_aabbcc['abc_class']+unique_orders_aabbcc['abc_classs']\n",
    "unique_orders_aabbcc['abc_category'].unique()"
   ]
  },
  {
   "cell_type": "code",
   "execution_count": null,
   "metadata": {},
   "outputs": [],
   "source": [
    "# Функция для распределения товаров по категориям ассортимента.\n",
    "def aabbcc_category(unique_orders_aabbcc):\n",
    "    if unique_orders_aabbcc['abc_category'] =='AA' or\\\n",
    "    unique_orders_aabbcc['abc_category'] =='AB' or\\\n",
    "    unique_orders_aabbcc['abc_category'] =='BA':\n",
    "        return 'Основной'\n",
    "    else:\n",
    "        return 'Дополнительный'"
   ]
  },
  {
   "cell_type": "code",
   "execution_count": null,
   "metadata": {},
   "outputs": [],
   "source": [
    "# Применил функцию к df и добавил новый столбец.\n",
    "unique_orders_aabbcc['assortment_category']=unique_orders_aabbcc.apply(aabbcc_category, axis=1)"
   ]
  },
  {
   "cell_type": "code",
   "execution_count": null,
   "metadata": {},
   "outputs": [],
   "source": [
    "# Проверил изменения.\n",
    "unique_orders_aabbcc['assortment_category'].unique()"
   ]
  },
  {
   "cell_type": "code",
   "execution_count": null,
   "metadata": {
    "scrolled": false
   },
   "outputs": [],
   "source": [
    "# Построил визуализации распределения по категориям ассортимента.\n",
    "sorted_by_assortment_category = unique_orders_aabbcc.groupby('assortment_category')['product'].count().sort_values(ascending=False).reset_index() \n",
    "fig = px.pie(sorted_by_assortment_category,values='product', names='assortment_category',hole=0.5)\n",
    "fig.update_layout(\n",
    "    title_text=\"Распределение количества товаров по категориям ассортимента\")\n",
    "fig.show()\n",
    "sorted_by_assortment_category2 = unique_orders_aabbcc.groupby('assortment_category')['price'].sum().sort_values(ascending=False).reset_index() \n",
    "fig = px.pie(sorted_by_assortment_category2,values='price', names='assortment_category',hole=0.5)\n",
    "fig.update_layout(\n",
    "    title_text=\"Распределение выручки по категориям ассортимента\")\n",
    "fig.show()"
   ]
  },
  {
   "cell_type": "markdown",
   "metadata": {},
   "source": [
    "<div class=\"alert alert-info\"> \n",
    "    Больше всего товаров в дополнительном ассортименте (60%).\n",
    " Основной ассортимент приносит 62% выручки компании."
   ]
  },
  {
   "cell_type": "markdown",
   "metadata": {},
   "source": [
    "<div class=\"alert alert-success\">\n",
    "<b>👍 Успех:</b> Все верно!\n",
    "</div>"
   ]
  },
  {
   "cell_type": "markdown",
   "metadata": {},
   "source": [
    "<div class=\"alert alert-danger\">\n",
    "<s><b>😔 Необходимо исправить:</b> Разделение нужно делать только по товарам, а не по категориям, в каждой категории могут быть товары и А, и В и С</s>\n",
    "</div>"
   ]
  },
  {
   "cell_type": "code",
   "execution_count": null,
   "metadata": {},
   "outputs": [],
   "source": [
    "# создал необходимые сводные таблицы для визуализаций ABC теста.\n",
    "unique_orders4 = unique_orders_aabbcc.pivot_table(index='num_of_month',columns='assortment_category', values='order_id', aggfunc='count').sort_values(by='num_of_month',ascending=False)\n",
    "unique_orders5 = unique_orders_aabbcc.pivot_table(index='num_of_week',columns='assortment_category', values='order_id', aggfunc='count').sort_values(by='num_of_week',ascending=False)\n",
    "unique_orders6 = unique_orders_aabbcc.pivot_table(index='hour',columns='assortment_category', values='order_id', aggfunc='count')"
   ]
  },
  {
   "cell_type": "code",
   "execution_count": null,
   "metadata": {
    "scrolled": false
   },
   "outputs": [],
   "source": [
    "# визуализации ABC теста.\n",
    "\n",
    "plt.figure(figsize=(15, 5))\n",
    "fig = sns.lineplot(data=unique_orders4, palette='Paired', dashes=False)\n",
    "fig.set_title('Продажи по категориям ассортимента по месяцам', fontsize=14)\n",
    "fig.set_xlabel('месяц')\n",
    "fig.set_ylabel('количество товаров')\n",
    "plt.show()\n",
    "plt.figure(figsize=(15, 5))\n",
    "fig = sns.lineplot(data=unique_orders5, palette='Paired', dashes=False)\n",
    "fig.set_title('Продажи по категориям ассортимента по дням недели', fontsize=14)\n",
    "fig.set_xlabel('день недели')\n",
    "fig.set_ylabel('количество товаров')\n",
    "plt.show()\n",
    "plt.figure(figsize=(15, 5))\n",
    "fig = sns.lineplot(data=unique_orders6, palette='Paired', dashes=False)\n",
    "fig.set_title('Продажи по категориям ассортимента по часам', fontsize=14)\n",
    "fig.set_xlabel('час')\n",
    "fig.set_ylabel('количество товаров')\n",
    "plt.show()"
   ]
  },
  {
   "cell_type": "markdown",
   "metadata": {},
   "source": [
    "<div class=\"alert alert-info\">\n",
    "- По месяцам наблюдается сезонность-зимой больше всего заказов, летом-меньшее. Почти во все месяцы года количество заказов дополнительного ассортимента превосходит заказы основного.\n",
    "    \n",
    "- В декабре и январе самое большое количество заказов во всех категориях ассортимента. В июне наблюдается спад по всем категориям ассортимента. \n",
    "    \n",
    "- Больше всего заказов по понедельникам и вторникам. По субботам спад во всех сегментах.\n",
    "    \n",
    "- Часы повышенного спроса: с 10 до 15. Час-пик: с 10 до 12.\n",
    "   "
   ]
  },
  {
   "cell_type": "markdown",
   "metadata": {},
   "source": [
    "<div class=\"alert alert-danger\">\n",
    "<s><b>😔 Необходимо исправить:</b> Такой график стоит смотерть по месяцам, разбивка по временам года не дает нам увидеть сезонность продажи товаров</s>\n",
    "</div>"
   ]
  },
  {
   "cell_type": "markdown",
   "metadata": {},
   "source": [
    "<div class=\"alert alert-success\">\n",
    "<b>👍 Успех:</b> Все верно!\n",
    "</div>"
   ]
  },
  {
   "cell_type": "markdown",
   "metadata": {},
   "source": [
    " ###  Проверьте гипотезы"
   ]
  },
  {
   "cell_type": "markdown",
   "metadata": {},
   "source": [
    " ####  Гипотеза 1. \n",
    "  ##### нулевая: cредние выручки заказов в будни и выходные равны;\n",
    "  ##### альтернативная: cредние выручки заказов в будни и выходные различаются. "
   ]
  },
  {
   "cell_type": "markdown",
   "metadata": {},
   "source": [
    "Критический уровень статистической значимости равен 5%."
   ]
  },
  {
   "cell_type": "code",
   "execution_count": null,
   "metadata": {},
   "outputs": [],
   "source": [
    "# Создал столбец с выручкой.\n",
    "unique_orders['revenue'] = unique_orders['price']*unique_orders['quantity']"
   ]
  },
  {
   "cell_type": "code",
   "execution_count": null,
   "metadata": {},
   "outputs": [],
   "source": [
    "#  Изменил тип столбца с номером дня недели.\n",
    "unique_orders['num_of_week'] =  unique_orders['num_of_week'].astype(int)"
   ]
  },
  {
   "cell_type": "code",
   "execution_count": null,
   "metadata": {},
   "outputs": [],
   "source": [
    "# Создал функцияю разделения дней недели на части.\n",
    "def part_of_day (num_of_week):\n",
    "       if num_of_week >= 6:\n",
    "        return 'Выходной'\n",
    "       else:\n",
    "        return 'Будни'"
   ]
  },
  {
   "cell_type": "code",
   "execution_count": null,
   "metadata": {
    "scrolled": true
   },
   "outputs": [],
   "source": [
    "# Применил функцию  к df.\n",
    "unique_orders['part_of_week'] = unique_orders['num_of_week'].apply(part_of_day)"
   ]
  },
  {
   "cell_type": "code",
   "execution_count": null,
   "metadata": {},
   "outputs": [],
   "source": [
    "# Проверил изменения.\n",
    "unique_orders.head(2)"
   ]
  },
  {
   "cell_type": "code",
   "execution_count": null,
   "metadata": {},
   "outputs": [],
   "source": [
    "# Создал необходимые для t-теста df.\n",
    "weekday = unique_orders[(unique_orders['revenue'].isna() == False) & (unique_orders['part_of_week'] == \"Будни\")][['revenue']]\n",
    "weekends = unique_orders[(unique_orders['revenue'].isna() == False) & (unique_orders['part_of_week'] == \"Выходной\")][['revenue']]"
   ]
  },
  {
   "cell_type": "code",
   "execution_count": null,
   "metadata": {},
   "outputs": [],
   "source": [
    "# Провелил данные в полученных df.\n",
    "weekday.head(3)"
   ]
  },
  {
   "cell_type": "code",
   "execution_count": null,
   "metadata": {},
   "outputs": [],
   "source": [
    "# Провелил данные в полученных df.\n",
    "weekends.head(3)"
   ]
  },
  {
   "cell_type": "code",
   "execution_count": null,
   "metadata": {},
   "outputs": [],
   "source": [
    "#  Для тестирования гипотезы использовал двусторонний t-тест Стьюдента.\n",
    "alpha = .05\n",
    "results = st.ttest_ind(weekday, weekends, equal_var=False)\n",
    "print('p-значение:',results.pvalue)\n",
    "if results.pvalue < alpha: \n",
    "    print(\"Отвергаем нулевую гипотезу.\")\n",
    "    print(\"Средние выручки заказов в будни и выходные различаются\")\n",
    "else:\n",
    "    print(\"Не получилось отвергнуть нулевую гипотезу.\")\n",
    "    print(\"Средние выручки заказов в будни и выходные равны\")"
   ]
  },
  {
   "cell_type": "code",
   "execution_count": null,
   "metadata": {},
   "outputs": [],
   "source": [
    "# Показал средние выручки заказов в будни и выходные. Это позволяет проверить не ошибся ли я, если они расходятся с тестом Стьюдента.\n",
    "unique_orders.query('part_of_week == \"Выходной\"')['revenue'].mean()-unique_orders.query('part_of_week == \"Будни\"')['revenue'].mean()"
   ]
  },
  {
   "cell_type": "markdown",
   "metadata": {},
   "source": [
    "<div class=\"alert alert-info\">\n",
    "    Средние выручки заказов в будни и выходные различаются. Разница составляет 169 руб."
   ]
  },
  {
   "cell_type": "markdown",
   "metadata": {},
   "source": [
    "<div class=\"alert alert-success\">\n",
    "<b>👍 Успех:</b> Все верно!\n",
    "</div>"
   ]
  },
  {
   "cell_type": "markdown",
   "metadata": {},
   "source": [
    "####   Гипотеза 1.\n",
    "#####  нулевая: cреднее количество заказанных товаров по выходным и в будни равны;\n",
    "#####  альтернативная: cреднее количество заказанных товаров по выходным и в будни различаются."
   ]
  },
  {
   "cell_type": "markdown",
   "metadata": {},
   "source": [
    "Критический уровень статистической значимости равен 5%."
   ]
  },
  {
   "cell_type": "code",
   "execution_count": null,
   "metadata": {},
   "outputs": [],
   "source": [
    "# Создал необходимые для t-теста df.\n",
    "weekday_quantity = unique_orders[(unique_orders['quantity'].isna() == False) & (unique_orders['part_of_week'] == \"Будни\")][['quantity']]\n",
    "weekends_quantity = unique_orders[(unique_orders['quantity'].isna() == False) & (unique_orders['part_of_week'] == \"Выходной\")][['quantity']]"
   ]
  },
  {
   "cell_type": "code",
   "execution_count": null,
   "metadata": {},
   "outputs": [],
   "source": [
    "# Провелил данные в полученных df.\n",
    "weekday_quantity.head(3)"
   ]
  },
  {
   "cell_type": "code",
   "execution_count": null,
   "metadata": {},
   "outputs": [],
   "source": [
    "# Провелил данные в полученных df.\n",
    "weekends_quantity.head(3)"
   ]
  },
  {
   "cell_type": "code",
   "execution_count": null,
   "metadata": {},
   "outputs": [],
   "source": [
    "#  Для тестирования гипотезы использовал двусторонний t-тест Стьюдента.\n",
    "alpha = .05\n",
    "results = st.ttest_ind(weekday_quantity, weekends_quantity, equal_var=False)\n",
    "print('p-значение:',results.pvalue)\n",
    "if results.pvalue < alpha: \n",
    "    print(\"Отвергаем нулевую гипотезу.\")\n",
    "    print(\"Среднее количество заказанных товаров по выходным и в будни различаются\")\n",
    "else:\n",
    "    print(\"Не получилось отвергнуть нулевую гипотезу.\")\n",
    "    print(\"Среднее количество заказанных товаров по выходным и в будни равны\")\n",
    "   "
   ]
  },
  {
   "cell_type": "code",
   "execution_count": null,
   "metadata": {},
   "outputs": [],
   "source": [
    "# Показал среднее количество заказанных товаров в будни и выходные. Это позволяет проверить не ошибся ли я, если они расходятся с тестом Стьюдента.\n",
    "unique_orders.query('part_of_week == \"Выходной\"')['quantity'].mean()-unique_orders.query('part_of_week == \"Будни\"')['quantity'].mean()"
   ]
  },
  {
   "cell_type": "markdown",
   "metadata": {},
   "source": [
    "<div class=\"alert alert-info\">\n",
    "    Среднее количество заказанных товаров по выходным и в будни различаются. Разница составляет примерно 1 заказ."
   ]
  },
  {
   "cell_type": "markdown",
   "metadata": {},
   "source": [
    "<div class=\"alert alert-danger\">\n",
    "<s><b>😔 Необходимо исправить:</b> Нужно сформулировать основную и альтернативную гипотезы и проверить их с помощью статтеста</s>\n",
    "</div>"
   ]
  },
  {
   "cell_type": "markdown",
   "metadata": {},
   "source": [
    "<div class=\"alert alert-success\">\n",
    "<b>👍 Успех:</b> Все верно!\n",
    "</div>"
   ]
  },
  {
   "cell_type": "markdown",
   "metadata": {},
   "source": [
    " ###  Общий вывод\n",
    " \n"
   ]
  },
  {
   "cell_type": "markdown",
   "metadata": {},
   "source": [
    "Выводы по ассортименту товаров:\n",
    "- В топ-3 самых дешевых товаров входят: 'Укроп Обильнолистный 3,0 г', 'Алиссум (лобулярия) Снежные одежды 0,2 г' и 'Львиный зев Волшебный ковер 0,05 г';\n",
    "- Топ-3 самых дорогих продукта составляют: 'Сушилка уличная Leifheit зеленая\t','Сумка-тележка хозяйственная Andersen Royal Shopper, Hera, синяя' и 'Сумка-тележка хозяйственная Andersen Alu Star Shopper, Hava, синяя';\n",
    "- Самой прибыльной является категория Всё для хранения, наименее прибыльная - Всё для стройки;\n",
    "- Больше всего товаров было продано в категории Всё для сада, меньше всего - в категории Всё для стройки.\n",
    "\n",
    "Результаты ABC-анализа:\n",
    "- Все товары были разделены на две категории: основной и дополнительный;\n",
    "- Больше всего товаров в дополнительном ассортименте (60%);\n",
    "- Основной ассортимент приносит 62% выручки компании; \n",
    "-  По месяцам наблюдается сезонность-зимой больше всего заказов, летом-меньшее. Почти во все месяцы года количество заказов дополнительного ассортимента превосходит заказы основного;\n",
    "- В декабре и январе самое большое количество заказов во всех категориях ассортимента. В июне наблюдается спад по всем категориям ассортимента;\n",
    "- Больше всего заказов по понедельникам и вторникам. По субботам спад во всех сегментах;\n",
    "- Часы повышенного спроса: с 10 до 15. Час-пик: с 10 до 12;\n",
    "- Средние выручки заказов в будни и выходные различаются;\n",
    "- Среднее количество заказанных товаров по выходным и в будни различаются."
   ]
  },
  {
   "cell_type": "markdown",
   "metadata": {},
   "source": [
    "Основные рекомендации менеджменту:\n",
    "- увелчить рекламные компании и оповещения пользователей по будням с 10:00 до 15:00. Повышенная активность должна быть в час-пик продаж: с 10:00 до 11:00;\n",
    "- не предлагать пользователям заказать побольше товаров, а предлагать заказать товар из категории ABC анализа \"Основной\";\n",
    "- снизить рекламные компании летом, так как спрос в летние месяца минимален;\n",
    "- в зимние и осенние месяца увеличить рекламные компании товаров из основного ассортимента."
   ]
  },
  {
   "cell_type": "markdown",
   "metadata": {},
   "source": [
    "<div class=\"alert alert-danger\">\n",
    "    <s><b>😔 Необходимо исправить:</b> Жду презентацию</s>\n",
    "</div>"
   ]
  },
  {
   "cell_type": "markdown",
   "metadata": {},
   "source": [
    "[Презентация](https://drive.google.com/file/d/1JeYuCJC6iTXKRjzORAuHKhUCZsmptOX4/view?usp=sharing)\n"
   ]
  },
  {
   "cell_type": "markdown",
   "metadata": {},
   "source": [
    "<div class=\"alert alert-success\">\n",
    "<b>👍 Успех:</b> Хорошая работа, молодец! Все данные исследованы, много визуализации, сделаны выводы по всем разделам, достаточное количество рассуждений и комментариев, в презентации соблюден баланс текстовой и графической информации\n",
    "</div>"
   ]
  },
  {
   "cell_type": "code",
   "execution_count": null,
   "metadata": {},
   "outputs": [],
   "source": [
    "unique_orders.to_csv('unique_orders.csv', index=False)"
   ]
  },
  {
   "cell_type": "code",
   "execution_count": null,
   "metadata": {},
   "outputs": [],
   "source": [
    "unique_orders.head(2)"
   ]
  },
  {
   "cell_type": "code",
   "execution_count": null,
   "metadata": {},
   "outputs": [],
   "source": []
  }
 ],
 "metadata": {
  "ExecuteTimeLog": [
   {
    "duration": 1217,
    "start_time": "2023-08-01T16:40:37.480Z"
   },
   {
    "duration": 1302,
    "start_time": "2023-08-01T16:40:39.632Z"
   },
   {
    "duration": 20,
    "start_time": "2023-08-01T16:40:46.400Z"
   },
   {
    "duration": 119,
    "start_time": "2023-08-01T16:41:28.146Z"
   },
   {
    "duration": 1338,
    "start_time": "2023-08-01T16:41:31.259Z"
   },
   {
    "duration": 15,
    "start_time": "2023-08-01T16:41:32.599Z"
   },
   {
    "duration": 12,
    "start_time": "2023-08-01T16:48:28.038Z"
   },
   {
    "duration": 28,
    "start_time": "2023-08-01T16:49:14.208Z"
   },
   {
    "duration": 11,
    "start_time": "2023-08-01T17:21:22.906Z"
   },
   {
    "duration": 22,
    "start_time": "2023-08-01T17:21:29.515Z"
   },
   {
    "duration": 9,
    "start_time": "2023-08-01T17:21:29.922Z"
   },
   {
    "duration": 6,
    "start_time": "2023-08-01T17:22:33.981Z"
   },
   {
    "duration": 13,
    "start_time": "2023-08-01T17:22:41.376Z"
   },
   {
    "duration": 19,
    "start_time": "2023-08-01T17:22:47.616Z"
   },
   {
    "duration": 10,
    "start_time": "2023-08-01T17:28:29.692Z"
   },
   {
    "duration": 13,
    "start_time": "2023-08-01T17:28:51.210Z"
   },
   {
    "duration": 21,
    "start_time": "2023-08-01T17:28:53.653Z"
   },
   {
    "duration": 1398,
    "start_time": "2023-08-01T17:29:07.316Z"
   },
   {
    "duration": 1414,
    "start_time": "2023-08-01T17:29:08.716Z"
   },
   {
    "duration": 26,
    "start_time": "2023-08-01T17:29:10.133Z"
   },
   {
    "duration": 7,
    "start_time": "2023-08-01T17:29:10.162Z"
   },
   {
    "duration": 28,
    "start_time": "2023-08-01T17:29:10.171Z"
   },
   {
    "duration": 15,
    "start_time": "2023-08-01T17:31:02.943Z"
   },
   {
    "duration": 11,
    "start_time": "2023-08-01T17:31:08.003Z"
   },
   {
    "duration": 20,
    "start_time": "2023-08-01T17:31:08.799Z"
   },
   {
    "duration": 1247,
    "start_time": "2023-08-01T17:31:17.034Z"
   },
   {
    "duration": 1264,
    "start_time": "2023-08-01T17:31:18.284Z"
   },
   {
    "duration": 25,
    "start_time": "2023-08-01T17:31:19.550Z"
   },
   {
    "duration": 20,
    "start_time": "2023-08-01T17:31:19.578Z"
   },
   {
    "duration": 20,
    "start_time": "2023-08-01T17:31:19.600Z"
   },
   {
    "duration": 14,
    "start_time": "2023-08-01T17:31:44.815Z"
   },
   {
    "duration": 27,
    "start_time": "2023-08-01T17:31:45.406Z"
   },
   {
    "duration": 1454,
    "start_time": "2023-08-01T17:32:00.007Z"
   },
   {
    "duration": 1009,
    "start_time": "2023-08-01T17:32:01.463Z"
   },
   {
    "duration": 33,
    "start_time": "2023-08-01T17:32:02.475Z"
   },
   {
    "duration": 76,
    "start_time": "2023-08-01T17:32:02.510Z"
   },
   {
    "duration": 39,
    "start_time": "2023-08-01T17:32:02.588Z"
   },
   {
    "duration": 3,
    "start_time": "2023-08-01T17:32:11.459Z"
   },
   {
    "duration": 906,
    "start_time": "2023-08-01T17:32:11.882Z"
   },
   {
    "duration": 18,
    "start_time": "2023-08-01T17:32:12.791Z"
   },
   {
    "duration": 101,
    "start_time": "2023-08-01T17:32:39.806Z"
   },
   {
    "duration": 9,
    "start_time": "2023-08-01T17:33:04.237Z"
   },
   {
    "duration": 1271,
    "start_time": "2023-08-01T17:33:56.584Z"
   },
   {
    "duration": 909,
    "start_time": "2023-08-01T17:33:57.857Z"
   },
   {
    "duration": 23,
    "start_time": "2023-08-01T17:33:58.768Z"
   },
   {
    "duration": 27,
    "start_time": "2023-08-01T17:33:58.794Z"
   },
   {
    "duration": 27,
    "start_time": "2023-08-01T17:33:58.823Z"
   },
   {
    "duration": 12,
    "start_time": "2023-08-01T17:36:23.636Z"
   },
   {
    "duration": 21,
    "start_time": "2023-08-01T17:36:24.206Z"
   },
   {
    "duration": 10,
    "start_time": "2023-08-01T17:37:12.895Z"
   },
   {
    "duration": 21,
    "start_time": "2023-08-01T17:37:13.589Z"
   },
   {
    "duration": 10,
    "start_time": "2023-08-01T17:37:24.233Z"
   },
   {
    "duration": 20,
    "start_time": "2023-08-01T17:37:24.699Z"
   },
   {
    "duration": 1159,
    "start_time": "2023-08-01T17:37:31.205Z"
   },
   {
    "duration": 1223,
    "start_time": "2023-08-01T17:37:32.367Z"
   },
   {
    "duration": 28,
    "start_time": "2023-08-01T17:37:33.593Z"
   },
   {
    "duration": 26,
    "start_time": "2023-08-01T17:37:33.623Z"
   },
   {
    "duration": 34,
    "start_time": "2023-08-01T17:37:33.652Z"
   },
   {
    "duration": 12,
    "start_time": "2023-08-01T17:40:32.736Z"
   },
   {
    "duration": 19,
    "start_time": "2023-08-01T17:40:33.481Z"
   },
   {
    "duration": 1218,
    "start_time": "2023-08-01T17:40:43.221Z"
   },
   {
    "duration": 991,
    "start_time": "2023-08-01T17:40:44.442Z"
   },
   {
    "duration": 31,
    "start_time": "2023-08-01T17:40:45.435Z"
   },
   {
    "duration": 1002,
    "start_time": "2023-08-01T17:40:45.468Z"
   },
   {
    "duration": 0,
    "start_time": "2023-08-01T17:40:46.472Z"
   },
   {
    "duration": 1006,
    "start_time": "2023-08-01T17:41:12.975Z"
   },
   {
    "duration": 1319,
    "start_time": "2023-08-01T17:42:34.247Z"
   },
   {
    "duration": 861,
    "start_time": "2023-08-01T17:42:42.446Z"
   },
   {
    "duration": 7,
    "start_time": "2023-08-01T17:43:09.726Z"
   },
   {
    "duration": 21,
    "start_time": "2023-08-01T17:43:10.567Z"
   },
   {
    "duration": 21,
    "start_time": "2023-08-01T17:43:16.846Z"
   },
   {
    "duration": 19,
    "start_time": "2023-08-01T17:43:17.104Z"
   },
   {
    "duration": 1260,
    "start_time": "2023-08-01T17:43:22.436Z"
   },
   {
    "duration": 989,
    "start_time": "2023-08-01T17:43:23.698Z"
   },
   {
    "duration": 22,
    "start_time": "2023-08-01T17:43:24.689Z"
   },
   {
    "duration": 1328,
    "start_time": "2023-08-01T17:43:24.713Z"
   },
   {
    "duration": 0,
    "start_time": "2023-08-01T17:43:26.043Z"
   },
   {
    "duration": 796,
    "start_time": "2023-08-01T17:43:32.606Z"
   },
   {
    "duration": 16,
    "start_time": "2023-08-01T17:43:42.279Z"
   },
   {
    "duration": 27,
    "start_time": "2023-08-01T17:43:43.950Z"
   },
   {
    "duration": 12,
    "start_time": "2023-08-01T17:43:56.763Z"
   },
   {
    "duration": 20,
    "start_time": "2023-08-01T17:43:59.014Z"
   },
   {
    "duration": 20,
    "start_time": "2023-08-01T17:44:01.488Z"
   },
   {
    "duration": 1280,
    "start_time": "2023-08-01T17:44:08.066Z"
   },
   {
    "duration": 1045,
    "start_time": "2023-08-01T17:44:09.348Z"
   },
   {
    "duration": 25,
    "start_time": "2023-08-01T17:44:10.395Z"
   },
   {
    "duration": 1760,
    "start_time": "2023-08-01T17:44:10.422Z"
   },
   {
    "duration": 0,
    "start_time": "2023-08-01T17:44:12.184Z"
   },
   {
    "duration": 20,
    "start_time": "2023-08-01T17:44:21.721Z"
   },
   {
    "duration": 1477,
    "start_time": "2023-08-01T17:44:22.384Z"
   },
   {
    "duration": 14,
    "start_time": "2023-08-01T17:44:27.001Z"
   },
   {
    "duration": 20,
    "start_time": "2023-08-01T17:54:00.843Z"
   },
   {
    "duration": 31,
    "start_time": "2023-08-01T17:54:03.347Z"
   },
   {
    "duration": 10,
    "start_time": "2023-08-01T17:54:36.099Z"
   },
   {
    "duration": 19,
    "start_time": "2023-08-01T17:54:36.483Z"
   },
   {
    "duration": 1228,
    "start_time": "2023-08-01T17:54:42.484Z"
   },
   {
    "duration": 856,
    "start_time": "2023-08-01T17:54:43.714Z"
   },
   {
    "duration": 22,
    "start_time": "2023-08-01T17:54:44.572Z"
   },
   {
    "duration": 15,
    "start_time": "2023-08-01T17:54:44.596Z"
   },
   {
    "duration": 23,
    "start_time": "2023-08-01T17:54:44.612Z"
   },
   {
    "duration": 15,
    "start_time": "2023-08-01T17:55:19.706Z"
   },
   {
    "duration": 28,
    "start_time": "2023-08-01T17:55:21.151Z"
   },
   {
    "duration": 13,
    "start_time": "2023-08-01T17:57:05.791Z"
   },
   {
    "duration": 25,
    "start_time": "2023-08-01T17:57:06.242Z"
   },
   {
    "duration": 4,
    "start_time": "2023-08-01T17:59:05.488Z"
   },
   {
    "duration": 3,
    "start_time": "2023-08-01T17:59:25.085Z"
   },
   {
    "duration": 1309,
    "start_time": "2023-08-01T17:59:25.767Z"
   },
   {
    "duration": 22,
    "start_time": "2023-08-01T17:59:28.093Z"
   },
   {
    "duration": 12,
    "start_time": "2023-08-01T17:59:31.976Z"
   },
   {
    "duration": 26,
    "start_time": "2023-08-01T17:59:33.746Z"
   },
   {
    "duration": 14,
    "start_time": "2023-08-01T17:59:52.077Z"
   },
   {
    "duration": 3,
    "start_time": "2023-08-01T18:05:09.698Z"
   },
   {
    "duration": 910,
    "start_time": "2023-08-01T18:05:09.939Z"
   },
   {
    "duration": 31,
    "start_time": "2023-08-01T18:05:11.131Z"
   },
   {
    "duration": 114,
    "start_time": "2023-08-01T18:05:29.799Z"
   },
   {
    "duration": 13,
    "start_time": "2023-08-01T18:05:38.968Z"
   },
   {
    "duration": 13,
    "start_time": "2023-08-01T18:05:49.082Z"
   },
   {
    "duration": 26,
    "start_time": "2023-08-01T18:05:49.701Z"
   },
   {
    "duration": 35,
    "start_time": "2023-08-01T18:07:45.064Z"
   },
   {
    "duration": 20,
    "start_time": "2023-08-01T18:08:22.912Z"
   },
   {
    "duration": 1729,
    "start_time": "2023-08-01T18:08:32.489Z"
   },
   {
    "duration": 19,
    "start_time": "2023-08-01T18:08:40.182Z"
   },
   {
    "duration": 3,
    "start_time": "2023-08-01T18:09:12.901Z"
   },
   {
    "duration": 1233,
    "start_time": "2023-08-01T18:09:13.420Z"
   },
   {
    "duration": 21,
    "start_time": "2023-08-01T18:09:14.656Z"
   },
   {
    "duration": 43,
    "start_time": "2023-08-01T18:09:17.539Z"
   },
   {
    "duration": 5,
    "start_time": "2023-08-01T18:09:21.200Z"
   },
   {
    "duration": 18,
    "start_time": "2023-08-01T18:09:24.002Z"
   },
   {
    "duration": 1494,
    "start_time": "2023-08-01T18:09:48.884Z"
   },
   {
    "duration": 0,
    "start_time": "2023-08-01T18:09:50.379Z"
   },
   {
    "duration": 3,
    "start_time": "2023-08-01T18:09:59.664Z"
   },
   {
    "duration": 1250,
    "start_time": "2023-08-01T18:09:59.838Z"
   },
   {
    "duration": 19,
    "start_time": "2023-08-01T18:10:01.090Z"
   },
   {
    "duration": 121,
    "start_time": "2023-08-01T18:10:01.111Z"
   },
   {
    "duration": 28,
    "start_time": "2023-08-01T18:10:08.421Z"
   },
   {
    "duration": 28,
    "start_time": "2023-08-01T18:10:21.839Z"
   },
   {
    "duration": 23,
    "start_time": "2023-08-01T18:10:22.890Z"
   },
   {
    "duration": 28,
    "start_time": "2023-08-01T18:10:41.348Z"
   },
   {
    "duration": 6,
    "start_time": "2023-08-01T18:10:41.815Z"
   },
   {
    "duration": 30,
    "start_time": "2023-08-01T18:10:46.932Z"
   },
   {
    "duration": 1448,
    "start_time": "2023-08-01T18:10:54.002Z"
   },
   {
    "duration": 0,
    "start_time": "2023-08-01T18:10:55.453Z"
   },
   {
    "duration": 4,
    "start_time": "2023-08-01T18:11:01.601Z"
   },
   {
    "duration": 1245,
    "start_time": "2023-08-01T18:11:01.835Z"
   },
   {
    "duration": 19,
    "start_time": "2023-08-01T18:11:03.083Z"
   },
   {
    "duration": 95,
    "start_time": "2023-08-01T18:11:03.103Z"
   },
   {
    "duration": 22,
    "start_time": "2023-08-01T18:11:07.463Z"
   },
   {
    "duration": 1859,
    "start_time": "2023-08-01T18:13:32.843Z"
   },
   {
    "duration": 3,
    "start_time": "2023-08-01T18:13:44.040Z"
   },
   {
    "duration": 931,
    "start_time": "2023-08-01T18:13:44.340Z"
   },
   {
    "duration": 18,
    "start_time": "2023-08-01T18:13:45.273Z"
   },
   {
    "duration": 69,
    "start_time": "2023-08-01T18:13:45.293Z"
   },
   {
    "duration": 20,
    "start_time": "2023-08-01T18:13:48.887Z"
   },
   {
    "duration": 1645,
    "start_time": "2023-08-01T18:14:02.472Z"
   },
   {
    "duration": 3,
    "start_time": "2023-08-01T18:14:06.618Z"
   },
   {
    "duration": 1063,
    "start_time": "2023-08-01T18:14:06.713Z"
   },
   {
    "duration": 17,
    "start_time": "2023-08-01T18:14:07.779Z"
   },
   {
    "duration": 22,
    "start_time": "2023-08-01T18:14:07.797Z"
   },
   {
    "duration": 42,
    "start_time": "2023-08-01T18:14:07.822Z"
   },
   {
    "duration": 2445,
    "start_time": "2023-08-01T18:14:40.962Z"
   },
   {
    "duration": 0,
    "start_time": "2023-08-01T18:14:43.410Z"
   },
   {
    "duration": 4,
    "start_time": "2023-08-01T18:14:46.447Z"
   },
   {
    "duration": 1002,
    "start_time": "2023-08-01T18:14:46.645Z"
   },
   {
    "duration": 29,
    "start_time": "2023-08-01T18:14:47.650Z"
   },
   {
    "duration": 25,
    "start_time": "2023-08-01T18:14:47.682Z"
   },
   {
    "duration": 21,
    "start_time": "2023-08-01T18:14:47.709Z"
   },
   {
    "duration": 1280,
    "start_time": "2023-08-02T11:23:31.888Z"
   },
   {
    "duration": 1398,
    "start_time": "2023-08-02T11:23:33.170Z"
   },
   {
    "duration": 22,
    "start_time": "2023-08-02T11:23:34.569Z"
   },
   {
    "duration": 25,
    "start_time": "2023-08-02T11:23:34.593Z"
   },
   {
    "duration": 14,
    "start_time": "2023-08-02T11:23:34.620Z"
   },
   {
    "duration": 1145,
    "start_time": "2023-08-02T13:37:34.077Z"
   },
   {
    "duration": 1389,
    "start_time": "2023-08-02T13:37:35.224Z"
   },
   {
    "duration": 21,
    "start_time": "2023-08-02T13:37:36.615Z"
   },
   {
    "duration": 22,
    "start_time": "2023-08-02T13:37:36.638Z"
   },
   {
    "duration": 18,
    "start_time": "2023-08-02T13:37:36.661Z"
   },
   {
    "duration": 609,
    "start_time": "2023-08-02T13:52:25.911Z"
   },
   {
    "duration": 1179,
    "start_time": "2023-08-02T13:52:30.837Z"
   },
   {
    "duration": 1444,
    "start_time": "2023-08-02T13:52:32.018Z"
   },
   {
    "duration": 22,
    "start_time": "2023-08-02T13:52:33.463Z"
   },
   {
    "duration": 55,
    "start_time": "2023-08-02T13:52:33.486Z"
   },
   {
    "duration": 36,
    "start_time": "2023-08-02T13:52:33.543Z"
   },
   {
    "duration": 663,
    "start_time": "2023-08-02T13:53:39.957Z"
   },
   {
    "duration": 551,
    "start_time": "2023-08-02T13:55:40.479Z"
   },
   {
    "duration": 511,
    "start_time": "2023-08-02T13:55:52.832Z"
   },
   {
    "duration": 1150,
    "start_time": "2023-08-02T13:55:57.259Z"
   },
   {
    "duration": 1409,
    "start_time": "2023-08-02T13:55:58.411Z"
   },
   {
    "duration": 22,
    "start_time": "2023-08-02T13:55:59.824Z"
   },
   {
    "duration": 25,
    "start_time": "2023-08-02T13:55:59.849Z"
   },
   {
    "duration": 659,
    "start_time": "2023-08-02T13:55:59.876Z"
   },
   {
    "duration": 0,
    "start_time": "2023-08-02T13:56:00.537Z"
   },
   {
    "duration": 601,
    "start_time": "2023-08-02T13:56:10.219Z"
   },
   {
    "duration": 1126,
    "start_time": "2023-08-02T13:56:15.805Z"
   },
   {
    "duration": 1057,
    "start_time": "2023-08-02T13:56:16.933Z"
   },
   {
    "duration": 22,
    "start_time": "2023-08-02T13:56:17.991Z"
   },
   {
    "duration": 29,
    "start_time": "2023-08-02T13:56:18.015Z"
   },
   {
    "duration": 641,
    "start_time": "2023-08-02T13:56:18.045Z"
   },
   {
    "duration": 0,
    "start_time": "2023-08-02T13:56:18.688Z"
   },
   {
    "duration": 20,
    "start_time": "2023-08-02T13:56:55.414Z"
   },
   {
    "duration": 6,
    "start_time": "2023-08-02T13:59:18.726Z"
   },
   {
    "duration": 19,
    "start_time": "2023-08-02T13:59:20.089Z"
   },
   {
    "duration": 1133,
    "start_time": "2023-08-02T14:13:13.083Z"
   },
   {
    "duration": 0,
    "start_time": "2023-08-02T14:13:14.219Z"
   },
   {
    "duration": 18,
    "start_time": "2023-08-02T14:13:24.667Z"
   },
   {
    "duration": 571,
    "start_time": "2023-08-02T14:14:08.201Z"
   },
   {
    "duration": 1085,
    "start_time": "2023-08-02T14:18:38.743Z"
   },
   {
    "duration": 524,
    "start_time": "2023-08-02T14:20:25.719Z"
   },
   {
    "duration": 521,
    "start_time": "2023-08-02T14:25:45.446Z"
   },
   {
    "duration": 8,
    "start_time": "2023-08-02T14:26:29.071Z"
   },
   {
    "duration": 17,
    "start_time": "2023-08-02T14:26:31.760Z"
   },
   {
    "duration": 538,
    "start_time": "2023-08-02T14:26:41.909Z"
   },
   {
    "duration": 0,
    "start_time": "2023-08-02T14:26:42.449Z"
   },
   {
    "duration": 578,
    "start_time": "2023-08-02T14:26:56.276Z"
   },
   {
    "duration": 521,
    "start_time": "2023-08-02T14:27:10.712Z"
   },
   {
    "duration": 579,
    "start_time": "2023-08-02T14:27:11.267Z"
   },
   {
    "duration": 1075,
    "start_time": "2023-08-02T14:27:16.913Z"
   },
   {
    "duration": 1324,
    "start_time": "2023-08-02T14:27:17.990Z"
   },
   {
    "duration": 20,
    "start_time": "2023-08-02T14:27:19.315Z"
   },
   {
    "duration": 19,
    "start_time": "2023-08-02T14:27:19.336Z"
   },
   {
    "duration": 5,
    "start_time": "2023-08-02T14:27:19.357Z"
   },
   {
    "duration": 19,
    "start_time": "2023-08-02T14:27:19.363Z"
   },
   {
    "duration": 570,
    "start_time": "2023-08-02T14:27:19.383Z"
   },
   {
    "duration": 0,
    "start_time": "2023-08-02T14:27:19.955Z"
   },
   {
    "duration": 18,
    "start_time": "2023-08-02T14:28:25.026Z"
   },
   {
    "duration": 1055,
    "start_time": "2023-08-02T14:28:32.040Z"
   },
   {
    "duration": 1343,
    "start_time": "2023-08-02T14:28:33.097Z"
   },
   {
    "duration": 19,
    "start_time": "2023-08-02T14:28:34.442Z"
   },
   {
    "duration": 18,
    "start_time": "2023-08-02T14:28:34.463Z"
   },
   {
    "duration": 7,
    "start_time": "2023-08-02T14:28:34.483Z"
   },
   {
    "duration": 27,
    "start_time": "2023-08-02T14:28:34.492Z"
   },
   {
    "duration": 23,
    "start_time": "2023-08-02T14:28:34.521Z"
   },
   {
    "duration": 7,
    "start_time": "2023-08-02T14:32:36.476Z"
   },
   {
    "duration": 3,
    "start_time": "2023-08-02T14:35:02.325Z"
   },
   {
    "duration": 1010,
    "start_time": "2023-08-02T14:35:02.817Z"
   },
   {
    "duration": 20,
    "start_time": "2023-08-02T14:35:03.829Z"
   },
   {
    "duration": 15,
    "start_time": "2023-08-02T14:35:14.581Z"
   },
   {
    "duration": 3,
    "start_time": "2023-08-02T14:36:47.859Z"
   },
   {
    "duration": 1323,
    "start_time": "2023-08-02T14:36:49.895Z"
   },
   {
    "duration": 18,
    "start_time": "2023-08-02T14:36:52.111Z"
   },
   {
    "duration": 19,
    "start_time": "2023-08-02T14:36:55.810Z"
   },
   {
    "duration": 18,
    "start_time": "2023-08-02T14:36:56.527Z"
   },
   {
    "duration": 4,
    "start_time": "2023-08-02T14:38:11.769Z"
   },
   {
    "duration": 10,
    "start_time": "2023-08-02T14:38:12.306Z"
   },
   {
    "duration": 19,
    "start_time": "2023-08-02T14:38:13.223Z"
   },
   {
    "duration": 691,
    "start_time": "2023-08-02T14:39:29.990Z"
   },
   {
    "duration": 3,
    "start_time": "2023-08-02T14:39:59.468Z"
   },
   {
    "duration": 963,
    "start_time": "2023-08-02T14:39:59.906Z"
   },
   {
    "duration": 16,
    "start_time": "2023-08-02T14:40:00.871Z"
   },
   {
    "duration": 19,
    "start_time": "2023-08-02T14:40:04.151Z"
   },
   {
    "duration": 5,
    "start_time": "2023-08-02T14:40:05.182Z"
   },
   {
    "duration": 12,
    "start_time": "2023-08-02T14:40:05.857Z"
   },
   {
    "duration": 23,
    "start_time": "2023-08-02T14:40:10.461Z"
   },
   {
    "duration": 14,
    "start_time": "2023-08-02T14:40:46.417Z"
   },
   {
    "duration": 3,
    "start_time": "2023-08-02T14:40:58.561Z"
   },
   {
    "duration": 1095,
    "start_time": "2023-08-02T14:40:58.720Z"
   },
   {
    "duration": 16,
    "start_time": "2023-08-02T14:40:59.817Z"
   },
   {
    "duration": 25,
    "start_time": "2023-08-02T14:40:59.835Z"
   },
   {
    "duration": 5,
    "start_time": "2023-08-02T14:41:05.579Z"
   },
   {
    "duration": 9,
    "start_time": "2023-08-02T14:41:06.421Z"
   },
   {
    "duration": 19,
    "start_time": "2023-08-02T14:41:07.987Z"
   },
   {
    "duration": 523,
    "start_time": "2023-08-02T14:41:17.133Z"
   },
   {
    "duration": 1166,
    "start_time": "2023-08-02T14:41:27.959Z"
   },
   {
    "duration": 998,
    "start_time": "2023-08-02T14:41:29.127Z"
   },
   {
    "duration": 30,
    "start_time": "2023-08-02T14:41:30.127Z"
   },
   {
    "duration": 42,
    "start_time": "2023-08-02T14:41:30.160Z"
   },
   {
    "duration": 53,
    "start_time": "2023-08-02T14:41:30.204Z"
   },
   {
    "duration": 69,
    "start_time": "2023-08-02T14:41:30.259Z"
   },
   {
    "duration": 104,
    "start_time": "2023-08-02T14:41:30.330Z"
   },
   {
    "duration": 71,
    "start_time": "2023-08-02T14:41:30.436Z"
   },
   {
    "duration": 592,
    "start_time": "2023-08-02T14:42:03.541Z"
   },
   {
    "duration": 1158,
    "start_time": "2023-08-02T14:42:09.933Z"
   },
   {
    "duration": 1009,
    "start_time": "2023-08-02T14:42:11.093Z"
   },
   {
    "duration": 23,
    "start_time": "2023-08-02T14:42:12.104Z"
   },
   {
    "duration": 22,
    "start_time": "2023-08-02T14:42:12.129Z"
   },
   {
    "duration": 23,
    "start_time": "2023-08-02T14:42:12.153Z"
   },
   {
    "duration": 1173,
    "start_time": "2023-08-02T14:42:12.178Z"
   },
   {
    "duration": 0,
    "start_time": "2023-08-02T14:42:13.353Z"
   },
   {
    "duration": 0,
    "start_time": "2023-08-02T14:42:13.354Z"
   },
   {
    "duration": 0,
    "start_time": "2023-08-02T14:42:13.356Z"
   },
   {
    "duration": 553,
    "start_time": "2023-08-02T14:43:28.517Z"
   },
   {
    "duration": 1148,
    "start_time": "2023-08-02T14:43:41.857Z"
   },
   {
    "duration": 980,
    "start_time": "2023-08-02T14:43:43.007Z"
   },
   {
    "duration": 20,
    "start_time": "2023-08-02T14:43:43.988Z"
   },
   {
    "duration": 26,
    "start_time": "2023-08-02T14:43:44.009Z"
   },
   {
    "duration": 4,
    "start_time": "2023-08-02T14:43:44.037Z"
   },
   {
    "duration": 14,
    "start_time": "2023-08-02T14:43:44.042Z"
   },
   {
    "duration": 25,
    "start_time": "2023-08-02T14:43:44.057Z"
   },
   {
    "duration": 18,
    "start_time": "2023-08-02T14:43:44.083Z"
   },
   {
    "duration": 17,
    "start_time": "2023-08-02T14:43:44.103Z"
   },
   {
    "duration": 11,
    "start_time": "2023-08-02T14:45:33.481Z"
   },
   {
    "duration": 10,
    "start_time": "2023-08-02T14:51:43.206Z"
   },
   {
    "duration": 65,
    "start_time": "2023-08-02T14:54:07.143Z"
   },
   {
    "duration": 72,
    "start_time": "2023-08-02T14:54:22.635Z"
   },
   {
    "duration": 83,
    "start_time": "2023-08-02T14:54:28.477Z"
   },
   {
    "duration": 62,
    "start_time": "2023-08-02T14:54:32.560Z"
   },
   {
    "duration": 66,
    "start_time": "2023-08-02T14:54:45.349Z"
   },
   {
    "duration": 1386,
    "start_time": "2023-08-02T17:26:03.207Z"
   },
   {
    "duration": 1251,
    "start_time": "2023-08-02T17:26:04.596Z"
   },
   {
    "duration": 24,
    "start_time": "2023-08-02T17:26:05.851Z"
   },
   {
    "duration": 22,
    "start_time": "2023-08-02T17:26:05.876Z"
   },
   {
    "duration": 5,
    "start_time": "2023-08-02T17:26:05.899Z"
   },
   {
    "duration": 16,
    "start_time": "2023-08-02T17:26:05.906Z"
   },
   {
    "duration": 15,
    "start_time": "2023-08-02T17:26:05.924Z"
   },
   {
    "duration": 14,
    "start_time": "2023-08-02T17:26:05.956Z"
   },
   {
    "duration": 21,
    "start_time": "2023-08-02T17:26:05.972Z"
   },
   {
    "duration": 5,
    "start_time": "2023-08-02T17:38:32.096Z"
   },
   {
    "duration": 19,
    "start_time": "2023-08-02T17:38:34.901Z"
   },
   {
    "duration": 15,
    "start_time": "2023-08-02T17:38:39.832Z"
   },
   {
    "duration": 11,
    "start_time": "2023-08-02T17:38:56.295Z"
   },
   {
    "duration": 11,
    "start_time": "2023-08-02T17:39:11.967Z"
   },
   {
    "duration": 13,
    "start_time": "2023-08-02T17:39:27.511Z"
   },
   {
    "duration": 85,
    "start_time": "2023-08-02T17:40:57.954Z"
   },
   {
    "duration": 76,
    "start_time": "2023-08-02T17:41:09.037Z"
   },
   {
    "duration": 86,
    "start_time": "2023-08-02T17:43:47.511Z"
   },
   {
    "duration": 70,
    "start_time": "2023-08-02T17:44:01.623Z"
   },
   {
    "duration": 17,
    "start_time": "2023-08-02T17:47:01.174Z"
   },
   {
    "duration": 15,
    "start_time": "2023-08-02T17:47:11.965Z"
   },
   {
    "duration": 16,
    "start_time": "2023-08-02T17:49:36.306Z"
   },
   {
    "duration": 93,
    "start_time": "2023-08-02T17:53:40.038Z"
   },
   {
    "duration": 16,
    "start_time": "2023-08-02T17:54:18.826Z"
   },
   {
    "duration": 10,
    "start_time": "2023-08-02T17:54:35.807Z"
   },
   {
    "duration": 16,
    "start_time": "2023-08-02T17:54:43.873Z"
   },
   {
    "duration": 8,
    "start_time": "2023-08-02T17:56:45.595Z"
   },
   {
    "duration": 17,
    "start_time": "2023-08-02T17:56:50.640Z"
   },
   {
    "duration": 18,
    "start_time": "2023-08-02T17:57:34.671Z"
   },
   {
    "duration": 9,
    "start_time": "2023-08-02T18:00:21.709Z"
   },
   {
    "duration": 11,
    "start_time": "2023-08-02T18:00:41.899Z"
   },
   {
    "duration": 348,
    "start_time": "2023-08-02T18:01:00.433Z"
   },
   {
    "duration": 74,
    "start_time": "2023-08-02T18:01:37.105Z"
   },
   {
    "duration": 20,
    "start_time": "2023-08-02T18:01:47.358Z"
   },
   {
    "duration": 20,
    "start_time": "2023-08-02T18:02:02.823Z"
   },
   {
    "duration": 16,
    "start_time": "2023-08-02T18:02:55.845Z"
   },
   {
    "duration": 3,
    "start_time": "2023-08-02T18:03:36.938Z"
   },
   {
    "duration": 1379,
    "start_time": "2023-08-02T18:03:37.112Z"
   },
   {
    "duration": 19,
    "start_time": "2023-08-02T18:03:38.493Z"
   },
   {
    "duration": 23,
    "start_time": "2023-08-02T18:03:38.514Z"
   },
   {
    "duration": 5,
    "start_time": "2023-08-02T18:03:40.790Z"
   },
   {
    "duration": 11,
    "start_time": "2023-08-02T18:03:41.423Z"
   },
   {
    "duration": 11,
    "start_time": "2023-08-02T18:03:42.691Z"
   },
   {
    "duration": 12,
    "start_time": "2023-08-02T18:03:46.501Z"
   },
   {
    "duration": 14,
    "start_time": "2023-08-02T18:03:55.645Z"
   },
   {
    "duration": 18,
    "start_time": "2023-08-02T18:04:20.633Z"
   },
   {
    "duration": 17,
    "start_time": "2023-08-02T18:05:05.085Z"
   },
   {
    "duration": 19,
    "start_time": "2023-08-02T18:08:08.955Z"
   },
   {
    "duration": 16,
    "start_time": "2023-08-02T18:08:15.809Z"
   },
   {
    "duration": 13,
    "start_time": "2023-08-02T18:11:42.974Z"
   },
   {
    "duration": 11,
    "start_time": "2023-08-02T18:12:07.270Z"
   },
   {
    "duration": 9,
    "start_time": "2023-08-02T18:13:04.453Z"
   },
   {
    "duration": 11,
    "start_time": "2023-08-02T18:13:12.342Z"
   },
   {
    "duration": 12,
    "start_time": "2023-08-02T18:13:30.582Z"
   },
   {
    "duration": 12,
    "start_time": "2023-08-02T18:14:21.258Z"
   },
   {
    "duration": 3,
    "start_time": "2023-08-02T18:14:37.343Z"
   },
   {
    "duration": 1238,
    "start_time": "2023-08-02T18:14:37.509Z"
   },
   {
    "duration": 17,
    "start_time": "2023-08-02T18:14:38.749Z"
   },
   {
    "duration": 39,
    "start_time": "2023-08-02T18:14:38.768Z"
   },
   {
    "duration": 11,
    "start_time": "2023-08-02T18:14:38.810Z"
   },
   {
    "duration": 13,
    "start_time": "2023-08-02T18:14:39.065Z"
   },
   {
    "duration": 12,
    "start_time": "2023-08-02T18:14:41.170Z"
   },
   {
    "duration": 12,
    "start_time": "2023-08-02T18:14:42.449Z"
   },
   {
    "duration": 12,
    "start_time": "2023-08-02T18:14:44.950Z"
   },
   {
    "duration": 12,
    "start_time": "2023-08-02T18:14:50.182Z"
   },
   {
    "duration": 11,
    "start_time": "2023-08-02T18:14:51.273Z"
   },
   {
    "duration": 14,
    "start_time": "2023-08-02T18:15:13.794Z"
   },
   {
    "duration": 14,
    "start_time": "2023-08-02T18:15:48.348Z"
   },
   {
    "duration": 3,
    "start_time": "2023-08-02T18:15:53.005Z"
   },
   {
    "duration": 1115,
    "start_time": "2023-08-02T18:15:53.155Z"
   },
   {
    "duration": 21,
    "start_time": "2023-08-02T18:15:54.272Z"
   },
   {
    "duration": 25,
    "start_time": "2023-08-02T18:15:54.295Z"
   },
   {
    "duration": 6,
    "start_time": "2023-08-02T18:15:54.323Z"
   },
   {
    "duration": 14,
    "start_time": "2023-08-02T18:15:54.357Z"
   },
   {
    "duration": 11,
    "start_time": "2023-08-02T18:15:54.746Z"
   },
   {
    "duration": 11,
    "start_time": "2023-08-02T18:15:57.184Z"
   },
   {
    "duration": 17,
    "start_time": "2023-08-02T18:15:58.941Z"
   },
   {
    "duration": 15,
    "start_time": "2023-08-02T18:16:00.944Z"
   },
   {
    "duration": 14,
    "start_time": "2023-08-02T18:16:03.214Z"
   },
   {
    "duration": 14,
    "start_time": "2023-08-02T18:16:31.383Z"
   },
   {
    "duration": 3,
    "start_time": "2023-08-02T18:16:35.400Z"
   },
   {
    "duration": 1000,
    "start_time": "2023-08-02T18:16:35.548Z"
   },
   {
    "duration": 17,
    "start_time": "2023-08-02T18:16:36.550Z"
   },
   {
    "duration": 22,
    "start_time": "2023-08-02T18:16:36.569Z"
   },
   {
    "duration": 5,
    "start_time": "2023-08-02T18:16:36.593Z"
   },
   {
    "duration": 13,
    "start_time": "2023-08-02T18:16:36.599Z"
   },
   {
    "duration": 12,
    "start_time": "2023-08-02T18:16:36.841Z"
   },
   {
    "duration": 16,
    "start_time": "2023-08-02T18:16:39.029Z"
   },
   {
    "duration": 13,
    "start_time": "2023-08-02T18:16:41.047Z"
   },
   {
    "duration": 21,
    "start_time": "2023-08-02T18:16:42.105Z"
   },
   {
    "duration": 13,
    "start_time": "2023-08-02T18:16:44.243Z"
   },
   {
    "duration": 20,
    "start_time": "2023-08-02T18:16:55.450Z"
   },
   {
    "duration": 20,
    "start_time": "2023-08-02T18:17:07.425Z"
   },
   {
    "duration": 64,
    "start_time": "2023-08-02T18:17:21.301Z"
   },
   {
    "duration": 19,
    "start_time": "2023-08-02T18:17:34.582Z"
   },
   {
    "duration": 22,
    "start_time": "2023-08-02T18:18:29.263Z"
   },
   {
    "duration": 1153,
    "start_time": "2023-08-02T18:18:34.353Z"
   },
   {
    "duration": 1302,
    "start_time": "2023-08-02T18:18:35.508Z"
   },
   {
    "duration": 22,
    "start_time": "2023-08-02T18:18:36.811Z"
   },
   {
    "duration": 59,
    "start_time": "2023-08-02T18:18:36.835Z"
   },
   {
    "duration": 5,
    "start_time": "2023-08-02T18:18:36.896Z"
   },
   {
    "duration": 17,
    "start_time": "2023-08-02T18:18:36.903Z"
   },
   {
    "duration": 10,
    "start_time": "2023-08-02T18:18:36.922Z"
   },
   {
    "duration": 12,
    "start_time": "2023-08-02T18:18:36.934Z"
   },
   {
    "duration": 17,
    "start_time": "2023-08-02T18:18:36.947Z"
   },
   {
    "duration": 19,
    "start_time": "2023-08-02T18:18:36.966Z"
   },
   {
    "duration": 19,
    "start_time": "2023-08-02T18:18:36.986Z"
   },
   {
    "duration": 32,
    "start_time": "2023-08-02T18:18:56.159Z"
   },
   {
    "duration": 15,
    "start_time": "2023-08-02T18:26:44.427Z"
   },
   {
    "duration": 26,
    "start_time": "2023-08-02T18:26:51.763Z"
   },
   {
    "duration": 18,
    "start_time": "2023-08-02T18:26:56.005Z"
   },
   {
    "duration": 25,
    "start_time": "2023-08-02T18:26:56.487Z"
   },
   {
    "duration": 15,
    "start_time": "2023-08-02T18:27:17.369Z"
   },
   {
    "duration": 21,
    "start_time": "2023-08-02T18:27:18.555Z"
   },
   {
    "duration": 4,
    "start_time": "2023-08-02T18:27:24.590Z"
   },
   {
    "duration": 1361,
    "start_time": "2023-08-02T18:27:24.744Z"
   },
   {
    "duration": 18,
    "start_time": "2023-08-02T18:27:26.107Z"
   },
   {
    "duration": 24,
    "start_time": "2023-08-02T18:27:26.126Z"
   },
   {
    "duration": 5,
    "start_time": "2023-08-02T18:27:26.153Z"
   },
   {
    "duration": 28,
    "start_time": "2023-08-02T18:27:26.159Z"
   },
   {
    "duration": 12,
    "start_time": "2023-08-02T18:27:26.189Z"
   },
   {
    "duration": 13,
    "start_time": "2023-08-02T18:27:26.349Z"
   },
   {
    "duration": 19,
    "start_time": "2023-08-02T18:27:27.374Z"
   },
   {
    "duration": 35,
    "start_time": "2023-08-02T18:27:29.605Z"
   },
   {
    "duration": 20,
    "start_time": "2023-08-02T18:27:31.642Z"
   },
   {
    "duration": 26,
    "start_time": "2023-08-02T18:27:32.191Z"
   },
   {
    "duration": 110,
    "start_time": "2023-08-02T18:31:26.469Z"
   },
   {
    "duration": 28,
    "start_time": "2023-08-02T19:29:30.435Z"
   },
   {
    "duration": 29,
    "start_time": "2023-08-02T19:29:34.933Z"
   },
   {
    "duration": 20,
    "start_time": "2023-08-02T19:31:56.301Z"
   },
   {
    "duration": 37,
    "start_time": "2023-08-02T19:31:59.067Z"
   },
   {
    "duration": 341,
    "start_time": "2023-08-02T19:41:20.520Z"
   },
   {
    "duration": 367,
    "start_time": "2023-08-02T19:41:23.335Z"
   },
   {
    "duration": 370,
    "start_time": "2023-08-02T19:42:14.323Z"
   },
   {
    "duration": 154,
    "start_time": "2023-08-02T19:42:34.325Z"
   },
   {
    "duration": 67,
    "start_time": "2023-08-02T19:42:49.500Z"
   },
   {
    "duration": 63,
    "start_time": "2023-08-02T19:45:05.198Z"
   },
   {
    "duration": 3,
    "start_time": "2023-08-02T19:45:15.539Z"
   },
   {
    "duration": 1109,
    "start_time": "2023-08-02T19:45:15.682Z"
   },
   {
    "duration": 16,
    "start_time": "2023-08-02T19:45:16.793Z"
   },
   {
    "duration": 19,
    "start_time": "2023-08-02T19:45:16.810Z"
   },
   {
    "duration": 4,
    "start_time": "2023-08-02T19:45:16.831Z"
   },
   {
    "duration": 12,
    "start_time": "2023-08-02T19:45:16.836Z"
   },
   {
    "duration": 11,
    "start_time": "2023-08-02T19:45:16.962Z"
   },
   {
    "duration": 13,
    "start_time": "2023-08-02T19:45:17.286Z"
   },
   {
    "duration": 13,
    "start_time": "2023-08-02T19:45:19.884Z"
   },
   {
    "duration": 25,
    "start_time": "2023-08-02T19:45:21.260Z"
   },
   {
    "duration": 69,
    "start_time": "2023-08-02T19:45:38.913Z"
   },
   {
    "duration": 1016,
    "start_time": "2023-08-02T19:48:18.259Z"
   },
   {
    "duration": 13,
    "start_time": "2023-08-02T19:48:26.319Z"
   },
   {
    "duration": 1171,
    "start_time": "2023-08-02T19:50:25.992Z"
   },
   {
    "duration": 980,
    "start_time": "2023-08-02T19:50:35.404Z"
   },
   {
    "duration": 14,
    "start_time": "2023-08-02T19:50:39.567Z"
   },
   {
    "duration": 11,
    "start_time": "2023-08-02T19:50:53.782Z"
   },
   {
    "duration": 11,
    "start_time": "2023-08-02T19:51:44.805Z"
   },
   {
    "duration": 9,
    "start_time": "2023-08-02T19:56:01.496Z"
   },
   {
    "duration": 13,
    "start_time": "2023-08-02T19:56:05.548Z"
   },
   {
    "duration": 3,
    "start_time": "2023-08-02T19:56:19.274Z"
   },
   {
    "duration": 1032,
    "start_time": "2023-08-02T19:56:19.429Z"
   },
   {
    "duration": 17,
    "start_time": "2023-08-02T19:56:20.463Z"
   },
   {
    "duration": 22,
    "start_time": "2023-08-02T19:56:20.481Z"
   },
   {
    "duration": 4,
    "start_time": "2023-08-02T19:56:20.505Z"
   },
   {
    "duration": 14,
    "start_time": "2023-08-02T19:56:20.511Z"
   },
   {
    "duration": 11,
    "start_time": "2023-08-02T19:56:20.754Z"
   },
   {
    "duration": 11,
    "start_time": "2023-08-02T19:56:21.102Z"
   },
   {
    "duration": 12,
    "start_time": "2023-08-02T19:56:22.369Z"
   },
   {
    "duration": 24,
    "start_time": "2023-08-02T19:56:23.471Z"
   },
   {
    "duration": 12,
    "start_time": "2023-08-02T19:56:25.121Z"
   },
   {
    "duration": 11,
    "start_time": "2023-08-02T19:56:50.956Z"
   },
   {
    "duration": 14,
    "start_time": "2023-08-02T19:56:59.085Z"
   },
   {
    "duration": 15,
    "start_time": "2023-08-02T19:58:35.522Z"
   },
   {
    "duration": 26,
    "start_time": "2023-08-02T20:03:45.341Z"
   },
   {
    "duration": 25,
    "start_time": "2023-08-02T20:05:36.716Z"
   },
   {
    "duration": 31705,
    "start_time": "2023-08-02T20:07:30.482Z"
   },
   {
    "duration": 0,
    "start_time": "2023-08-02T20:08:51.310Z"
   },
   {
    "duration": 0,
    "start_time": "2023-08-02T20:08:51.311Z"
   },
   {
    "duration": 0,
    "start_time": "2023-08-02T20:08:51.312Z"
   },
   {
    "duration": 0,
    "start_time": "2023-08-02T20:08:51.313Z"
   },
   {
    "duration": 0,
    "start_time": "2023-08-02T20:08:51.314Z"
   },
   {
    "duration": 0,
    "start_time": "2023-08-02T20:08:51.315Z"
   },
   {
    "duration": 0,
    "start_time": "2023-08-02T20:08:51.316Z"
   },
   {
    "duration": 0,
    "start_time": "2023-08-02T20:08:51.317Z"
   },
   {
    "duration": 0,
    "start_time": "2023-08-02T20:08:51.318Z"
   },
   {
    "duration": 0,
    "start_time": "2023-08-02T20:08:51.319Z"
   },
   {
    "duration": 0,
    "start_time": "2023-08-02T20:08:51.320Z"
   },
   {
    "duration": 0,
    "start_time": "2023-08-02T20:09:30.225Z"
   },
   {
    "duration": 0,
    "start_time": "2023-08-02T20:09:30.226Z"
   },
   {
    "duration": 0,
    "start_time": "2023-08-02T20:09:30.228Z"
   },
   {
    "duration": 0,
    "start_time": "2023-08-02T20:09:30.229Z"
   },
   {
    "duration": 0,
    "start_time": "2023-08-02T20:09:30.230Z"
   },
   {
    "duration": 0,
    "start_time": "2023-08-02T20:09:30.231Z"
   },
   {
    "duration": 0,
    "start_time": "2023-08-02T20:09:30.256Z"
   },
   {
    "duration": 0,
    "start_time": "2023-08-02T20:09:30.258Z"
   },
   {
    "duration": 0,
    "start_time": "2023-08-02T20:09:30.259Z"
   },
   {
    "duration": 0,
    "start_time": "2023-08-02T20:09:30.261Z"
   },
   {
    "duration": 18,
    "start_time": "2023-08-02T20:09:33.806Z"
   },
   {
    "duration": 16,
    "start_time": "2023-08-02T20:09:37.339Z"
   },
   {
    "duration": 13,
    "start_time": "2023-08-02T20:09:58.704Z"
   },
   {
    "duration": 21,
    "start_time": "2023-08-02T20:10:00.574Z"
   },
   {
    "duration": 13,
    "start_time": "2023-08-02T20:11:15.045Z"
   },
   {
    "duration": 13,
    "start_time": "2023-08-02T20:13:01.915Z"
   },
   {
    "duration": 1174,
    "start_time": "2023-08-02T20:13:05.424Z"
   },
   {
    "duration": 912,
    "start_time": "2023-08-02T20:13:06.600Z"
   },
   {
    "duration": 22,
    "start_time": "2023-08-02T20:13:07.513Z"
   },
   {
    "duration": 21,
    "start_time": "2023-08-02T20:13:07.537Z"
   },
   {
    "duration": 8,
    "start_time": "2023-08-02T20:13:07.559Z"
   },
   {
    "duration": 19,
    "start_time": "2023-08-02T20:13:07.569Z"
   },
   {
    "duration": 25,
    "start_time": "2023-08-02T20:13:07.589Z"
   },
   {
    "duration": 10,
    "start_time": "2023-08-02T20:13:07.616Z"
   },
   {
    "duration": 12,
    "start_time": "2023-08-02T20:13:07.627Z"
   },
   {
    "duration": 27,
    "start_time": "2023-08-02T20:13:07.641Z"
   },
   {
    "duration": 13,
    "start_time": "2023-08-02T20:13:07.670Z"
   },
   {
    "duration": 13,
    "start_time": "2023-08-02T20:13:07.684Z"
   },
   {
    "duration": 21,
    "start_time": "2023-08-02T20:13:07.698Z"
   },
   {
    "duration": 38,
    "start_time": "2023-08-02T20:13:07.721Z"
   },
   {
    "duration": 13,
    "start_time": "2023-08-02T20:14:54.145Z"
   },
   {
    "duration": 28,
    "start_time": "2023-08-02T20:15:20.232Z"
   },
   {
    "duration": 27,
    "start_time": "2023-08-02T20:15:37.609Z"
   },
   {
    "duration": 28,
    "start_time": "2023-08-02T20:15:44.394Z"
   },
   {
    "duration": 34,
    "start_time": "2023-08-02T20:15:51.932Z"
   },
   {
    "duration": 33,
    "start_time": "2023-08-02T20:16:55.457Z"
   },
   {
    "duration": 3,
    "start_time": "2023-08-02T20:24:49.560Z"
   },
   {
    "duration": 1058,
    "start_time": "2023-08-02T20:24:49.718Z"
   },
   {
    "duration": 18,
    "start_time": "2023-08-02T20:24:50.777Z"
   },
   {
    "duration": 22,
    "start_time": "2023-08-02T20:24:50.796Z"
   },
   {
    "duration": 117,
    "start_time": "2023-08-02T20:24:50.820Z"
   },
   {
    "duration": 39,
    "start_time": "2023-08-02T20:24:50.938Z"
   },
   {
    "duration": 11,
    "start_time": "2023-08-02T20:24:52.023Z"
   },
   {
    "duration": 12,
    "start_time": "2023-08-02T20:24:54.389Z"
   },
   {
    "duration": 8,
    "start_time": "2023-08-02T20:24:58.271Z"
   },
   {
    "duration": 19,
    "start_time": "2023-08-02T20:25:04.499Z"
   },
   {
    "duration": 14,
    "start_time": "2023-08-02T20:25:23.381Z"
   },
   {
    "duration": 12,
    "start_time": "2023-08-02T20:25:43.928Z"
   },
   {
    "duration": 12,
    "start_time": "2023-08-02T20:26:44.033Z"
   },
   {
    "duration": 10,
    "start_time": "2023-08-02T20:26:54.551Z"
   },
   {
    "duration": 11,
    "start_time": "2023-08-02T20:29:33.836Z"
   },
   {
    "duration": 17,
    "start_time": "2023-08-02T20:29:51.027Z"
   },
   {
    "duration": 10,
    "start_time": "2023-08-02T20:30:04.813Z"
   },
   {
    "duration": 10,
    "start_time": "2023-08-02T20:30:07.960Z"
   },
   {
    "duration": 1135,
    "start_time": "2023-08-02T20:30:36.769Z"
   },
   {
    "duration": 986,
    "start_time": "2023-08-02T20:30:37.906Z"
   },
   {
    "duration": 31,
    "start_time": "2023-08-02T20:30:38.894Z"
   },
   {
    "duration": 43,
    "start_time": "2023-08-02T20:30:38.928Z"
   },
   {
    "duration": 6,
    "start_time": "2023-08-02T20:30:38.973Z"
   },
   {
    "duration": 21,
    "start_time": "2023-08-02T20:30:38.981Z"
   },
   {
    "duration": 13,
    "start_time": "2023-08-02T20:30:39.004Z"
   },
   {
    "duration": 15,
    "start_time": "2023-08-02T20:30:39.019Z"
   },
   {
    "duration": 14,
    "start_time": "2023-08-02T20:30:39.057Z"
   },
   {
    "duration": 11,
    "start_time": "2023-08-02T20:30:39.072Z"
   },
   {
    "duration": 18,
    "start_time": "2023-08-02T20:31:26.558Z"
   },
   {
    "duration": 17,
    "start_time": "2023-08-02T20:31:33.928Z"
   },
   {
    "duration": 21,
    "start_time": "2023-08-02T20:31:44.311Z"
   },
   {
    "duration": 21,
    "start_time": "2023-08-02T20:31:58.713Z"
   },
   {
    "duration": 19,
    "start_time": "2023-08-02T20:33:00.859Z"
   },
   {
    "duration": 18,
    "start_time": "2023-08-02T20:33:09.284Z"
   },
   {
    "duration": 26,
    "start_time": "2023-08-02T20:33:27.423Z"
   },
   {
    "duration": 1314,
    "start_time": "2023-08-02T20:35:16.604Z"
   },
   {
    "duration": 15,
    "start_time": "2023-08-02T20:35:44.565Z"
   },
   {
    "duration": 9,
    "start_time": "2023-08-02T20:36:01.311Z"
   },
   {
    "duration": 15,
    "start_time": "2023-08-02T20:36:38.770Z"
   },
   {
    "duration": 4,
    "start_time": "2023-08-02T20:38:09.102Z"
   },
   {
    "duration": 11,
    "start_time": "2023-08-02T20:38:12.909Z"
   },
   {
    "duration": 6,
    "start_time": "2023-08-02T20:39:24.896Z"
   },
   {
    "duration": 5,
    "start_time": "2023-08-02T20:39:39.658Z"
   },
   {
    "duration": 5,
    "start_time": "2023-08-02T20:40:51.511Z"
   },
   {
    "duration": 10,
    "start_time": "2023-08-02T20:40:59.957Z"
   },
   {
    "duration": 10,
    "start_time": "2023-08-02T20:41:26.310Z"
   },
   {
    "duration": 7,
    "start_time": "2023-08-02T20:41:46.790Z"
   },
   {
    "duration": 8,
    "start_time": "2023-08-02T20:41:55.865Z"
   },
   {
    "duration": 7,
    "start_time": "2023-08-02T20:42:52.939Z"
   },
   {
    "duration": 10,
    "start_time": "2023-08-02T20:45:33.969Z"
   },
   {
    "duration": 75,
    "start_time": "2023-08-02T20:45:43.628Z"
   },
   {
    "duration": 7,
    "start_time": "2023-08-02T20:45:52.942Z"
   },
   {
    "duration": 10,
    "start_time": "2023-08-02T20:46:01.048Z"
   },
   {
    "duration": 9,
    "start_time": "2023-08-02T20:46:40.584Z"
   },
   {
    "duration": 10,
    "start_time": "2023-08-02T20:46:56.302Z"
   },
   {
    "duration": 14,
    "start_time": "2023-08-02T20:47:45.076Z"
   },
   {
    "duration": 9,
    "start_time": "2023-08-02T20:47:48.936Z"
   },
   {
    "duration": 8,
    "start_time": "2023-08-02T20:47:53.126Z"
   },
   {
    "duration": 7,
    "start_time": "2023-08-02T20:47:58.575Z"
   },
   {
    "duration": 9,
    "start_time": "2023-08-02T20:48:10.464Z"
   },
   {
    "duration": 8,
    "start_time": "2023-08-02T20:48:26.207Z"
   },
   {
    "duration": 10,
    "start_time": "2023-08-02T20:49:14.878Z"
   },
   {
    "duration": 10,
    "start_time": "2023-08-02T20:49:59.508Z"
   },
   {
    "duration": 11,
    "start_time": "2023-08-02T20:50:20.988Z"
   },
   {
    "duration": 8,
    "start_time": "2023-08-02T20:50:26.465Z"
   },
   {
    "duration": 15,
    "start_time": "2023-08-02T20:54:40.576Z"
   },
   {
    "duration": 9,
    "start_time": "2023-08-02T20:54:47.410Z"
   },
   {
    "duration": 66,
    "start_time": "2023-08-02T20:55:37.847Z"
   },
   {
    "duration": 11,
    "start_time": "2023-08-02T20:59:51.115Z"
   },
   {
    "duration": 18,
    "start_time": "2023-08-02T21:00:07.658Z"
   },
   {
    "duration": 7,
    "start_time": "2023-08-02T21:00:58.696Z"
   },
   {
    "duration": 16,
    "start_time": "2023-08-02T21:01:02.594Z"
   },
   {
    "duration": 8,
    "start_time": "2023-08-02T21:01:14.017Z"
   },
   {
    "duration": 17,
    "start_time": "2023-08-02T21:01:17.210Z"
   },
   {
    "duration": 6,
    "start_time": "2023-08-02T21:01:48.307Z"
   },
   {
    "duration": 16,
    "start_time": "2023-08-02T21:01:50.424Z"
   },
   {
    "duration": 9,
    "start_time": "2023-08-02T21:02:25.693Z"
   },
   {
    "duration": 15,
    "start_time": "2023-08-02T21:04:48.167Z"
   },
   {
    "duration": 13,
    "start_time": "2023-08-02T21:05:34.206Z"
   },
   {
    "duration": 18,
    "start_time": "2023-08-02T21:05:36.773Z"
   },
   {
    "duration": 67,
    "start_time": "2023-08-02T21:05:55.220Z"
   },
   {
    "duration": 11,
    "start_time": "2023-08-02T21:06:46.726Z"
   },
   {
    "duration": 19,
    "start_time": "2023-08-02T21:06:49.106Z"
   },
   {
    "duration": 10,
    "start_time": "2023-08-02T21:06:59.806Z"
   },
   {
    "duration": 12,
    "start_time": "2023-08-02T21:07:01.760Z"
   },
   {
    "duration": 9,
    "start_time": "2023-08-02T21:07:32.539Z"
   },
   {
    "duration": 9,
    "start_time": "2023-08-02T21:07:45.100Z"
   },
   {
    "duration": 1343,
    "start_time": "2023-08-03T05:14:05.653Z"
   },
   {
    "duration": 1043,
    "start_time": "2023-08-03T05:14:06.997Z"
   },
   {
    "duration": 18,
    "start_time": "2023-08-03T05:14:08.042Z"
   },
   {
    "duration": 21,
    "start_time": "2023-08-03T05:14:08.062Z"
   },
   {
    "duration": 4,
    "start_time": "2023-08-03T05:14:08.085Z"
   },
   {
    "duration": 35,
    "start_time": "2023-08-03T05:14:08.091Z"
   },
   {
    "duration": 18,
    "start_time": "2023-08-03T05:14:08.127Z"
   },
   {
    "duration": 15,
    "start_time": "2023-08-03T05:14:08.147Z"
   },
   {
    "duration": 15,
    "start_time": "2023-08-03T05:14:08.164Z"
   },
   {
    "duration": 23,
    "start_time": "2023-08-03T05:14:08.182Z"
   },
   {
    "duration": 8,
    "start_time": "2023-08-03T05:14:08.221Z"
   },
   {
    "duration": 112,
    "start_time": "2023-08-03T05:14:08.230Z"
   },
   {
    "duration": 0,
    "start_time": "2023-08-03T05:14:08.344Z"
   },
   {
    "duration": 5,
    "start_time": "2023-08-03T05:41:55.625Z"
   },
   {
    "duration": 7,
    "start_time": "2023-08-03T05:42:25.709Z"
   },
   {
    "duration": 19,
    "start_time": "2023-08-03T05:43:53.703Z"
   },
   {
    "duration": 13,
    "start_time": "2023-08-03T05:44:02.501Z"
   },
   {
    "duration": 14,
    "start_time": "2023-08-03T05:44:05.445Z"
   },
   {
    "duration": 15,
    "start_time": "2023-08-03T05:45:48.013Z"
   },
   {
    "duration": 6,
    "start_time": "2023-08-03T05:46:37.838Z"
   },
   {
    "duration": 7,
    "start_time": "2023-08-03T05:46:38.409Z"
   },
   {
    "duration": 11,
    "start_time": "2023-08-03T05:47:15.750Z"
   },
   {
    "duration": 7,
    "start_time": "2023-08-03T05:54:00.908Z"
   },
   {
    "duration": 4,
    "start_time": "2023-08-03T05:54:05.570Z"
   },
   {
    "duration": 2505,
    "start_time": "2023-08-03T06:03:40.860Z"
   },
   {
    "duration": 10,
    "start_time": "2023-08-03T06:04:24.453Z"
   },
   {
    "duration": 9,
    "start_time": "2023-08-03T06:04:38.152Z"
   },
   {
    "duration": 7,
    "start_time": "2023-08-03T06:04:50.883Z"
   },
   {
    "duration": 7,
    "start_time": "2023-08-03T06:05:09.318Z"
   },
   {
    "duration": 7,
    "start_time": "2023-08-03T06:05:41.208Z"
   },
   {
    "duration": 4,
    "start_time": "2023-08-03T06:05:44.878Z"
   },
   {
    "duration": 1632,
    "start_time": "2023-08-03T06:05:47.312Z"
   },
   {
    "duration": 11,
    "start_time": "2023-08-03T06:06:25.162Z"
   },
   {
    "duration": 17,
    "start_time": "2023-08-03T06:06:40.917Z"
   },
   {
    "duration": 12,
    "start_time": "2023-08-03T06:07:12.810Z"
   },
   {
    "duration": 10,
    "start_time": "2023-08-03T06:07:36.818Z"
   },
   {
    "duration": 4,
    "start_time": "2023-08-03T06:07:43.007Z"
   },
   {
    "duration": 5,
    "start_time": "2023-08-03T06:08:35.751Z"
   },
   {
    "duration": 8,
    "start_time": "2023-08-03T06:08:38.243Z"
   },
   {
    "duration": 15,
    "start_time": "2023-08-03T06:08:42.906Z"
   },
   {
    "duration": 10,
    "start_time": "2023-08-03T06:08:59.086Z"
   },
   {
    "duration": 10,
    "start_time": "2023-08-03T06:09:11.453Z"
   },
   {
    "duration": 5,
    "start_time": "2023-08-03T06:20:16.850Z"
   },
   {
    "duration": 7,
    "start_time": "2023-08-03T06:20:17.356Z"
   },
   {
    "duration": 6,
    "start_time": "2023-08-03T06:22:57.752Z"
   },
   {
    "duration": 4,
    "start_time": "2023-08-03T06:23:10.989Z"
   },
   {
    "duration": 7,
    "start_time": "2023-08-03T06:23:11.498Z"
   },
   {
    "duration": 6,
    "start_time": "2023-08-03T06:23:21.152Z"
   },
   {
    "duration": 7,
    "start_time": "2023-08-03T06:23:22.084Z"
   },
   {
    "duration": 6,
    "start_time": "2023-08-03T06:23:42.454Z"
   },
   {
    "duration": 13,
    "start_time": "2023-08-03T06:23:47.454Z"
   },
   {
    "duration": 12,
    "start_time": "2023-08-03T06:23:53.140Z"
   },
   {
    "duration": 19,
    "start_time": "2023-08-03T06:23:57.184Z"
   },
   {
    "duration": 6,
    "start_time": "2023-08-03T06:24:15.272Z"
   },
   {
    "duration": 11,
    "start_time": "2023-08-03T06:24:19.870Z"
   },
   {
    "duration": 18,
    "start_time": "2023-08-03T06:24:31.337Z"
   },
   {
    "duration": 3,
    "start_time": "2023-08-03T06:25:02.375Z"
   },
   {
    "duration": 1243,
    "start_time": "2023-08-03T06:25:02.538Z"
   },
   {
    "duration": 15,
    "start_time": "2023-08-03T06:25:03.782Z"
   },
   {
    "duration": 23,
    "start_time": "2023-08-03T06:25:03.799Z"
   },
   {
    "duration": 16,
    "start_time": "2023-08-03T06:25:03.825Z"
   },
   {
    "duration": 23,
    "start_time": "2023-08-03T06:25:03.843Z"
   },
   {
    "duration": 10,
    "start_time": "2023-08-03T06:25:03.897Z"
   },
   {
    "duration": 12,
    "start_time": "2023-08-03T06:25:04.242Z"
   },
   {
    "duration": 12,
    "start_time": "2023-08-03T06:25:05.059Z"
   },
   {
    "duration": 17,
    "start_time": "2023-08-03T06:25:08.081Z"
   },
   {
    "duration": 7,
    "start_time": "2023-08-03T06:25:13.644Z"
   },
   {
    "duration": 5,
    "start_time": "2023-08-03T06:25:20.017Z"
   },
   {
    "duration": 15,
    "start_time": "2023-08-03T06:25:23.647Z"
   },
   {
    "duration": 8,
    "start_time": "2023-08-03T06:27:06.175Z"
   },
   {
    "duration": 13,
    "start_time": "2023-08-03T06:27:12.943Z"
   },
   {
    "duration": 13,
    "start_time": "2023-08-03T06:42:41.252Z"
   },
   {
    "duration": 7,
    "start_time": "2023-08-03T06:42:45.160Z"
   },
   {
    "duration": 11,
    "start_time": "2023-08-03T06:42:52.632Z"
   },
   {
    "duration": 5,
    "start_time": "2023-08-03T06:43:33.583Z"
   },
   {
    "duration": 6,
    "start_time": "2023-08-03T06:44:00.380Z"
   },
   {
    "duration": 7,
    "start_time": "2023-08-03T06:44:02.772Z"
   },
   {
    "duration": 6,
    "start_time": "2023-08-03T06:45:02.802Z"
   },
   {
    "duration": 8,
    "start_time": "2023-08-03T06:45:06.896Z"
   },
   {
    "duration": 10,
    "start_time": "2023-08-03T06:45:18.376Z"
   },
   {
    "duration": 244,
    "start_time": "2023-08-03T06:45:30.929Z"
   },
   {
    "duration": 11,
    "start_time": "2023-08-03T06:45:34.307Z"
   },
   {
    "duration": 6,
    "start_time": "2023-08-03T06:45:46.036Z"
   },
   {
    "duration": 9,
    "start_time": "2023-08-03T06:45:50.310Z"
   },
   {
    "duration": 14,
    "start_time": "2023-08-03T06:45:58.930Z"
   },
   {
    "duration": 14,
    "start_time": "2023-08-03T06:46:34.542Z"
   },
   {
    "duration": 16,
    "start_time": "2023-08-03T06:46:37.319Z"
   },
   {
    "duration": 7,
    "start_time": "2023-08-03T06:46:51.758Z"
   },
   {
    "duration": 11,
    "start_time": "2023-08-03T06:58:39.849Z"
   },
   {
    "duration": 6,
    "start_time": "2023-08-03T06:58:59.875Z"
   },
   {
    "duration": 7,
    "start_time": "2023-08-03T06:59:05.801Z"
   },
   {
    "duration": 16,
    "start_time": "2023-08-03T06:59:36.016Z"
   },
   {
    "duration": 10,
    "start_time": "2023-08-03T06:59:43.004Z"
   },
   {
    "duration": 18,
    "start_time": "2023-08-03T06:59:51.747Z"
   },
   {
    "duration": 9,
    "start_time": "2023-08-03T07:00:09.647Z"
   },
   {
    "duration": 17,
    "start_time": "2023-08-03T07:00:10.211Z"
   },
   {
    "duration": 10,
    "start_time": "2023-08-03T07:15:12.139Z"
   },
   {
    "duration": 5,
    "start_time": "2023-08-03T07:18:19.210Z"
   },
   {
    "duration": 4,
    "start_time": "2023-08-03T07:18:28.170Z"
   },
   {
    "duration": 3,
    "start_time": "2023-08-03T07:18:36.584Z"
   },
   {
    "duration": 4,
    "start_time": "2023-08-03T07:18:38.553Z"
   },
   {
    "duration": 4,
    "start_time": "2023-08-03T07:18:55.947Z"
   },
   {
    "duration": 1380,
    "start_time": "2023-08-03T07:18:56.096Z"
   },
   {
    "duration": 17,
    "start_time": "2023-08-03T07:18:57.479Z"
   },
   {
    "duration": 53,
    "start_time": "2023-08-03T07:18:57.498Z"
   },
   {
    "duration": 21,
    "start_time": "2023-08-03T07:18:57.554Z"
   },
   {
    "duration": 13,
    "start_time": "2023-08-03T07:18:57.577Z"
   },
   {
    "duration": 11,
    "start_time": "2023-08-03T07:18:57.592Z"
   },
   {
    "duration": 14,
    "start_time": "2023-08-03T07:18:57.790Z"
   },
   {
    "duration": 14,
    "start_time": "2023-08-03T07:18:58.181Z"
   },
   {
    "duration": 19,
    "start_time": "2023-08-03T07:19:00.484Z"
   },
   {
    "duration": 10,
    "start_time": "2023-08-03T07:19:01.066Z"
   },
   {
    "duration": 6,
    "start_time": "2023-08-03T07:19:02.334Z"
   },
   {
    "duration": 6,
    "start_time": "2023-08-03T07:20:14.404Z"
   },
   {
    "duration": 18,
    "start_time": "2023-08-03T07:20:19.865Z"
   },
   {
    "duration": 9,
    "start_time": "2023-08-03T07:21:04.047Z"
   },
   {
    "duration": 13,
    "start_time": "2023-08-03T07:21:39.887Z"
   },
   {
    "duration": 231,
    "start_time": "2023-08-03T07:21:53.769Z"
   },
   {
    "duration": 14,
    "start_time": "2023-08-03T07:22:02.538Z"
   },
   {
    "duration": 13,
    "start_time": "2023-08-03T07:22:13.440Z"
   },
   {
    "duration": 51,
    "start_time": "2023-08-03T07:22:50.307Z"
   },
   {
    "duration": 9,
    "start_time": "2023-08-03T07:23:14.666Z"
   },
   {
    "duration": 15,
    "start_time": "2023-08-03T07:23:19.846Z"
   },
   {
    "duration": 15,
    "start_time": "2023-08-03T07:23:32.260Z"
   },
   {
    "duration": 13,
    "start_time": "2023-08-03T07:25:58.477Z"
   },
   {
    "duration": 7,
    "start_time": "2023-08-03T07:25:59.434Z"
   },
   {
    "duration": 17,
    "start_time": "2023-08-03T07:27:03.228Z"
   },
   {
    "duration": 19,
    "start_time": "2023-08-03T07:28:59.134Z"
   },
   {
    "duration": 13,
    "start_time": "2023-08-03T07:29:04.195Z"
   },
   {
    "duration": 14,
    "start_time": "2023-08-03T07:29:10.547Z"
   },
   {
    "duration": 16,
    "start_time": "2023-08-03T07:29:32.382Z"
   },
   {
    "duration": 15,
    "start_time": "2023-08-03T07:33:44.958Z"
   },
   {
    "duration": 20,
    "start_time": "2023-08-03T07:33:53.348Z"
   },
   {
    "duration": 10,
    "start_time": "2023-08-03T07:34:51.920Z"
   },
   {
    "duration": 251,
    "start_time": "2023-08-03T07:35:05.153Z"
   },
   {
    "duration": 230,
    "start_time": "2023-08-03T07:35:11.972Z"
   },
   {
    "duration": 7,
    "start_time": "2023-08-03T07:35:15.342Z"
   },
   {
    "duration": 17,
    "start_time": "2023-08-03T07:35:52.443Z"
   },
   {
    "duration": 14,
    "start_time": "2023-08-03T07:36:14.484Z"
   },
   {
    "duration": 2,
    "start_time": "2023-08-03T07:39:01.773Z"
   },
   {
    "duration": 1202,
    "start_time": "2023-08-03T07:39:01.941Z"
   },
   {
    "duration": 17,
    "start_time": "2023-08-03T07:39:03.144Z"
   },
   {
    "duration": 29,
    "start_time": "2023-08-03T07:39:03.163Z"
   },
   {
    "duration": 18,
    "start_time": "2023-08-03T07:39:03.194Z"
   },
   {
    "duration": 48,
    "start_time": "2023-08-03T07:39:03.214Z"
   },
   {
    "duration": 16,
    "start_time": "2023-08-03T07:39:03.297Z"
   },
   {
    "duration": 13,
    "start_time": "2023-08-03T07:39:04.041Z"
   },
   {
    "duration": 16,
    "start_time": "2023-08-03T07:39:05.057Z"
   },
   {
    "duration": 23,
    "start_time": "2023-08-03T07:39:05.533Z"
   },
   {
    "duration": 24,
    "start_time": "2023-08-03T07:39:08.214Z"
   },
   {
    "duration": 10,
    "start_time": "2023-08-03T07:40:06.595Z"
   },
   {
    "duration": 15,
    "start_time": "2023-08-03T07:40:20.282Z"
   },
   {
    "duration": 40,
    "start_time": "2023-08-03T07:40:24.211Z"
   },
   {
    "duration": 14,
    "start_time": "2023-08-03T07:43:05.094Z"
   },
   {
    "duration": 3,
    "start_time": "2023-08-03T07:43:46.461Z"
   },
   {
    "duration": 92,
    "start_time": "2023-08-03T07:43:57.212Z"
   },
   {
    "duration": 8,
    "start_time": "2023-08-03T07:44:03.972Z"
   },
   {
    "duration": 6,
    "start_time": "2023-08-03T07:45:12.402Z"
   },
   {
    "duration": 7,
    "start_time": "2023-08-03T07:46:49.146Z"
   },
   {
    "duration": 12,
    "start_time": "2023-08-03T07:46:57.987Z"
   },
   {
    "duration": 5,
    "start_time": "2023-08-03T07:47:13.942Z"
   },
   {
    "duration": 13,
    "start_time": "2023-08-03T07:52:02.673Z"
   },
   {
    "duration": 4,
    "start_time": "2023-08-03T07:54:58.316Z"
   },
   {
    "duration": 4,
    "start_time": "2023-08-03T07:55:52.679Z"
   },
   {
    "duration": 6,
    "start_time": "2023-08-03T07:57:08.337Z"
   },
   {
    "duration": 3,
    "start_time": "2023-08-03T07:57:16.929Z"
   },
   {
    "duration": 915,
    "start_time": "2023-08-03T07:57:17.091Z"
   },
   {
    "duration": 18,
    "start_time": "2023-08-03T07:57:18.009Z"
   },
   {
    "duration": 33,
    "start_time": "2023-08-03T07:57:18.029Z"
   },
   {
    "duration": 6,
    "start_time": "2023-08-03T07:57:18.065Z"
   },
   {
    "duration": 14,
    "start_time": "2023-08-03T07:57:18.333Z"
   },
   {
    "duration": 10,
    "start_time": "2023-08-03T07:57:19.706Z"
   },
   {
    "duration": 6,
    "start_time": "2023-08-03T07:57:21.859Z"
   },
   {
    "duration": 18,
    "start_time": "2023-08-03T08:03:12.666Z"
   },
   {
    "duration": 19,
    "start_time": "2023-08-03T08:03:27.142Z"
   },
   {
    "duration": 22,
    "start_time": "2023-08-03T08:03:38.365Z"
   },
   {
    "duration": 10,
    "start_time": "2023-08-03T08:03:50.032Z"
   },
   {
    "duration": 12,
    "start_time": "2023-08-03T08:03:55.304Z"
   },
   {
    "duration": 18,
    "start_time": "2023-08-03T08:04:02.677Z"
   },
   {
    "duration": 10,
    "start_time": "2023-08-03T08:05:30.557Z"
   },
   {
    "duration": 11,
    "start_time": "2023-08-03T08:05:34.439Z"
   },
   {
    "duration": 12,
    "start_time": "2023-08-03T08:05:51.037Z"
   },
   {
    "duration": 11,
    "start_time": "2023-08-03T08:05:55.669Z"
   },
   {
    "duration": 4,
    "start_time": "2023-08-03T08:07:56.704Z"
   },
   {
    "duration": 4,
    "start_time": "2023-08-03T08:08:09.893Z"
   },
   {
    "duration": 6,
    "start_time": "2023-08-03T08:08:37.370Z"
   },
   {
    "duration": 4,
    "start_time": "2023-08-03T08:08:52.977Z"
   },
   {
    "duration": 5,
    "start_time": "2023-08-03T08:09:05.948Z"
   },
   {
    "duration": 5,
    "start_time": "2023-08-03T08:10:17.723Z"
   },
   {
    "duration": 6,
    "start_time": "2023-08-03T08:10:26.903Z"
   },
   {
    "duration": 1020,
    "start_time": "2023-08-03T08:11:23.039Z"
   },
   {
    "duration": 4,
    "start_time": "2023-08-03T08:11:29.344Z"
   },
   {
    "duration": 394,
    "start_time": "2023-08-03T08:11:37.108Z"
   },
   {
    "duration": 6,
    "start_time": "2023-08-03T08:12:07.274Z"
   },
   {
    "duration": 100,
    "start_time": "2023-08-03T08:56:53.710Z"
   },
   {
    "duration": 10,
    "start_time": "2023-08-03T08:56:58.068Z"
   },
   {
    "duration": 8,
    "start_time": "2023-08-03T08:57:30.992Z"
   },
   {
    "duration": 9,
    "start_time": "2023-08-03T08:57:40.939Z"
   },
   {
    "duration": 17,
    "start_time": "2023-08-03T08:58:22.637Z"
   },
   {
    "duration": 17,
    "start_time": "2023-08-03T08:58:33.028Z"
   },
   {
    "duration": 10,
    "start_time": "2023-08-03T08:59:27.602Z"
   },
   {
    "duration": 7,
    "start_time": "2023-08-03T09:01:59.591Z"
   },
   {
    "duration": 15,
    "start_time": "2023-08-03T09:02:43.551Z"
   },
   {
    "duration": 1281,
    "start_time": "2023-08-03T09:24:14.886Z"
   },
   {
    "duration": 971,
    "start_time": "2023-08-03T09:24:16.169Z"
   },
   {
    "duration": 26,
    "start_time": "2023-08-03T09:24:17.142Z"
   },
   {
    "duration": 32,
    "start_time": "2023-08-03T09:24:17.170Z"
   },
   {
    "duration": 23,
    "start_time": "2023-08-03T09:24:17.204Z"
   },
   {
    "duration": 19,
    "start_time": "2023-08-03T09:24:17.238Z"
   },
   {
    "duration": 17,
    "start_time": "2023-08-03T09:24:17.259Z"
   },
   {
    "duration": 15,
    "start_time": "2023-08-03T09:24:17.277Z"
   },
   {
    "duration": 10,
    "start_time": "2023-08-03T09:24:17.293Z"
   },
   {
    "duration": 32,
    "start_time": "2023-08-03T09:24:17.305Z"
   },
   {
    "duration": 10,
    "start_time": "2023-08-03T09:24:17.338Z"
   },
   {
    "duration": 30,
    "start_time": "2023-08-03T09:24:17.350Z"
   },
   {
    "duration": 12,
    "start_time": "2023-08-03T09:24:17.381Z"
   },
   {
    "duration": 34,
    "start_time": "2023-08-03T09:24:17.395Z"
   },
   {
    "duration": 17,
    "start_time": "2023-08-03T09:24:17.430Z"
   },
   {
    "duration": 103,
    "start_time": "2023-08-03T09:24:17.449Z"
   },
   {
    "duration": 602,
    "start_time": "2023-08-03T09:35:59.035Z"
   },
   {
    "duration": 502,
    "start_time": "2023-08-03T09:36:11.202Z"
   },
   {
    "duration": 556,
    "start_time": "2023-08-03T09:36:16.533Z"
   },
   {
    "duration": 524,
    "start_time": "2023-08-03T09:36:41.310Z"
   },
   {
    "duration": 481,
    "start_time": "2023-08-03T09:37:12.068Z"
   },
   {
    "duration": 579,
    "start_time": "2023-08-03T09:37:16.839Z"
   },
   {
    "duration": 695,
    "start_time": "2023-08-03T09:37:24.239Z"
   },
   {
    "duration": 122,
    "start_time": "2023-08-03T09:45:08.951Z"
   },
   {
    "duration": 142,
    "start_time": "2023-08-03T09:45:13.538Z"
   },
   {
    "duration": 8,
    "start_time": "2023-08-03T10:14:52.772Z"
   },
   {
    "duration": 5,
    "start_time": "2023-08-03T10:15:44.050Z"
   },
   {
    "duration": 10,
    "start_time": "2023-08-03T10:15:45.947Z"
   },
   {
    "duration": 4,
    "start_time": "2023-08-03T10:29:46.913Z"
   },
   {
    "duration": 10,
    "start_time": "2023-08-03T10:29:49.670Z"
   },
   {
    "duration": 4,
    "start_time": "2023-08-03T10:31:38.673Z"
   },
   {
    "duration": 5,
    "start_time": "2023-08-03T10:33:50.044Z"
   },
   {
    "duration": 4,
    "start_time": "2023-08-03T10:35:27.746Z"
   },
   {
    "duration": 10,
    "start_time": "2023-08-03T10:35:36.263Z"
   },
   {
    "duration": 15,
    "start_time": "2023-08-03T10:35:58.736Z"
   },
   {
    "duration": 3,
    "start_time": "2023-08-03T10:36:27.893Z"
   },
   {
    "duration": 14,
    "start_time": "2023-08-03T10:36:28.434Z"
   },
   {
    "duration": 15,
    "start_time": "2023-08-03T10:39:19.650Z"
   },
   {
    "duration": 264,
    "start_time": "2023-08-03T10:40:09.876Z"
   },
   {
    "duration": 3,
    "start_time": "2023-08-03T10:43:01.362Z"
   },
   {
    "duration": 3,
    "start_time": "2023-08-03T10:43:41.368Z"
   },
   {
    "duration": 161,
    "start_time": "2023-08-03T10:43:41.898Z"
   },
   {
    "duration": 4,
    "start_time": "2023-08-03T10:44:51.402Z"
   },
   {
    "duration": 10,
    "start_time": "2023-08-03T10:44:54.143Z"
   },
   {
    "duration": 15,
    "start_time": "2023-08-03T10:45:21.604Z"
   },
   {
    "duration": 13,
    "start_time": "2023-08-03T10:45:43.066Z"
   },
   {
    "duration": 9,
    "start_time": "2023-08-03T10:45:50.805Z"
   },
   {
    "duration": 3,
    "start_time": "2023-08-03T10:45:55.096Z"
   },
   {
    "duration": 4594,
    "start_time": "2023-08-03T10:45:55.655Z"
   },
   {
    "duration": 0,
    "start_time": "2023-08-03T10:46:00.251Z"
   },
   {
    "duration": 11,
    "start_time": "2023-08-03T11:27:48.231Z"
   },
   {
    "duration": 6,
    "start_time": "2023-08-03T11:28:46.615Z"
   },
   {
    "duration": 10,
    "start_time": "2023-08-03T11:28:49.635Z"
   },
   {
    "duration": 4,
    "start_time": "2023-08-03T11:35:20.144Z"
   },
   {
    "duration": 5,
    "start_time": "2023-08-03T11:35:22.735Z"
   },
   {
    "duration": 10,
    "start_time": "2023-08-03T11:35:25.070Z"
   },
   {
    "duration": 1249,
    "start_time": "2023-08-03T11:36:29.659Z"
   },
   {
    "duration": 982,
    "start_time": "2023-08-03T11:36:30.910Z"
   },
   {
    "duration": 19,
    "start_time": "2023-08-03T11:36:31.894Z"
   },
   {
    "duration": 40,
    "start_time": "2023-08-03T11:36:31.914Z"
   },
   {
    "duration": 9,
    "start_time": "2023-08-03T11:36:31.956Z"
   },
   {
    "duration": 19,
    "start_time": "2023-08-03T11:36:31.966Z"
   },
   {
    "duration": 28,
    "start_time": "2023-08-03T11:36:31.987Z"
   },
   {
    "duration": 38,
    "start_time": "2023-08-03T11:36:32.016Z"
   },
   {
    "duration": 28,
    "start_time": "2023-08-03T11:36:32.055Z"
   },
   {
    "duration": 21,
    "start_time": "2023-08-03T11:36:32.085Z"
   },
   {
    "duration": 26,
    "start_time": "2023-08-03T11:36:32.107Z"
   },
   {
    "duration": 48,
    "start_time": "2023-08-03T11:36:32.134Z"
   },
   {
    "duration": 17,
    "start_time": "2023-08-03T11:36:32.183Z"
   },
   {
    "duration": 32,
    "start_time": "2023-08-03T11:36:32.201Z"
   },
   {
    "duration": 32,
    "start_time": "2023-08-03T11:36:32.234Z"
   },
   {
    "duration": 32,
    "start_time": "2023-08-03T11:36:32.267Z"
   },
   {
    "duration": 50,
    "start_time": "2023-08-03T11:36:32.300Z"
   },
   {
    "duration": 11,
    "start_time": "2023-08-03T11:36:32.352Z"
   },
   {
    "duration": 20,
    "start_time": "2023-08-03T11:36:32.364Z"
   },
   {
    "duration": 726,
    "start_time": "2023-08-03T11:36:32.386Z"
   },
   {
    "duration": 220,
    "start_time": "2023-08-03T11:36:33.114Z"
   },
   {
    "duration": 592,
    "start_time": "2023-08-03T11:36:53.906Z"
   },
   {
    "duration": 6,
    "start_time": "2023-08-03T11:43:09.328Z"
   },
   {
    "duration": 5,
    "start_time": "2023-08-03T11:43:32.551Z"
   },
   {
    "duration": 4,
    "start_time": "2023-08-03T11:43:38.689Z"
   },
   {
    "duration": 113,
    "start_time": "2023-08-03T11:44:51.124Z"
   },
   {
    "duration": 16,
    "start_time": "2023-08-03T11:45:12.331Z"
   },
   {
    "duration": 8,
    "start_time": "2023-08-03T11:47:07.931Z"
   },
   {
    "duration": 9,
    "start_time": "2023-08-03T11:47:22.579Z"
   },
   {
    "duration": 9,
    "start_time": "2023-08-03T11:48:32.439Z"
   },
   {
    "duration": 5,
    "start_time": "2023-08-03T11:48:49.366Z"
   },
   {
    "duration": 6,
    "start_time": "2023-08-03T11:49:03.296Z"
   },
   {
    "duration": 8,
    "start_time": "2023-08-03T11:50:32.976Z"
   },
   {
    "duration": 8,
    "start_time": "2023-08-03T11:50:37.205Z"
   },
   {
    "duration": 7,
    "start_time": "2023-08-03T11:52:13.503Z"
   },
   {
    "duration": 8,
    "start_time": "2023-08-03T11:52:28.356Z"
   },
   {
    "duration": 10,
    "start_time": "2023-08-03T11:52:38.123Z"
   },
   {
    "duration": 14,
    "start_time": "2023-08-03T11:55:58.202Z"
   },
   {
    "duration": 15,
    "start_time": "2023-08-03T12:11:14.740Z"
   },
   {
    "duration": 12,
    "start_time": "2023-08-03T12:12:02.217Z"
   },
   {
    "duration": 12,
    "start_time": "2023-08-03T12:12:07.698Z"
   },
   {
    "duration": 13,
    "start_time": "2023-08-03T12:12:13.312Z"
   },
   {
    "duration": 11,
    "start_time": "2023-08-03T12:12:49.178Z"
   },
   {
    "duration": 12,
    "start_time": "2023-08-03T12:13:01.567Z"
   },
   {
    "duration": 102,
    "start_time": "2023-08-03T12:15:33.286Z"
   },
   {
    "duration": 4,
    "start_time": "2023-08-03T12:15:37.119Z"
   },
   {
    "duration": 1038,
    "start_time": "2023-08-03T12:45:03.354Z"
   },
   {
    "duration": 730,
    "start_time": "2023-08-03T12:46:12.158Z"
   },
   {
    "duration": 3,
    "start_time": "2023-08-03T12:46:20.178Z"
   },
   {
    "duration": 28,
    "start_time": "2023-08-03T12:46:27.535Z"
   },
   {
    "duration": 12,
    "start_time": "2023-08-03T12:46:36.401Z"
   },
   {
    "duration": 31,
    "start_time": "2023-08-03T12:50:25.422Z"
   },
   {
    "duration": 12,
    "start_time": "2023-08-03T12:50:26.863Z"
   },
   {
    "duration": 28,
    "start_time": "2023-08-03T12:53:08.147Z"
   },
   {
    "duration": 15,
    "start_time": "2023-08-03T12:53:22.550Z"
   },
   {
    "duration": 9,
    "start_time": "2023-08-03T12:53:22.958Z"
   },
   {
    "duration": 4,
    "start_time": "2023-08-03T12:53:23.301Z"
   },
   {
    "duration": 10,
    "start_time": "2023-08-03T12:53:25.643Z"
   },
   {
    "duration": 14,
    "start_time": "2023-08-03T12:53:53.227Z"
   },
   {
    "duration": 12,
    "start_time": "2023-08-03T12:53:55.932Z"
   },
   {
    "duration": 17,
    "start_time": "2023-08-03T12:54:20.956Z"
   },
   {
    "duration": 10,
    "start_time": "2023-08-03T12:55:34.889Z"
   },
   {
    "duration": 11,
    "start_time": "2023-08-03T12:55:41.928Z"
   },
   {
    "duration": 9,
    "start_time": "2023-08-03T12:56:26.594Z"
   },
   {
    "duration": 56,
    "start_time": "2023-08-03T12:56:54.393Z"
   },
   {
    "duration": 1803,
    "start_time": "2023-08-03T12:57:06.091Z"
   },
   {
    "duration": 0,
    "start_time": "2023-08-03T12:57:07.895Z"
   },
   {
    "duration": 1397,
    "start_time": "2023-08-03T12:57:16.243Z"
   },
   {
    "duration": 13,
    "start_time": "2023-08-03T12:57:18.697Z"
   },
   {
    "duration": 7,
    "start_time": "2023-08-03T12:57:35.448Z"
   },
   {
    "duration": 279,
    "start_time": "2023-08-03T12:57:57.975Z"
   },
   {
    "duration": 57,
    "start_time": "2023-08-03T13:25:16.910Z"
   },
   {
    "duration": 13,
    "start_time": "2023-08-03T13:25:22.584Z"
   },
   {
    "duration": 5,
    "start_time": "2023-08-03T13:27:14.467Z"
   },
   {
    "duration": 13,
    "start_time": "2023-08-03T13:27:15.233Z"
   },
   {
    "duration": 6,
    "start_time": "2023-08-03T13:27:25.003Z"
   },
   {
    "duration": 94,
    "start_time": "2023-08-03T13:28:22.433Z"
   },
   {
    "duration": 6,
    "start_time": "2023-08-03T13:43:28.784Z"
   },
   {
    "duration": 4,
    "start_time": "2023-08-03T13:43:34.931Z"
   },
   {
    "duration": 59,
    "start_time": "2023-08-03T13:45:12.551Z"
   },
   {
    "duration": 5,
    "start_time": "2023-08-03T13:45:13.490Z"
   },
   {
    "duration": 5,
    "start_time": "2023-08-03T13:45:17.332Z"
   },
   {
    "duration": 61,
    "start_time": "2023-08-03T13:51:02.527Z"
   },
   {
    "duration": 6,
    "start_time": "2023-08-03T13:51:03.853Z"
   },
   {
    "duration": 466,
    "start_time": "2023-08-03T13:51:37.611Z"
   },
   {
    "duration": 5,
    "start_time": "2023-08-03T13:51:38.289Z"
   },
   {
    "duration": 404,
    "start_time": "2023-08-03T13:51:55.221Z"
   },
   {
    "duration": 413,
    "start_time": "2023-08-03T13:52:23.491Z"
   },
   {
    "duration": 27,
    "start_time": "2023-08-03T13:52:56.653Z"
   },
   {
    "duration": 350,
    "start_time": "2023-08-03T13:53:02.350Z"
   },
   {
    "duration": 57,
    "start_time": "2023-08-03T13:54:02.592Z"
   },
   {
    "duration": 46,
    "start_time": "2023-08-03T13:54:04.707Z"
   },
   {
    "duration": 6,
    "start_time": "2023-08-03T13:54:07.596Z"
   },
   {
    "duration": 66,
    "start_time": "2023-08-03T13:54:20.899Z"
   },
   {
    "duration": 46,
    "start_time": "2023-08-03T13:54:21.420Z"
   },
   {
    "duration": 6,
    "start_time": "2023-08-03T13:54:23.403Z"
   },
   {
    "duration": 381,
    "start_time": "2023-08-03T13:58:42.953Z"
   },
   {
    "duration": 57,
    "start_time": "2023-08-03T13:59:07.535Z"
   },
   {
    "duration": 6,
    "start_time": "2023-08-03T13:59:10.224Z"
   },
   {
    "duration": 74,
    "start_time": "2023-08-03T14:02:22.150Z"
   },
   {
    "duration": 5,
    "start_time": "2023-08-03T14:02:23.108Z"
   },
   {
    "duration": 58,
    "start_time": "2023-08-03T14:05:33.906Z"
   },
   {
    "duration": 9,
    "start_time": "2023-08-03T14:05:37.305Z"
   },
   {
    "duration": 96,
    "start_time": "2023-08-03T14:08:19.895Z"
   },
   {
    "duration": 58,
    "start_time": "2023-08-03T14:09:12.229Z"
   },
   {
    "duration": 6,
    "start_time": "2023-08-03T14:09:13.258Z"
   },
   {
    "duration": 75,
    "start_time": "2023-08-03T14:12:57.991Z"
   },
   {
    "duration": 5,
    "start_time": "2023-08-03T14:13:00.894Z"
   },
   {
    "duration": 64,
    "start_time": "2023-08-03T14:13:18.092Z"
   },
   {
    "duration": 57,
    "start_time": "2023-08-03T14:13:31.636Z"
   },
   {
    "duration": 5,
    "start_time": "2023-08-03T14:13:32.136Z"
   },
   {
    "duration": 57,
    "start_time": "2023-08-03T14:14:33.745Z"
   },
   {
    "duration": 61,
    "start_time": "2023-08-03T14:14:47.593Z"
   },
   {
    "duration": 58,
    "start_time": "2023-08-03T14:15:10.425Z"
   },
   {
    "duration": 5,
    "start_time": "2023-08-03T14:15:14.535Z"
   },
   {
    "duration": 62,
    "start_time": "2023-08-03T14:16:13.613Z"
   },
   {
    "duration": 5,
    "start_time": "2023-08-03T14:16:14.475Z"
   },
   {
    "duration": 58,
    "start_time": "2023-08-03T14:16:30.188Z"
   },
   {
    "duration": 6,
    "start_time": "2023-08-03T14:16:35.670Z"
   },
   {
    "duration": 63,
    "start_time": "2023-08-03T14:17:18.428Z"
   },
   {
    "duration": 56,
    "start_time": "2023-08-03T14:17:45.050Z"
   },
   {
    "duration": 6,
    "start_time": "2023-08-03T14:17:45.202Z"
   },
   {
    "duration": 78,
    "start_time": "2023-08-03T14:19:03.595Z"
   },
   {
    "duration": 5,
    "start_time": "2023-08-03T14:19:14.711Z"
   },
   {
    "duration": 57,
    "start_time": "2023-08-03T14:19:31.546Z"
   },
   {
    "duration": 5,
    "start_time": "2023-08-03T14:19:32.058Z"
   },
   {
    "duration": 5,
    "start_time": "2023-08-03T14:19:43.344Z"
   },
   {
    "duration": 5,
    "start_time": "2023-08-03T14:19:45.121Z"
   },
   {
    "duration": 6,
    "start_time": "2023-08-03T14:20:34.908Z"
   },
   {
    "duration": 5,
    "start_time": "2023-08-03T14:20:40.052Z"
   },
   {
    "duration": 4,
    "start_time": "2023-08-03T14:21:02.377Z"
   },
   {
    "duration": 5,
    "start_time": "2023-08-03T14:21:13.555Z"
   },
   {
    "duration": 5,
    "start_time": "2023-08-03T14:22:21.578Z"
   },
   {
    "duration": 12,
    "start_time": "2023-08-03T14:22:41.100Z"
   },
   {
    "duration": 8,
    "start_time": "2023-08-03T14:27:01.794Z"
   },
   {
    "duration": 258,
    "start_time": "2023-08-03T14:31:08.959Z"
   },
   {
    "duration": 299,
    "start_time": "2023-08-03T14:31:24.661Z"
   },
   {
    "duration": 58,
    "start_time": "2023-08-03T14:32:21.311Z"
   },
   {
    "duration": 6,
    "start_time": "2023-08-03T14:32:24.515Z"
   },
   {
    "duration": 650,
    "start_time": "2023-08-03T14:32:33.161Z"
   },
   {
    "duration": 6,
    "start_time": "2023-08-03T14:34:22.510Z"
   },
   {
    "duration": 16,
    "start_time": "2023-08-03T14:34:23.486Z"
   },
   {
    "duration": 8,
    "start_time": "2023-08-03T14:35:40.032Z"
   },
   {
    "duration": 15,
    "start_time": "2023-08-03T14:35:47.608Z"
   },
   {
    "duration": 11,
    "start_time": "2023-08-03T14:35:53.484Z"
   },
   {
    "duration": 1096,
    "start_time": "2023-08-03T14:36:02.318Z"
   },
   {
    "duration": 1034,
    "start_time": "2023-08-03T14:36:03.415Z"
   },
   {
    "duration": 19,
    "start_time": "2023-08-03T14:36:04.451Z"
   },
   {
    "duration": 19,
    "start_time": "2023-08-03T14:36:04.473Z"
   },
   {
    "duration": 7,
    "start_time": "2023-08-03T14:36:04.493Z"
   },
   {
    "duration": 22,
    "start_time": "2023-08-03T14:36:04.501Z"
   },
   {
    "duration": 7,
    "start_time": "2023-08-03T14:36:04.524Z"
   },
   {
    "duration": 10,
    "start_time": "2023-08-03T14:36:04.533Z"
   },
   {
    "duration": 10,
    "start_time": "2023-08-03T14:36:04.545Z"
   },
   {
    "duration": 15,
    "start_time": "2023-08-03T14:36:04.557Z"
   },
   {
    "duration": 48,
    "start_time": "2023-08-03T14:36:04.573Z"
   },
   {
    "duration": 18,
    "start_time": "2023-08-03T14:36:04.622Z"
   },
   {
    "duration": 16,
    "start_time": "2023-08-03T14:36:04.642Z"
   },
   {
    "duration": 10,
    "start_time": "2023-08-03T14:36:04.660Z"
   },
   {
    "duration": 15,
    "start_time": "2023-08-03T14:36:04.671Z"
   },
   {
    "duration": 43,
    "start_time": "2023-08-03T14:36:04.688Z"
   },
   {
    "duration": 15,
    "start_time": "2023-08-03T14:36:04.733Z"
   },
   {
    "duration": 7,
    "start_time": "2023-08-03T14:36:04.750Z"
   },
   {
    "duration": 17,
    "start_time": "2023-08-03T14:36:04.758Z"
   },
   {
    "duration": 19,
    "start_time": "2023-08-03T14:36:04.776Z"
   },
   {
    "duration": 24,
    "start_time": "2023-08-03T14:36:04.796Z"
   },
   {
    "duration": 10,
    "start_time": "2023-08-03T14:36:04.821Z"
   },
   {
    "duration": 43,
    "start_time": "2023-08-03T14:36:04.833Z"
   },
   {
    "duration": 1427,
    "start_time": "2023-08-03T14:36:04.877Z"
   },
   {
    "duration": 280,
    "start_time": "2023-08-03T14:36:06.306Z"
   },
   {
    "duration": 70,
    "start_time": "2023-08-03T14:36:06.588Z"
   },
   {
    "duration": 6,
    "start_time": "2023-08-03T14:36:06.659Z"
   },
   {
    "duration": 11,
    "start_time": "2023-08-03T14:36:06.668Z"
   },
   {
    "duration": 11,
    "start_time": "2023-08-03T14:36:06.681Z"
   },
   {
    "duration": 39,
    "start_time": "2023-08-03T14:36:06.694Z"
   },
   {
    "duration": 726,
    "start_time": "2023-08-03T14:36:06.736Z"
   },
   {
    "duration": 383,
    "start_time": "2023-08-03T14:38:12.348Z"
   },
   {
    "duration": 746,
    "start_time": "2023-08-03T14:38:15.948Z"
   },
   {
    "duration": 92,
    "start_time": "2023-08-03T15:00:32.645Z"
   },
   {
    "duration": 100,
    "start_time": "2023-08-03T15:02:33.030Z"
   },
   {
    "duration": 1070,
    "start_time": "2023-08-03T15:02:42.722Z"
   },
   {
    "duration": 1460,
    "start_time": "2023-08-03T15:02:43.793Z"
   },
   {
    "duration": 18,
    "start_time": "2023-08-03T15:02:45.254Z"
   },
   {
    "duration": 18,
    "start_time": "2023-08-03T15:02:45.274Z"
   },
   {
    "duration": 4,
    "start_time": "2023-08-03T15:02:45.293Z"
   },
   {
    "duration": 21,
    "start_time": "2023-08-03T15:02:45.299Z"
   },
   {
    "duration": 6,
    "start_time": "2023-08-03T15:02:45.321Z"
   },
   {
    "duration": 20,
    "start_time": "2023-08-03T15:02:45.329Z"
   },
   {
    "duration": 10,
    "start_time": "2023-08-03T15:02:45.350Z"
   },
   {
    "duration": 20,
    "start_time": "2023-08-03T15:02:45.362Z"
   },
   {
    "duration": 12,
    "start_time": "2023-08-03T15:02:45.383Z"
   },
   {
    "duration": 32,
    "start_time": "2023-08-03T15:02:45.397Z"
   },
   {
    "duration": 9,
    "start_time": "2023-08-03T15:02:45.430Z"
   },
   {
    "duration": 15,
    "start_time": "2023-08-03T15:02:45.440Z"
   },
   {
    "duration": 12,
    "start_time": "2023-08-03T15:02:45.456Z"
   },
   {
    "duration": 6,
    "start_time": "2023-08-03T15:02:45.469Z"
   },
   {
    "duration": 6,
    "start_time": "2023-08-03T15:02:45.476Z"
   },
   {
    "duration": 39,
    "start_time": "2023-08-03T15:02:45.483Z"
   },
   {
    "duration": 10,
    "start_time": "2023-08-03T15:02:45.524Z"
   },
   {
    "duration": 20,
    "start_time": "2023-08-03T15:02:45.536Z"
   },
   {
    "duration": 13,
    "start_time": "2023-08-03T15:02:45.558Z"
   },
   {
    "duration": 20,
    "start_time": "2023-08-03T15:02:45.573Z"
   },
   {
    "duration": 24,
    "start_time": "2023-08-03T15:02:45.595Z"
   },
   {
    "duration": 1306,
    "start_time": "2023-08-03T15:02:45.621Z"
   },
   {
    "duration": 254,
    "start_time": "2023-08-03T15:02:46.929Z"
   },
   {
    "duration": 71,
    "start_time": "2023-08-03T15:02:47.185Z"
   },
   {
    "duration": 17,
    "start_time": "2023-08-03T15:02:47.258Z"
   },
   {
    "duration": 17,
    "start_time": "2023-08-03T15:02:47.278Z"
   },
   {
    "duration": 13,
    "start_time": "2023-08-03T15:02:47.296Z"
   },
   {
    "duration": 692,
    "start_time": "2023-08-03T15:02:47.311Z"
   },
   {
    "duration": 17,
    "start_time": "2023-08-03T15:02:48.004Z"
   },
   {
    "duration": 16,
    "start_time": "2023-08-03T15:05:28.813Z"
   },
   {
    "duration": 17,
    "start_time": "2023-08-03T15:07:36.693Z"
   },
   {
    "duration": 5,
    "start_time": "2023-08-03T15:11:16.305Z"
   },
   {
    "duration": 15,
    "start_time": "2023-08-03T15:11:36.284Z"
   },
   {
    "duration": 13,
    "start_time": "2023-08-03T15:11:48.088Z"
   },
   {
    "duration": 1091,
    "start_time": "2023-08-03T15:11:55.509Z"
   },
   {
    "duration": 1369,
    "start_time": "2023-08-03T15:11:56.602Z"
   },
   {
    "duration": 18,
    "start_time": "2023-08-03T15:11:57.973Z"
   },
   {
    "duration": 18,
    "start_time": "2023-08-03T15:11:57.993Z"
   },
   {
    "duration": 18,
    "start_time": "2023-08-03T15:11:58.013Z"
   },
   {
    "duration": 12,
    "start_time": "2023-08-03T15:11:58.032Z"
   },
   {
    "duration": 113,
    "start_time": "2023-08-03T15:11:58.046Z"
   },
   {
    "duration": 0,
    "start_time": "2023-08-03T15:11:58.161Z"
   },
   {
    "duration": 0,
    "start_time": "2023-08-03T15:11:58.163Z"
   },
   {
    "duration": 0,
    "start_time": "2023-08-03T15:11:58.164Z"
   },
   {
    "duration": 0,
    "start_time": "2023-08-03T15:11:58.165Z"
   },
   {
    "duration": 0,
    "start_time": "2023-08-03T15:11:58.167Z"
   },
   {
    "duration": 0,
    "start_time": "2023-08-03T15:11:58.168Z"
   },
   {
    "duration": 0,
    "start_time": "2023-08-03T15:11:58.169Z"
   },
   {
    "duration": 0,
    "start_time": "2023-08-03T15:11:58.171Z"
   },
   {
    "duration": 0,
    "start_time": "2023-08-03T15:11:58.172Z"
   },
   {
    "duration": 0,
    "start_time": "2023-08-03T15:11:58.174Z"
   },
   {
    "duration": 0,
    "start_time": "2023-08-03T15:11:58.176Z"
   },
   {
    "duration": 0,
    "start_time": "2023-08-03T15:11:58.177Z"
   },
   {
    "duration": 0,
    "start_time": "2023-08-03T15:11:58.179Z"
   },
   {
    "duration": 0,
    "start_time": "2023-08-03T15:11:58.180Z"
   },
   {
    "duration": 0,
    "start_time": "2023-08-03T15:11:58.181Z"
   },
   {
    "duration": 0,
    "start_time": "2023-08-03T15:11:58.182Z"
   },
   {
    "duration": 0,
    "start_time": "2023-08-03T15:11:58.183Z"
   },
   {
    "duration": 0,
    "start_time": "2023-08-03T15:11:58.184Z"
   },
   {
    "duration": 0,
    "start_time": "2023-08-03T15:11:58.221Z"
   },
   {
    "duration": 0,
    "start_time": "2023-08-03T15:11:58.222Z"
   },
   {
    "duration": 0,
    "start_time": "2023-08-03T15:11:58.223Z"
   },
   {
    "duration": 0,
    "start_time": "2023-08-03T15:11:58.224Z"
   },
   {
    "duration": 0,
    "start_time": "2023-08-03T15:11:58.225Z"
   },
   {
    "duration": 0,
    "start_time": "2023-08-03T15:11:58.226Z"
   },
   {
    "duration": 0,
    "start_time": "2023-08-03T15:11:58.227Z"
   },
   {
    "duration": 10,
    "start_time": "2023-08-03T15:12:14.903Z"
   },
   {
    "duration": 8,
    "start_time": "2023-08-03T15:12:53.763Z"
   },
   {
    "duration": 1080,
    "start_time": "2023-08-03T15:12:59.127Z"
   },
   {
    "duration": 916,
    "start_time": "2023-08-03T15:13:00.208Z"
   },
   {
    "duration": 20,
    "start_time": "2023-08-03T15:13:01.126Z"
   },
   {
    "duration": 40,
    "start_time": "2023-08-03T15:13:01.148Z"
   },
   {
    "duration": 20,
    "start_time": "2023-08-03T15:13:01.190Z"
   },
   {
    "duration": 34,
    "start_time": "2023-08-03T15:13:01.211Z"
   },
   {
    "duration": 38,
    "start_time": "2023-08-03T15:13:01.246Z"
   },
   {
    "duration": 58,
    "start_time": "2023-08-03T15:13:01.286Z"
   },
   {
    "duration": 43,
    "start_time": "2023-08-03T15:13:01.346Z"
   },
   {
    "duration": 38,
    "start_time": "2023-08-03T15:13:01.392Z"
   },
   {
    "duration": 25,
    "start_time": "2023-08-03T15:13:01.432Z"
   },
   {
    "duration": 39,
    "start_time": "2023-08-03T15:13:01.459Z"
   },
   {
    "duration": 28,
    "start_time": "2023-08-03T15:13:01.500Z"
   },
   {
    "duration": 17,
    "start_time": "2023-08-03T15:13:01.529Z"
   },
   {
    "duration": 57,
    "start_time": "2023-08-03T15:13:01.548Z"
   },
   {
    "duration": 50,
    "start_time": "2023-08-03T15:13:01.607Z"
   },
   {
    "duration": 38,
    "start_time": "2023-08-03T15:13:01.658Z"
   },
   {
    "duration": 69,
    "start_time": "2023-08-03T15:13:01.698Z"
   },
   {
    "duration": 72,
    "start_time": "2023-08-03T15:13:01.769Z"
   },
   {
    "duration": 51,
    "start_time": "2023-08-03T15:13:01.842Z"
   },
   {
    "duration": 69,
    "start_time": "2023-08-03T15:13:01.894Z"
   },
   {
    "duration": 53,
    "start_time": "2023-08-03T15:13:01.965Z"
   },
   {
    "duration": 53,
    "start_time": "2023-08-03T15:13:02.020Z"
   },
   {
    "duration": 1554,
    "start_time": "2023-08-03T15:13:02.075Z"
   },
   {
    "duration": 258,
    "start_time": "2023-08-03T15:13:03.631Z"
   },
   {
    "duration": 86,
    "start_time": "2023-08-03T15:13:03.892Z"
   },
   {
    "duration": 6,
    "start_time": "2023-08-03T15:13:03.980Z"
   },
   {
    "duration": 31,
    "start_time": "2023-08-03T15:13:03.989Z"
   },
   {
    "duration": 6,
    "start_time": "2023-08-03T15:13:04.022Z"
   },
   {
    "duration": 9,
    "start_time": "2023-08-03T15:13:04.029Z"
   },
   {
    "duration": 802,
    "start_time": "2023-08-03T15:13:04.039Z"
   },
   {
    "duration": 12,
    "start_time": "2023-08-03T15:13:04.843Z"
   },
   {
    "duration": 10,
    "start_time": "2023-08-03T15:15:12.153Z"
   },
   {
    "duration": 5,
    "start_time": "2023-08-03T15:17:49.698Z"
   },
   {
    "duration": 6,
    "start_time": "2023-08-03T15:18:07.402Z"
   },
   {
    "duration": 25,
    "start_time": "2023-08-03T15:19:26.267Z"
   },
   {
    "duration": 1032,
    "start_time": "2023-08-03T17:30:25.950Z"
   },
   {
    "duration": 1325,
    "start_time": "2023-08-03T17:30:26.984Z"
   },
   {
    "duration": 18,
    "start_time": "2023-08-03T17:30:28.311Z"
   },
   {
    "duration": 40,
    "start_time": "2023-08-03T17:30:28.332Z"
   },
   {
    "duration": 6,
    "start_time": "2023-08-03T17:30:28.374Z"
   },
   {
    "duration": 24,
    "start_time": "2023-08-03T17:30:28.381Z"
   },
   {
    "duration": 19,
    "start_time": "2023-08-03T17:30:28.407Z"
   },
   {
    "duration": 20,
    "start_time": "2023-08-03T17:30:28.428Z"
   },
   {
    "duration": 12,
    "start_time": "2023-08-03T17:30:28.450Z"
   },
   {
    "duration": 11,
    "start_time": "2023-08-03T17:30:28.465Z"
   },
   {
    "duration": 10,
    "start_time": "2023-08-03T17:30:28.477Z"
   },
   {
    "duration": 39,
    "start_time": "2023-08-03T17:30:28.489Z"
   },
   {
    "duration": 10,
    "start_time": "2023-08-03T17:30:28.530Z"
   },
   {
    "duration": 9,
    "start_time": "2023-08-03T17:30:28.542Z"
   },
   {
    "duration": 11,
    "start_time": "2023-08-03T17:30:28.552Z"
   },
   {
    "duration": 26,
    "start_time": "2023-08-03T17:30:28.564Z"
   },
   {
    "duration": 29,
    "start_time": "2023-08-03T17:30:28.591Z"
   },
   {
    "duration": 5,
    "start_time": "2023-08-03T17:30:28.622Z"
   },
   {
    "duration": 25,
    "start_time": "2023-08-03T17:30:28.628Z"
   },
   {
    "duration": 1312,
    "start_time": "2023-08-03T17:30:28.654Z"
   },
   {
    "duration": 266,
    "start_time": "2023-08-03T17:30:29.968Z"
   },
   {
    "duration": 74,
    "start_time": "2023-08-03T17:30:30.236Z"
   },
   {
    "duration": 20,
    "start_time": "2023-08-03T17:30:30.311Z"
   },
   {
    "duration": 31,
    "start_time": "2023-08-03T17:30:30.333Z"
   },
   {
    "duration": 40,
    "start_time": "2023-08-03T17:30:30.366Z"
   },
   {
    "duration": 717,
    "start_time": "2023-08-03T17:30:30.408Z"
   },
   {
    "duration": 10,
    "start_time": "2023-08-03T17:30:31.126Z"
   },
   {
    "duration": 97,
    "start_time": "2023-08-03T17:39:09.263Z"
   },
   {
    "duration": 86,
    "start_time": "2023-08-03T17:39:30.569Z"
   },
   {
    "duration": 377,
    "start_time": "2023-08-03T17:39:36.740Z"
   },
   {
    "duration": 42,
    "start_time": "2023-08-03T17:40:06.450Z"
   },
   {
    "duration": 45,
    "start_time": "2023-08-03T17:41:00.657Z"
   },
   {
    "duration": 95,
    "start_time": "2023-08-03T17:41:33.841Z"
   },
   {
    "duration": 74,
    "start_time": "2023-08-03T17:41:58.429Z"
   },
   {
    "duration": 44,
    "start_time": "2023-08-03T17:42:03.435Z"
   },
   {
    "duration": 48,
    "start_time": "2023-08-03T17:42:20.497Z"
   },
   {
    "duration": 80,
    "start_time": "2023-08-03T17:42:33.861Z"
   },
   {
    "duration": 124,
    "start_time": "2023-08-03T17:44:00.500Z"
   },
   {
    "duration": 114,
    "start_time": "2023-08-03T17:44:19.193Z"
   },
   {
    "duration": 161,
    "start_time": "2023-08-03T17:45:36.543Z"
   },
   {
    "duration": 194,
    "start_time": "2023-08-03T17:48:07.554Z"
   },
   {
    "duration": 196,
    "start_time": "2023-08-03T17:50:04.648Z"
   },
   {
    "duration": 275,
    "start_time": "2023-08-03T17:51:37.645Z"
   },
   {
    "duration": 192,
    "start_time": "2023-08-03T17:51:53.442Z"
   },
   {
    "duration": 189,
    "start_time": "2023-08-03T17:52:49.340Z"
   },
   {
    "duration": 183,
    "start_time": "2023-08-03T17:53:10.869Z"
   },
   {
    "duration": 213,
    "start_time": "2023-08-03T17:53:44.621Z"
   },
   {
    "duration": 14,
    "start_time": "2023-08-03T18:02:46.100Z"
   },
   {
    "duration": 16,
    "start_time": "2023-08-03T18:03:14.252Z"
   },
   {
    "duration": 17,
    "start_time": "2023-08-03T18:03:38.063Z"
   },
   {
    "duration": 16,
    "start_time": "2023-08-03T18:04:34.396Z"
   },
   {
    "duration": 77,
    "start_time": "2023-08-03T18:06:34.930Z"
   },
   {
    "duration": 75,
    "start_time": "2023-08-03T18:06:45.408Z"
   },
   {
    "duration": 6,
    "start_time": "2023-08-03T18:06:54.004Z"
   },
   {
    "duration": 9,
    "start_time": "2023-08-03T18:07:04.930Z"
   },
   {
    "duration": 39,
    "start_time": "2023-08-03T18:10:07.292Z"
   },
   {
    "duration": 33,
    "start_time": "2023-08-03T18:10:33.234Z"
   },
   {
    "duration": 43,
    "start_time": "2023-08-03T18:19:27.732Z"
   },
   {
    "duration": 13,
    "start_time": "2023-08-03T18:20:07.436Z"
   },
   {
    "duration": 3,
    "start_time": "2023-08-03T18:20:13.736Z"
   },
   {
    "duration": 27,
    "start_time": "2023-08-03T18:20:18.988Z"
   },
   {
    "duration": 27,
    "start_time": "2023-08-03T18:20:47.761Z"
   },
   {
    "duration": 16,
    "start_time": "2023-08-03T18:21:48.988Z"
   },
   {
    "duration": 12,
    "start_time": "2023-08-03T18:22:04.832Z"
   },
   {
    "duration": 12,
    "start_time": "2023-08-03T18:22:29.252Z"
   },
   {
    "duration": 10,
    "start_time": "2023-08-03T18:28:47.324Z"
   },
   {
    "duration": 10,
    "start_time": "2023-08-03T18:28:54.648Z"
   },
   {
    "duration": 10,
    "start_time": "2023-08-03T18:29:31.708Z"
   },
   {
    "duration": 2799,
    "start_time": "2023-08-03T18:31:08.840Z"
   },
   {
    "duration": 5,
    "start_time": "2023-08-03T18:31:49.732Z"
   },
   {
    "duration": 13,
    "start_time": "2023-08-03T18:31:55.439Z"
   },
   {
    "duration": 12,
    "start_time": "2023-08-03T18:32:12.725Z"
   },
   {
    "duration": 127,
    "start_time": "2023-08-03T18:33:09.938Z"
   },
   {
    "duration": 11,
    "start_time": "2023-08-03T18:33:26.513Z"
   },
   {
    "duration": 20,
    "start_time": "2023-08-03T19:48:39.642Z"
   },
   {
    "duration": 16,
    "start_time": "2023-08-03T19:49:25.842Z"
   },
   {
    "duration": 10,
    "start_time": "2023-08-03T19:49:59.057Z"
   },
   {
    "duration": 5,
    "start_time": "2023-08-03T19:52:41.099Z"
   },
   {
    "duration": 7,
    "start_time": "2023-08-03T19:52:51.032Z"
   },
   {
    "duration": 6,
    "start_time": "2023-08-03T19:52:54.499Z"
   },
   {
    "duration": 4,
    "start_time": "2023-08-03T19:53:03.314Z"
   },
   {
    "duration": 85,
    "start_time": "2023-08-03T19:56:24.592Z"
   },
   {
    "duration": 13,
    "start_time": "2023-08-03T19:56:55.700Z"
   },
   {
    "duration": 16,
    "start_time": "2023-08-03T19:57:15.795Z"
   },
   {
    "duration": 18,
    "start_time": "2023-08-03T19:57:25.740Z"
   },
   {
    "duration": 18,
    "start_time": "2023-08-03T19:59:15.603Z"
   },
   {
    "duration": 1969,
    "start_time": "2023-08-03T20:01:58.412Z"
   },
   {
    "duration": 6,
    "start_time": "2023-08-03T20:02:14.443Z"
   },
   {
    "duration": 31,
    "start_time": "2023-08-03T20:02:37.315Z"
   },
   {
    "duration": 23,
    "start_time": "2023-08-03T20:03:07.148Z"
   },
   {
    "duration": 19,
    "start_time": "2023-08-03T20:04:01.739Z"
   },
   {
    "duration": 5,
    "start_time": "2023-08-03T20:08:09.201Z"
   },
   {
    "duration": 16,
    "start_time": "2023-08-03T20:08:22.347Z"
   },
   {
    "duration": 53,
    "start_time": "2023-08-03T20:08:28.014Z"
   },
   {
    "duration": 17,
    "start_time": "2023-08-03T20:08:35.455Z"
   },
   {
    "duration": 50,
    "start_time": "2023-08-03T20:08:58.518Z"
   },
   {
    "duration": 17,
    "start_time": "2023-08-03T20:09:01.396Z"
   },
   {
    "duration": 5,
    "start_time": "2023-08-03T20:09:27.843Z"
   },
   {
    "duration": 32,
    "start_time": "2023-08-03T20:09:33.613Z"
   },
   {
    "duration": 44,
    "start_time": "2023-08-03T20:10:25.349Z"
   },
   {
    "duration": 17,
    "start_time": "2023-08-03T20:11:06.895Z"
   },
   {
    "duration": 20,
    "start_time": "2023-08-03T20:11:23.292Z"
   },
   {
    "duration": 14,
    "start_time": "2023-08-03T20:11:32.559Z"
   },
   {
    "duration": 18,
    "start_time": "2023-08-03T20:11:36.297Z"
   },
   {
    "duration": 33,
    "start_time": "2023-08-03T20:12:11.437Z"
   },
   {
    "duration": 17,
    "start_time": "2023-08-03T20:14:15.716Z"
   },
   {
    "duration": 13,
    "start_time": "2023-08-03T20:14:57.504Z"
   },
   {
    "duration": 50,
    "start_time": "2023-08-03T20:16:21.995Z"
   },
   {
    "duration": 38,
    "start_time": "2023-08-03T20:16:26.247Z"
   },
   {
    "duration": 32,
    "start_time": "2023-08-03T20:16:30.345Z"
   },
   {
    "duration": 62,
    "start_time": "2023-08-03T20:16:56.102Z"
   },
   {
    "duration": 35,
    "start_time": "2023-08-03T20:17:10.749Z"
   },
   {
    "duration": 36,
    "start_time": "2023-08-03T20:17:43.947Z"
   },
   {
    "duration": 51,
    "start_time": "2023-08-03T20:17:56.200Z"
   },
   {
    "duration": 47,
    "start_time": "2023-08-03T20:18:21.159Z"
   },
   {
    "duration": 18,
    "start_time": "2023-08-03T20:21:12.509Z"
   },
   {
    "duration": 179,
    "start_time": "2023-08-03T20:21:34.792Z"
   },
   {
    "duration": 55,
    "start_time": "2023-08-03T20:22:01.007Z"
   },
   {
    "duration": 94,
    "start_time": "2023-08-03T20:22:25.806Z"
   },
   {
    "duration": 42,
    "start_time": "2023-08-03T20:22:28.898Z"
   },
   {
    "duration": 48,
    "start_time": "2023-08-03T20:22:45.703Z"
   },
   {
    "duration": 41,
    "start_time": "2023-08-03T20:23:08.498Z"
   },
   {
    "duration": 168,
    "start_time": "2023-08-03T20:24:19.914Z"
   },
   {
    "duration": 19,
    "start_time": "2023-08-03T20:24:25.347Z"
   },
   {
    "duration": 13,
    "start_time": "2023-08-03T20:25:03.538Z"
   },
   {
    "duration": 38,
    "start_time": "2023-08-03T20:25:38.792Z"
   },
   {
    "duration": 40,
    "start_time": "2023-08-03T20:26:11.036Z"
   },
   {
    "duration": 41,
    "start_time": "2023-08-03T20:29:10.244Z"
   },
   {
    "duration": 41,
    "start_time": "2023-08-03T20:29:15.499Z"
   },
   {
    "duration": 59,
    "start_time": "2023-08-03T20:29:21.845Z"
   },
   {
    "duration": 4,
    "start_time": "2023-08-03T20:30:35.052Z"
   },
   {
    "duration": 378,
    "start_time": "2023-08-03T20:34:13.960Z"
   },
   {
    "duration": 671,
    "start_time": "2023-08-03T20:34:37.895Z"
   },
   {
    "duration": 261,
    "start_time": "2023-08-03T20:34:47.191Z"
   },
   {
    "duration": 87,
    "start_time": "2023-08-03T20:35:20.328Z"
   },
   {
    "duration": 53,
    "start_time": "2023-08-03T20:37:51.683Z"
   },
   {
    "duration": 9,
    "start_time": "2023-08-03T20:38:16.488Z"
   },
   {
    "duration": 11,
    "start_time": "2023-08-03T20:38:24.648Z"
   },
   {
    "duration": 18,
    "start_time": "2023-08-03T20:38:28.715Z"
   },
   {
    "duration": 19,
    "start_time": "2023-08-03T20:40:14.235Z"
   },
   {
    "duration": 1541,
    "start_time": "2023-08-04T07:38:12.908Z"
   },
   {
    "duration": 1223,
    "start_time": "2023-08-04T07:38:14.455Z"
   },
   {
    "duration": 25,
    "start_time": "2023-08-04T07:38:15.680Z"
   },
   {
    "duration": 31,
    "start_time": "2023-08-04T07:38:15.707Z"
   },
   {
    "duration": 20,
    "start_time": "2023-08-04T07:38:15.740Z"
   },
   {
    "duration": 28,
    "start_time": "2023-08-04T07:38:15.763Z"
   },
   {
    "duration": 10,
    "start_time": "2023-08-04T07:38:15.793Z"
   },
   {
    "duration": 10,
    "start_time": "2023-08-04T07:38:15.805Z"
   },
   {
    "duration": 12,
    "start_time": "2023-08-04T07:38:15.817Z"
   },
   {
    "duration": 37,
    "start_time": "2023-08-04T07:38:15.832Z"
   },
   {
    "duration": 22,
    "start_time": "2023-08-04T07:38:15.872Z"
   },
   {
    "duration": 20,
    "start_time": "2023-08-04T07:38:15.896Z"
   },
   {
    "duration": 9,
    "start_time": "2023-08-04T07:38:15.918Z"
   },
   {
    "duration": 35,
    "start_time": "2023-08-04T07:38:15.930Z"
   },
   {
    "duration": 12,
    "start_time": "2023-08-04T07:38:15.968Z"
   },
   {
    "duration": 36,
    "start_time": "2023-08-04T07:38:15.983Z"
   },
   {
    "duration": 32,
    "start_time": "2023-08-04T07:38:16.021Z"
   },
   {
    "duration": 21,
    "start_time": "2023-08-04T07:38:16.054Z"
   },
   {
    "duration": 21,
    "start_time": "2023-08-04T07:38:16.077Z"
   },
   {
    "duration": 2440,
    "start_time": "2023-08-04T07:38:16.099Z"
   },
   {
    "duration": 355,
    "start_time": "2023-08-04T07:38:18.542Z"
   },
   {
    "duration": 109,
    "start_time": "2023-08-04T07:38:18.899Z"
   },
   {
    "duration": 6,
    "start_time": "2023-08-04T07:38:19.011Z"
   },
   {
    "duration": 24,
    "start_time": "2023-08-04T07:38:19.019Z"
   },
   {
    "duration": 39,
    "start_time": "2023-08-04T07:38:19.045Z"
   },
   {
    "duration": 1335,
    "start_time": "2023-08-04T07:38:19.086Z"
   },
   {
    "duration": 963,
    "start_time": "2023-08-04T07:38:20.423Z"
   },
   {
    "duration": 72,
    "start_time": "2023-08-04T07:38:21.390Z"
   },
   {
    "duration": 197,
    "start_time": "2023-08-04T07:38:21.465Z"
   },
   {
    "duration": 519,
    "start_time": "2023-08-04T07:38:21.665Z"
   },
   {
    "duration": 74,
    "start_time": "2023-08-04T07:38:22.186Z"
   },
   {
    "duration": 0,
    "start_time": "2023-08-04T07:38:22.263Z"
   },
   {
    "duration": 0,
    "start_time": "2023-08-04T07:38:22.265Z"
   },
   {
    "duration": 5,
    "start_time": "2023-08-04T08:51:50.799Z"
   },
   {
    "duration": 6,
    "start_time": "2023-08-04T08:52:14.308Z"
   },
   {
    "duration": 6,
    "start_time": "2023-08-04T08:52:39.209Z"
   },
   {
    "duration": 31,
    "start_time": "2023-08-04T08:56:48.643Z"
   },
   {
    "duration": 27,
    "start_time": "2023-08-04T08:57:30.623Z"
   },
   {
    "duration": 192,
    "start_time": "2023-08-04T08:58:01.044Z"
   },
   {
    "duration": 1524,
    "start_time": "2023-08-04T08:58:06.936Z"
   },
   {
    "duration": 947,
    "start_time": "2023-08-04T08:58:08.463Z"
   },
   {
    "duration": 26,
    "start_time": "2023-08-04T08:58:09.412Z"
   },
   {
    "duration": 32,
    "start_time": "2023-08-04T08:58:09.441Z"
   },
   {
    "duration": 7,
    "start_time": "2023-08-04T08:58:09.475Z"
   },
   {
    "duration": 18,
    "start_time": "2023-08-04T08:58:09.485Z"
   },
   {
    "duration": 13,
    "start_time": "2023-08-04T08:58:09.505Z"
   },
   {
    "duration": 12,
    "start_time": "2023-08-04T08:58:09.520Z"
   },
   {
    "duration": 35,
    "start_time": "2023-08-04T08:58:09.534Z"
   },
   {
    "duration": 19,
    "start_time": "2023-08-04T08:58:09.575Z"
   },
   {
    "duration": 11,
    "start_time": "2023-08-04T08:58:09.596Z"
   },
   {
    "duration": 54,
    "start_time": "2023-08-04T08:58:09.609Z"
   },
   {
    "duration": 19,
    "start_time": "2023-08-04T08:58:09.668Z"
   },
   {
    "duration": 13,
    "start_time": "2023-08-04T08:58:09.689Z"
   },
   {
    "duration": 7,
    "start_time": "2023-08-04T08:58:09.704Z"
   },
   {
    "duration": 22,
    "start_time": "2023-08-04T08:58:09.713Z"
   },
   {
    "duration": 50,
    "start_time": "2023-08-04T08:58:09.738Z"
   },
   {
    "duration": 6,
    "start_time": "2023-08-04T08:58:09.790Z"
   },
   {
    "duration": 21,
    "start_time": "2023-08-04T08:58:09.798Z"
   },
   {
    "duration": 2081,
    "start_time": "2023-08-04T08:58:09.821Z"
   },
   {
    "duration": 410,
    "start_time": "2023-08-04T08:58:11.905Z"
   },
   {
    "duration": 87,
    "start_time": "2023-08-04T08:58:12.317Z"
   },
   {
    "duration": 19,
    "start_time": "2023-08-04T08:58:12.406Z"
   },
   {
    "duration": 62,
    "start_time": "2023-08-04T08:58:12.426Z"
   },
   {
    "duration": 23,
    "start_time": "2023-08-04T08:58:12.490Z"
   },
   {
    "duration": 1100,
    "start_time": "2023-08-04T08:58:12.515Z"
   },
   {
    "duration": 136,
    "start_time": "2023-08-04T08:58:13.617Z"
   },
   {
    "duration": 0,
    "start_time": "2023-08-04T08:58:13.755Z"
   },
   {
    "duration": 0,
    "start_time": "2023-08-04T08:58:13.762Z"
   },
   {
    "duration": 0,
    "start_time": "2023-08-04T08:58:13.766Z"
   },
   {
    "duration": 0,
    "start_time": "2023-08-04T08:58:13.767Z"
   },
   {
    "duration": 0,
    "start_time": "2023-08-04T08:58:13.768Z"
   },
   {
    "duration": 52,
    "start_time": "2023-08-04T08:58:53.851Z"
   },
   {
    "duration": 1387,
    "start_time": "2023-08-04T08:59:16.448Z"
   },
   {
    "duration": 1075,
    "start_time": "2023-08-04T08:59:17.837Z"
   },
   {
    "duration": 27,
    "start_time": "2023-08-04T08:59:18.914Z"
   },
   {
    "duration": 40,
    "start_time": "2023-08-04T08:59:18.943Z"
   },
   {
    "duration": 15,
    "start_time": "2023-08-04T08:59:18.986Z"
   },
   {
    "duration": 14,
    "start_time": "2023-08-04T08:59:19.003Z"
   },
   {
    "duration": 13,
    "start_time": "2023-08-04T08:59:19.019Z"
   },
   {
    "duration": 29,
    "start_time": "2023-08-04T08:59:19.034Z"
   },
   {
    "duration": 27,
    "start_time": "2023-08-04T08:59:19.071Z"
   },
   {
    "duration": 15,
    "start_time": "2023-08-04T08:59:19.104Z"
   },
   {
    "duration": 14,
    "start_time": "2023-08-04T08:59:19.121Z"
   },
   {
    "duration": 41,
    "start_time": "2023-08-04T08:59:19.138Z"
   },
   {
    "duration": 20,
    "start_time": "2023-08-04T08:59:19.183Z"
   },
   {
    "duration": 12,
    "start_time": "2023-08-04T08:59:19.206Z"
   },
   {
    "duration": 10,
    "start_time": "2023-08-04T08:59:19.220Z"
   },
   {
    "duration": 54,
    "start_time": "2023-08-04T08:59:19.232Z"
   },
   {
    "duration": 14,
    "start_time": "2023-08-04T08:59:19.288Z"
   },
   {
    "duration": 13,
    "start_time": "2023-08-04T08:59:19.304Z"
   },
   {
    "duration": 20,
    "start_time": "2023-08-04T08:59:19.319Z"
   },
   {
    "duration": 1884,
    "start_time": "2023-08-04T08:59:19.341Z"
   },
   {
    "duration": 293,
    "start_time": "2023-08-04T08:59:21.227Z"
   },
   {
    "duration": 88,
    "start_time": "2023-08-04T08:59:21.521Z"
   },
   {
    "duration": 5,
    "start_time": "2023-08-04T08:59:21.611Z"
   },
   {
    "duration": 53,
    "start_time": "2023-08-04T08:59:21.618Z"
   },
   {
    "duration": 32,
    "start_time": "2023-08-04T08:59:21.675Z"
   },
   {
    "duration": 911,
    "start_time": "2023-08-04T08:59:21.710Z"
   },
   {
    "duration": 115,
    "start_time": "2023-08-04T08:59:22.622Z"
   },
   {
    "duration": 0,
    "start_time": "2023-08-04T08:59:22.739Z"
   },
   {
    "duration": 0,
    "start_time": "2023-08-04T08:59:22.740Z"
   },
   {
    "duration": 0,
    "start_time": "2023-08-04T08:59:22.741Z"
   },
   {
    "duration": 0,
    "start_time": "2023-08-04T08:59:22.742Z"
   },
   {
    "duration": 0,
    "start_time": "2023-08-04T08:59:22.744Z"
   },
   {
    "duration": 13,
    "start_time": "2023-08-04T08:59:32.027Z"
   },
   {
    "duration": 13,
    "start_time": "2023-08-04T09:00:04.508Z"
   },
   {
    "duration": 24,
    "start_time": "2023-08-04T09:01:01.754Z"
   },
   {
    "duration": 13,
    "start_time": "2023-08-04T09:01:15.510Z"
   },
   {
    "duration": 11,
    "start_time": "2023-08-04T09:01:20.843Z"
   },
   {
    "duration": 13,
    "start_time": "2023-08-04T09:01:26.316Z"
   },
   {
    "duration": 11,
    "start_time": "2023-08-04T09:03:34.194Z"
   },
   {
    "duration": 10,
    "start_time": "2023-08-04T09:03:38.657Z"
   },
   {
    "duration": 13,
    "start_time": "2023-08-04T09:04:06.904Z"
   },
   {
    "duration": 13,
    "start_time": "2023-08-04T09:05:14.025Z"
   },
   {
    "duration": 11,
    "start_time": "2023-08-04T09:05:26.784Z"
   },
   {
    "duration": 13,
    "start_time": "2023-08-04T09:06:14.314Z"
   },
   {
    "duration": 8,
    "start_time": "2023-08-04T09:06:25.485Z"
   },
   {
    "duration": 31,
    "start_time": "2023-08-04T09:06:28.741Z"
   },
   {
    "duration": 25,
    "start_time": "2023-08-04T09:07:27.773Z"
   },
   {
    "duration": 23,
    "start_time": "2023-08-04T09:11:27.579Z"
   },
   {
    "duration": 631,
    "start_time": "2023-08-04T09:15:34.342Z"
   },
   {
    "duration": 243,
    "start_time": "2023-08-04T09:15:34.987Z"
   },
   {
    "duration": 1486,
    "start_time": "2023-08-04T09:17:08.642Z"
   },
   {
    "duration": 1373,
    "start_time": "2023-08-04T09:17:10.131Z"
   },
   {
    "duration": 24,
    "start_time": "2023-08-04T09:17:11.505Z"
   },
   {
    "duration": 24,
    "start_time": "2023-08-04T09:17:11.531Z"
   },
   {
    "duration": 23,
    "start_time": "2023-08-04T09:17:11.556Z"
   },
   {
    "duration": 17,
    "start_time": "2023-08-04T09:17:11.582Z"
   },
   {
    "duration": 16,
    "start_time": "2023-08-04T09:17:11.601Z"
   },
   {
    "duration": 11,
    "start_time": "2023-08-04T09:17:11.619Z"
   },
   {
    "duration": 23,
    "start_time": "2023-08-04T09:17:11.631Z"
   },
   {
    "duration": 19,
    "start_time": "2023-08-04T09:17:11.657Z"
   },
   {
    "duration": 15,
    "start_time": "2023-08-04T09:17:11.680Z"
   },
   {
    "duration": 19,
    "start_time": "2023-08-04T09:17:11.697Z"
   },
   {
    "duration": 11,
    "start_time": "2023-08-04T09:17:11.718Z"
   },
   {
    "duration": 45,
    "start_time": "2023-08-04T09:17:11.731Z"
   },
   {
    "duration": 9,
    "start_time": "2023-08-04T09:17:11.782Z"
   },
   {
    "duration": 20,
    "start_time": "2023-08-04T09:17:11.793Z"
   },
   {
    "duration": 22,
    "start_time": "2023-08-04T09:17:11.815Z"
   },
   {
    "duration": 9,
    "start_time": "2023-08-04T09:17:11.838Z"
   },
   {
    "duration": 46,
    "start_time": "2023-08-04T09:17:11.848Z"
   },
   {
    "duration": 1911,
    "start_time": "2023-08-04T09:17:11.896Z"
   },
   {
    "duration": 323,
    "start_time": "2023-08-04T09:17:13.809Z"
   },
   {
    "duration": 88,
    "start_time": "2023-08-04T09:17:14.134Z"
   },
   {
    "duration": 5,
    "start_time": "2023-08-04T09:17:14.224Z"
   },
   {
    "duration": 13,
    "start_time": "2023-08-04T09:17:14.231Z"
   },
   {
    "duration": 45,
    "start_time": "2023-08-04T09:17:14.246Z"
   },
   {
    "duration": 1006,
    "start_time": "2023-08-04T09:17:14.293Z"
   },
   {
    "duration": 514,
    "start_time": "2023-08-04T09:17:15.300Z"
   },
   {
    "duration": 55,
    "start_time": "2023-08-04T09:17:15.819Z"
   },
   {
    "duration": 138,
    "start_time": "2023-08-04T09:17:15.876Z"
   },
   {
    "duration": 289,
    "start_time": "2023-08-04T09:17:16.016Z"
   },
   {
    "duration": 255,
    "start_time": "2023-08-04T09:17:16.307Z"
   },
   {
    "duration": 29,
    "start_time": "2023-08-04T09:17:16.564Z"
   },
   {
    "duration": 1432,
    "start_time": "2023-08-04T09:17:58.026Z"
   },
   {
    "duration": 1073,
    "start_time": "2023-08-04T09:17:59.474Z"
   },
   {
    "duration": 38,
    "start_time": "2023-08-04T09:18:00.552Z"
   },
   {
    "duration": 22,
    "start_time": "2023-08-04T09:18:00.592Z"
   },
   {
    "duration": 17,
    "start_time": "2023-08-04T09:18:00.615Z"
   },
   {
    "duration": 43,
    "start_time": "2023-08-04T09:18:00.634Z"
   },
   {
    "duration": 13,
    "start_time": "2023-08-04T09:18:00.682Z"
   },
   {
    "duration": 23,
    "start_time": "2023-08-04T09:18:00.697Z"
   },
   {
    "duration": 31,
    "start_time": "2023-08-04T09:18:00.723Z"
   },
   {
    "duration": 50,
    "start_time": "2023-08-04T09:18:00.761Z"
   },
   {
    "duration": 25,
    "start_time": "2023-08-04T09:18:00.813Z"
   },
   {
    "duration": 55,
    "start_time": "2023-08-04T09:18:00.840Z"
   },
   {
    "duration": 12,
    "start_time": "2023-08-04T09:18:00.897Z"
   },
   {
    "duration": 18,
    "start_time": "2023-08-04T09:18:00.910Z"
   },
   {
    "duration": 37,
    "start_time": "2023-08-04T09:18:00.930Z"
   },
   {
    "duration": 66,
    "start_time": "2023-08-04T09:18:00.968Z"
   },
   {
    "duration": 44,
    "start_time": "2023-08-04T09:18:01.036Z"
   },
   {
    "duration": 26,
    "start_time": "2023-08-04T09:18:01.082Z"
   },
   {
    "duration": 45,
    "start_time": "2023-08-04T09:18:01.110Z"
   },
   {
    "duration": 1983,
    "start_time": "2023-08-04T09:18:01.157Z"
   },
   {
    "duration": 343,
    "start_time": "2023-08-04T09:18:03.143Z"
   },
   {
    "duration": 81,
    "start_time": "2023-08-04T09:18:03.492Z"
   },
   {
    "duration": 12,
    "start_time": "2023-08-04T09:18:03.580Z"
   },
   {
    "duration": 20,
    "start_time": "2023-08-04T09:18:03.594Z"
   },
   {
    "duration": 38,
    "start_time": "2023-08-04T09:18:03.616Z"
   },
   {
    "duration": 978,
    "start_time": "2023-08-04T09:18:03.660Z"
   },
   {
    "duration": 499,
    "start_time": "2023-08-04T09:18:04.641Z"
   },
   {
    "duration": 39,
    "start_time": "2023-08-04T09:18:05.142Z"
   },
   {
    "duration": 114,
    "start_time": "2023-08-04T09:18:05.185Z"
   },
   {
    "duration": 243,
    "start_time": "2023-08-04T09:18:05.301Z"
   },
   {
    "duration": 258,
    "start_time": "2023-08-04T09:18:05.546Z"
   },
   {
    "duration": 13,
    "start_time": "2023-08-04T09:18:05.805Z"
   },
   {
    "duration": 212,
    "start_time": "2023-08-04T09:20:49.322Z"
   },
   {
    "duration": 37,
    "start_time": "2023-08-04T09:21:05.533Z"
   },
   {
    "duration": 30,
    "start_time": "2023-08-04T09:22:46.700Z"
   },
   {
    "duration": 26,
    "start_time": "2023-08-04T09:23:08.328Z"
   },
   {
    "duration": 70,
    "start_time": "2023-08-04T09:23:13.125Z"
   },
   {
    "duration": 6,
    "start_time": "2023-08-04T09:24:10.834Z"
   },
   {
    "duration": 50,
    "start_time": "2023-08-04T09:24:11.482Z"
   },
   {
    "duration": 9,
    "start_time": "2023-08-04T09:24:18.792Z"
   },
   {
    "duration": 52,
    "start_time": "2023-08-04T09:24:20.781Z"
   },
   {
    "duration": 17,
    "start_time": "2023-08-04T09:24:26.206Z"
   },
   {
    "duration": 69,
    "start_time": "2023-08-04T09:24:26.527Z"
   },
   {
    "duration": 17,
    "start_time": "2023-08-04T09:24:32.227Z"
   },
   {
    "duration": 66,
    "start_time": "2023-08-04T09:24:32.539Z"
   },
   {
    "duration": 1335,
    "start_time": "2023-08-04T09:24:49.248Z"
   },
   {
    "duration": 1016,
    "start_time": "2023-08-04T09:24:50.587Z"
   },
   {
    "duration": 22,
    "start_time": "2023-08-04T09:24:51.604Z"
   },
   {
    "duration": 21,
    "start_time": "2023-08-04T09:24:51.628Z"
   },
   {
    "duration": 5,
    "start_time": "2023-08-04T09:24:51.650Z"
   },
   {
    "duration": 33,
    "start_time": "2023-08-04T09:24:51.660Z"
   },
   {
    "duration": 10,
    "start_time": "2023-08-04T09:24:51.695Z"
   },
   {
    "duration": 15,
    "start_time": "2023-08-04T09:24:51.706Z"
   },
   {
    "duration": 12,
    "start_time": "2023-08-04T09:24:51.722Z"
   },
   {
    "duration": 11,
    "start_time": "2023-08-04T09:24:51.737Z"
   },
   {
    "duration": 23,
    "start_time": "2023-08-04T09:24:51.756Z"
   },
   {
    "duration": 21,
    "start_time": "2023-08-04T09:24:51.782Z"
   },
   {
    "duration": 10,
    "start_time": "2023-08-04T09:24:51.806Z"
   },
   {
    "duration": 12,
    "start_time": "2023-08-04T09:24:51.817Z"
   },
   {
    "duration": 47,
    "start_time": "2023-08-04T09:24:51.830Z"
   },
   {
    "duration": 34,
    "start_time": "2023-08-04T09:24:51.883Z"
   },
   {
    "duration": 12,
    "start_time": "2023-08-04T09:24:51.919Z"
   },
   {
    "duration": 33,
    "start_time": "2023-08-04T09:24:51.933Z"
   },
   {
    "duration": 31,
    "start_time": "2023-08-04T09:24:51.969Z"
   },
   {
    "duration": 1851,
    "start_time": "2023-08-04T09:24:52.001Z"
   },
   {
    "duration": 336,
    "start_time": "2023-08-04T09:24:53.854Z"
   },
   {
    "duration": 74,
    "start_time": "2023-08-04T09:24:54.192Z"
   },
   {
    "duration": 10,
    "start_time": "2023-08-04T09:24:54.276Z"
   },
   {
    "duration": 18,
    "start_time": "2023-08-04T09:24:54.288Z"
   },
   {
    "duration": 30,
    "start_time": "2023-08-04T09:24:54.307Z"
   },
   {
    "duration": 975,
    "start_time": "2023-08-04T09:24:54.339Z"
   },
   {
    "duration": 4,
    "start_time": "2023-08-04T09:24:55.316Z"
   },
   {
    "duration": 512,
    "start_time": "2023-08-04T09:24:55.323Z"
   },
   {
    "duration": 13,
    "start_time": "2023-08-04T09:24:55.837Z"
   },
   {
    "duration": 135,
    "start_time": "2023-08-04T09:24:55.865Z"
   },
   {
    "duration": 239,
    "start_time": "2023-08-04T09:24:56.002Z"
   },
   {
    "duration": 265,
    "start_time": "2023-08-04T09:24:56.242Z"
   },
   {
    "duration": 12,
    "start_time": "2023-08-04T09:24:56.509Z"
   },
   {
    "duration": 68,
    "start_time": "2023-08-04T09:26:27.530Z"
   },
   {
    "duration": 13,
    "start_time": "2023-08-04T09:26:49.720Z"
   },
   {
    "duration": 12,
    "start_time": "2023-08-04T09:27:25.410Z"
   },
   {
    "duration": 248,
    "start_time": "2023-08-04T09:29:05.294Z"
   },
   {
    "duration": 37,
    "start_time": "2023-08-04T09:29:24.089Z"
   },
   {
    "duration": 23,
    "start_time": "2023-08-04T09:29:46.689Z"
   },
   {
    "duration": 38,
    "start_time": "2023-08-04T09:31:49.633Z"
   },
   {
    "duration": 44,
    "start_time": "2023-08-04T09:32:05.937Z"
   },
   {
    "duration": 19,
    "start_time": "2023-08-04T09:32:21.209Z"
   },
   {
    "duration": 25,
    "start_time": "2023-08-04T09:33:03.957Z"
   },
   {
    "duration": 23,
    "start_time": "2023-08-04T09:33:55.344Z"
   },
   {
    "duration": 29,
    "start_time": "2023-08-04T09:38:35.852Z"
   },
   {
    "duration": 17,
    "start_time": "2023-08-04T09:38:45.603Z"
   },
   {
    "duration": 20,
    "start_time": "2023-08-04T09:41:04.287Z"
   },
   {
    "duration": 18,
    "start_time": "2023-08-04T09:42:39.686Z"
   },
   {
    "duration": 20,
    "start_time": "2023-08-04T09:43:46.380Z"
   },
   {
    "duration": 18,
    "start_time": "2023-08-04T09:45:37.824Z"
   },
   {
    "duration": 41,
    "start_time": "2023-08-04T09:47:49.338Z"
   },
   {
    "duration": 11,
    "start_time": "2023-08-04T09:47:53.391Z"
   },
   {
    "duration": 8,
    "start_time": "2023-08-04T09:48:33.405Z"
   },
   {
    "duration": 14,
    "start_time": "2023-08-04T09:48:35.549Z"
   },
   {
    "duration": 30,
    "start_time": "2023-08-04T09:48:47.354Z"
   },
   {
    "duration": 23,
    "start_time": "2023-08-04T09:48:57.846Z"
   },
   {
    "duration": 1457,
    "start_time": "2023-08-04T09:49:31.144Z"
   },
   {
    "duration": 1387,
    "start_time": "2023-08-04T09:49:32.603Z"
   },
   {
    "duration": 31,
    "start_time": "2023-08-04T09:49:33.992Z"
   },
   {
    "duration": 65,
    "start_time": "2023-08-04T09:49:34.025Z"
   },
   {
    "duration": 7,
    "start_time": "2023-08-04T09:49:34.093Z"
   },
   {
    "duration": 13,
    "start_time": "2023-08-04T09:49:34.102Z"
   },
   {
    "duration": 11,
    "start_time": "2023-08-04T09:49:34.117Z"
   },
   {
    "duration": 11,
    "start_time": "2023-08-04T09:49:34.130Z"
   },
   {
    "duration": 35,
    "start_time": "2023-08-04T09:49:34.143Z"
   },
   {
    "duration": 14,
    "start_time": "2023-08-04T09:49:34.183Z"
   },
   {
    "duration": 10,
    "start_time": "2023-08-04T09:49:34.200Z"
   },
   {
    "duration": 21,
    "start_time": "2023-08-04T09:49:34.212Z"
   },
   {
    "duration": 52,
    "start_time": "2023-08-04T09:49:34.234Z"
   },
   {
    "duration": 8,
    "start_time": "2023-08-04T09:49:34.289Z"
   },
   {
    "duration": 11,
    "start_time": "2023-08-04T09:49:34.298Z"
   },
   {
    "duration": 31,
    "start_time": "2023-08-04T09:49:34.311Z"
   },
   {
    "duration": 27,
    "start_time": "2023-08-04T09:49:34.343Z"
   },
   {
    "duration": 12,
    "start_time": "2023-08-04T09:49:34.372Z"
   },
   {
    "duration": 19,
    "start_time": "2023-08-04T09:49:34.389Z"
   },
   {
    "duration": 1918,
    "start_time": "2023-08-04T09:49:34.409Z"
   },
   {
    "duration": 366,
    "start_time": "2023-08-04T09:49:36.329Z"
   },
   {
    "duration": 69,
    "start_time": "2023-08-04T09:49:36.698Z"
   },
   {
    "duration": 20,
    "start_time": "2023-08-04T09:49:36.770Z"
   },
   {
    "duration": 44,
    "start_time": "2023-08-04T09:49:36.792Z"
   },
   {
    "duration": 51,
    "start_time": "2023-08-04T09:49:36.839Z"
   },
   {
    "duration": 1018,
    "start_time": "2023-08-04T09:49:36.892Z"
   },
   {
    "duration": 78,
    "start_time": "2023-08-04T09:49:37.912Z"
   },
   {
    "duration": 21,
    "start_time": "2023-08-04T09:49:37.994Z"
   },
   {
    "duration": 11,
    "start_time": "2023-08-04T09:49:38.017Z"
   },
   {
    "duration": 56,
    "start_time": "2023-08-04T09:49:38.030Z"
   },
   {
    "duration": 715,
    "start_time": "2023-08-04T09:49:38.092Z"
   },
   {
    "duration": 314,
    "start_time": "2023-08-04T09:49:38.809Z"
   },
   {
    "duration": 304,
    "start_time": "2023-08-04T09:49:39.124Z"
   },
   {
    "duration": 15,
    "start_time": "2023-08-04T09:49:39.431Z"
   },
   {
    "duration": 1293,
    "start_time": "2023-08-04T10:08:40.612Z"
   },
   {
    "duration": 1187,
    "start_time": "2023-08-04T10:08:41.908Z"
   },
   {
    "duration": 22,
    "start_time": "2023-08-04T10:08:43.099Z"
   },
   {
    "duration": 28,
    "start_time": "2023-08-04T10:08:43.123Z"
   },
   {
    "duration": 19,
    "start_time": "2023-08-04T10:08:43.163Z"
   },
   {
    "duration": 35,
    "start_time": "2023-08-04T10:08:43.184Z"
   },
   {
    "duration": 17,
    "start_time": "2023-08-04T10:08:43.221Z"
   },
   {
    "duration": 12,
    "start_time": "2023-08-04T10:08:43.240Z"
   },
   {
    "duration": 30,
    "start_time": "2023-08-04T10:08:43.255Z"
   },
   {
    "duration": 27,
    "start_time": "2023-08-04T10:08:43.287Z"
   },
   {
    "duration": 10,
    "start_time": "2023-08-04T10:08:43.316Z"
   },
   {
    "duration": 21,
    "start_time": "2023-08-04T10:08:43.328Z"
   },
   {
    "duration": 19,
    "start_time": "2023-08-04T10:08:43.356Z"
   },
   {
    "duration": 8,
    "start_time": "2023-08-04T10:08:43.378Z"
   },
   {
    "duration": 15,
    "start_time": "2023-08-04T10:08:43.388Z"
   },
   {
    "duration": 42,
    "start_time": "2023-08-04T10:08:43.405Z"
   },
   {
    "duration": 24,
    "start_time": "2023-08-04T10:08:43.449Z"
   },
   {
    "duration": 13,
    "start_time": "2023-08-04T10:08:43.477Z"
   },
   {
    "duration": 26,
    "start_time": "2023-08-04T10:08:43.492Z"
   },
   {
    "duration": 1895,
    "start_time": "2023-08-04T10:08:43.520Z"
   },
   {
    "duration": 312,
    "start_time": "2023-08-04T10:08:45.417Z"
   },
   {
    "duration": 77,
    "start_time": "2023-08-04T10:08:45.732Z"
   },
   {
    "duration": 13,
    "start_time": "2023-08-04T10:08:45.811Z"
   },
   {
    "duration": 13,
    "start_time": "2023-08-04T10:08:45.826Z"
   },
   {
    "duration": 31,
    "start_time": "2023-08-04T10:08:45.841Z"
   },
   {
    "duration": 855,
    "start_time": "2023-08-04T10:08:45.874Z"
   },
   {
    "duration": 64,
    "start_time": "2023-08-04T10:08:46.734Z"
   },
   {
    "duration": 16,
    "start_time": "2023-08-04T10:08:46.800Z"
   },
   {
    "duration": 628,
    "start_time": "2023-08-04T10:08:46.818Z"
   },
   {
    "duration": 238,
    "start_time": "2023-08-04T10:08:47.456Z"
   },
   {
    "duration": 245,
    "start_time": "2023-08-04T10:08:47.696Z"
   },
   {
    "duration": 13,
    "start_time": "2023-08-04T10:08:47.943Z"
   },
   {
    "duration": 23,
    "start_time": "2023-08-04T10:08:47.959Z"
   },
   {
    "duration": 21,
    "start_time": "2023-08-04T10:10:26.136Z"
   },
   {
    "duration": 31,
    "start_time": "2023-08-04T10:10:30.233Z"
   },
   {
    "duration": 28,
    "start_time": "2023-08-04T10:12:33.533Z"
   },
   {
    "duration": 8,
    "start_time": "2023-08-04T10:14:25.228Z"
   },
   {
    "duration": 12,
    "start_time": "2023-08-04T10:14:33.610Z"
   },
   {
    "duration": 19,
    "start_time": "2023-08-04T10:56:28.824Z"
   },
   {
    "duration": 4,
    "start_time": "2023-08-04T11:04:22.698Z"
   },
   {
    "duration": 23,
    "start_time": "2023-08-04T11:05:01.286Z"
   },
   {
    "duration": 3,
    "start_time": "2023-08-04T11:07:04.743Z"
   },
   {
    "duration": 15,
    "start_time": "2023-08-04T11:07:05.398Z"
   },
   {
    "duration": 16,
    "start_time": "2023-08-04T11:11:10.408Z"
   },
   {
    "duration": 180,
    "start_time": "2023-08-04T11:17:26.447Z"
   },
   {
    "duration": 23,
    "start_time": "2023-08-04T11:17:46.526Z"
   },
   {
    "duration": 24,
    "start_time": "2023-08-04T11:19:09.738Z"
   },
   {
    "duration": 24,
    "start_time": "2023-08-04T11:19:16.559Z"
   },
   {
    "duration": 15,
    "start_time": "2023-08-04T11:23:38.582Z"
   },
   {
    "duration": 171,
    "start_time": "2023-08-04T11:24:15.208Z"
   },
   {
    "duration": 180,
    "start_time": "2023-08-04T11:24:35.242Z"
   },
   {
    "duration": 25,
    "start_time": "2023-08-04T11:24:52.783Z"
   },
   {
    "duration": 15,
    "start_time": "2023-08-04T11:25:04.616Z"
   },
   {
    "duration": 16,
    "start_time": "2023-08-04T11:25:14.220Z"
   },
   {
    "duration": 14,
    "start_time": "2023-08-04T11:25:18.739Z"
   },
   {
    "duration": 16,
    "start_time": "2023-08-04T11:25:39.800Z"
   },
   {
    "duration": 21,
    "start_time": "2023-08-04T11:25:44.729Z"
   },
   {
    "duration": 31,
    "start_time": "2023-08-04T11:27:36.216Z"
   },
   {
    "duration": 36,
    "start_time": "2023-08-04T11:28:03.751Z"
   },
   {
    "duration": 52,
    "start_time": "2023-08-04T11:28:35.475Z"
   },
   {
    "duration": 46,
    "start_time": "2023-08-04T11:28:50.272Z"
   },
   {
    "duration": 50,
    "start_time": "2023-08-04T11:30:18.126Z"
   },
   {
    "duration": 196,
    "start_time": "2023-08-04T11:47:52.646Z"
   },
   {
    "duration": 217,
    "start_time": "2023-08-04T11:48:02.994Z"
   },
   {
    "duration": 24,
    "start_time": "2023-08-04T11:48:12.569Z"
   },
   {
    "duration": 31,
    "start_time": "2023-08-04T12:01:56.975Z"
   },
   {
    "duration": 21,
    "start_time": "2023-08-04T12:03:05.182Z"
   },
   {
    "duration": 24,
    "start_time": "2023-08-04T12:03:12.678Z"
   },
   {
    "duration": 25,
    "start_time": "2023-08-04T12:04:10.438Z"
   },
   {
    "duration": 20,
    "start_time": "2023-08-04T12:55:00.998Z"
   },
   {
    "duration": 1564,
    "start_time": "2023-08-04T12:55:47.323Z"
   },
   {
    "duration": 1481,
    "start_time": "2023-08-04T12:57:20.898Z"
   },
   {
    "duration": 4,
    "start_time": "2023-08-04T12:57:26.243Z"
   },
   {
    "duration": 6,
    "start_time": "2023-08-04T12:58:14.006Z"
   },
   {
    "duration": 10,
    "start_time": "2023-08-04T12:58:28.244Z"
   },
   {
    "duration": 1406,
    "start_time": "2023-08-04T12:58:36.747Z"
   },
   {
    "duration": 6,
    "start_time": "2023-08-04T12:58:45.730Z"
   },
   {
    "duration": 15,
    "start_time": "2023-08-04T12:58:47.386Z"
   },
   {
    "duration": 22,
    "start_time": "2023-08-04T13:05:25.456Z"
   },
   {
    "duration": 13,
    "start_time": "2023-08-04T13:05:28.640Z"
   },
   {
    "duration": 10,
    "start_time": "2023-08-04T13:05:37.501Z"
   },
   {
    "duration": 25,
    "start_time": "2023-08-04T13:05:43.021Z"
   },
   {
    "duration": 24,
    "start_time": "2023-08-04T13:05:48.348Z"
   },
   {
    "duration": 32,
    "start_time": "2023-08-04T13:06:19.070Z"
   },
   {
    "duration": 14,
    "start_time": "2023-08-04T13:07:56.915Z"
   },
   {
    "duration": 1606,
    "start_time": "2023-08-04T13:11:40.931Z"
   },
   {
    "duration": 6,
    "start_time": "2023-08-04T13:12:39.178Z"
   },
   {
    "duration": 3,
    "start_time": "2023-08-04T13:12:46.428Z"
   },
   {
    "duration": 5,
    "start_time": "2023-08-04T13:13:02.584Z"
   },
   {
    "duration": 1374,
    "start_time": "2023-08-04T13:13:12.838Z"
   },
   {
    "duration": 1595,
    "start_time": "2023-08-04T13:13:14.214Z"
   },
   {
    "duration": 22,
    "start_time": "2023-08-04T13:13:15.811Z"
   },
   {
    "duration": 25,
    "start_time": "2023-08-04T13:13:15.835Z"
   },
   {
    "duration": 11,
    "start_time": "2023-08-04T13:13:15.866Z"
   },
   {
    "duration": 18,
    "start_time": "2023-08-04T13:13:15.880Z"
   },
   {
    "duration": 13,
    "start_time": "2023-08-04T13:13:15.900Z"
   },
   {
    "duration": 13,
    "start_time": "2023-08-04T13:13:15.915Z"
   },
   {
    "duration": 48,
    "start_time": "2023-08-04T13:13:15.930Z"
   },
   {
    "duration": 12,
    "start_time": "2023-08-04T13:13:15.982Z"
   },
   {
    "duration": 10,
    "start_time": "2023-08-04T13:13:15.995Z"
   },
   {
    "duration": 25,
    "start_time": "2023-08-04T13:13:16.006Z"
   },
   {
    "duration": 9,
    "start_time": "2023-08-04T13:13:16.032Z"
   },
   {
    "duration": 12,
    "start_time": "2023-08-04T13:13:16.057Z"
   },
   {
    "duration": 11,
    "start_time": "2023-08-04T13:13:16.072Z"
   },
   {
    "duration": 23,
    "start_time": "2023-08-04T13:13:16.085Z"
   },
   {
    "duration": 19,
    "start_time": "2023-08-04T13:13:16.110Z"
   },
   {
    "duration": 11,
    "start_time": "2023-08-04T13:13:16.131Z"
   },
   {
    "duration": 42,
    "start_time": "2023-08-04T13:13:16.144Z"
   },
   {
    "duration": 1948,
    "start_time": "2023-08-04T13:13:16.188Z"
   },
   {
    "duration": 380,
    "start_time": "2023-08-04T13:13:18.139Z"
   },
   {
    "duration": 81,
    "start_time": "2023-08-04T13:13:18.521Z"
   },
   {
    "duration": 8,
    "start_time": "2023-08-04T13:13:18.605Z"
   },
   {
    "duration": 13,
    "start_time": "2023-08-04T13:13:18.615Z"
   },
   {
    "duration": 37,
    "start_time": "2023-08-04T13:13:18.630Z"
   },
   {
    "duration": 1142,
    "start_time": "2023-08-04T13:13:18.669Z"
   },
   {
    "duration": 80,
    "start_time": "2023-08-04T13:13:19.813Z"
   },
   {
    "duration": 15,
    "start_time": "2023-08-04T13:13:19.897Z"
   },
   {
    "duration": 732,
    "start_time": "2023-08-04T13:13:19.914Z"
   },
   {
    "duration": 265,
    "start_time": "2023-08-04T13:13:20.648Z"
   },
   {
    "duration": 25,
    "start_time": "2023-08-04T13:13:20.915Z"
   },
   {
    "duration": 48,
    "start_time": "2023-08-04T13:13:20.942Z"
   },
   {
    "duration": 4,
    "start_time": "2023-08-04T13:13:20.993Z"
   },
   {
    "duration": 0,
    "start_time": "2023-08-04T13:13:20.999Z"
   },
   {
    "duration": 0,
    "start_time": "2023-08-04T13:13:21.001Z"
   },
   {
    "duration": 0,
    "start_time": "2023-08-04T13:13:21.002Z"
   },
   {
    "duration": 0,
    "start_time": "2023-08-04T13:13:21.004Z"
   },
   {
    "duration": 0,
    "start_time": "2023-08-04T13:13:21.006Z"
   },
   {
    "duration": 0,
    "start_time": "2023-08-04T13:13:21.008Z"
   },
   {
    "duration": 0,
    "start_time": "2023-08-04T13:13:21.009Z"
   },
   {
    "duration": 0,
    "start_time": "2023-08-04T13:13:21.012Z"
   },
   {
    "duration": 5,
    "start_time": "2023-08-04T13:13:38.889Z"
   },
   {
    "duration": 21,
    "start_time": "2023-08-04T13:13:39.842Z"
   },
   {
    "duration": 62,
    "start_time": "2023-08-04T13:13:41.339Z"
   },
   {
    "duration": 21,
    "start_time": "2023-08-04T13:13:44.410Z"
   },
   {
    "duration": 16,
    "start_time": "2023-08-04T13:13:45.231Z"
   },
   {
    "duration": 4,
    "start_time": "2023-08-04T13:13:50.839Z"
   },
   {
    "duration": 15,
    "start_time": "2023-08-04T13:13:53.521Z"
   },
   {
    "duration": 1471,
    "start_time": "2023-08-04T13:14:02.526Z"
   },
   {
    "duration": 1495,
    "start_time": "2023-08-04T13:14:03.999Z"
   },
   {
    "duration": 23,
    "start_time": "2023-08-04T13:14:05.495Z"
   },
   {
    "duration": 54,
    "start_time": "2023-08-04T13:14:05.520Z"
   },
   {
    "duration": 7,
    "start_time": "2023-08-04T13:14:05.582Z"
   },
   {
    "duration": 67,
    "start_time": "2023-08-04T13:14:05.591Z"
   },
   {
    "duration": 19,
    "start_time": "2023-08-04T13:14:05.661Z"
   },
   {
    "duration": 23,
    "start_time": "2023-08-04T13:14:05.682Z"
   },
   {
    "duration": 20,
    "start_time": "2023-08-04T13:14:05.706Z"
   },
   {
    "duration": 26,
    "start_time": "2023-08-04T13:14:05.729Z"
   },
   {
    "duration": 27,
    "start_time": "2023-08-04T13:14:05.760Z"
   },
   {
    "duration": 54,
    "start_time": "2023-08-04T13:14:05.789Z"
   },
   {
    "duration": 30,
    "start_time": "2023-08-04T13:14:05.846Z"
   },
   {
    "duration": 9,
    "start_time": "2023-08-04T13:14:05.879Z"
   },
   {
    "duration": 12,
    "start_time": "2023-08-04T13:14:05.890Z"
   },
   {
    "duration": 61,
    "start_time": "2023-08-04T13:14:05.904Z"
   },
   {
    "duration": 28,
    "start_time": "2023-08-04T13:14:05.968Z"
   },
   {
    "duration": 25,
    "start_time": "2023-08-04T13:14:05.998Z"
   },
   {
    "duration": 41,
    "start_time": "2023-08-04T13:14:06.025Z"
   },
   {
    "duration": 2107,
    "start_time": "2023-08-04T13:14:06.068Z"
   },
   {
    "duration": 347,
    "start_time": "2023-08-04T13:14:08.178Z"
   },
   {
    "duration": 77,
    "start_time": "2023-08-04T13:14:08.527Z"
   },
   {
    "duration": 6,
    "start_time": "2023-08-04T13:14:08.607Z"
   },
   {
    "duration": 15,
    "start_time": "2023-08-04T13:14:08.615Z"
   },
   {
    "duration": 49,
    "start_time": "2023-08-04T13:14:08.632Z"
   },
   {
    "duration": 1073,
    "start_time": "2023-08-04T13:14:08.684Z"
   },
   {
    "duration": 65,
    "start_time": "2023-08-04T13:14:09.761Z"
   },
   {
    "duration": 31,
    "start_time": "2023-08-04T13:14:09.829Z"
   },
   {
    "duration": 683,
    "start_time": "2023-08-04T13:14:09.863Z"
   },
   {
    "duration": 239,
    "start_time": "2023-08-04T13:14:10.547Z"
   },
   {
    "duration": 27,
    "start_time": "2023-08-04T13:14:10.789Z"
   },
   {
    "duration": 14,
    "start_time": "2023-08-04T13:14:10.818Z"
   },
   {
    "duration": 35,
    "start_time": "2023-08-04T13:14:10.834Z"
   },
   {
    "duration": 25,
    "start_time": "2023-08-04T13:14:10.872Z"
   },
   {
    "duration": 46,
    "start_time": "2023-08-04T13:14:10.899Z"
   },
   {
    "duration": 42,
    "start_time": "2023-08-04T13:14:10.947Z"
   },
   {
    "duration": 14,
    "start_time": "2023-08-04T13:14:10.990Z"
   },
   {
    "duration": 59,
    "start_time": "2023-08-04T13:14:11.005Z"
   },
   {
    "duration": 24,
    "start_time": "2023-08-04T13:14:11.067Z"
   },
   {
    "duration": 26,
    "start_time": "2023-08-04T13:14:11.093Z"
   },
   {
    "duration": 276,
    "start_time": "2023-08-04T13:14:11.122Z"
   },
   {
    "duration": 58,
    "start_time": "2023-08-04T13:15:18.982Z"
   },
   {
    "duration": 16,
    "start_time": "2023-08-04T13:16:14.943Z"
   },
   {
    "duration": 16,
    "start_time": "2023-08-04T13:16:27.332Z"
   },
   {
    "duration": 21,
    "start_time": "2023-08-04T13:16:43.981Z"
   },
   {
    "duration": 1333,
    "start_time": "2023-08-04T13:16:49.424Z"
   },
   {
    "duration": 1047,
    "start_time": "2023-08-04T13:16:50.762Z"
   },
   {
    "duration": 23,
    "start_time": "2023-08-04T13:16:51.811Z"
   },
   {
    "duration": 23,
    "start_time": "2023-08-04T13:16:51.836Z"
   },
   {
    "duration": 23,
    "start_time": "2023-08-04T13:16:51.862Z"
   },
   {
    "duration": 20,
    "start_time": "2023-08-04T13:16:51.888Z"
   },
   {
    "duration": 23,
    "start_time": "2023-08-04T13:16:51.910Z"
   },
   {
    "duration": 11,
    "start_time": "2023-08-04T13:16:51.935Z"
   },
   {
    "duration": 14,
    "start_time": "2023-08-04T13:16:51.948Z"
   },
   {
    "duration": 19,
    "start_time": "2023-08-04T13:16:51.967Z"
   },
   {
    "duration": 13,
    "start_time": "2023-08-04T13:16:51.988Z"
   },
   {
    "duration": 55,
    "start_time": "2023-08-04T13:16:52.003Z"
   },
   {
    "duration": 21,
    "start_time": "2023-08-04T13:16:52.061Z"
   },
   {
    "duration": 9,
    "start_time": "2023-08-04T13:16:52.084Z"
   },
   {
    "duration": 26,
    "start_time": "2023-08-04T13:16:52.095Z"
   },
   {
    "duration": 45,
    "start_time": "2023-08-04T13:16:52.123Z"
   },
   {
    "duration": 16,
    "start_time": "2023-08-04T13:16:52.170Z"
   },
   {
    "duration": 6,
    "start_time": "2023-08-04T13:16:52.189Z"
   },
   {
    "duration": 16,
    "start_time": "2023-08-04T13:16:52.197Z"
   },
   {
    "duration": 1922,
    "start_time": "2023-08-04T13:16:52.215Z"
   },
   {
    "duration": 348,
    "start_time": "2023-08-04T13:16:54.139Z"
   },
   {
    "duration": 81,
    "start_time": "2023-08-04T13:16:54.489Z"
   },
   {
    "duration": 6,
    "start_time": "2023-08-04T13:16:54.573Z"
   },
   {
    "duration": 12,
    "start_time": "2023-08-04T13:16:54.581Z"
   },
   {
    "duration": 21,
    "start_time": "2023-08-04T13:16:54.595Z"
   },
   {
    "duration": 972,
    "start_time": "2023-08-04T13:16:54.617Z"
   },
   {
    "duration": 66,
    "start_time": "2023-08-04T13:16:55.591Z"
   },
   {
    "duration": 18,
    "start_time": "2023-08-04T13:16:55.663Z"
   },
   {
    "duration": 558,
    "start_time": "2023-08-04T13:16:55.683Z"
   },
   {
    "duration": 222,
    "start_time": "2023-08-04T13:16:56.243Z"
   },
   {
    "duration": 29,
    "start_time": "2023-08-04T13:16:56.467Z"
   },
   {
    "duration": 13,
    "start_time": "2023-08-04T13:16:56.497Z"
   },
   {
    "duration": 18,
    "start_time": "2023-08-04T13:16:56.512Z"
   },
   {
    "duration": 46,
    "start_time": "2023-08-04T13:16:56.532Z"
   },
   {
    "duration": 46,
    "start_time": "2023-08-04T13:16:56.580Z"
   },
   {
    "duration": 38,
    "start_time": "2023-08-04T13:16:56.628Z"
   },
   {
    "duration": 13,
    "start_time": "2023-08-04T13:16:56.669Z"
   },
   {
    "duration": 15,
    "start_time": "2023-08-04T13:16:56.684Z"
   },
   {
    "duration": 15,
    "start_time": "2023-08-04T13:16:56.700Z"
   },
   {
    "duration": 194,
    "start_time": "2023-08-04T13:16:56.717Z"
   },
   {
    "duration": 0,
    "start_time": "2023-08-04T13:16:56.913Z"
   },
   {
    "duration": 0,
    "start_time": "2023-08-04T13:16:56.914Z"
   },
   {
    "duration": 74,
    "start_time": "2023-08-04T13:18:09.834Z"
   },
   {
    "duration": 65,
    "start_time": "2023-08-04T13:19:02.030Z"
   },
   {
    "duration": 58,
    "start_time": "2023-08-04T13:19:33.613Z"
   },
   {
    "duration": 76,
    "start_time": "2023-08-04T13:21:01.226Z"
   },
   {
    "duration": 23,
    "start_time": "2023-08-04T13:21:12.491Z"
   },
   {
    "duration": 24,
    "start_time": "2023-08-04T13:21:32.700Z"
   },
   {
    "duration": 6,
    "start_time": "2023-08-04T13:23:12.441Z"
   },
   {
    "duration": 26,
    "start_time": "2023-08-04T13:23:26.174Z"
   },
   {
    "duration": 9147,
    "start_time": "2023-08-04T13:23:32.705Z"
   },
   {
    "duration": 38,
    "start_time": "2023-08-04T13:23:54.744Z"
   },
   {
    "duration": 1282,
    "start_time": "2023-08-04T13:23:59.491Z"
   },
   {
    "duration": 1499,
    "start_time": "2023-08-04T13:24:14.926Z"
   },
   {
    "duration": 1213,
    "start_time": "2023-08-04T13:24:16.427Z"
   },
   {
    "duration": 41,
    "start_time": "2023-08-04T13:24:17.642Z"
   },
   {
    "duration": 24,
    "start_time": "2023-08-04T13:24:17.686Z"
   },
   {
    "duration": 27,
    "start_time": "2023-08-04T13:24:17.712Z"
   },
   {
    "duration": 21,
    "start_time": "2023-08-04T13:24:17.752Z"
   },
   {
    "duration": 59,
    "start_time": "2023-08-04T13:24:17.775Z"
   },
   {
    "duration": 32,
    "start_time": "2023-08-04T13:24:17.836Z"
   },
   {
    "duration": 20,
    "start_time": "2023-08-04T13:24:17.875Z"
   },
   {
    "duration": 17,
    "start_time": "2023-08-04T13:24:17.899Z"
   },
   {
    "duration": 41,
    "start_time": "2023-08-04T13:24:17.918Z"
   },
   {
    "duration": 33,
    "start_time": "2023-08-04T13:24:17.961Z"
   },
   {
    "duration": 13,
    "start_time": "2023-08-04T13:24:17.997Z"
   },
   {
    "duration": 10,
    "start_time": "2023-08-04T13:24:18.013Z"
   },
   {
    "duration": 45,
    "start_time": "2023-08-04T13:24:18.025Z"
   },
   {
    "duration": 38,
    "start_time": "2023-08-04T13:24:18.073Z"
   },
   {
    "duration": 13,
    "start_time": "2023-08-04T13:24:18.114Z"
   },
   {
    "duration": 14,
    "start_time": "2023-08-04T13:24:18.130Z"
   },
   {
    "duration": 43,
    "start_time": "2023-08-04T13:24:18.146Z"
   },
   {
    "duration": 2124,
    "start_time": "2023-08-04T13:24:18.191Z"
   },
   {
    "duration": 362,
    "start_time": "2023-08-04T13:24:20.317Z"
   },
   {
    "duration": 102,
    "start_time": "2023-08-04T13:24:20.683Z"
   },
   {
    "duration": 7,
    "start_time": "2023-08-04T13:24:20.788Z"
   },
   {
    "duration": 27,
    "start_time": "2023-08-04T13:24:20.797Z"
   },
   {
    "duration": 21,
    "start_time": "2023-08-04T13:24:20.826Z"
   },
   {
    "duration": 1011,
    "start_time": "2023-08-04T13:24:20.850Z"
   },
   {
    "duration": 67,
    "start_time": "2023-08-04T13:24:21.863Z"
   },
   {
    "duration": 45,
    "start_time": "2023-08-04T13:24:21.933Z"
   },
   {
    "duration": 663,
    "start_time": "2023-08-04T13:24:21.981Z"
   },
   {
    "duration": 263,
    "start_time": "2023-08-04T13:24:22.647Z"
   },
   {
    "duration": 52,
    "start_time": "2023-08-04T13:24:22.912Z"
   },
   {
    "duration": 40,
    "start_time": "2023-08-04T13:24:22.968Z"
   },
   {
    "duration": 24,
    "start_time": "2023-08-04T13:24:23.010Z"
   },
   {
    "duration": 28,
    "start_time": "2023-08-04T13:24:23.037Z"
   },
   {
    "duration": 53,
    "start_time": "2023-08-04T13:24:23.074Z"
   },
   {
    "duration": 38,
    "start_time": "2023-08-04T13:24:23.130Z"
   },
   {
    "duration": 15,
    "start_time": "2023-08-04T13:24:23.171Z"
   },
   {
    "duration": 14,
    "start_time": "2023-08-04T13:24:23.188Z"
   },
   {
    "duration": 11,
    "start_time": "2023-08-04T13:24:23.203Z"
   },
   {
    "duration": 26,
    "start_time": "2023-08-04T13:24:23.217Z"
   },
   {
    "duration": 44,
    "start_time": "2023-08-04T13:24:23.260Z"
   },
   {
    "duration": 296,
    "start_time": "2023-08-04T13:24:23.306Z"
   },
   {
    "duration": 6,
    "start_time": "2023-08-04T13:24:59.216Z"
   },
   {
    "duration": 7,
    "start_time": "2023-08-04T13:25:03.129Z"
   },
   {
    "duration": 30,
    "start_time": "2023-08-04T13:27:55.358Z"
   },
   {
    "duration": 17,
    "start_time": "2023-08-04T13:28:31.428Z"
   },
   {
    "duration": 32,
    "start_time": "2023-08-04T13:28:57.064Z"
   },
   {
    "duration": 14,
    "start_time": "2023-08-04T13:29:58.278Z"
   },
   {
    "duration": 184,
    "start_time": "2023-08-04T13:31:36.004Z"
   },
   {
    "duration": 29,
    "start_time": "2023-08-04T13:32:02.053Z"
   },
   {
    "duration": 8,
    "start_time": "2023-08-04T13:32:10.273Z"
   },
   {
    "duration": 9,
    "start_time": "2023-08-04T13:32:15.544Z"
   },
   {
    "duration": 12,
    "start_time": "2023-08-04T13:34:07.322Z"
   },
   {
    "duration": 18,
    "start_time": "2023-08-04T13:34:12.025Z"
   },
   {
    "duration": 25,
    "start_time": "2023-08-04T13:42:40.943Z"
   },
   {
    "duration": 12,
    "start_time": "2023-08-04T13:44:22.831Z"
   },
   {
    "duration": 22,
    "start_time": "2023-08-04T13:47:45.586Z"
   },
   {
    "duration": 21,
    "start_time": "2023-08-04T13:48:53.192Z"
   },
   {
    "duration": 74,
    "start_time": "2023-08-04T13:57:10.829Z"
   },
   {
    "duration": 3,
    "start_time": "2023-08-04T13:57:17.547Z"
   },
   {
    "duration": 34,
    "start_time": "2023-08-04T13:57:44.107Z"
   },
   {
    "duration": 1242,
    "start_time": "2023-08-04T13:58:29.566Z"
   },
   {
    "duration": 31,
    "start_time": "2023-08-04T13:58:47.293Z"
   },
   {
    "duration": 4,
    "start_time": "2023-08-04T13:59:58.170Z"
   },
   {
    "duration": 35,
    "start_time": "2023-08-04T13:59:59.590Z"
   },
   {
    "duration": 15,
    "start_time": "2023-08-04T14:00:03.118Z"
   },
   {
    "duration": 3,
    "start_time": "2023-08-04T14:00:17.603Z"
   },
   {
    "duration": 51,
    "start_time": "2023-08-04T14:00:18.735Z"
   },
   {
    "duration": 5,
    "start_time": "2023-08-04T14:00:38.516Z"
   },
   {
    "duration": 36,
    "start_time": "2023-08-04T14:00:40.419Z"
   },
   {
    "duration": 19,
    "start_time": "2023-08-04T14:00:40.972Z"
   },
   {
    "duration": 12,
    "start_time": "2023-08-04T14:01:41.809Z"
   },
   {
    "duration": 4,
    "start_time": "2023-08-04T14:02:02.540Z"
   },
   {
    "duration": 69,
    "start_time": "2023-08-04T14:02:03.041Z"
   },
   {
    "duration": 14,
    "start_time": "2023-08-04T14:02:03.806Z"
   },
   {
    "duration": 71,
    "start_time": "2023-08-04T14:02:37.503Z"
   },
   {
    "duration": 21,
    "start_time": "2023-08-04T14:02:42.288Z"
   },
   {
    "duration": 5,
    "start_time": "2023-08-04T14:03:23.209Z"
   },
   {
    "duration": 58,
    "start_time": "2023-08-04T14:03:23.662Z"
   },
   {
    "duration": 22,
    "start_time": "2023-08-04T14:03:24.220Z"
   },
   {
    "duration": 3,
    "start_time": "2023-08-04T14:03:49.843Z"
   },
   {
    "duration": 69,
    "start_time": "2023-08-04T14:03:50.526Z"
   },
   {
    "duration": 22,
    "start_time": "2023-08-04T14:03:51.052Z"
   },
   {
    "duration": 21,
    "start_time": "2023-08-04T14:04:38.285Z"
   },
   {
    "duration": 56,
    "start_time": "2023-08-04T14:05:06.681Z"
   },
   {
    "duration": 18,
    "start_time": "2023-08-04T14:05:07.337Z"
   },
   {
    "duration": 1399,
    "start_time": "2023-08-04T14:05:17.213Z"
   },
   {
    "duration": 1414,
    "start_time": "2023-08-04T14:05:18.614Z"
   },
   {
    "duration": 46,
    "start_time": "2023-08-04T14:05:20.031Z"
   },
   {
    "duration": 35,
    "start_time": "2023-08-04T14:05:20.082Z"
   },
   {
    "duration": 6,
    "start_time": "2023-08-04T14:05:20.119Z"
   },
   {
    "duration": 36,
    "start_time": "2023-08-04T14:05:20.127Z"
   },
   {
    "duration": 18,
    "start_time": "2023-08-04T14:05:20.169Z"
   },
   {
    "duration": 15,
    "start_time": "2023-08-04T14:05:20.189Z"
   },
   {
    "duration": 15,
    "start_time": "2023-08-04T14:05:20.206Z"
   },
   {
    "duration": 34,
    "start_time": "2023-08-04T14:05:20.224Z"
   },
   {
    "duration": 15,
    "start_time": "2023-08-04T14:05:20.261Z"
   },
   {
    "duration": 22,
    "start_time": "2023-08-04T14:05:20.278Z"
   },
   {
    "duration": 15,
    "start_time": "2023-08-04T14:05:20.302Z"
   },
   {
    "duration": 47,
    "start_time": "2023-08-04T14:05:20.318Z"
   },
   {
    "duration": 14,
    "start_time": "2023-08-04T14:05:20.367Z"
   },
   {
    "duration": 30,
    "start_time": "2023-08-04T14:05:20.383Z"
   },
   {
    "duration": 13,
    "start_time": "2023-08-04T14:05:20.415Z"
   },
   {
    "duration": 8,
    "start_time": "2023-08-04T14:05:20.430Z"
   },
   {
    "duration": 28,
    "start_time": "2023-08-04T14:05:20.469Z"
   },
   {
    "duration": 2125,
    "start_time": "2023-08-04T14:05:20.499Z"
   },
   {
    "duration": 350,
    "start_time": "2023-08-04T14:05:22.626Z"
   },
   {
    "duration": 85,
    "start_time": "2023-08-04T14:05:22.980Z"
   },
   {
    "duration": 9,
    "start_time": "2023-08-04T14:05:23.067Z"
   },
   {
    "duration": 9,
    "start_time": "2023-08-04T14:05:23.078Z"
   },
   {
    "duration": 27,
    "start_time": "2023-08-04T14:05:23.089Z"
   },
   {
    "duration": 1048,
    "start_time": "2023-08-04T14:05:23.119Z"
   },
   {
    "duration": 72,
    "start_time": "2023-08-04T14:05:24.169Z"
   },
   {
    "duration": 26,
    "start_time": "2023-08-04T14:05:24.263Z"
   },
   {
    "duration": 689,
    "start_time": "2023-08-04T14:05:24.292Z"
   },
   {
    "duration": 251,
    "start_time": "2023-08-04T14:05:24.983Z"
   },
   {
    "duration": 54,
    "start_time": "2023-08-04T14:05:25.237Z"
   },
   {
    "duration": 7,
    "start_time": "2023-08-04T14:05:25.292Z"
   },
   {
    "duration": 143,
    "start_time": "2023-08-04T14:05:25.301Z"
   },
   {
    "duration": 28,
    "start_time": "2023-08-04T14:05:25.446Z"
   },
   {
    "duration": 57,
    "start_time": "2023-08-04T14:05:25.477Z"
   },
   {
    "duration": 28,
    "start_time": "2023-08-04T14:05:25.536Z"
   },
   {
    "duration": 12,
    "start_time": "2023-08-04T14:05:25.566Z"
   },
   {
    "duration": 12,
    "start_time": "2023-08-04T14:05:25.580Z"
   },
   {
    "duration": 27,
    "start_time": "2023-08-04T14:05:25.594Z"
   },
   {
    "duration": 42,
    "start_time": "2023-08-04T14:05:25.623Z"
   },
   {
    "duration": 46,
    "start_time": "2023-08-04T14:05:25.669Z"
   },
   {
    "duration": 21,
    "start_time": "2023-08-04T14:05:25.717Z"
   },
   {
    "duration": 44,
    "start_time": "2023-08-04T14:05:25.741Z"
   },
   {
    "duration": 5,
    "start_time": "2023-08-04T14:05:25.788Z"
   },
   {
    "duration": 73,
    "start_time": "2023-08-04T14:05:25.795Z"
   },
   {
    "duration": 21,
    "start_time": "2023-08-04T14:05:25.872Z"
   },
   {
    "duration": 304,
    "start_time": "2023-08-04T14:05:25.896Z"
   },
   {
    "duration": 110,
    "start_time": "2023-08-04T14:06:50.603Z"
   },
   {
    "duration": 188,
    "start_time": "2023-08-04T14:11:14.999Z"
   },
   {
    "duration": 22,
    "start_time": "2023-08-04T14:11:20.752Z"
   },
   {
    "duration": 16,
    "start_time": "2023-08-04T14:11:29.693Z"
   },
   {
    "duration": 281,
    "start_time": "2023-08-04T14:11:52.390Z"
   },
   {
    "duration": 15,
    "start_time": "2023-08-04T14:12:15.994Z"
   },
   {
    "duration": 292,
    "start_time": "2023-08-04T14:14:13.186Z"
   },
   {
    "duration": 16,
    "start_time": "2023-08-04T14:17:30.829Z"
   },
   {
    "duration": 14,
    "start_time": "2023-08-04T14:17:33.734Z"
   },
   {
    "duration": 248,
    "start_time": "2023-08-04T14:17:34.123Z"
   },
   {
    "duration": 419,
    "start_time": "2023-08-04T14:20:52.407Z"
   },
   {
    "duration": 21,
    "start_time": "2023-08-04T14:22:45.713Z"
   },
   {
    "duration": 26,
    "start_time": "2023-08-04T14:23:53.473Z"
   },
   {
    "duration": 16,
    "start_time": "2023-08-04T14:23:58.685Z"
   },
   {
    "duration": 335,
    "start_time": "2023-08-04T14:23:58.905Z"
   },
   {
    "duration": 285,
    "start_time": "2023-08-04T14:24:10.232Z"
   },
   {
    "duration": 275,
    "start_time": "2023-08-04T14:24:19.838Z"
   },
   {
    "duration": 281,
    "start_time": "2023-08-04T14:24:35.328Z"
   },
   {
    "duration": 576,
    "start_time": "2023-08-04T14:25:28.239Z"
   },
   {
    "duration": 811,
    "start_time": "2023-08-04T14:25:42.134Z"
   },
   {
    "duration": 864,
    "start_time": "2023-08-04T14:26:03.056Z"
   },
   {
    "duration": 35,
    "start_time": "2023-08-04T14:26:38.572Z"
   },
   {
    "duration": 34,
    "start_time": "2023-08-04T14:27:40.613Z"
   },
   {
    "duration": 1280,
    "start_time": "2023-08-04T14:27:41.237Z"
   },
   {
    "duration": 1120,
    "start_time": "2023-08-04T14:28:15.219Z"
   },
   {
    "duration": 1269,
    "start_time": "2023-08-04T14:33:38.741Z"
   },
   {
    "duration": 1544,
    "start_time": "2023-08-04T14:34:20.136Z"
   },
   {
    "duration": 1512,
    "start_time": "2023-08-04T14:34:21.693Z"
   },
   {
    "duration": 33,
    "start_time": "2023-08-04T14:34:23.208Z"
   },
   {
    "duration": 39,
    "start_time": "2023-08-04T14:34:23.243Z"
   },
   {
    "duration": 13,
    "start_time": "2023-08-04T14:34:23.284Z"
   },
   {
    "duration": 17,
    "start_time": "2023-08-04T14:34:23.299Z"
   },
   {
    "duration": 17,
    "start_time": "2023-08-04T14:34:23.323Z"
   },
   {
    "duration": 51,
    "start_time": "2023-08-04T14:34:23.342Z"
   },
   {
    "duration": 18,
    "start_time": "2023-08-04T14:34:23.398Z"
   },
   {
    "duration": 16,
    "start_time": "2023-08-04T14:34:23.420Z"
   },
   {
    "duration": 23,
    "start_time": "2023-08-04T14:34:23.438Z"
   },
   {
    "duration": 36,
    "start_time": "2023-08-04T14:34:23.463Z"
   },
   {
    "duration": 13,
    "start_time": "2023-08-04T14:34:23.509Z"
   },
   {
    "duration": 8,
    "start_time": "2023-08-04T14:34:23.524Z"
   },
   {
    "duration": 39,
    "start_time": "2023-08-04T14:34:23.533Z"
   },
   {
    "duration": 30,
    "start_time": "2023-08-04T14:34:23.583Z"
   },
   {
    "duration": 12,
    "start_time": "2023-08-04T14:34:23.615Z"
   },
   {
    "duration": 8,
    "start_time": "2023-08-04T14:34:23.629Z"
   },
   {
    "duration": 35,
    "start_time": "2023-08-04T14:34:23.639Z"
   },
   {
    "duration": 2150,
    "start_time": "2023-08-04T14:34:23.676Z"
   },
   {
    "duration": 349,
    "start_time": "2023-08-04T14:34:25.828Z"
   },
   {
    "duration": 80,
    "start_time": "2023-08-04T14:34:26.179Z"
   },
   {
    "duration": 27,
    "start_time": "2023-08-04T14:34:26.268Z"
   },
   {
    "duration": 9,
    "start_time": "2023-08-04T14:34:26.297Z"
   },
   {
    "duration": 20,
    "start_time": "2023-08-04T14:34:26.307Z"
   },
   {
    "duration": 992,
    "start_time": "2023-08-04T14:34:26.329Z"
   },
   {
    "duration": 96,
    "start_time": "2023-08-04T14:34:27.323Z"
   },
   {
    "duration": 26,
    "start_time": "2023-08-04T14:34:27.424Z"
   },
   {
    "duration": 755,
    "start_time": "2023-08-04T14:34:27.465Z"
   },
   {
    "duration": 289,
    "start_time": "2023-08-04T14:34:28.222Z"
   },
   {
    "duration": 31,
    "start_time": "2023-08-04T14:34:28.516Z"
   },
   {
    "duration": 26,
    "start_time": "2023-08-04T14:34:28.549Z"
   },
   {
    "duration": 22,
    "start_time": "2023-08-04T14:34:28.585Z"
   },
   {
    "duration": 9,
    "start_time": "2023-08-04T14:34:28.615Z"
   },
   {
    "duration": 83,
    "start_time": "2023-08-04T14:34:28.627Z"
   },
   {
    "duration": 20,
    "start_time": "2023-08-04T14:34:28.712Z"
   },
   {
    "duration": 9,
    "start_time": "2023-08-04T14:34:28.733Z"
   },
   {
    "duration": 31,
    "start_time": "2023-08-04T14:34:28.743Z"
   },
   {
    "duration": 8,
    "start_time": "2023-08-04T14:34:28.793Z"
   },
   {
    "duration": 31,
    "start_time": "2023-08-04T14:34:28.811Z"
   },
   {
    "duration": 5,
    "start_time": "2023-08-04T14:34:28.844Z"
   },
   {
    "duration": 137,
    "start_time": "2023-08-04T14:34:28.852Z"
   },
   {
    "duration": 47,
    "start_time": "2023-08-04T14:34:28.997Z"
   },
   {
    "duration": 1291,
    "start_time": "2023-08-04T14:34:29.047Z"
   },
   {
    "duration": 1481,
    "start_time": "2023-08-04T20:52:07.084Z"
   },
   {
    "duration": 1225,
    "start_time": "2023-08-04T20:52:08.568Z"
   },
   {
    "duration": 23,
    "start_time": "2023-08-04T20:52:09.795Z"
   },
   {
    "duration": 23,
    "start_time": "2023-08-04T20:52:09.820Z"
   },
   {
    "duration": 22,
    "start_time": "2023-08-04T20:52:09.845Z"
   },
   {
    "duration": 13,
    "start_time": "2023-08-04T20:52:09.869Z"
   },
   {
    "duration": 11,
    "start_time": "2023-08-04T20:52:09.884Z"
   },
   {
    "duration": 12,
    "start_time": "2023-08-04T20:52:09.896Z"
   },
   {
    "duration": 13,
    "start_time": "2023-08-04T20:52:09.909Z"
   },
   {
    "duration": 42,
    "start_time": "2023-08-04T20:52:09.925Z"
   },
   {
    "duration": 11,
    "start_time": "2023-08-04T20:52:09.969Z"
   },
   {
    "duration": 21,
    "start_time": "2023-08-04T20:52:09.981Z"
   },
   {
    "duration": 10,
    "start_time": "2023-08-04T20:52:10.004Z"
   },
   {
    "duration": 19,
    "start_time": "2023-08-04T20:52:10.016Z"
   },
   {
    "duration": 31,
    "start_time": "2023-08-04T20:52:10.037Z"
   },
   {
    "duration": 35,
    "start_time": "2023-08-04T20:52:10.070Z"
   },
   {
    "duration": 16,
    "start_time": "2023-08-04T20:52:10.107Z"
   },
   {
    "duration": 6,
    "start_time": "2023-08-04T20:52:10.124Z"
   },
   {
    "duration": 31,
    "start_time": "2023-08-04T20:52:10.131Z"
   },
   {
    "duration": 1971,
    "start_time": "2023-08-04T20:52:10.164Z"
   },
   {
    "duration": 304,
    "start_time": "2023-08-04T20:52:12.137Z"
   },
   {
    "duration": 74,
    "start_time": "2023-08-04T20:52:12.443Z"
   },
   {
    "duration": 5,
    "start_time": "2023-08-04T20:52:12.519Z"
   },
   {
    "duration": 14,
    "start_time": "2023-08-04T20:52:12.526Z"
   },
   {
    "duration": 30,
    "start_time": "2023-08-04T20:52:12.541Z"
   },
   {
    "duration": 883,
    "start_time": "2023-08-04T20:52:12.573Z"
   },
   {
    "duration": 58,
    "start_time": "2023-08-04T20:52:13.457Z"
   },
   {
    "duration": 14,
    "start_time": "2023-08-04T20:52:13.519Z"
   },
   {
    "duration": 666,
    "start_time": "2023-08-04T20:52:13.535Z"
   },
   {
    "duration": 209,
    "start_time": "2023-08-04T20:52:14.203Z"
   },
   {
    "duration": 26,
    "start_time": "2023-08-04T20:52:14.414Z"
   },
   {
    "duration": 25,
    "start_time": "2023-08-04T20:52:14.442Z"
   },
   {
    "duration": 29,
    "start_time": "2023-08-04T20:52:14.468Z"
   },
   {
    "duration": 15,
    "start_time": "2023-08-04T20:52:14.499Z"
   },
   {
    "duration": 78,
    "start_time": "2023-08-04T20:52:14.515Z"
   },
   {
    "duration": 23,
    "start_time": "2023-08-04T20:52:14.595Z"
   },
   {
    "duration": 23,
    "start_time": "2023-08-04T20:52:14.620Z"
   },
   {
    "duration": 14,
    "start_time": "2023-08-04T20:52:14.645Z"
   },
   {
    "duration": 14,
    "start_time": "2023-08-04T20:52:14.660Z"
   },
   {
    "duration": 34,
    "start_time": "2023-08-04T20:52:14.676Z"
   },
   {
    "duration": 16,
    "start_time": "2023-08-04T20:52:14.712Z"
   },
   {
    "duration": 60,
    "start_time": "2023-08-04T20:52:14.729Z"
   },
   {
    "duration": 39,
    "start_time": "2023-08-04T20:52:14.791Z"
   },
   {
    "duration": 967,
    "start_time": "2023-08-04T20:52:14.832Z"
   },
   {
    "duration": 1386,
    "start_time": "2023-08-05T03:11:33.755Z"
   },
   {
    "duration": 1480,
    "start_time": "2023-08-05T03:11:35.142Z"
   },
   {
    "duration": 22,
    "start_time": "2023-08-05T03:11:36.624Z"
   },
   {
    "duration": 20,
    "start_time": "2023-08-05T03:11:36.648Z"
   },
   {
    "duration": 5,
    "start_time": "2023-08-05T03:11:36.670Z"
   },
   {
    "duration": 16,
    "start_time": "2023-08-05T03:11:36.676Z"
   },
   {
    "duration": 11,
    "start_time": "2023-08-05T03:11:36.694Z"
   },
   {
    "duration": 11,
    "start_time": "2023-08-05T03:11:36.706Z"
   },
   {
    "duration": 28,
    "start_time": "2023-08-05T03:11:36.719Z"
   },
   {
    "duration": 44,
    "start_time": "2023-08-05T03:11:36.750Z"
   },
   {
    "duration": 12,
    "start_time": "2023-08-05T03:11:36.796Z"
   },
   {
    "duration": 20,
    "start_time": "2023-08-05T03:11:36.809Z"
   },
   {
    "duration": 8,
    "start_time": "2023-08-05T03:11:36.831Z"
   },
   {
    "duration": 10,
    "start_time": "2023-08-05T03:11:36.840Z"
   },
   {
    "duration": 8,
    "start_time": "2023-08-05T03:11:36.852Z"
   },
   {
    "duration": 26,
    "start_time": "2023-08-05T03:11:36.862Z"
   },
   {
    "duration": 12,
    "start_time": "2023-08-05T03:11:36.890Z"
   },
   {
    "duration": 15,
    "start_time": "2023-08-05T03:11:36.904Z"
   },
   {
    "duration": 17,
    "start_time": "2023-08-05T03:11:36.921Z"
   },
   {
    "duration": 1544,
    "start_time": "2023-08-05T03:11:36.940Z"
   },
   {
    "duration": 288,
    "start_time": "2023-08-05T03:11:38.486Z"
   },
   {
    "duration": 62,
    "start_time": "2023-08-05T03:11:38.776Z"
   },
   {
    "duration": 6,
    "start_time": "2023-08-05T03:11:38.840Z"
   },
   {
    "duration": 27,
    "start_time": "2023-08-05T03:11:38.847Z"
   },
   {
    "duration": 17,
    "start_time": "2023-08-05T03:11:38.876Z"
   },
   {
    "duration": 758,
    "start_time": "2023-08-05T03:11:38.895Z"
   },
   {
    "duration": 53,
    "start_time": "2023-08-05T03:11:39.655Z"
   },
   {
    "duration": 14,
    "start_time": "2023-08-05T03:11:39.711Z"
   },
   {
    "duration": 567,
    "start_time": "2023-08-05T03:11:39.726Z"
   },
   {
    "duration": 198,
    "start_time": "2023-08-05T03:11:40.295Z"
   },
   {
    "duration": 23,
    "start_time": "2023-08-05T03:11:40.494Z"
   },
   {
    "duration": 14,
    "start_time": "2023-08-05T03:11:40.518Z"
   },
   {
    "duration": 21,
    "start_time": "2023-08-05T03:11:40.534Z"
   },
   {
    "duration": 21,
    "start_time": "2023-08-05T03:11:40.556Z"
   },
   {
    "duration": 64,
    "start_time": "2023-08-05T03:11:40.578Z"
   },
   {
    "duration": 15,
    "start_time": "2023-08-05T03:11:40.643Z"
   },
   {
    "duration": 15,
    "start_time": "2023-08-05T03:11:40.660Z"
   },
   {
    "duration": 26,
    "start_time": "2023-08-05T03:11:40.676Z"
   },
   {
    "duration": 20,
    "start_time": "2023-08-05T03:11:40.703Z"
   },
   {
    "duration": 37,
    "start_time": "2023-08-05T03:11:40.724Z"
   },
   {
    "duration": 28,
    "start_time": "2023-08-05T03:11:40.762Z"
   },
   {
    "duration": 60,
    "start_time": "2023-08-05T03:11:40.791Z"
   },
   {
    "duration": 33,
    "start_time": "2023-08-05T03:11:40.852Z"
   },
   {
    "duration": 827,
    "start_time": "2023-08-05T03:11:40.886Z"
   },
   {
    "duration": 20,
    "start_time": "2023-08-05T03:41:56.900Z"
   },
   {
    "duration": 8,
    "start_time": "2023-08-05T03:42:53.543Z"
   },
   {
    "duration": 48,
    "start_time": "2023-08-05T03:43:47.881Z"
   },
   {
    "duration": 6,
    "start_time": "2023-08-05T03:44:51.544Z"
   },
   {
    "duration": 7,
    "start_time": "2023-08-05T03:46:06.852Z"
   },
   {
    "duration": 42,
    "start_time": "2023-08-05T03:47:54.594Z"
   },
   {
    "duration": 21,
    "start_time": "2023-08-05T03:48:01.263Z"
   },
   {
    "duration": 11,
    "start_time": "2023-08-05T03:48:23.268Z"
   },
   {
    "duration": 891,
    "start_time": "2023-08-05T03:55:58.392Z"
   },
   {
    "duration": 20,
    "start_time": "2023-08-05T04:12:48.924Z"
   },
   {
    "duration": 11,
    "start_time": "2023-08-05T04:13:19.746Z"
   },
   {
    "duration": 168,
    "start_time": "2023-08-05T04:24:51.759Z"
   },
   {
    "duration": 3,
    "start_time": "2023-08-05T04:24:57.088Z"
   },
   {
    "duration": 42,
    "start_time": "2023-08-05T04:25:00.050Z"
   },
   {
    "duration": 17,
    "start_time": "2023-08-05T04:25:02.235Z"
   },
   {
    "duration": 28,
    "start_time": "2023-08-05T04:26:31.300Z"
   },
   {
    "duration": 52,
    "start_time": "2023-08-05T04:26:44.088Z"
   },
   {
    "duration": 42,
    "start_time": "2023-08-05T04:28:07.600Z"
   },
   {
    "duration": 14,
    "start_time": "2023-08-05T04:28:10.886Z"
   },
   {
    "duration": 50,
    "start_time": "2023-08-05T04:28:28.529Z"
   },
   {
    "duration": 46,
    "start_time": "2023-08-05T04:29:12.705Z"
   },
   {
    "duration": 4,
    "start_time": "2023-08-05T04:30:13.854Z"
   },
   {
    "duration": 49,
    "start_time": "2023-08-05T04:30:54.504Z"
   },
   {
    "duration": 63,
    "start_time": "2023-08-05T04:31:30.334Z"
   },
   {
    "duration": 1177,
    "start_time": "2023-08-05T04:33:27.992Z"
   },
   {
    "duration": 1405,
    "start_time": "2023-08-05T04:33:29.171Z"
   },
   {
    "duration": 21,
    "start_time": "2023-08-05T04:33:30.578Z"
   },
   {
    "duration": 31,
    "start_time": "2023-08-05T04:33:30.601Z"
   },
   {
    "duration": 24,
    "start_time": "2023-08-05T04:33:30.634Z"
   },
   {
    "duration": 39,
    "start_time": "2023-08-05T04:33:30.660Z"
   },
   {
    "duration": 43,
    "start_time": "2023-08-05T04:33:30.700Z"
   },
   {
    "duration": 33,
    "start_time": "2023-08-05T04:33:30.745Z"
   },
   {
    "duration": 48,
    "start_time": "2023-08-05T04:33:30.779Z"
   },
   {
    "duration": 48,
    "start_time": "2023-08-05T04:33:30.830Z"
   },
   {
    "duration": 43,
    "start_time": "2023-08-05T04:33:30.880Z"
   },
   {
    "duration": 31,
    "start_time": "2023-08-05T04:33:30.925Z"
   },
   {
    "duration": 23,
    "start_time": "2023-08-05T04:33:30.958Z"
   },
   {
    "duration": 11,
    "start_time": "2023-08-05T04:33:30.983Z"
   },
   {
    "duration": 54,
    "start_time": "2023-08-05T04:33:30.997Z"
   },
   {
    "duration": 54,
    "start_time": "2023-08-05T04:33:31.053Z"
   },
   {
    "duration": 37,
    "start_time": "2023-08-05T04:33:31.110Z"
   },
   {
    "duration": 34,
    "start_time": "2023-08-05T04:33:31.149Z"
   },
   {
    "duration": 62,
    "start_time": "2023-08-05T04:33:31.185Z"
   },
   {
    "duration": 1632,
    "start_time": "2023-08-05T04:33:31.248Z"
   },
   {
    "duration": 277,
    "start_time": "2023-08-05T04:33:32.882Z"
   },
   {
    "duration": 74,
    "start_time": "2023-08-05T04:33:33.162Z"
   },
   {
    "duration": 6,
    "start_time": "2023-08-05T04:33:33.238Z"
   },
   {
    "duration": 10,
    "start_time": "2023-08-05T04:33:33.246Z"
   },
   {
    "duration": 27,
    "start_time": "2023-08-05T04:33:33.274Z"
   },
   {
    "duration": 842,
    "start_time": "2023-08-05T04:33:33.303Z"
   },
   {
    "duration": 59,
    "start_time": "2023-08-05T04:33:34.148Z"
   },
   {
    "duration": 13,
    "start_time": "2023-08-05T04:33:34.210Z"
   },
   {
    "duration": 509,
    "start_time": "2023-08-05T04:33:34.224Z"
   },
   {
    "duration": 185,
    "start_time": "2023-08-05T04:33:34.734Z"
   },
   {
    "duration": 23,
    "start_time": "2023-08-05T04:33:34.920Z"
   },
   {
    "duration": 6,
    "start_time": "2023-08-05T04:33:34.945Z"
   },
   {
    "duration": 24,
    "start_time": "2023-08-05T04:33:34.953Z"
   },
   {
    "duration": 8,
    "start_time": "2023-08-05T04:33:34.979Z"
   },
   {
    "duration": 49,
    "start_time": "2023-08-05T04:33:34.988Z"
   },
   {
    "duration": 38,
    "start_time": "2023-08-05T04:33:35.039Z"
   },
   {
    "duration": 5,
    "start_time": "2023-08-05T04:33:35.079Z"
   },
   {
    "duration": 14,
    "start_time": "2023-08-05T04:33:35.086Z"
   },
   {
    "duration": 13,
    "start_time": "2023-08-05T04:33:35.101Z"
   },
   {
    "duration": 25,
    "start_time": "2023-08-05T04:33:35.116Z"
   },
   {
    "duration": 19,
    "start_time": "2023-08-05T04:33:35.142Z"
   },
   {
    "duration": 53,
    "start_time": "2023-08-05T04:33:35.162Z"
   },
   {
    "duration": 31,
    "start_time": "2023-08-05T04:33:35.217Z"
   },
   {
    "duration": 893,
    "start_time": "2023-08-05T04:33:35.250Z"
   },
   {
    "duration": 3,
    "start_time": "2023-08-05T04:33:36.145Z"
   },
   {
    "duration": 53,
    "start_time": "2023-08-05T04:33:36.149Z"
   },
   {
    "duration": 45,
    "start_time": "2023-08-05T04:33:36.203Z"
   },
   {
    "duration": 30,
    "start_time": "2023-08-05T04:33:36.250Z"
   },
   {
    "duration": 1340,
    "start_time": "2023-08-06T11:43:17.030Z"
   },
   {
    "duration": 1334,
    "start_time": "2023-08-06T11:43:18.372Z"
   },
   {
    "duration": 20,
    "start_time": "2023-08-06T11:43:19.708Z"
   },
   {
    "duration": 22,
    "start_time": "2023-08-06T11:43:19.729Z"
   },
   {
    "duration": 4,
    "start_time": "2023-08-06T11:43:19.753Z"
   },
   {
    "duration": 10,
    "start_time": "2023-08-06T11:43:19.774Z"
   },
   {
    "duration": 13,
    "start_time": "2023-08-06T11:43:19.786Z"
   },
   {
    "duration": 10,
    "start_time": "2023-08-06T11:43:19.801Z"
   },
   {
    "duration": 13,
    "start_time": "2023-08-06T11:43:19.812Z"
   },
   {
    "duration": 12,
    "start_time": "2023-08-06T11:43:19.828Z"
   },
   {
    "duration": 36,
    "start_time": "2023-08-06T11:43:19.841Z"
   },
   {
    "duration": 20,
    "start_time": "2023-08-06T11:43:19.879Z"
   },
   {
    "duration": 10,
    "start_time": "2023-08-06T11:43:19.900Z"
   },
   {
    "duration": 7,
    "start_time": "2023-08-06T11:43:19.912Z"
   },
   {
    "duration": 13,
    "start_time": "2023-08-06T11:43:19.920Z"
   },
   {
    "duration": 45,
    "start_time": "2023-08-06T11:43:19.934Z"
   },
   {
    "duration": 12,
    "start_time": "2023-08-06T11:43:19.980Z"
   },
   {
    "duration": 20,
    "start_time": "2023-08-06T11:43:19.994Z"
   },
   {
    "duration": 26,
    "start_time": "2023-08-06T11:43:20.016Z"
   },
   {
    "duration": 2138,
    "start_time": "2023-08-06T11:43:20.043Z"
   },
   {
    "duration": 291,
    "start_time": "2023-08-06T11:43:22.183Z"
   },
   {
    "duration": 68,
    "start_time": "2023-08-06T11:43:22.476Z"
   },
   {
    "duration": 10,
    "start_time": "2023-08-06T11:43:22.546Z"
   },
   {
    "duration": 21,
    "start_time": "2023-08-06T11:43:22.557Z"
   },
   {
    "duration": 30,
    "start_time": "2023-08-06T11:43:22.579Z"
   },
   {
    "duration": 839,
    "start_time": "2023-08-06T11:43:22.610Z"
   },
   {
    "duration": 61,
    "start_time": "2023-08-06T11:43:23.451Z"
   },
   {
    "duration": 16,
    "start_time": "2023-08-06T11:43:23.515Z"
   },
   {
    "duration": 569,
    "start_time": "2023-08-06T11:43:23.532Z"
   },
   {
    "duration": 208,
    "start_time": "2023-08-06T11:43:24.104Z"
   },
   {
    "duration": 23,
    "start_time": "2023-08-06T11:43:24.314Z"
   },
   {
    "duration": 7,
    "start_time": "2023-08-06T11:43:24.339Z"
   },
   {
    "duration": 41,
    "start_time": "2023-08-06T11:43:24.348Z"
   },
   {
    "duration": 17,
    "start_time": "2023-08-06T11:43:24.391Z"
   },
   {
    "duration": 63,
    "start_time": "2023-08-06T11:43:24.410Z"
   },
   {
    "duration": 18,
    "start_time": "2023-08-06T11:43:24.475Z"
   },
   {
    "duration": 7,
    "start_time": "2023-08-06T11:43:24.495Z"
   },
   {
    "duration": 15,
    "start_time": "2023-08-06T11:43:24.504Z"
   },
   {
    "duration": 14,
    "start_time": "2023-08-06T11:43:24.521Z"
   },
   {
    "duration": 38,
    "start_time": "2023-08-06T11:43:24.536Z"
   },
   {
    "duration": 19,
    "start_time": "2023-08-06T11:43:24.576Z"
   },
   {
    "duration": 56,
    "start_time": "2023-08-06T11:43:24.597Z"
   },
   {
    "duration": 36,
    "start_time": "2023-08-06T11:43:24.655Z"
   },
   {
    "duration": 896,
    "start_time": "2023-08-06T11:43:24.693Z"
   },
   {
    "duration": 2,
    "start_time": "2023-08-06T11:43:25.591Z"
   },
   {
    "duration": 45,
    "start_time": "2023-08-06T11:43:25.595Z"
   },
   {
    "duration": 60,
    "start_time": "2023-08-06T11:43:25.642Z"
   },
   {
    "duration": 13,
    "start_time": "2023-08-06T11:43:25.704Z"
   },
   {
    "duration": 20,
    "start_time": "2023-08-06T11:45:55.223Z"
   },
   {
    "duration": 13,
    "start_time": "2023-08-06T11:46:58.982Z"
   },
   {
    "duration": 64,
    "start_time": "2023-08-06T11:47:10.627Z"
   },
   {
    "duration": 15,
    "start_time": "2023-08-06T11:47:13.969Z"
   },
   {
    "duration": 3,
    "start_time": "2023-08-06T11:55:50.487Z"
   },
   {
    "duration": 257,
    "start_time": "2023-08-06T11:55:54.292Z"
   },
   {
    "duration": 104,
    "start_time": "2023-08-06T11:57:23.995Z"
   },
   {
    "duration": 3,
    "start_time": "2023-08-06T11:57:29.621Z"
   },
   {
    "duration": 36,
    "start_time": "2023-08-06T11:57:30.226Z"
   },
   {
    "duration": 3,
    "start_time": "2023-08-06T11:59:23.323Z"
   },
   {
    "duration": 2188,
    "start_time": "2023-08-06T11:59:24.080Z"
   },
   {
    "duration": 13,
    "start_time": "2023-08-06T12:08:31.915Z"
   },
   {
    "duration": 11,
    "start_time": "2023-08-06T12:10:57.623Z"
   },
   {
    "duration": 20,
    "start_time": "2023-08-06T12:11:04.123Z"
   },
   {
    "duration": 1153,
    "start_time": "2023-08-06T12:11:20.340Z"
   },
   {
    "duration": 26,
    "start_time": "2023-08-06T12:11:33.400Z"
   },
   {
    "duration": 16,
    "start_time": "2023-08-06T12:13:13.433Z"
   },
   {
    "duration": 16,
    "start_time": "2023-08-06T12:14:50.880Z"
   },
   {
    "duration": 49,
    "start_time": "2023-08-06T12:14:56.304Z"
   },
   {
    "duration": 5,
    "start_time": "2023-08-06T12:15:03.732Z"
   },
   {
    "duration": 11,
    "start_time": "2023-08-06T12:15:08.257Z"
   },
   {
    "duration": 14,
    "start_time": "2023-08-06T12:16:12.716Z"
   },
   {
    "duration": 4,
    "start_time": "2023-08-06T12:16:31.585Z"
   },
   {
    "duration": 13,
    "start_time": "2023-08-06T12:16:33.723Z"
   },
   {
    "duration": 15,
    "start_time": "2023-08-06T12:18:11.292Z"
   },
   {
    "duration": 15,
    "start_time": "2023-08-06T12:18:22.833Z"
   },
   {
    "duration": 23,
    "start_time": "2023-08-06T12:18:29.317Z"
   },
   {
    "duration": 4,
    "start_time": "2023-08-06T12:21:46.661Z"
   },
   {
    "duration": 22,
    "start_time": "2023-08-06T12:21:49.105Z"
   },
   {
    "duration": 5,
    "start_time": "2023-08-06T12:22:14.987Z"
   },
   {
    "duration": 23,
    "start_time": "2023-08-06T12:22:17.393Z"
   },
   {
    "duration": 1361,
    "start_time": "2023-08-06T12:22:30.987Z"
   },
   {
    "duration": 1429,
    "start_time": "2023-08-06T12:22:32.350Z"
   },
   {
    "duration": 28,
    "start_time": "2023-08-06T12:22:33.783Z"
   },
   {
    "duration": 28,
    "start_time": "2023-08-06T12:22:33.813Z"
   },
   {
    "duration": 7,
    "start_time": "2023-08-06T12:22:33.844Z"
   },
   {
    "duration": 42,
    "start_time": "2023-08-06T12:22:33.853Z"
   },
   {
    "duration": 49,
    "start_time": "2023-08-06T12:22:33.897Z"
   },
   {
    "duration": 52,
    "start_time": "2023-08-06T12:22:33.948Z"
   },
   {
    "duration": 23,
    "start_time": "2023-08-06T12:22:34.001Z"
   },
   {
    "duration": 18,
    "start_time": "2023-08-06T12:22:34.027Z"
   },
   {
    "duration": 18,
    "start_time": "2023-08-06T12:22:34.047Z"
   },
   {
    "duration": 33,
    "start_time": "2023-08-06T12:22:34.067Z"
   },
   {
    "duration": 11,
    "start_time": "2023-08-06T12:22:34.102Z"
   },
   {
    "duration": 10,
    "start_time": "2023-08-06T12:22:34.114Z"
   },
   {
    "duration": 8,
    "start_time": "2023-08-06T12:22:34.126Z"
   },
   {
    "duration": 26,
    "start_time": "2023-08-06T12:22:34.136Z"
   },
   {
    "duration": 18,
    "start_time": "2023-08-06T12:22:34.174Z"
   },
   {
    "duration": 12,
    "start_time": "2023-08-06T12:22:34.194Z"
   },
   {
    "duration": 30,
    "start_time": "2023-08-06T12:22:34.208Z"
   },
   {
    "duration": 1691,
    "start_time": "2023-08-06T12:22:34.240Z"
   },
   {
    "duration": 318,
    "start_time": "2023-08-06T12:22:35.933Z"
   },
   {
    "duration": 87,
    "start_time": "2023-08-06T12:22:36.253Z"
   },
   {
    "duration": 6,
    "start_time": "2023-08-06T12:22:36.341Z"
   },
   {
    "duration": 9,
    "start_time": "2023-08-06T12:22:36.349Z"
   },
   {
    "duration": 44,
    "start_time": "2023-08-06T12:22:36.360Z"
   },
   {
    "duration": 865,
    "start_time": "2023-08-06T12:22:36.406Z"
   },
   {
    "duration": 57,
    "start_time": "2023-08-06T12:22:37.275Z"
   },
   {
    "duration": 14,
    "start_time": "2023-08-06T12:22:37.336Z"
   },
   {
    "duration": 549,
    "start_time": "2023-08-06T12:22:37.352Z"
   },
   {
    "duration": 217,
    "start_time": "2023-08-06T12:22:37.903Z"
   },
   {
    "duration": 28,
    "start_time": "2023-08-06T12:22:38.123Z"
   },
   {
    "duration": 32,
    "start_time": "2023-08-06T12:22:38.153Z"
   },
   {
    "duration": 18,
    "start_time": "2023-08-06T12:22:38.187Z"
   },
   {
    "duration": 41,
    "start_time": "2023-08-06T12:22:38.207Z"
   },
   {
    "duration": 46,
    "start_time": "2023-08-06T12:22:38.250Z"
   },
   {
    "duration": 1290,
    "start_time": "2023-08-06T12:22:38.298Z"
   },
   {
    "duration": 0,
    "start_time": "2023-08-06T12:22:39.591Z"
   },
   {
    "duration": 0,
    "start_time": "2023-08-06T12:22:39.592Z"
   },
   {
    "duration": 0,
    "start_time": "2023-08-06T12:22:39.593Z"
   },
   {
    "duration": 0,
    "start_time": "2023-08-06T12:22:39.594Z"
   },
   {
    "duration": 0,
    "start_time": "2023-08-06T12:22:39.596Z"
   },
   {
    "duration": 0,
    "start_time": "2023-08-06T12:22:39.597Z"
   },
   {
    "duration": 1,
    "start_time": "2023-08-06T12:22:39.597Z"
   },
   {
    "duration": 0,
    "start_time": "2023-08-06T12:22:39.599Z"
   },
   {
    "duration": 0,
    "start_time": "2023-08-06T12:22:39.600Z"
   },
   {
    "duration": 0,
    "start_time": "2023-08-06T12:22:39.601Z"
   },
   {
    "duration": 0,
    "start_time": "2023-08-06T12:22:39.602Z"
   },
   {
    "duration": 0,
    "start_time": "2023-08-06T12:22:39.603Z"
   },
   {
    "duration": 0,
    "start_time": "2023-08-06T12:22:39.604Z"
   },
   {
    "duration": 0,
    "start_time": "2023-08-06T12:22:39.605Z"
   },
   {
    "duration": 0,
    "start_time": "2023-08-06T12:22:39.606Z"
   },
   {
    "duration": 1163,
    "start_time": "2023-08-06T12:26:09.299Z"
   },
   {
    "duration": 1204,
    "start_time": "2023-08-06T12:30:26.551Z"
   },
   {
    "duration": 1213,
    "start_time": "2023-08-06T12:30:27.757Z"
   },
   {
    "duration": 29,
    "start_time": "2023-08-06T12:30:28.972Z"
   },
   {
    "duration": 22,
    "start_time": "2023-08-06T12:30:29.003Z"
   },
   {
    "duration": 5,
    "start_time": "2023-08-06T12:30:29.026Z"
   },
   {
    "duration": 12,
    "start_time": "2023-08-06T12:30:29.032Z"
   },
   {
    "duration": 32,
    "start_time": "2023-08-06T12:30:29.045Z"
   },
   {
    "duration": 15,
    "start_time": "2023-08-06T12:30:29.086Z"
   },
   {
    "duration": 23,
    "start_time": "2023-08-06T12:30:29.102Z"
   },
   {
    "duration": 14,
    "start_time": "2023-08-06T12:30:29.127Z"
   },
   {
    "duration": 9,
    "start_time": "2023-08-06T12:30:29.143Z"
   },
   {
    "duration": 42,
    "start_time": "2023-08-06T12:30:29.154Z"
   },
   {
    "duration": 10,
    "start_time": "2023-08-06T12:30:29.198Z"
   },
   {
    "duration": 6,
    "start_time": "2023-08-06T12:30:29.212Z"
   },
   {
    "duration": 15,
    "start_time": "2023-08-06T12:30:29.220Z"
   },
   {
    "duration": 47,
    "start_time": "2023-08-06T12:30:29.236Z"
   },
   {
    "duration": 16,
    "start_time": "2023-08-06T12:30:29.290Z"
   },
   {
    "duration": 8,
    "start_time": "2023-08-06T12:30:29.308Z"
   },
   {
    "duration": 19,
    "start_time": "2023-08-06T12:30:29.318Z"
   },
   {
    "duration": 1961,
    "start_time": "2023-08-06T12:30:29.339Z"
   },
   {
    "duration": 323,
    "start_time": "2023-08-06T12:30:31.302Z"
   },
   {
    "duration": 91,
    "start_time": "2023-08-06T12:30:31.627Z"
   },
   {
    "duration": 5,
    "start_time": "2023-08-06T12:30:31.720Z"
   },
   {
    "duration": 38,
    "start_time": "2023-08-06T12:30:31.727Z"
   },
   {
    "duration": 60,
    "start_time": "2023-08-06T12:30:31.767Z"
   },
   {
    "duration": 960,
    "start_time": "2023-08-06T12:30:31.829Z"
   },
   {
    "duration": 51,
    "start_time": "2023-08-06T12:30:32.793Z"
   },
   {
    "duration": 15,
    "start_time": "2023-08-06T12:30:32.847Z"
   },
   {
    "duration": 588,
    "start_time": "2023-08-06T12:30:32.864Z"
   },
   {
    "duration": 225,
    "start_time": "2023-08-06T12:30:33.453Z"
   },
   {
    "duration": 33,
    "start_time": "2023-08-06T12:30:33.683Z"
   },
   {
    "duration": 6,
    "start_time": "2023-08-06T12:30:33.717Z"
   },
   {
    "duration": 53,
    "start_time": "2023-08-06T12:30:33.724Z"
   },
   {
    "duration": 34,
    "start_time": "2023-08-06T12:30:33.782Z"
   },
   {
    "duration": 23,
    "start_time": "2023-08-06T12:30:33.819Z"
   },
   {
    "duration": 23,
    "start_time": "2023-08-06T12:30:33.846Z"
   },
   {
    "duration": 34,
    "start_time": "2023-08-06T12:30:33.871Z"
   },
   {
    "duration": 7,
    "start_time": "2023-08-06T12:30:33.907Z"
   },
   {
    "duration": 19,
    "start_time": "2023-08-06T12:30:33.915Z"
   },
   {
    "duration": 26,
    "start_time": "2023-08-06T12:30:33.936Z"
   },
   {
    "duration": 25,
    "start_time": "2023-08-06T12:30:33.967Z"
   },
   {
    "duration": 101,
    "start_time": "2023-08-06T12:30:33.994Z"
   },
   {
    "duration": 1274,
    "start_time": "2023-08-06T12:30:34.097Z"
   },
   {
    "duration": 0,
    "start_time": "2023-08-06T12:30:35.373Z"
   },
   {
    "duration": 0,
    "start_time": "2023-08-06T12:30:35.376Z"
   },
   {
    "duration": 0,
    "start_time": "2023-08-06T12:30:35.378Z"
   },
   {
    "duration": 0,
    "start_time": "2023-08-06T12:30:35.379Z"
   },
   {
    "duration": 0,
    "start_time": "2023-08-06T12:30:35.382Z"
   },
   {
    "duration": 0,
    "start_time": "2023-08-06T12:30:35.384Z"
   },
   {
    "duration": 0,
    "start_time": "2023-08-06T12:30:35.385Z"
   },
   {
    "duration": 0,
    "start_time": "2023-08-06T12:30:35.388Z"
   },
   {
    "duration": 0,
    "start_time": "2023-08-06T12:30:35.389Z"
   },
   {
    "duration": 20,
    "start_time": "2023-08-06T12:31:33.341Z"
   },
   {
    "duration": 10,
    "start_time": "2023-08-06T12:32:05.457Z"
   },
   {
    "duration": 10,
    "start_time": "2023-08-06T12:32:08.441Z"
   },
   {
    "duration": 21,
    "start_time": "2023-08-06T12:32:10.697Z"
   },
   {
    "duration": 4,
    "start_time": "2023-08-06T12:34:12.295Z"
   },
   {
    "duration": 1077,
    "start_time": "2023-08-06T12:34:12.440Z"
   },
   {
    "duration": 18,
    "start_time": "2023-08-06T12:34:13.519Z"
   },
   {
    "duration": 28,
    "start_time": "2023-08-06T12:34:13.538Z"
   },
   {
    "duration": 4,
    "start_time": "2023-08-06T12:34:13.568Z"
   },
   {
    "duration": 28,
    "start_time": "2023-08-06T12:34:13.574Z"
   },
   {
    "duration": 17,
    "start_time": "2023-08-06T12:34:13.604Z"
   },
   {
    "duration": 14,
    "start_time": "2023-08-06T12:34:13.702Z"
   },
   {
    "duration": 18,
    "start_time": "2023-08-06T12:34:14.017Z"
   },
   {
    "duration": 15,
    "start_time": "2023-08-06T12:34:14.397Z"
   },
   {
    "duration": 15,
    "start_time": "2023-08-06T12:34:14.530Z"
   },
   {
    "duration": 23,
    "start_time": "2023-08-06T12:34:15.565Z"
   },
   {
    "duration": 11,
    "start_time": "2023-08-06T12:34:15.936Z"
   },
   {
    "duration": 13,
    "start_time": "2023-08-06T12:34:16.279Z"
   },
   {
    "duration": 7,
    "start_time": "2023-08-06T12:34:16.428Z"
   },
   {
    "duration": 27,
    "start_time": "2023-08-06T12:34:16.621Z"
   },
   {
    "duration": 16,
    "start_time": "2023-08-06T12:34:16.794Z"
   },
   {
    "duration": 8,
    "start_time": "2023-08-06T12:34:16.945Z"
   },
   {
    "duration": 20,
    "start_time": "2023-08-06T12:34:17.132Z"
   },
   {
    "duration": 2160,
    "start_time": "2023-08-06T12:34:17.345Z"
   },
   {
    "duration": 397,
    "start_time": "2023-08-06T12:34:19.508Z"
   },
   {
    "duration": 124,
    "start_time": "2023-08-06T12:34:19.908Z"
   },
   {
    "duration": 7,
    "start_time": "2023-08-06T12:34:20.035Z"
   },
   {
    "duration": 51,
    "start_time": "2023-08-06T12:34:20.044Z"
   },
   {
    "duration": 26,
    "start_time": "2023-08-06T12:34:20.100Z"
   },
   {
    "duration": 1075,
    "start_time": "2023-08-06T12:34:20.128Z"
   },
   {
    "duration": 26,
    "start_time": "2023-08-06T12:34:21.206Z"
   },
   {
    "duration": 23,
    "start_time": "2023-08-06T12:34:21.685Z"
   },
   {
    "duration": 57,
    "start_time": "2023-08-06T12:34:23.117Z"
   },
   {
    "duration": 200,
    "start_time": "2023-08-06T12:34:27.213Z"
   },
   {
    "duration": 37,
    "start_time": "2023-08-06T12:34:30.501Z"
   },
   {
    "duration": 12,
    "start_time": "2023-08-06T12:34:31.473Z"
   },
   {
    "duration": 6,
    "start_time": "2023-08-06T12:34:33.197Z"
   },
   {
    "duration": 20,
    "start_time": "2023-08-06T12:34:33.941Z"
   },
   {
    "duration": 5,
    "start_time": "2023-08-06T12:34:36.340Z"
   },
   {
    "duration": 11,
    "start_time": "2023-08-06T12:34:38.342Z"
   },
   {
    "duration": 32,
    "start_time": "2023-08-06T12:34:39.513Z"
   },
   {
    "duration": 17,
    "start_time": "2023-08-06T12:34:52.025Z"
   },
   {
    "duration": 6,
    "start_time": "2023-08-06T12:34:58.805Z"
   },
   {
    "duration": 3,
    "start_time": "2023-08-06T12:35:04.867Z"
   },
   {
    "duration": 6,
    "start_time": "2023-08-06T12:35:11.632Z"
   },
   {
    "duration": 4,
    "start_time": "2023-08-06T12:35:15.740Z"
   },
   {
    "duration": 73,
    "start_time": "2023-08-06T12:35:43.733Z"
   },
   {
    "duration": 21,
    "start_time": "2023-08-06T12:35:46.601Z"
   },
   {
    "duration": 1189,
    "start_time": "2023-08-06T12:36:44.630Z"
   },
   {
    "duration": 5,
    "start_time": "2023-08-06T12:37:00.398Z"
   },
   {
    "duration": 23,
    "start_time": "2023-08-06T12:37:02.639Z"
   },
   {
    "duration": 13,
    "start_time": "2023-08-06T12:37:07.893Z"
   },
   {
    "duration": 4,
    "start_time": "2023-08-06T12:37:27.601Z"
   },
   {
    "duration": 14,
    "start_time": "2023-08-06T12:37:29.161Z"
   },
   {
    "duration": 14,
    "start_time": "2023-08-06T12:41:09.335Z"
   },
   {
    "duration": 13,
    "start_time": "2023-08-06T12:41:13.728Z"
   },
   {
    "duration": 3,
    "start_time": "2023-08-06T12:47:55.791Z"
   },
   {
    "duration": 34,
    "start_time": "2023-08-06T12:47:56.093Z"
   },
   {
    "duration": 3,
    "start_time": "2023-08-06T12:48:30.230Z"
   },
   {
    "duration": 29,
    "start_time": "2023-08-06T12:48:30.902Z"
   },
   {
    "duration": 3,
    "start_time": "2023-08-06T12:53:16.538Z"
   },
   {
    "duration": 48,
    "start_time": "2023-08-06T12:53:16.897Z"
   },
   {
    "duration": 36,
    "start_time": "2023-08-06T12:53:26.113Z"
   },
   {
    "duration": 13,
    "start_time": "2023-08-06T12:53:26.689Z"
   },
   {
    "duration": 4,
    "start_time": "2023-08-06T12:53:45.225Z"
   },
   {
    "duration": 3,
    "start_time": "2023-08-06T12:53:45.521Z"
   },
   {
    "duration": 3,
    "start_time": "2023-08-06T12:56:18.394Z"
   },
   {
    "duration": 52,
    "start_time": "2023-08-06T12:56:20.829Z"
   },
   {
    "duration": 14,
    "start_time": "2023-08-06T12:56:22.025Z"
   },
   {
    "duration": 17,
    "start_time": "2023-08-06T12:56:31.417Z"
   },
   {
    "duration": 65,
    "start_time": "2023-08-06T12:56:53.090Z"
   },
   {
    "duration": 4,
    "start_time": "2023-08-06T12:59:44.912Z"
   },
   {
    "duration": 63,
    "start_time": "2023-08-06T12:59:47.589Z"
   },
   {
    "duration": 16,
    "start_time": "2023-08-06T12:59:49.337Z"
   },
   {
    "duration": 47,
    "start_time": "2023-08-06T13:00:51.308Z"
   },
   {
    "duration": 38,
    "start_time": "2023-08-06T13:05:28.592Z"
   },
   {
    "duration": 46,
    "start_time": "2023-08-06T13:05:44.181Z"
   },
   {
    "duration": 52,
    "start_time": "2023-08-06T13:06:28.951Z"
   },
   {
    "duration": 43,
    "start_time": "2023-08-06T13:07:21.883Z"
   },
   {
    "duration": 38,
    "start_time": "2023-08-06T13:07:49.699Z"
   },
   {
    "duration": 18,
    "start_time": "2023-08-06T13:08:20.490Z"
   },
   {
    "duration": 37,
    "start_time": "2023-08-06T13:08:42.115Z"
   },
   {
    "duration": 104,
    "start_time": "2023-08-06T13:08:51.195Z"
   },
   {
    "duration": 65,
    "start_time": "2023-08-06T13:09:31.530Z"
   },
   {
    "duration": 15,
    "start_time": "2023-08-06T13:12:06.929Z"
   },
   {
    "duration": 35,
    "start_time": "2023-08-06T13:12:42.424Z"
   },
   {
    "duration": 977,
    "start_time": "2023-08-06T13:12:45.710Z"
   },
   {
    "duration": 40,
    "start_time": "2023-08-06T13:16:47.104Z"
   },
   {
    "duration": 56,
    "start_time": "2023-08-06T13:17:01.139Z"
   },
   {
    "duration": 7,
    "start_time": "2023-08-06T13:18:37.361Z"
   },
   {
    "duration": 29,
    "start_time": "2023-08-06T13:18:44.492Z"
   },
   {
    "duration": 14,
    "start_time": "2023-08-06T13:20:34.506Z"
   },
   {
    "duration": 13,
    "start_time": "2023-08-06T13:21:07.803Z"
   },
   {
    "duration": 18,
    "start_time": "2023-08-06T13:21:19.168Z"
   },
   {
    "duration": 3,
    "start_time": "2023-08-06T13:32:15.739Z"
   },
   {
    "duration": 38,
    "start_time": "2023-08-06T13:32:16.466Z"
   },
   {
    "duration": 26,
    "start_time": "2023-08-06T13:32:22.400Z"
   },
   {
    "duration": 3,
    "start_time": "2023-08-06T13:32:55.367Z"
   },
   {
    "duration": 142,
    "start_time": "2023-08-06T13:32:55.693Z"
   },
   {
    "duration": 4,
    "start_time": "2023-08-06T13:33:01.937Z"
   },
   {
    "duration": 54,
    "start_time": "2023-08-06T13:33:02.159Z"
   },
   {
    "duration": 17,
    "start_time": "2023-08-06T13:33:05.015Z"
   },
   {
    "duration": 13,
    "start_time": "2023-08-06T13:35:22.017Z"
   },
   {
    "duration": 11,
    "start_time": "2023-08-06T13:35:32.227Z"
   },
   {
    "duration": 9,
    "start_time": "2023-08-06T13:35:40.830Z"
   },
   {
    "duration": 9,
    "start_time": "2023-08-06T13:35:47.904Z"
   },
   {
    "duration": 6,
    "start_time": "2023-08-06T13:37:11.226Z"
   },
   {
    "duration": 15,
    "start_time": "2023-08-06T13:38:32.898Z"
   },
   {
    "duration": 23,
    "start_time": "2023-08-06T13:38:41.270Z"
   },
   {
    "duration": 64,
    "start_time": "2023-08-06T13:39:10.339Z"
   },
   {
    "duration": 14,
    "start_time": "2023-08-06T13:45:58.968Z"
   },
   {
    "duration": 8,
    "start_time": "2023-08-06T13:45:59.594Z"
   },
   {
    "duration": 11,
    "start_time": "2023-08-06T13:46:03.035Z"
   },
   {
    "duration": 7,
    "start_time": "2023-08-06T13:46:17.503Z"
   },
   {
    "duration": 15,
    "start_time": "2023-08-06T13:48:01.819Z"
   },
   {
    "duration": 6,
    "start_time": "2023-08-06T13:48:11.213Z"
   },
   {
    "duration": 14,
    "start_time": "2023-08-06T13:50:06.174Z"
   },
   {
    "duration": 8,
    "start_time": "2023-08-06T13:51:52.495Z"
   },
   {
    "duration": 53,
    "start_time": "2023-08-06T13:52:57.772Z"
   },
   {
    "duration": 7,
    "start_time": "2023-08-06T13:54:32.202Z"
   },
   {
    "duration": 9,
    "start_time": "2023-08-06T13:54:59.818Z"
   },
   {
    "duration": 6,
    "start_time": "2023-08-06T13:55:08.014Z"
   },
   {
    "duration": 5,
    "start_time": "2023-08-06T13:55:15.798Z"
   },
   {
    "duration": 2,
    "start_time": "2023-08-06T13:55:27.000Z"
   },
   {
    "duration": 10,
    "start_time": "2023-08-06T13:55:36.626Z"
   },
   {
    "duration": 13,
    "start_time": "2023-08-06T13:55:44.491Z"
   },
   {
    "duration": 16,
    "start_time": "2023-08-06T13:55:59.294Z"
   },
   {
    "duration": 12,
    "start_time": "2023-08-06T13:56:04.412Z"
   },
   {
    "duration": 18,
    "start_time": "2023-08-06T13:56:06.094Z"
   },
   {
    "duration": 8,
    "start_time": "2023-08-06T13:56:06.476Z"
   },
   {
    "duration": 11,
    "start_time": "2023-08-06T13:56:08.998Z"
   },
   {
    "duration": 14,
    "start_time": "2023-08-06T13:56:11.387Z"
   },
   {
    "duration": 4,
    "start_time": "2023-08-06T13:56:11.651Z"
   },
   {
    "duration": 4,
    "start_time": "2023-08-06T13:56:17.600Z"
   },
   {
    "duration": 5,
    "start_time": "2023-08-06T13:56:21.632Z"
   },
   {
    "duration": 5,
    "start_time": "2023-08-06T13:57:31.340Z"
   },
   {
    "duration": 15,
    "start_time": "2023-08-06T14:01:33.918Z"
   },
   {
    "duration": 6,
    "start_time": "2023-08-06T14:02:19.131Z"
   },
   {
    "duration": 13,
    "start_time": "2023-08-06T14:02:23.039Z"
   },
   {
    "duration": 20,
    "start_time": "2023-08-06T14:03:22.632Z"
   },
   {
    "duration": 44,
    "start_time": "2023-08-06T14:03:31.787Z"
   },
   {
    "duration": 17,
    "start_time": "2023-08-06T14:04:26.270Z"
   },
   {
    "duration": 13,
    "start_time": "2023-08-06T14:04:36.974Z"
   },
   {
    "duration": 11,
    "start_time": "2023-08-06T14:04:49.061Z"
   },
   {
    "duration": 55,
    "start_time": "2023-08-06T14:04:56.869Z"
   },
   {
    "duration": 12,
    "start_time": "2023-08-06T14:04:57.610Z"
   },
   {
    "duration": 11,
    "start_time": "2023-08-06T14:07:39.450Z"
   },
   {
    "duration": 11,
    "start_time": "2023-08-06T14:07:57.315Z"
   },
   {
    "duration": 11,
    "start_time": "2023-08-06T14:08:02.536Z"
   },
   {
    "duration": 51,
    "start_time": "2023-08-06T14:10:14.158Z"
   },
   {
    "duration": 14,
    "start_time": "2023-08-06T14:13:43.841Z"
   },
   {
    "duration": 101,
    "start_time": "2023-08-06T14:19:15.347Z"
   },
   {
    "duration": 99,
    "start_time": "2023-08-06T14:19:19.502Z"
   },
   {
    "duration": 50,
    "start_time": "2023-08-06T14:19:31.937Z"
   },
   {
    "duration": 3,
    "start_time": "2023-08-06T14:23:15.161Z"
   },
   {
    "duration": 3,
    "start_time": "2023-08-06T14:23:21.113Z"
   },
   {
    "duration": 46,
    "start_time": "2023-08-06T14:23:23.518Z"
   },
   {
    "duration": 5,
    "start_time": "2023-08-06T14:23:46.808Z"
   },
   {
    "duration": 5,
    "start_time": "2023-08-06T14:25:30.464Z"
   },
   {
    "duration": 53,
    "start_time": "2023-08-06T14:25:31.268Z"
   },
   {
    "duration": 5,
    "start_time": "2023-08-06T14:25:35.152Z"
   },
   {
    "duration": 20,
    "start_time": "2023-08-06T14:25:57.065Z"
   },
   {
    "duration": 63,
    "start_time": "2023-08-06T14:26:06.891Z"
   },
   {
    "duration": 46,
    "start_time": "2023-08-06T14:26:39.714Z"
   },
   {
    "duration": 8,
    "start_time": "2023-08-06T14:27:08.064Z"
   },
   {
    "duration": 114,
    "start_time": "2023-08-06T14:29:09.524Z"
   },
   {
    "duration": 4,
    "start_time": "2023-08-06T14:29:27.201Z"
   },
   {
    "duration": 32,
    "start_time": "2023-08-06T14:29:27.541Z"
   },
   {
    "duration": 47,
    "start_time": "2023-08-06T14:29:29.674Z"
   },
   {
    "duration": 1257,
    "start_time": "2023-08-06T14:33:17.634Z"
   },
   {
    "duration": 1066,
    "start_time": "2023-08-06T14:33:18.893Z"
   },
   {
    "duration": 31,
    "start_time": "2023-08-06T14:33:19.960Z"
   },
   {
    "duration": 25,
    "start_time": "2023-08-06T14:33:20.000Z"
   },
   {
    "duration": 15,
    "start_time": "2023-08-06T14:33:20.027Z"
   },
   {
    "duration": 57,
    "start_time": "2023-08-06T14:33:20.044Z"
   },
   {
    "duration": 29,
    "start_time": "2023-08-06T14:33:20.106Z"
   },
   {
    "duration": 28,
    "start_time": "2023-08-06T14:33:20.139Z"
   },
   {
    "duration": 23,
    "start_time": "2023-08-06T14:33:20.168Z"
   },
   {
    "duration": 12,
    "start_time": "2023-08-06T14:33:20.194Z"
   },
   {
    "duration": 34,
    "start_time": "2023-08-06T14:33:20.208Z"
   },
   {
    "duration": 41,
    "start_time": "2023-08-06T14:33:20.244Z"
   },
   {
    "duration": 16,
    "start_time": "2023-08-06T14:33:20.287Z"
   },
   {
    "duration": 10,
    "start_time": "2023-08-06T14:33:20.306Z"
   },
   {
    "duration": 10,
    "start_time": "2023-08-06T14:33:20.319Z"
   },
   {
    "duration": 27,
    "start_time": "2023-08-06T14:33:20.331Z"
   },
   {
    "duration": 36,
    "start_time": "2023-08-06T14:33:20.360Z"
   },
   {
    "duration": 21,
    "start_time": "2023-08-06T14:33:20.402Z"
   },
   {
    "duration": 26,
    "start_time": "2023-08-06T14:33:20.426Z"
   },
   {
    "duration": 1944,
    "start_time": "2023-08-06T14:33:20.454Z"
   },
   {
    "duration": 312,
    "start_time": "2023-08-06T14:33:22.400Z"
   },
   {
    "duration": 90,
    "start_time": "2023-08-06T14:33:22.715Z"
   },
   {
    "duration": 5,
    "start_time": "2023-08-06T14:33:22.807Z"
   },
   {
    "duration": 14,
    "start_time": "2023-08-06T14:33:22.814Z"
   },
   {
    "duration": 23,
    "start_time": "2023-08-06T14:33:22.830Z"
   },
   {
    "duration": 942,
    "start_time": "2023-08-06T14:33:22.855Z"
   },
   {
    "duration": 67,
    "start_time": "2023-08-06T14:33:23.800Z"
   },
   {
    "duration": 19,
    "start_time": "2023-08-06T14:33:23.879Z"
   },
   {
    "duration": 625,
    "start_time": "2023-08-06T14:33:23.901Z"
   },
   {
    "duration": 218,
    "start_time": "2023-08-06T14:33:24.528Z"
   },
   {
    "duration": 36,
    "start_time": "2023-08-06T14:33:24.748Z"
   },
   {
    "duration": 8,
    "start_time": "2023-08-06T14:33:24.785Z"
   },
   {
    "duration": 7,
    "start_time": "2023-08-06T14:33:24.795Z"
   },
   {
    "duration": 29,
    "start_time": "2023-08-06T14:33:24.804Z"
   },
   {
    "duration": 19,
    "start_time": "2023-08-06T14:33:24.835Z"
   },
   {
    "duration": 37,
    "start_time": "2023-08-06T14:33:24.856Z"
   },
   {
    "duration": 24,
    "start_time": "2023-08-06T14:33:24.895Z"
   },
   {
    "duration": 12,
    "start_time": "2023-08-06T14:33:24.921Z"
   },
   {
    "duration": 24,
    "start_time": "2023-08-06T14:33:24.935Z"
   },
   {
    "duration": 33,
    "start_time": "2023-08-06T14:33:24.961Z"
   },
   {
    "duration": 20,
    "start_time": "2023-08-06T14:33:24.996Z"
   },
   {
    "duration": 75,
    "start_time": "2023-08-06T14:33:25.018Z"
   },
   {
    "duration": 4,
    "start_time": "2023-08-06T14:33:25.095Z"
   },
   {
    "duration": 17,
    "start_time": "2023-08-06T14:33:25.101Z"
   },
   {
    "duration": 124,
    "start_time": "2023-08-06T14:33:25.119Z"
   },
   {
    "duration": 77,
    "start_time": "2023-08-06T14:33:25.245Z"
   },
   {
    "duration": 32,
    "start_time": "2023-08-06T14:33:25.324Z"
   },
   {
    "duration": 40,
    "start_time": "2023-08-06T14:33:25.377Z"
   },
   {
    "duration": 1050,
    "start_time": "2023-08-06T14:33:25.418Z"
   },
   {
    "duration": 18,
    "start_time": "2023-08-06T14:33:26.470Z"
   },
   {
    "duration": 140,
    "start_time": "2023-08-06T14:33:26.490Z"
   },
   {
    "duration": 68,
    "start_time": "2023-08-06T14:33:26.632Z"
   },
   {
    "duration": 175,
    "start_time": "2023-08-06T14:33:26.702Z"
   },
   {
    "duration": 0,
    "start_time": "2023-08-06T14:33:26.879Z"
   },
   {
    "duration": 0,
    "start_time": "2023-08-06T14:33:26.880Z"
   },
   {
    "duration": 0,
    "start_time": "2023-08-06T14:33:26.881Z"
   },
   {
    "duration": 13,
    "start_time": "2023-08-06T14:34:18.579Z"
   },
   {
    "duration": 19,
    "start_time": "2023-08-06T14:34:24.675Z"
   },
   {
    "duration": 4,
    "start_time": "2023-08-06T14:36:28.258Z"
   },
   {
    "duration": 15,
    "start_time": "2023-08-06T14:36:29.440Z"
   },
   {
    "duration": 45,
    "start_time": "2023-08-06T14:36:56.894Z"
   },
   {
    "duration": 3,
    "start_time": "2023-08-06T14:37:01.010Z"
   },
   {
    "duration": 49,
    "start_time": "2023-08-06T14:37:01.421Z"
   },
   {
    "duration": 48,
    "start_time": "2023-08-06T14:37:01.727Z"
   },
   {
    "duration": 1253,
    "start_time": "2023-08-06T14:37:07.594Z"
   },
   {
    "duration": 939,
    "start_time": "2023-08-06T14:37:08.850Z"
   },
   {
    "duration": 22,
    "start_time": "2023-08-06T14:37:09.792Z"
   },
   {
    "duration": 21,
    "start_time": "2023-08-06T14:37:09.815Z"
   },
   {
    "duration": 4,
    "start_time": "2023-08-06T14:37:09.838Z"
   },
   {
    "duration": 11,
    "start_time": "2023-08-06T14:37:09.844Z"
   },
   {
    "duration": 27,
    "start_time": "2023-08-06T14:37:09.856Z"
   },
   {
    "duration": 13,
    "start_time": "2023-08-06T14:37:09.890Z"
   },
   {
    "duration": 12,
    "start_time": "2023-08-06T14:37:09.904Z"
   },
   {
    "duration": 11,
    "start_time": "2023-08-06T14:37:09.918Z"
   },
   {
    "duration": 9,
    "start_time": "2023-08-06T14:37:09.931Z"
   },
   {
    "duration": 56,
    "start_time": "2023-08-06T14:37:09.942Z"
   },
   {
    "duration": 13,
    "start_time": "2023-08-06T14:37:10.002Z"
   },
   {
    "duration": 9,
    "start_time": "2023-08-06T14:37:10.018Z"
   },
   {
    "duration": 12,
    "start_time": "2023-08-06T14:37:10.029Z"
   },
   {
    "duration": 47,
    "start_time": "2023-08-06T14:37:10.043Z"
   },
   {
    "duration": 26,
    "start_time": "2023-08-06T14:37:10.093Z"
   },
   {
    "duration": 17,
    "start_time": "2023-08-06T14:37:10.121Z"
   },
   {
    "duration": 39,
    "start_time": "2023-08-06T14:37:10.140Z"
   },
   {
    "duration": 1732,
    "start_time": "2023-08-06T14:37:10.180Z"
   },
   {
    "duration": 314,
    "start_time": "2023-08-06T14:37:11.914Z"
   },
   {
    "duration": 90,
    "start_time": "2023-08-06T14:37:12.230Z"
   },
   {
    "duration": 6,
    "start_time": "2023-08-06T14:37:12.321Z"
   },
   {
    "duration": 10,
    "start_time": "2023-08-06T14:37:12.328Z"
   },
   {
    "duration": 19,
    "start_time": "2023-08-06T14:37:12.340Z"
   },
   {
    "duration": 839,
    "start_time": "2023-08-06T14:37:12.360Z"
   },
   {
    "duration": 52,
    "start_time": "2023-08-06T14:37:13.201Z"
   },
   {
    "duration": 34,
    "start_time": "2023-08-06T14:37:13.255Z"
   },
   {
    "duration": 512,
    "start_time": "2023-08-06T14:37:13.291Z"
   },
   {
    "duration": 244,
    "start_time": "2023-08-06T14:37:13.804Z"
   },
   {
    "duration": 45,
    "start_time": "2023-08-06T14:37:14.050Z"
   },
   {
    "duration": 7,
    "start_time": "2023-08-06T14:37:14.098Z"
   },
   {
    "duration": 9,
    "start_time": "2023-08-06T14:37:14.107Z"
   },
   {
    "duration": 7,
    "start_time": "2023-08-06T14:37:14.118Z"
   },
   {
    "duration": 13,
    "start_time": "2023-08-06T14:37:14.128Z"
   },
   {
    "duration": 13,
    "start_time": "2023-08-06T14:37:14.143Z"
   },
   {
    "duration": 41,
    "start_time": "2023-08-06T14:37:14.157Z"
   },
   {
    "duration": 6,
    "start_time": "2023-08-06T14:37:14.199Z"
   },
   {
    "duration": 4,
    "start_time": "2023-08-06T14:37:14.207Z"
   },
   {
    "duration": 5,
    "start_time": "2023-08-06T14:37:14.212Z"
   },
   {
    "duration": 3,
    "start_time": "2023-08-06T14:37:14.221Z"
   },
   {
    "duration": 77,
    "start_time": "2023-08-06T14:37:14.225Z"
   },
   {
    "duration": 5,
    "start_time": "2023-08-06T14:37:14.304Z"
   },
   {
    "duration": 5,
    "start_time": "2023-08-06T14:37:14.311Z"
   },
   {
    "duration": 92,
    "start_time": "2023-08-06T14:37:14.318Z"
   },
   {
    "duration": 83,
    "start_time": "2023-08-06T14:37:14.412Z"
   },
   {
    "duration": 21,
    "start_time": "2023-08-06T14:37:14.497Z"
   },
   {
    "duration": 41,
    "start_time": "2023-08-06T14:37:14.519Z"
   },
   {
    "duration": 1069,
    "start_time": "2023-08-06T14:37:14.574Z"
   },
   {
    "duration": 12,
    "start_time": "2023-08-06T14:37:15.645Z"
   },
   {
    "duration": 18,
    "start_time": "2023-08-06T14:37:15.659Z"
   },
   {
    "duration": 39,
    "start_time": "2023-08-06T14:37:15.680Z"
   },
   {
    "duration": 56,
    "start_time": "2023-08-06T14:37:15.721Z"
   },
   {
    "duration": 4,
    "start_time": "2023-08-06T14:37:15.779Z"
   },
   {
    "duration": 45,
    "start_time": "2023-08-06T14:37:15.785Z"
   },
   {
    "duration": 62,
    "start_time": "2023-08-06T14:37:15.832Z"
   },
   {
    "duration": 14,
    "start_time": "2023-08-06T14:50:38.231Z"
   },
   {
    "duration": 1442,
    "start_time": "2023-08-07T18:58:01.804Z"
   },
   {
    "duration": 1130,
    "start_time": "2023-08-07T18:58:03.248Z"
   },
   {
    "duration": 28,
    "start_time": "2023-08-07T18:58:04.380Z"
   },
   {
    "duration": 22,
    "start_time": "2023-08-07T18:58:04.410Z"
   },
   {
    "duration": 9,
    "start_time": "2023-08-07T18:58:04.434Z"
   },
   {
    "duration": 13,
    "start_time": "2023-08-07T18:58:04.444Z"
   },
   {
    "duration": 23,
    "start_time": "2023-08-07T18:58:04.458Z"
   },
   {
    "duration": 10,
    "start_time": "2023-08-07T18:58:04.482Z"
   },
   {
    "duration": 10,
    "start_time": "2023-08-07T18:58:04.494Z"
   },
   {
    "duration": 27,
    "start_time": "2023-08-07T18:58:04.507Z"
   },
   {
    "duration": 13,
    "start_time": "2023-08-07T18:58:04.536Z"
   },
   {
    "duration": 30,
    "start_time": "2023-08-07T18:58:04.551Z"
   },
   {
    "duration": 9,
    "start_time": "2023-08-07T18:58:04.582Z"
   },
   {
    "duration": 6,
    "start_time": "2023-08-07T18:58:04.593Z"
   },
   {
    "duration": 7,
    "start_time": "2023-08-07T18:58:04.601Z"
   },
   {
    "duration": 58,
    "start_time": "2023-08-07T18:58:04.610Z"
   },
   {
    "duration": 23,
    "start_time": "2023-08-07T18:58:04.670Z"
   },
   {
    "duration": 14,
    "start_time": "2023-08-07T18:58:04.695Z"
   },
   {
    "duration": 29,
    "start_time": "2023-08-07T18:58:04.711Z"
   },
   {
    "duration": 2191,
    "start_time": "2023-08-07T18:58:04.742Z"
   },
   {
    "duration": 288,
    "start_time": "2023-08-07T18:58:06.935Z"
   },
   {
    "duration": 72,
    "start_time": "2023-08-07T18:58:07.225Z"
   },
   {
    "duration": 5,
    "start_time": "2023-08-07T18:58:07.299Z"
   },
   {
    "duration": 22,
    "start_time": "2023-08-07T18:58:07.305Z"
   },
   {
    "duration": 44,
    "start_time": "2023-08-07T18:58:07.329Z"
   },
   {
    "duration": 775,
    "start_time": "2023-08-07T18:58:07.374Z"
   },
   {
    "duration": 51,
    "start_time": "2023-08-07T18:58:08.151Z"
   },
   {
    "duration": 12,
    "start_time": "2023-08-07T18:58:08.206Z"
   },
   {
    "duration": 1692,
    "start_time": "2023-08-07T18:58:08.220Z"
   },
   {
    "duration": 215,
    "start_time": "2023-08-07T18:58:09.913Z"
   },
   {
    "duration": 22,
    "start_time": "2023-08-07T18:58:10.129Z"
   },
   {
    "duration": 42,
    "start_time": "2023-08-07T18:58:10.153Z"
   },
   {
    "duration": 153,
    "start_time": "2023-08-07T18:58:10.196Z"
   },
   {
    "duration": 93,
    "start_time": "2023-08-07T18:58:10.351Z"
   },
   {
    "duration": 52,
    "start_time": "2023-08-07T18:58:10.445Z"
   },
   {
    "duration": 79,
    "start_time": "2023-08-07T18:58:10.499Z"
   },
   {
    "duration": 33,
    "start_time": "2023-08-07T18:58:10.580Z"
   },
   {
    "duration": 55,
    "start_time": "2023-08-07T18:58:10.614Z"
   },
   {
    "duration": 22,
    "start_time": "2023-08-07T18:58:10.671Z"
   },
   {
    "duration": 21,
    "start_time": "2023-08-07T18:58:10.695Z"
   },
   {
    "duration": 25,
    "start_time": "2023-08-07T18:58:10.718Z"
   },
   {
    "duration": 71,
    "start_time": "2023-08-07T18:58:10.745Z"
   },
   {
    "duration": 5,
    "start_time": "2023-08-07T18:58:10.818Z"
   },
   {
    "duration": 26,
    "start_time": "2023-08-07T18:58:10.824Z"
   },
   {
    "duration": 79,
    "start_time": "2023-08-07T18:58:10.852Z"
   },
   {
    "duration": 68,
    "start_time": "2023-08-07T18:58:10.932Z"
   },
   {
    "duration": 33,
    "start_time": "2023-08-07T18:58:11.002Z"
   },
   {
    "duration": 856,
    "start_time": "2023-08-07T18:58:11.036Z"
   },
   {
    "duration": 13,
    "start_time": "2023-08-07T18:58:11.894Z"
   },
   {
    "duration": 46,
    "start_time": "2023-08-07T18:58:11.909Z"
   },
   {
    "duration": 94,
    "start_time": "2023-08-07T18:58:11.956Z"
   },
   {
    "duration": 42,
    "start_time": "2023-08-07T18:58:12.052Z"
   },
   {
    "duration": 43,
    "start_time": "2023-08-07T18:58:12.096Z"
   },
   {
    "duration": 4,
    "start_time": "2023-08-07T18:58:12.141Z"
   },
   {
    "duration": 54,
    "start_time": "2023-08-07T18:58:12.146Z"
   },
   {
    "duration": 49,
    "start_time": "2023-08-07T18:58:12.201Z"
   },
   {
    "duration": 1515,
    "start_time": "2023-08-09T15:13:13.968Z"
   },
   {
    "duration": 1449,
    "start_time": "2023-08-09T15:13:15.485Z"
   },
   {
    "duration": 25,
    "start_time": "2023-08-09T15:13:16.936Z"
   },
   {
    "duration": 22,
    "start_time": "2023-08-09T15:13:16.964Z"
   },
   {
    "duration": 5,
    "start_time": "2023-08-09T15:13:16.988Z"
   },
   {
    "duration": 24,
    "start_time": "2023-08-09T15:13:16.995Z"
   },
   {
    "duration": 14,
    "start_time": "2023-08-09T15:13:17.021Z"
   },
   {
    "duration": 27,
    "start_time": "2023-08-09T15:13:17.036Z"
   },
   {
    "duration": 12,
    "start_time": "2023-08-09T15:13:17.065Z"
   },
   {
    "duration": 17,
    "start_time": "2023-08-09T15:13:17.079Z"
   },
   {
    "duration": 11,
    "start_time": "2023-08-09T15:13:17.098Z"
   },
   {
    "duration": 11,
    "start_time": "2023-08-09T15:13:17.111Z"
   },
   {
    "duration": 36,
    "start_time": "2023-08-09T15:13:17.124Z"
   },
   {
    "duration": 30,
    "start_time": "2023-08-09T15:13:17.162Z"
   },
   {
    "duration": 10,
    "start_time": "2023-08-09T15:13:17.194Z"
   },
   {
    "duration": 9,
    "start_time": "2023-08-09T15:13:17.206Z"
   },
   {
    "duration": 27,
    "start_time": "2023-08-09T15:13:17.216Z"
   },
   {
    "duration": 19,
    "start_time": "2023-08-09T15:13:17.244Z"
   },
   {
    "duration": 10,
    "start_time": "2023-08-09T15:13:17.265Z"
   },
   {
    "duration": 21,
    "start_time": "2023-08-09T15:13:17.278Z"
   },
   {
    "duration": 1835,
    "start_time": "2023-08-09T15:13:17.301Z"
   },
   {
    "duration": 300,
    "start_time": "2023-08-09T15:13:19.138Z"
   },
   {
    "duration": 22,
    "start_time": "2023-08-09T15:13:19.441Z"
   },
   {
    "duration": 15,
    "start_time": "2023-08-09T15:13:19.465Z"
   },
   {
    "duration": 26,
    "start_time": "2023-08-09T15:13:19.481Z"
   },
   {
    "duration": 2629,
    "start_time": "2023-08-09T15:13:19.510Z"
   },
   {
    "duration": 5,
    "start_time": "2023-08-09T15:13:22.141Z"
   },
   {
    "duration": 8,
    "start_time": "2023-08-09T15:13:22.160Z"
   },
   {
    "duration": 14,
    "start_time": "2023-08-09T15:13:22.171Z"
   },
   {
    "duration": 24,
    "start_time": "2023-08-09T15:13:22.187Z"
   },
   {
    "duration": 873,
    "start_time": "2023-08-09T15:13:22.213Z"
   },
   {
    "duration": 73,
    "start_time": "2023-08-09T15:13:23.089Z"
   },
   {
    "duration": 16,
    "start_time": "2023-08-09T15:13:23.164Z"
   },
   {
    "duration": 578,
    "start_time": "2023-08-09T15:13:23.181Z"
   },
   {
    "duration": 171,
    "start_time": "2023-08-09T15:13:23.761Z"
   },
   {
    "duration": 0,
    "start_time": "2023-08-09T15:13:23.934Z"
   },
   {
    "duration": 0,
    "start_time": "2023-08-09T15:13:23.936Z"
   },
   {
    "duration": 0,
    "start_time": "2023-08-09T15:13:23.937Z"
   },
   {
    "duration": 0,
    "start_time": "2023-08-09T15:13:23.938Z"
   },
   {
    "duration": 0,
    "start_time": "2023-08-09T15:13:23.939Z"
   },
   {
    "duration": 0,
    "start_time": "2023-08-09T15:13:23.960Z"
   },
   {
    "duration": 0,
    "start_time": "2023-08-09T15:13:23.961Z"
   },
   {
    "duration": 0,
    "start_time": "2023-08-09T15:13:23.962Z"
   },
   {
    "duration": 0,
    "start_time": "2023-08-09T15:13:23.963Z"
   },
   {
    "duration": 0,
    "start_time": "2023-08-09T15:13:23.965Z"
   },
   {
    "duration": 0,
    "start_time": "2023-08-09T15:13:23.966Z"
   },
   {
    "duration": 0,
    "start_time": "2023-08-09T15:13:23.968Z"
   },
   {
    "duration": 0,
    "start_time": "2023-08-09T15:13:23.970Z"
   },
   {
    "duration": 0,
    "start_time": "2023-08-09T15:13:23.972Z"
   },
   {
    "duration": 0,
    "start_time": "2023-08-09T15:13:23.974Z"
   },
   {
    "duration": 0,
    "start_time": "2023-08-09T15:13:23.975Z"
   },
   {
    "duration": 0,
    "start_time": "2023-08-09T15:13:23.977Z"
   },
   {
    "duration": 0,
    "start_time": "2023-08-09T15:13:23.979Z"
   },
   {
    "duration": 0,
    "start_time": "2023-08-09T15:13:23.980Z"
   },
   {
    "duration": 0,
    "start_time": "2023-08-09T15:13:23.982Z"
   },
   {
    "duration": 0,
    "start_time": "2023-08-09T15:13:23.984Z"
   },
   {
    "duration": 0,
    "start_time": "2023-08-09T15:13:23.986Z"
   },
   {
    "duration": 0,
    "start_time": "2023-08-09T15:13:23.988Z"
   },
   {
    "duration": 0,
    "start_time": "2023-08-09T15:13:23.990Z"
   },
   {
    "duration": 0,
    "start_time": "2023-08-09T15:13:23.992Z"
   },
   {
    "duration": 0,
    "start_time": "2023-08-09T15:13:23.993Z"
   },
   {
    "duration": 1290,
    "start_time": "2023-08-09T15:51:26.942Z"
   },
   {
    "duration": 1001,
    "start_time": "2023-08-09T15:51:28.234Z"
   },
   {
    "duration": 23,
    "start_time": "2023-08-09T15:51:29.237Z"
   },
   {
    "duration": 23,
    "start_time": "2023-08-09T15:51:29.262Z"
   },
   {
    "duration": 5,
    "start_time": "2023-08-09T15:51:29.287Z"
   },
   {
    "duration": 29,
    "start_time": "2023-08-09T15:51:29.294Z"
   },
   {
    "duration": 37,
    "start_time": "2023-08-09T15:51:29.325Z"
   },
   {
    "duration": 21,
    "start_time": "2023-08-09T15:51:29.363Z"
   },
   {
    "duration": 14,
    "start_time": "2023-08-09T15:51:29.386Z"
   },
   {
    "duration": 27,
    "start_time": "2023-08-09T15:51:29.402Z"
   },
   {
    "duration": 27,
    "start_time": "2023-08-09T15:51:29.432Z"
   },
   {
    "duration": 13,
    "start_time": "2023-08-09T15:51:29.461Z"
   },
   {
    "duration": 8,
    "start_time": "2023-08-09T15:51:29.485Z"
   },
   {
    "duration": 27,
    "start_time": "2023-08-09T15:51:29.496Z"
   },
   {
    "duration": 11,
    "start_time": "2023-08-09T15:51:29.525Z"
   },
   {
    "duration": 29,
    "start_time": "2023-08-09T15:51:29.537Z"
   },
   {
    "duration": 37,
    "start_time": "2023-08-09T15:51:29.568Z"
   },
   {
    "duration": 15,
    "start_time": "2023-08-09T15:51:29.607Z"
   },
   {
    "duration": 11,
    "start_time": "2023-08-09T15:51:29.625Z"
   },
   {
    "duration": 33,
    "start_time": "2023-08-09T15:51:29.638Z"
   },
   {
    "duration": 1712,
    "start_time": "2023-08-09T15:51:29.673Z"
   },
   {
    "duration": 303,
    "start_time": "2023-08-09T15:51:31.387Z"
   },
   {
    "duration": 17,
    "start_time": "2023-08-09T15:51:31.692Z"
   },
   {
    "duration": 54,
    "start_time": "2023-08-09T15:51:31.711Z"
   },
   {
    "duration": 136,
    "start_time": "2023-08-09T15:51:31.767Z"
   },
   {
    "duration": 0,
    "start_time": "2023-08-09T15:51:31.906Z"
   },
   {
    "duration": 0,
    "start_time": "2023-08-09T15:51:31.908Z"
   },
   {
    "duration": 0,
    "start_time": "2023-08-09T15:51:31.909Z"
   },
   {
    "duration": 0,
    "start_time": "2023-08-09T15:51:31.910Z"
   },
   {
    "duration": 0,
    "start_time": "2023-08-09T15:51:31.912Z"
   },
   {
    "duration": 0,
    "start_time": "2023-08-09T15:51:31.913Z"
   },
   {
    "duration": 0,
    "start_time": "2023-08-09T15:51:31.914Z"
   },
   {
    "duration": 0,
    "start_time": "2023-08-09T15:51:31.916Z"
   },
   {
    "duration": 0,
    "start_time": "2023-08-09T15:51:31.917Z"
   },
   {
    "duration": 0,
    "start_time": "2023-08-09T15:51:31.919Z"
   },
   {
    "duration": 0,
    "start_time": "2023-08-09T15:51:31.920Z"
   },
   {
    "duration": 0,
    "start_time": "2023-08-09T15:51:31.922Z"
   },
   {
    "duration": 0,
    "start_time": "2023-08-09T15:51:31.923Z"
   },
   {
    "duration": 0,
    "start_time": "2023-08-09T15:51:31.925Z"
   },
   {
    "duration": 0,
    "start_time": "2023-08-09T15:51:31.926Z"
   },
   {
    "duration": 0,
    "start_time": "2023-08-09T15:51:31.960Z"
   },
   {
    "duration": 0,
    "start_time": "2023-08-09T15:51:31.962Z"
   },
   {
    "duration": 0,
    "start_time": "2023-08-09T15:51:31.963Z"
   },
   {
    "duration": 0,
    "start_time": "2023-08-09T15:51:31.964Z"
   },
   {
    "duration": 0,
    "start_time": "2023-08-09T15:51:31.966Z"
   },
   {
    "duration": 0,
    "start_time": "2023-08-09T15:51:31.967Z"
   },
   {
    "duration": 0,
    "start_time": "2023-08-09T15:51:31.969Z"
   },
   {
    "duration": 0,
    "start_time": "2023-08-09T15:51:31.970Z"
   },
   {
    "duration": 0,
    "start_time": "2023-08-09T15:51:31.971Z"
   },
   {
    "duration": 0,
    "start_time": "2023-08-09T15:51:31.972Z"
   },
   {
    "duration": 0,
    "start_time": "2023-08-09T15:51:31.973Z"
   },
   {
    "duration": 0,
    "start_time": "2023-08-09T15:51:31.974Z"
   },
   {
    "duration": 0,
    "start_time": "2023-08-09T15:51:31.975Z"
   },
   {
    "duration": 0,
    "start_time": "2023-08-09T15:51:31.976Z"
   },
   {
    "duration": 0,
    "start_time": "2023-08-09T15:51:31.978Z"
   },
   {
    "duration": 0,
    "start_time": "2023-08-09T15:51:31.979Z"
   },
   {
    "duration": 0,
    "start_time": "2023-08-09T15:51:31.980Z"
   },
   {
    "duration": 0,
    "start_time": "2023-08-09T15:51:31.981Z"
   },
   {
    "duration": 0,
    "start_time": "2023-08-09T15:51:31.982Z"
   },
   {
    "duration": 0,
    "start_time": "2023-08-09T15:51:31.983Z"
   },
   {
    "duration": 0,
    "start_time": "2023-08-09T15:51:31.984Z"
   },
   {
    "duration": 0,
    "start_time": "2023-08-09T15:51:31.985Z"
   },
   {
    "duration": 0,
    "start_time": "2023-08-09T15:51:31.986Z"
   },
   {
    "duration": 18,
    "start_time": "2023-08-09T15:52:00.554Z"
   },
   {
    "duration": 5,
    "start_time": "2023-08-09T15:52:40.173Z"
   },
   {
    "duration": 17,
    "start_time": "2023-08-09T15:52:56.880Z"
   },
   {
    "duration": 1524,
    "start_time": "2023-08-09T17:40:24.366Z"
   },
   {
    "duration": 1162,
    "start_time": "2023-08-09T17:40:25.892Z"
   },
   {
    "duration": 25,
    "start_time": "2023-08-09T17:40:27.056Z"
   },
   {
    "duration": 24,
    "start_time": "2023-08-09T17:40:27.083Z"
   },
   {
    "duration": 23,
    "start_time": "2023-08-09T17:40:27.108Z"
   },
   {
    "duration": 22,
    "start_time": "2023-08-09T17:40:27.133Z"
   },
   {
    "duration": 15,
    "start_time": "2023-08-09T17:40:27.158Z"
   },
   {
    "duration": 13,
    "start_time": "2023-08-09T17:40:27.176Z"
   },
   {
    "duration": 13,
    "start_time": "2023-08-09T17:40:27.191Z"
   },
   {
    "duration": 47,
    "start_time": "2023-08-09T17:40:27.207Z"
   },
   {
    "duration": 18,
    "start_time": "2023-08-09T17:40:27.256Z"
   },
   {
    "duration": 13,
    "start_time": "2023-08-09T17:40:27.276Z"
   },
   {
    "duration": 15,
    "start_time": "2023-08-09T17:40:27.291Z"
   },
   {
    "duration": 44,
    "start_time": "2023-08-09T17:40:27.308Z"
   },
   {
    "duration": 20,
    "start_time": "2023-08-09T17:40:27.354Z"
   },
   {
    "duration": 9,
    "start_time": "2023-08-09T17:40:27.376Z"
   },
   {
    "duration": 59,
    "start_time": "2023-08-09T17:40:27.387Z"
   },
   {
    "duration": 19,
    "start_time": "2023-08-09T17:40:27.448Z"
   },
   {
    "duration": 23,
    "start_time": "2023-08-09T17:40:27.468Z"
   },
   {
    "duration": 36,
    "start_time": "2023-08-09T17:40:27.493Z"
   },
   {
    "duration": 1780,
    "start_time": "2023-08-09T17:40:27.531Z"
   },
   {
    "duration": 302,
    "start_time": "2023-08-09T17:40:29.313Z"
   },
   {
    "duration": 7,
    "start_time": "2023-08-09T17:40:29.617Z"
   },
   {
    "duration": 12,
    "start_time": "2023-08-09T17:40:29.626Z"
   },
   {
    "duration": 122,
    "start_time": "2023-08-09T17:40:29.639Z"
   },
   {
    "duration": 0,
    "start_time": "2023-08-09T17:40:29.763Z"
   },
   {
    "duration": 0,
    "start_time": "2023-08-09T17:40:29.765Z"
   },
   {
    "duration": 0,
    "start_time": "2023-08-09T17:40:29.774Z"
   },
   {
    "duration": 0,
    "start_time": "2023-08-09T17:40:29.775Z"
   },
   {
    "duration": 0,
    "start_time": "2023-08-09T17:40:29.776Z"
   },
   {
    "duration": 0,
    "start_time": "2023-08-09T17:40:29.777Z"
   },
   {
    "duration": 0,
    "start_time": "2023-08-09T17:40:29.778Z"
   },
   {
    "duration": 0,
    "start_time": "2023-08-09T17:40:29.779Z"
   },
   {
    "duration": 0,
    "start_time": "2023-08-09T17:40:29.780Z"
   },
   {
    "duration": 0,
    "start_time": "2023-08-09T17:40:29.781Z"
   },
   {
    "duration": 0,
    "start_time": "2023-08-09T17:40:29.782Z"
   },
   {
    "duration": 0,
    "start_time": "2023-08-09T17:40:29.783Z"
   },
   {
    "duration": 0,
    "start_time": "2023-08-09T17:40:29.784Z"
   },
   {
    "duration": 0,
    "start_time": "2023-08-09T17:40:29.785Z"
   },
   {
    "duration": 0,
    "start_time": "2023-08-09T17:40:29.786Z"
   },
   {
    "duration": 0,
    "start_time": "2023-08-09T17:40:29.787Z"
   },
   {
    "duration": 0,
    "start_time": "2023-08-09T17:40:29.788Z"
   },
   {
    "duration": 0,
    "start_time": "2023-08-09T17:40:29.789Z"
   },
   {
    "duration": 0,
    "start_time": "2023-08-09T17:40:29.791Z"
   },
   {
    "duration": 0,
    "start_time": "2023-08-09T17:40:29.792Z"
   },
   {
    "duration": 0,
    "start_time": "2023-08-09T17:40:29.793Z"
   },
   {
    "duration": 0,
    "start_time": "2023-08-09T17:40:29.794Z"
   },
   {
    "duration": 0,
    "start_time": "2023-08-09T17:40:29.795Z"
   },
   {
    "duration": 0,
    "start_time": "2023-08-09T17:40:29.795Z"
   },
   {
    "duration": 0,
    "start_time": "2023-08-09T17:40:29.796Z"
   },
   {
    "duration": 0,
    "start_time": "2023-08-09T17:40:29.797Z"
   },
   {
    "duration": 0,
    "start_time": "2023-08-09T17:40:29.798Z"
   },
   {
    "duration": 0,
    "start_time": "2023-08-09T17:40:29.800Z"
   },
   {
    "duration": 0,
    "start_time": "2023-08-09T17:40:29.801Z"
   },
   {
    "duration": 0,
    "start_time": "2023-08-09T17:40:29.802Z"
   },
   {
    "duration": 0,
    "start_time": "2023-08-09T17:40:29.803Z"
   },
   {
    "duration": 0,
    "start_time": "2023-08-09T17:40:29.804Z"
   },
   {
    "duration": 0,
    "start_time": "2023-08-09T17:40:29.805Z"
   },
   {
    "duration": 0,
    "start_time": "2023-08-09T17:40:29.806Z"
   },
   {
    "duration": 0,
    "start_time": "2023-08-09T17:40:29.807Z"
   },
   {
    "duration": 0,
    "start_time": "2023-08-09T17:40:29.808Z"
   },
   {
    "duration": 0,
    "start_time": "2023-08-09T17:40:29.809Z"
   },
   {
    "duration": 0,
    "start_time": "2023-08-09T17:40:29.810Z"
   },
   {
    "duration": 16,
    "start_time": "2023-08-09T17:42:04.542Z"
   },
   {
    "duration": 35,
    "start_time": "2023-08-09T17:42:30.489Z"
   },
   {
    "duration": 6,
    "start_time": "2023-08-09T17:43:47.831Z"
   },
   {
    "duration": 20,
    "start_time": "2023-08-09T17:43:59.448Z"
   },
   {
    "duration": 98,
    "start_time": "2023-08-09T17:44:05.380Z"
   },
   {
    "duration": 18,
    "start_time": "2023-08-09T17:44:07.825Z"
   },
   {
    "duration": 11,
    "start_time": "2023-08-09T17:44:13.872Z"
   },
   {
    "duration": 18,
    "start_time": "2023-08-09T17:44:36.074Z"
   },
   {
    "duration": 7,
    "start_time": "2023-08-09T17:44:45.810Z"
   },
   {
    "duration": 5,
    "start_time": "2023-08-09T17:45:36.274Z"
   },
   {
    "duration": 1279,
    "start_time": "2023-08-09T17:45:44.747Z"
   },
   {
    "duration": 1249,
    "start_time": "2023-08-09T17:45:46.028Z"
   },
   {
    "duration": 34,
    "start_time": "2023-08-09T17:45:47.280Z"
   },
   {
    "duration": 34,
    "start_time": "2023-08-09T17:45:47.317Z"
   },
   {
    "duration": 25,
    "start_time": "2023-08-09T17:45:47.355Z"
   },
   {
    "duration": 19,
    "start_time": "2023-08-09T17:45:47.383Z"
   },
   {
    "duration": 17,
    "start_time": "2023-08-09T17:45:47.404Z"
   },
   {
    "duration": 23,
    "start_time": "2023-08-09T17:45:47.423Z"
   },
   {
    "duration": 40,
    "start_time": "2023-08-09T17:45:47.448Z"
   },
   {
    "duration": 18,
    "start_time": "2023-08-09T17:45:47.490Z"
   },
   {
    "duration": 18,
    "start_time": "2023-08-09T17:45:47.511Z"
   },
   {
    "duration": 44,
    "start_time": "2023-08-09T17:45:47.532Z"
   },
   {
    "duration": 6,
    "start_time": "2023-08-09T17:45:47.578Z"
   },
   {
    "duration": 33,
    "start_time": "2023-08-09T17:45:47.587Z"
   },
   {
    "duration": 11,
    "start_time": "2023-08-09T17:45:47.622Z"
   },
   {
    "duration": 40,
    "start_time": "2023-08-09T17:45:47.635Z"
   },
   {
    "duration": 33,
    "start_time": "2023-08-09T17:45:47.677Z"
   },
   {
    "duration": 25,
    "start_time": "2023-08-09T17:45:47.713Z"
   },
   {
    "duration": 22,
    "start_time": "2023-08-09T17:45:47.740Z"
   },
   {
    "duration": 23,
    "start_time": "2023-08-09T17:45:47.765Z"
   },
   {
    "duration": 1990,
    "start_time": "2023-08-09T17:45:47.791Z"
   },
   {
    "duration": 306,
    "start_time": "2023-08-09T17:45:49.783Z"
   },
   {
    "duration": 14,
    "start_time": "2023-08-09T17:45:50.091Z"
   },
   {
    "duration": 60,
    "start_time": "2023-08-09T17:45:50.107Z"
   },
   {
    "duration": 174,
    "start_time": "2023-08-09T17:45:50.169Z"
   },
   {
    "duration": 7,
    "start_time": "2023-08-09T17:45:50.346Z"
   },
   {
    "duration": 58,
    "start_time": "2023-08-09T17:45:50.356Z"
   },
   {
    "duration": 22,
    "start_time": "2023-08-09T17:45:50.419Z"
   },
   {
    "duration": 55,
    "start_time": "2023-08-09T17:45:50.444Z"
   },
   {
    "duration": 943,
    "start_time": "2023-08-09T17:45:50.502Z"
   },
   {
    "duration": 61,
    "start_time": "2023-08-09T17:45:51.447Z"
   },
   {
    "duration": 15,
    "start_time": "2023-08-09T17:45:51.510Z"
   },
   {
    "duration": 611,
    "start_time": "2023-08-09T17:45:51.527Z"
   },
   {
    "duration": 179,
    "start_time": "2023-08-09T17:45:52.141Z"
   },
   {
    "duration": 0,
    "start_time": "2023-08-09T17:45:52.324Z"
   },
   {
    "duration": 0,
    "start_time": "2023-08-09T17:45:52.325Z"
   },
   {
    "duration": 0,
    "start_time": "2023-08-09T17:45:52.327Z"
   },
   {
    "duration": 0,
    "start_time": "2023-08-09T17:45:52.328Z"
   },
   {
    "duration": 0,
    "start_time": "2023-08-09T17:45:52.330Z"
   },
   {
    "duration": 0,
    "start_time": "2023-08-09T17:45:52.332Z"
   },
   {
    "duration": 0,
    "start_time": "2023-08-09T17:45:52.334Z"
   },
   {
    "duration": 0,
    "start_time": "2023-08-09T17:45:52.335Z"
   },
   {
    "duration": 0,
    "start_time": "2023-08-09T17:45:52.336Z"
   },
   {
    "duration": 0,
    "start_time": "2023-08-09T17:45:52.338Z"
   },
   {
    "duration": 0,
    "start_time": "2023-08-09T17:45:52.340Z"
   },
   {
    "duration": 0,
    "start_time": "2023-08-09T17:45:52.342Z"
   },
   {
    "duration": 0,
    "start_time": "2023-08-09T17:45:52.375Z"
   },
   {
    "duration": 0,
    "start_time": "2023-08-09T17:45:52.377Z"
   },
   {
    "duration": 0,
    "start_time": "2023-08-09T17:45:52.379Z"
   },
   {
    "duration": 0,
    "start_time": "2023-08-09T17:45:52.381Z"
   },
   {
    "duration": 0,
    "start_time": "2023-08-09T17:45:52.382Z"
   },
   {
    "duration": 0,
    "start_time": "2023-08-09T17:45:52.384Z"
   },
   {
    "duration": 0,
    "start_time": "2023-08-09T17:45:52.386Z"
   },
   {
    "duration": 0,
    "start_time": "2023-08-09T17:45:52.388Z"
   },
   {
    "duration": 0,
    "start_time": "2023-08-09T17:45:52.389Z"
   },
   {
    "duration": 0,
    "start_time": "2023-08-09T17:45:52.391Z"
   },
   {
    "duration": 0,
    "start_time": "2023-08-09T17:45:52.393Z"
   },
   {
    "duration": 0,
    "start_time": "2023-08-09T17:45:52.394Z"
   },
   {
    "duration": 0,
    "start_time": "2023-08-09T17:45:52.396Z"
   },
   {
    "duration": 1,
    "start_time": "2023-08-09T17:45:52.397Z"
   },
   {
    "duration": 10,
    "start_time": "2023-08-09T17:48:17.099Z"
   },
   {
    "duration": 12,
    "start_time": "2023-08-09T17:49:15.890Z"
   },
   {
    "duration": 5,
    "start_time": "2023-08-09T17:51:09.033Z"
   },
   {
    "duration": 5,
    "start_time": "2023-08-09T17:51:20.635Z"
   },
   {
    "duration": 9,
    "start_time": "2023-08-09T17:55:40.311Z"
   },
   {
    "duration": 7,
    "start_time": "2023-08-09T17:55:57.434Z"
   },
   {
    "duration": 8,
    "start_time": "2023-08-09T17:56:02.297Z"
   },
   {
    "duration": 7,
    "start_time": "2023-08-09T17:59:18.341Z"
   },
   {
    "duration": 18,
    "start_time": "2023-08-09T17:59:29.730Z"
   },
   {
    "duration": 15,
    "start_time": "2023-08-09T18:00:17.717Z"
   },
   {
    "duration": 111,
    "start_time": "2023-08-09T18:00:40.300Z"
   },
   {
    "duration": 11,
    "start_time": "2023-08-09T18:01:09.850Z"
   },
   {
    "duration": 13,
    "start_time": "2023-08-09T18:01:22.861Z"
   },
   {
    "duration": 31,
    "start_time": "2023-08-09T18:04:45.300Z"
   },
   {
    "duration": 29,
    "start_time": "2023-08-09T18:05:01.338Z"
   },
   {
    "duration": 44,
    "start_time": "2023-08-09T18:05:24.606Z"
   },
   {
    "duration": 25,
    "start_time": "2023-08-09T18:05:44.256Z"
   },
   {
    "duration": 16,
    "start_time": "2023-08-09T18:06:02.758Z"
   },
   {
    "duration": 25,
    "start_time": "2023-08-09T18:08:04.337Z"
   },
   {
    "duration": 20,
    "start_time": "2023-08-09T18:09:28.425Z"
   },
   {
    "duration": 22,
    "start_time": "2023-08-09T18:09:33.650Z"
   },
   {
    "duration": 8,
    "start_time": "2023-08-09T18:11:44.647Z"
   },
   {
    "duration": 10,
    "start_time": "2023-08-09T18:12:38.705Z"
   },
   {
    "duration": 16,
    "start_time": "2023-08-09T18:12:59.467Z"
   },
   {
    "duration": 17,
    "start_time": "2023-08-09T18:13:42.005Z"
   },
   {
    "duration": 7,
    "start_time": "2023-08-09T18:14:14.650Z"
   },
   {
    "duration": 15,
    "start_time": "2023-08-09T18:14:15.739Z"
   },
   {
    "duration": 15,
    "start_time": "2023-08-09T18:14:21.695Z"
   },
   {
    "duration": 1377,
    "start_time": "2023-08-09T18:14:29.112Z"
   },
   {
    "duration": 1096,
    "start_time": "2023-08-09T18:14:30.491Z"
   },
   {
    "duration": 23,
    "start_time": "2023-08-09T18:14:31.589Z"
   },
   {
    "duration": 49,
    "start_time": "2023-08-09T18:14:31.614Z"
   },
   {
    "duration": 21,
    "start_time": "2023-08-09T18:14:31.665Z"
   },
   {
    "duration": 42,
    "start_time": "2023-08-09T18:14:31.688Z"
   },
   {
    "duration": 34,
    "start_time": "2023-08-09T18:14:31.732Z"
   },
   {
    "duration": 36,
    "start_time": "2023-08-09T18:14:31.768Z"
   },
   {
    "duration": 39,
    "start_time": "2023-08-09T18:14:31.807Z"
   },
   {
    "duration": 26,
    "start_time": "2023-08-09T18:14:31.851Z"
   },
   {
    "duration": 14,
    "start_time": "2023-08-09T18:14:31.879Z"
   },
   {
    "duration": 28,
    "start_time": "2023-08-09T18:14:31.895Z"
   },
   {
    "duration": 7,
    "start_time": "2023-08-09T18:14:31.925Z"
   },
   {
    "duration": 42,
    "start_time": "2023-08-09T18:14:31.935Z"
   },
   {
    "duration": 12,
    "start_time": "2023-08-09T18:14:31.979Z"
   },
   {
    "duration": 28,
    "start_time": "2023-08-09T18:14:31.993Z"
   },
   {
    "duration": 75,
    "start_time": "2023-08-09T18:14:32.023Z"
   },
   {
    "duration": 14,
    "start_time": "2023-08-09T18:14:32.099Z"
   },
   {
    "duration": 43,
    "start_time": "2023-08-09T18:14:32.115Z"
   },
   {
    "duration": 70,
    "start_time": "2023-08-09T18:14:32.160Z"
   },
   {
    "duration": 2264,
    "start_time": "2023-08-09T18:14:32.232Z"
   },
   {
    "duration": 309,
    "start_time": "2023-08-09T18:14:34.499Z"
   },
   {
    "duration": 16,
    "start_time": "2023-08-09T18:14:34.810Z"
   },
   {
    "duration": 20,
    "start_time": "2023-08-09T18:14:34.829Z"
   },
   {
    "duration": 58,
    "start_time": "2023-08-09T18:14:34.852Z"
   },
   {
    "duration": 5,
    "start_time": "2023-08-09T18:14:34.912Z"
   },
   {
    "duration": 19,
    "start_time": "2023-08-09T18:14:34.918Z"
   },
   {
    "duration": 20,
    "start_time": "2023-08-09T18:14:34.942Z"
   },
   {
    "duration": 22,
    "start_time": "2023-08-09T18:14:34.965Z"
   },
   {
    "duration": 23,
    "start_time": "2023-08-09T18:14:34.989Z"
   },
   {
    "duration": 9,
    "start_time": "2023-08-09T18:14:35.014Z"
   },
   {
    "duration": 914,
    "start_time": "2023-08-09T18:14:35.025Z"
   },
   {
    "duration": 12,
    "start_time": "2023-08-09T18:14:35.941Z"
   },
   {
    "duration": 30,
    "start_time": "2023-08-09T18:14:35.955Z"
   },
   {
    "duration": 16,
    "start_time": "2023-08-09T18:14:35.987Z"
   },
   {
    "duration": 11,
    "start_time": "2023-08-09T18:14:36.006Z"
   },
   {
    "duration": 25,
    "start_time": "2023-08-09T18:14:36.019Z"
   },
   {
    "duration": 32,
    "start_time": "2023-08-09T18:14:36.046Z"
   },
   {
    "duration": 21,
    "start_time": "2023-08-09T18:14:36.079Z"
   },
   {
    "duration": 72,
    "start_time": "2023-08-09T18:14:36.103Z"
   },
   {
    "duration": 14,
    "start_time": "2023-08-09T18:14:36.177Z"
   },
   {
    "duration": 588,
    "start_time": "2023-08-09T18:14:36.193Z"
   },
   {
    "duration": 171,
    "start_time": "2023-08-09T18:14:36.783Z"
   },
   {
    "duration": 0,
    "start_time": "2023-08-09T18:14:36.956Z"
   },
   {
    "duration": 0,
    "start_time": "2023-08-09T18:14:36.958Z"
   },
   {
    "duration": 0,
    "start_time": "2023-08-09T18:14:36.959Z"
   },
   {
    "duration": 0,
    "start_time": "2023-08-09T18:14:36.960Z"
   },
   {
    "duration": 0,
    "start_time": "2023-08-09T18:14:36.961Z"
   },
   {
    "duration": 0,
    "start_time": "2023-08-09T18:14:36.974Z"
   },
   {
    "duration": 0,
    "start_time": "2023-08-09T18:14:36.976Z"
   },
   {
    "duration": 0,
    "start_time": "2023-08-09T18:14:36.977Z"
   },
   {
    "duration": 0,
    "start_time": "2023-08-09T18:14:36.978Z"
   },
   {
    "duration": 0,
    "start_time": "2023-08-09T18:14:36.979Z"
   },
   {
    "duration": 0,
    "start_time": "2023-08-09T18:14:36.980Z"
   },
   {
    "duration": 0,
    "start_time": "2023-08-09T18:14:36.982Z"
   },
   {
    "duration": 0,
    "start_time": "2023-08-09T18:14:36.983Z"
   },
   {
    "duration": 0,
    "start_time": "2023-08-09T18:14:36.984Z"
   },
   {
    "duration": 0,
    "start_time": "2023-08-09T18:14:36.985Z"
   },
   {
    "duration": 0,
    "start_time": "2023-08-09T18:14:36.986Z"
   },
   {
    "duration": 0,
    "start_time": "2023-08-09T18:14:36.987Z"
   },
   {
    "duration": 0,
    "start_time": "2023-08-09T18:14:36.989Z"
   },
   {
    "duration": 0,
    "start_time": "2023-08-09T18:14:36.990Z"
   },
   {
    "duration": 0,
    "start_time": "2023-08-09T18:14:36.991Z"
   },
   {
    "duration": 0,
    "start_time": "2023-08-09T18:14:36.992Z"
   },
   {
    "duration": 0,
    "start_time": "2023-08-09T18:14:36.994Z"
   },
   {
    "duration": 0,
    "start_time": "2023-08-09T18:14:36.995Z"
   },
   {
    "duration": 0,
    "start_time": "2023-08-09T18:14:36.996Z"
   },
   {
    "duration": 0,
    "start_time": "2023-08-09T18:14:36.997Z"
   },
   {
    "duration": 0,
    "start_time": "2023-08-09T18:14:36.999Z"
   },
   {
    "duration": 12,
    "start_time": "2023-08-09T18:15:02.049Z"
   },
   {
    "duration": 22,
    "start_time": "2023-08-09T18:15:02.295Z"
   },
   {
    "duration": 25,
    "start_time": "2023-08-09T18:15:02.328Z"
   },
   {
    "duration": 19,
    "start_time": "2023-08-09T18:15:03.431Z"
   },
   {
    "duration": 17,
    "start_time": "2023-08-09T18:15:03.453Z"
   },
   {
    "duration": 5,
    "start_time": "2023-08-09T18:15:09.603Z"
   },
   {
    "duration": 1163,
    "start_time": "2023-08-09T18:15:09.800Z"
   },
   {
    "duration": 19,
    "start_time": "2023-08-09T18:15:10.965Z"
   },
   {
    "duration": 32,
    "start_time": "2023-08-09T18:15:10.986Z"
   },
   {
    "duration": 6,
    "start_time": "2023-08-09T18:15:11.020Z"
   },
   {
    "duration": 17,
    "start_time": "2023-08-09T18:15:11.028Z"
   },
   {
    "duration": 29,
    "start_time": "2023-08-09T18:15:11.048Z"
   },
   {
    "duration": 12,
    "start_time": "2023-08-09T18:15:11.249Z"
   },
   {
    "duration": 15,
    "start_time": "2023-08-09T18:15:11.788Z"
   },
   {
    "duration": 18,
    "start_time": "2023-08-09T18:15:12.121Z"
   },
   {
    "duration": 13,
    "start_time": "2023-08-09T18:15:12.544Z"
   },
   {
    "duration": 11,
    "start_time": "2023-08-09T18:15:12.811Z"
   },
   {
    "duration": 5,
    "start_time": "2023-08-09T18:15:13.931Z"
   },
   {
    "duration": 30,
    "start_time": "2023-08-09T18:15:14.669Z"
   },
   {
    "duration": 14,
    "start_time": "2023-08-09T18:15:15.202Z"
   },
   {
    "duration": 10,
    "start_time": "2023-08-09T18:15:15.768Z"
   },
   {
    "duration": 32,
    "start_time": "2023-08-09T18:15:15.979Z"
   },
   {
    "duration": 12,
    "start_time": "2023-08-09T18:15:16.159Z"
   },
   {
    "duration": 5,
    "start_time": "2023-08-09T18:15:16.379Z"
   },
   {
    "duration": 14,
    "start_time": "2023-08-09T18:15:16.585Z"
   },
   {
    "duration": 1829,
    "start_time": "2023-08-09T18:15:16.791Z"
   },
   {
    "duration": 303,
    "start_time": "2023-08-09T18:15:18.623Z"
   },
   {
    "duration": 17,
    "start_time": "2023-08-09T18:15:18.929Z"
   },
   {
    "duration": 5,
    "start_time": "2023-08-09T18:15:19.087Z"
   },
   {
    "duration": 53,
    "start_time": "2023-08-09T18:15:19.687Z"
   },
   {
    "duration": 7,
    "start_time": "2023-08-09T18:15:20.311Z"
   },
   {
    "duration": 8,
    "start_time": "2023-08-09T18:15:21.090Z"
   },
   {
    "duration": 9,
    "start_time": "2023-08-09T18:15:22.626Z"
   },
   {
    "duration": 14,
    "start_time": "2023-08-09T18:15:24.299Z"
   },
   {
    "duration": 25,
    "start_time": "2023-08-09T18:15:29.196Z"
   },
   {
    "duration": 5,
    "start_time": "2023-08-09T18:15:30.480Z"
   },
   {
    "duration": 831,
    "start_time": "2023-08-09T18:15:32.010Z"
   },
   {
    "duration": 17,
    "start_time": "2023-08-09T18:15:39.030Z"
   },
   {
    "duration": 16,
    "start_time": "2023-08-09T18:15:43.898Z"
   },
   {
    "duration": 23,
    "start_time": "2023-08-09T18:15:58.096Z"
   },
   {
    "duration": 15,
    "start_time": "2023-08-09T18:16:11.840Z"
   },
   {
    "duration": 18,
    "start_time": "2023-08-09T18:16:17.581Z"
   },
   {
    "duration": 6,
    "start_time": "2023-08-09T18:16:53.477Z"
   },
   {
    "duration": 20,
    "start_time": "2023-08-09T18:16:54.316Z"
   },
   {
    "duration": 7,
    "start_time": "2023-08-09T18:17:10.482Z"
   },
   {
    "duration": 20,
    "start_time": "2023-08-09T18:17:12.218Z"
   },
   {
    "duration": 12,
    "start_time": "2023-08-09T18:17:28.229Z"
   },
   {
    "duration": 16,
    "start_time": "2023-08-09T18:25:45.521Z"
   },
   {
    "duration": 376,
    "start_time": "2023-08-09T18:27:27.562Z"
   },
   {
    "duration": 420,
    "start_time": "2023-08-09T18:27:31.537Z"
   },
   {
    "duration": 474,
    "start_time": "2023-08-09T18:28:02.306Z"
   },
   {
    "duration": 130,
    "start_time": "2023-08-09T18:29:18.717Z"
   },
   {
    "duration": 1391,
    "start_time": "2023-08-10T03:51:44.351Z"
   },
   {
    "duration": 1529,
    "start_time": "2023-08-10T03:51:45.743Z"
   },
   {
    "duration": 20,
    "start_time": "2023-08-10T03:51:47.274Z"
   },
   {
    "duration": 22,
    "start_time": "2023-08-10T03:51:47.296Z"
   },
   {
    "duration": 4,
    "start_time": "2023-08-10T03:51:47.320Z"
   },
   {
    "duration": 33,
    "start_time": "2023-08-10T03:51:47.326Z"
   },
   {
    "duration": 10,
    "start_time": "2023-08-10T03:51:47.361Z"
   },
   {
    "duration": 10,
    "start_time": "2023-08-10T03:51:47.373Z"
   },
   {
    "duration": 12,
    "start_time": "2023-08-10T03:51:47.385Z"
   },
   {
    "duration": 18,
    "start_time": "2023-08-10T03:51:47.400Z"
   },
   {
    "duration": 41,
    "start_time": "2023-08-10T03:51:47.419Z"
   },
   {
    "duration": 10,
    "start_time": "2023-08-10T03:51:47.462Z"
   },
   {
    "duration": 4,
    "start_time": "2023-08-10T03:51:47.473Z"
   },
   {
    "duration": 22,
    "start_time": "2023-08-10T03:51:47.478Z"
   },
   {
    "duration": 10,
    "start_time": "2023-08-10T03:51:47.502Z"
   },
   {
    "duration": 7,
    "start_time": "2023-08-10T03:51:47.514Z"
   },
   {
    "duration": 52,
    "start_time": "2023-08-10T03:51:47.522Z"
   },
   {
    "duration": 15,
    "start_time": "2023-08-10T03:51:47.575Z"
   },
   {
    "duration": 37,
    "start_time": "2023-08-10T03:51:47.592Z"
   },
   {
    "duration": 17,
    "start_time": "2023-08-10T03:51:47.631Z"
   },
   {
    "duration": 2094,
    "start_time": "2023-08-10T03:51:47.649Z"
   },
   {
    "duration": 303,
    "start_time": "2023-08-10T03:51:49.746Z"
   },
   {
    "duration": 13,
    "start_time": "2023-08-10T03:51:50.050Z"
   },
   {
    "duration": 20,
    "start_time": "2023-08-10T03:51:50.064Z"
   },
   {
    "duration": 65,
    "start_time": "2023-08-10T03:51:50.086Z"
   },
   {
    "duration": 6,
    "start_time": "2023-08-10T03:51:50.153Z"
   },
   {
    "duration": 7,
    "start_time": "2023-08-10T03:51:50.161Z"
   },
   {
    "duration": 7,
    "start_time": "2023-08-10T03:51:50.172Z"
   },
   {
    "duration": 22,
    "start_time": "2023-08-10T03:51:50.181Z"
   },
   {
    "duration": 21,
    "start_time": "2023-08-10T03:51:50.205Z"
   },
   {
    "duration": 5,
    "start_time": "2023-08-10T03:51:50.228Z"
   },
   {
    "duration": 800,
    "start_time": "2023-08-10T03:51:50.256Z"
   },
   {
    "duration": 10,
    "start_time": "2023-08-10T03:51:51.058Z"
   },
   {
    "duration": 17,
    "start_time": "2023-08-10T03:51:51.070Z"
   },
   {
    "duration": 14,
    "start_time": "2023-08-10T03:51:51.088Z"
   },
   {
    "duration": 18,
    "start_time": "2023-08-10T03:51:51.104Z"
   },
   {
    "duration": 6,
    "start_time": "2023-08-10T03:51:51.123Z"
   },
   {
    "duration": 30,
    "start_time": "2023-08-10T03:51:51.131Z"
   },
   {
    "duration": 138,
    "start_time": "2023-08-10T03:51:51.163Z"
   },
   {
    "duration": 444,
    "start_time": "2023-08-10T03:51:51.303Z"
   },
   {
    "duration": 11,
    "start_time": "2023-08-10T03:51:51.749Z"
   },
   {
    "duration": 155,
    "start_time": "2023-08-10T03:51:51.762Z"
   },
   {
    "duration": 15,
    "start_time": "2023-08-10T03:51:51.918Z"
   },
   {
    "duration": 426,
    "start_time": "2023-08-10T03:51:51.934Z"
   },
   {
    "duration": 159,
    "start_time": "2023-08-10T03:51:52.362Z"
   },
   {
    "duration": 0,
    "start_time": "2023-08-10T03:51:52.523Z"
   },
   {
    "duration": 0,
    "start_time": "2023-08-10T03:51:52.524Z"
   },
   {
    "duration": 0,
    "start_time": "2023-08-10T03:51:52.526Z"
   },
   {
    "duration": 0,
    "start_time": "2023-08-10T03:51:52.527Z"
   },
   {
    "duration": 0,
    "start_time": "2023-08-10T03:51:52.528Z"
   },
   {
    "duration": 0,
    "start_time": "2023-08-10T03:51:52.529Z"
   },
   {
    "duration": 0,
    "start_time": "2023-08-10T03:51:52.531Z"
   },
   {
    "duration": 0,
    "start_time": "2023-08-10T03:51:52.532Z"
   },
   {
    "duration": 0,
    "start_time": "2023-08-10T03:51:52.557Z"
   },
   {
    "duration": 0,
    "start_time": "2023-08-10T03:51:52.559Z"
   },
   {
    "duration": 0,
    "start_time": "2023-08-10T03:51:52.560Z"
   },
   {
    "duration": 0,
    "start_time": "2023-08-10T03:51:52.561Z"
   },
   {
    "duration": 0,
    "start_time": "2023-08-10T03:51:52.563Z"
   },
   {
    "duration": 0,
    "start_time": "2023-08-10T03:51:52.564Z"
   },
   {
    "duration": 0,
    "start_time": "2023-08-10T03:51:52.565Z"
   },
   {
    "duration": 0,
    "start_time": "2023-08-10T03:51:52.566Z"
   },
   {
    "duration": 0,
    "start_time": "2023-08-10T03:51:52.568Z"
   },
   {
    "duration": 0,
    "start_time": "2023-08-10T03:51:52.569Z"
   },
   {
    "duration": 0,
    "start_time": "2023-08-10T03:51:52.571Z"
   },
   {
    "duration": 0,
    "start_time": "2023-08-10T03:51:52.572Z"
   },
   {
    "duration": 0,
    "start_time": "2023-08-10T03:51:52.573Z"
   },
   {
    "duration": 0,
    "start_time": "2023-08-10T03:51:52.574Z"
   },
   {
    "duration": 0,
    "start_time": "2023-08-10T03:51:52.575Z"
   },
   {
    "duration": 0,
    "start_time": "2023-08-10T03:51:52.577Z"
   },
   {
    "duration": 0,
    "start_time": "2023-08-10T03:51:52.578Z"
   },
   {
    "duration": 0,
    "start_time": "2023-08-10T03:51:52.579Z"
   },
   {
    "duration": 172,
    "start_time": "2023-08-10T03:57:10.551Z"
   },
   {
    "duration": 175,
    "start_time": "2023-08-10T03:58:00.251Z"
   },
   {
    "duration": 164,
    "start_time": "2023-08-10T03:58:43.329Z"
   },
   {
    "duration": 19,
    "start_time": "2023-08-10T03:59:35.314Z"
   },
   {
    "duration": 98,
    "start_time": "2023-08-10T04:00:30.168Z"
   },
   {
    "duration": 225,
    "start_time": "2023-08-10T04:00:45.449Z"
   },
   {
    "duration": 19,
    "start_time": "2023-08-10T04:01:07.742Z"
   },
   {
    "duration": 182,
    "start_time": "2023-08-10T04:01:14.895Z"
   },
   {
    "duration": 18,
    "start_time": "2023-08-10T04:01:37.832Z"
   },
   {
    "duration": 170,
    "start_time": "2023-08-10T04:06:06.784Z"
   },
   {
    "duration": 183,
    "start_time": "2023-08-10T04:06:13.064Z"
   },
   {
    "duration": 189,
    "start_time": "2023-08-10T04:07:35.096Z"
   },
   {
    "duration": 171,
    "start_time": "2023-08-10T04:09:46.406Z"
   },
   {
    "duration": 167,
    "start_time": "2023-08-10T04:10:31.955Z"
   },
   {
    "duration": 192,
    "start_time": "2023-08-10T04:10:39.564Z"
   },
   {
    "duration": 161,
    "start_time": "2023-08-10T04:11:20.297Z"
   },
   {
    "duration": 192,
    "start_time": "2023-08-10T04:11:24.347Z"
   },
   {
    "duration": 171,
    "start_time": "2023-08-10T04:11:31.498Z"
   },
   {
    "duration": 213,
    "start_time": "2023-08-10T04:11:44.138Z"
   },
   {
    "duration": 180,
    "start_time": "2023-08-10T04:11:55.595Z"
   },
   {
    "duration": 73,
    "start_time": "2023-08-10T04:12:10.412Z"
   },
   {
    "duration": 301,
    "start_time": "2023-08-10T04:12:15.858Z"
   },
   {
    "duration": 180,
    "start_time": "2023-08-10T04:12:29.429Z"
   },
   {
    "duration": 5,
    "start_time": "2023-08-10T04:13:23.279Z"
   },
   {
    "duration": 4,
    "start_time": "2023-08-10T04:13:27.284Z"
   },
   {
    "duration": 5,
    "start_time": "2023-08-10T04:13:33.374Z"
   },
   {
    "duration": 6,
    "start_time": "2023-08-10T04:13:37.213Z"
   },
   {
    "duration": 59,
    "start_time": "2023-08-10T04:15:36.926Z"
   },
   {
    "duration": 10,
    "start_time": "2023-08-10T04:15:40.555Z"
   },
   {
    "duration": 4,
    "start_time": "2023-08-10T04:16:10.146Z"
   },
   {
    "duration": 20,
    "start_time": "2023-08-10T04:16:31.953Z"
   },
   {
    "duration": 17,
    "start_time": "2023-08-10T04:16:46.994Z"
   },
   {
    "duration": 14,
    "start_time": "2023-08-10T04:16:57.671Z"
   },
   {
    "duration": 13,
    "start_time": "2023-08-10T04:17:00.432Z"
   },
   {
    "duration": 12,
    "start_time": "2023-08-10T04:17:23.266Z"
   },
   {
    "duration": 14,
    "start_time": "2023-08-10T04:22:32.800Z"
   },
   {
    "duration": 1261,
    "start_time": "2023-08-10T04:23:44.313Z"
   },
   {
    "duration": 1304,
    "start_time": "2023-08-10T04:23:45.576Z"
   },
   {
    "duration": 22,
    "start_time": "2023-08-10T04:23:46.881Z"
   },
   {
    "duration": 22,
    "start_time": "2023-08-10T04:23:46.904Z"
   },
   {
    "duration": 5,
    "start_time": "2023-08-10T04:23:46.928Z"
   },
   {
    "duration": 29,
    "start_time": "2023-08-10T04:23:46.934Z"
   },
   {
    "duration": 10,
    "start_time": "2023-08-10T04:23:46.965Z"
   },
   {
    "duration": 10,
    "start_time": "2023-08-10T04:23:46.977Z"
   },
   {
    "duration": 19,
    "start_time": "2023-08-10T04:23:46.988Z"
   },
   {
    "duration": 18,
    "start_time": "2023-08-10T04:23:47.010Z"
   },
   {
    "duration": 32,
    "start_time": "2023-08-10T04:23:47.029Z"
   },
   {
    "duration": 9,
    "start_time": "2023-08-10T04:23:47.063Z"
   },
   {
    "duration": 8,
    "start_time": "2023-08-10T04:23:47.074Z"
   },
   {
    "duration": 36,
    "start_time": "2023-08-10T04:23:47.083Z"
   },
   {
    "duration": 8,
    "start_time": "2023-08-10T04:23:47.121Z"
   },
   {
    "duration": 7,
    "start_time": "2023-08-10T04:23:47.131Z"
   },
   {
    "duration": 28,
    "start_time": "2023-08-10T04:23:47.139Z"
   },
   {
    "duration": 12,
    "start_time": "2023-08-10T04:23:47.169Z"
   },
   {
    "duration": 12,
    "start_time": "2023-08-10T04:23:47.183Z"
   },
   {
    "duration": 33,
    "start_time": "2023-08-10T04:23:47.197Z"
   },
   {
    "duration": 1657,
    "start_time": "2023-08-10T04:23:47.232Z"
   },
   {
    "duration": 315,
    "start_time": "2023-08-10T04:23:48.891Z"
   },
   {
    "duration": 9,
    "start_time": "2023-08-10T04:23:49.207Z"
   },
   {
    "duration": 22,
    "start_time": "2023-08-10T04:23:49.218Z"
   },
   {
    "duration": 53,
    "start_time": "2023-08-10T04:23:49.242Z"
   },
   {
    "duration": 4,
    "start_time": "2023-08-10T04:23:49.297Z"
   },
   {
    "duration": 17,
    "start_time": "2023-08-10T04:23:49.302Z"
   },
   {
    "duration": 7,
    "start_time": "2023-08-10T04:23:49.323Z"
   },
   {
    "duration": 16,
    "start_time": "2023-08-10T04:23:49.332Z"
   },
   {
    "duration": 19,
    "start_time": "2023-08-10T04:23:49.357Z"
   },
   {
    "duration": 6,
    "start_time": "2023-08-10T04:23:49.378Z"
   },
   {
    "duration": 23,
    "start_time": "2023-08-10T04:23:49.385Z"
   },
   {
    "duration": 10,
    "start_time": "2023-08-10T04:23:49.410Z"
   },
   {
    "duration": 9,
    "start_time": "2023-08-10T04:23:49.422Z"
   },
   {
    "duration": 40,
    "start_time": "2023-08-10T04:23:49.432Z"
   },
   {
    "duration": 22,
    "start_time": "2023-08-10T04:23:49.474Z"
   },
   {
    "duration": 20,
    "start_time": "2023-08-10T04:23:49.498Z"
   },
   {
    "duration": 7,
    "start_time": "2023-08-10T04:23:49.520Z"
   },
   {
    "duration": 11,
    "start_time": "2023-08-10T04:23:49.529Z"
   },
   {
    "duration": 201,
    "start_time": "2023-08-10T04:23:49.543Z"
   },
   {
    "duration": 172,
    "start_time": "2023-08-10T04:23:49.746Z"
   },
   {
    "duration": 197,
    "start_time": "2023-08-10T04:23:49.920Z"
   },
   {
    "duration": 11,
    "start_time": "2023-08-10T04:23:50.119Z"
   },
   {
    "duration": 68,
    "start_time": "2023-08-10T04:23:50.132Z"
   },
   {
    "duration": 15,
    "start_time": "2023-08-10T04:23:50.202Z"
   },
   {
    "duration": 530,
    "start_time": "2023-08-10T04:23:50.219Z"
   },
   {
    "duration": 165,
    "start_time": "2023-08-10T04:23:50.751Z"
   },
   {
    "duration": 0,
    "start_time": "2023-08-10T04:23:50.918Z"
   },
   {
    "duration": 0,
    "start_time": "2023-08-10T04:23:50.919Z"
   },
   {
    "duration": 0,
    "start_time": "2023-08-10T04:23:50.920Z"
   },
   {
    "duration": 0,
    "start_time": "2023-08-10T04:23:50.921Z"
   },
   {
    "duration": 0,
    "start_time": "2023-08-10T04:23:50.922Z"
   },
   {
    "duration": 0,
    "start_time": "2023-08-10T04:23:50.923Z"
   },
   {
    "duration": 0,
    "start_time": "2023-08-10T04:23:50.924Z"
   },
   {
    "duration": 0,
    "start_time": "2023-08-10T04:23:50.926Z"
   },
   {
    "duration": 0,
    "start_time": "2023-08-10T04:23:50.927Z"
   },
   {
    "duration": 0,
    "start_time": "2023-08-10T04:23:50.928Z"
   },
   {
    "duration": 0,
    "start_time": "2023-08-10T04:23:50.930Z"
   },
   {
    "duration": 0,
    "start_time": "2023-08-10T04:23:50.931Z"
   },
   {
    "duration": 0,
    "start_time": "2023-08-10T04:23:50.957Z"
   },
   {
    "duration": 1,
    "start_time": "2023-08-10T04:23:50.958Z"
   },
   {
    "duration": 0,
    "start_time": "2023-08-10T04:23:50.960Z"
   },
   {
    "duration": 0,
    "start_time": "2023-08-10T04:23:50.961Z"
   },
   {
    "duration": 0,
    "start_time": "2023-08-10T04:23:50.963Z"
   },
   {
    "duration": 0,
    "start_time": "2023-08-10T04:23:50.964Z"
   },
   {
    "duration": 0,
    "start_time": "2023-08-10T04:23:50.965Z"
   },
   {
    "duration": 0,
    "start_time": "2023-08-10T04:23:50.967Z"
   },
   {
    "duration": 0,
    "start_time": "2023-08-10T04:23:50.968Z"
   },
   {
    "duration": 0,
    "start_time": "2023-08-10T04:23:50.969Z"
   },
   {
    "duration": 0,
    "start_time": "2023-08-10T04:23:50.971Z"
   },
   {
    "duration": 0,
    "start_time": "2023-08-10T04:23:50.972Z"
   },
   {
    "duration": 0,
    "start_time": "2023-08-10T04:23:50.973Z"
   },
   {
    "duration": 0,
    "start_time": "2023-08-10T04:23:50.975Z"
   },
   {
    "duration": 1204,
    "start_time": "2023-08-10T04:26:39.797Z"
   },
   {
    "duration": 1046,
    "start_time": "2023-08-10T04:26:41.003Z"
   },
   {
    "duration": 21,
    "start_time": "2023-08-10T04:26:42.051Z"
   },
   {
    "duration": 21,
    "start_time": "2023-08-10T04:26:42.074Z"
   },
   {
    "duration": 5,
    "start_time": "2023-08-10T04:26:42.096Z"
   },
   {
    "duration": 16,
    "start_time": "2023-08-10T04:26:42.103Z"
   },
   {
    "duration": 11,
    "start_time": "2023-08-10T04:26:42.121Z"
   },
   {
    "duration": 31,
    "start_time": "2023-08-10T04:26:42.134Z"
   },
   {
    "duration": 11,
    "start_time": "2023-08-10T04:26:42.167Z"
   },
   {
    "duration": 15,
    "start_time": "2023-08-10T04:26:42.181Z"
   },
   {
    "duration": 11,
    "start_time": "2023-08-10T04:26:42.198Z"
   },
   {
    "duration": 12,
    "start_time": "2023-08-10T04:26:42.211Z"
   },
   {
    "duration": 34,
    "start_time": "2023-08-10T04:26:42.225Z"
   },
   {
    "duration": 24,
    "start_time": "2023-08-10T04:26:42.260Z"
   },
   {
    "duration": 9,
    "start_time": "2023-08-10T04:26:42.286Z"
   },
   {
    "duration": 6,
    "start_time": "2023-08-10T04:26:42.297Z"
   },
   {
    "duration": 19,
    "start_time": "2023-08-10T04:26:42.305Z"
   },
   {
    "duration": 36,
    "start_time": "2023-08-10T04:26:42.326Z"
   },
   {
    "duration": 9,
    "start_time": "2023-08-10T04:26:42.364Z"
   },
   {
    "duration": 19,
    "start_time": "2023-08-10T04:26:42.375Z"
   },
   {
    "duration": 1629,
    "start_time": "2023-08-10T04:26:42.396Z"
   },
   {
    "duration": 300,
    "start_time": "2023-08-10T04:26:44.027Z"
   },
   {
    "duration": 8,
    "start_time": "2023-08-10T04:26:44.329Z"
   },
   {
    "duration": 20,
    "start_time": "2023-08-10T04:26:44.338Z"
   },
   {
    "duration": 50,
    "start_time": "2023-08-10T04:26:44.359Z"
   },
   {
    "duration": 4,
    "start_time": "2023-08-10T04:26:44.411Z"
   },
   {
    "duration": 6,
    "start_time": "2023-08-10T04:26:44.417Z"
   },
   {
    "duration": 6,
    "start_time": "2023-08-10T04:26:44.427Z"
   },
   {
    "duration": 26,
    "start_time": "2023-08-10T04:26:44.434Z"
   },
   {
    "duration": 17,
    "start_time": "2023-08-10T04:26:44.461Z"
   },
   {
    "duration": 4,
    "start_time": "2023-08-10T04:26:44.480Z"
   },
   {
    "duration": 13,
    "start_time": "2023-08-10T04:26:44.485Z"
   },
   {
    "duration": 12,
    "start_time": "2023-08-10T04:26:44.500Z"
   },
   {
    "duration": 44,
    "start_time": "2023-08-10T04:26:44.513Z"
   },
   {
    "duration": 15,
    "start_time": "2023-08-10T04:26:44.558Z"
   },
   {
    "duration": 16,
    "start_time": "2023-08-10T04:26:44.575Z"
   },
   {
    "duration": 7,
    "start_time": "2023-08-10T04:26:44.592Z"
   },
   {
    "duration": 14,
    "start_time": "2023-08-10T04:26:44.600Z"
   },
   {
    "duration": 231,
    "start_time": "2023-08-10T04:26:44.615Z"
   },
   {
    "duration": 180,
    "start_time": "2023-08-10T04:26:44.847Z"
   },
   {
    "duration": 202,
    "start_time": "2023-08-10T04:26:45.029Z"
   },
   {
    "duration": 16,
    "start_time": "2023-08-10T04:26:45.233Z"
   },
   {
    "duration": 55,
    "start_time": "2023-08-10T04:26:45.251Z"
   },
   {
    "duration": 16,
    "start_time": "2023-08-10T04:26:45.308Z"
   },
   {
    "duration": 525,
    "start_time": "2023-08-10T04:26:45.325Z"
   },
   {
    "duration": 157,
    "start_time": "2023-08-10T04:26:45.851Z"
   },
   {
    "duration": 0,
    "start_time": "2023-08-10T04:26:46.009Z"
   },
   {
    "duration": 0,
    "start_time": "2023-08-10T04:26:46.010Z"
   },
   {
    "duration": 0,
    "start_time": "2023-08-10T04:26:46.012Z"
   },
   {
    "duration": 1,
    "start_time": "2023-08-10T04:26:46.012Z"
   },
   {
    "duration": 0,
    "start_time": "2023-08-10T04:26:46.013Z"
   },
   {
    "duration": 0,
    "start_time": "2023-08-10T04:26:46.014Z"
   },
   {
    "duration": 0,
    "start_time": "2023-08-10T04:26:46.015Z"
   },
   {
    "duration": 0,
    "start_time": "2023-08-10T04:26:46.016Z"
   },
   {
    "duration": 0,
    "start_time": "2023-08-10T04:26:46.017Z"
   },
   {
    "duration": 0,
    "start_time": "2023-08-10T04:26:46.018Z"
   },
   {
    "duration": 0,
    "start_time": "2023-08-10T04:26:46.019Z"
   },
   {
    "duration": 0,
    "start_time": "2023-08-10T04:26:46.020Z"
   },
   {
    "duration": 0,
    "start_time": "2023-08-10T04:26:46.021Z"
   },
   {
    "duration": 0,
    "start_time": "2023-08-10T04:26:46.022Z"
   },
   {
    "duration": 0,
    "start_time": "2023-08-10T04:26:46.023Z"
   },
   {
    "duration": 0,
    "start_time": "2023-08-10T04:26:46.024Z"
   },
   {
    "duration": 0,
    "start_time": "2023-08-10T04:26:46.025Z"
   },
   {
    "duration": 0,
    "start_time": "2023-08-10T04:26:46.057Z"
   },
   {
    "duration": 0,
    "start_time": "2023-08-10T04:26:46.058Z"
   },
   {
    "duration": 0,
    "start_time": "2023-08-10T04:26:46.059Z"
   },
   {
    "duration": 0,
    "start_time": "2023-08-10T04:26:46.060Z"
   },
   {
    "duration": 0,
    "start_time": "2023-08-10T04:26:46.061Z"
   },
   {
    "duration": 0,
    "start_time": "2023-08-10T04:26:46.062Z"
   },
   {
    "duration": 0,
    "start_time": "2023-08-10T04:26:46.063Z"
   },
   {
    "duration": 0,
    "start_time": "2023-08-10T04:26:46.065Z"
   },
   {
    "duration": 0,
    "start_time": "2023-08-10T04:26:46.066Z"
   },
   {
    "duration": 25,
    "start_time": "2023-08-10T04:28:24.439Z"
   },
   {
    "duration": 20,
    "start_time": "2023-08-10T04:28:28.993Z"
   },
   {
    "duration": 134,
    "start_time": "2023-08-10T04:31:44.579Z"
   },
   {
    "duration": 12,
    "start_time": "2023-08-10T04:32:52.463Z"
   },
   {
    "duration": 26,
    "start_time": "2023-08-10T04:38:17.465Z"
   },
   {
    "duration": 44,
    "start_time": "2023-08-10T04:38:23.572Z"
   },
   {
    "duration": 12,
    "start_time": "2023-08-10T04:42:25.932Z"
   },
   {
    "duration": 19,
    "start_time": "2023-08-10T04:43:44.182Z"
   },
   {
    "duration": 83,
    "start_time": "2023-08-10T04:44:00.837Z"
   },
   {
    "duration": 14,
    "start_time": "2023-08-10T04:49:17.844Z"
   },
   {
    "duration": 337,
    "start_time": "2023-08-10T04:49:20.629Z"
   },
   {
    "duration": 13,
    "start_time": "2023-08-10T04:49:34.048Z"
   },
   {
    "duration": 325,
    "start_time": "2023-08-10T04:49:36.254Z"
   },
   {
    "duration": 379,
    "start_time": "2023-08-10T04:49:58.996Z"
   },
   {
    "duration": 40,
    "start_time": "2023-08-10T04:51:25.738Z"
   },
   {
    "duration": 1017,
    "start_time": "2023-08-10T04:51:36.124Z"
   },
   {
    "duration": 874,
    "start_time": "2023-08-10T04:51:49.941Z"
   },
   {
    "duration": 949,
    "start_time": "2023-08-10T04:54:04.811Z"
   },
   {
    "duration": 5,
    "start_time": "2023-08-10T04:58:44.891Z"
   },
   {
    "duration": 68,
    "start_time": "2023-08-10T04:58:46.352Z"
   },
   {
    "duration": 11,
    "start_time": "2023-08-10T04:58:50.538Z"
   },
   {
    "duration": 30,
    "start_time": "2023-08-10T04:59:27.326Z"
   },
   {
    "duration": 904,
    "start_time": "2023-08-10T04:59:29.513Z"
   },
   {
    "duration": 28,
    "start_time": "2023-08-10T04:59:55.877Z"
   },
   {
    "duration": 1051,
    "start_time": "2023-08-10T04:59:58.036Z"
   },
   {
    "duration": 6,
    "start_time": "2023-08-10T05:01:00.163Z"
   },
   {
    "duration": 15,
    "start_time": "2023-08-10T05:01:00.834Z"
   },
   {
    "duration": 31,
    "start_time": "2023-08-10T05:01:36.977Z"
   },
   {
    "duration": 863,
    "start_time": "2023-08-10T05:01:37.771Z"
   },
   {
    "duration": 28,
    "start_time": "2023-08-10T05:14:01.223Z"
   },
   {
    "duration": 7,
    "start_time": "2023-08-10T05:14:04.278Z"
   },
   {
    "duration": 3,
    "start_time": "2023-08-10T05:14:06.241Z"
   },
   {
    "duration": 9,
    "start_time": "2023-08-10T05:14:07.878Z"
   },
   {
    "duration": 12,
    "start_time": "2023-08-10T05:14:30.197Z"
   },
   {
    "duration": 11,
    "start_time": "2023-08-10T05:14:52.191Z"
   },
   {
    "duration": 6,
    "start_time": "2023-08-10T05:15:23.309Z"
   },
   {
    "duration": 4,
    "start_time": "2023-08-10T05:15:41.097Z"
   },
   {
    "duration": 11,
    "start_time": "2023-08-10T05:15:55.633Z"
   },
   {
    "duration": 15,
    "start_time": "2023-08-10T05:16:07.216Z"
   },
   {
    "duration": 42,
    "start_time": "2023-08-10T05:19:22.338Z"
   },
   {
    "duration": 19,
    "start_time": "2023-08-10T05:34:02.809Z"
   },
   {
    "duration": 23,
    "start_time": "2023-08-10T05:35:20.953Z"
   },
   {
    "duration": 27,
    "start_time": "2023-08-10T05:35:43.264Z"
   },
   {
    "duration": 24,
    "start_time": "2023-08-10T05:36:02.192Z"
   },
   {
    "duration": 22,
    "start_time": "2023-08-10T05:36:19.638Z"
   },
   {
    "duration": 26,
    "start_time": "2023-08-10T05:37:01.404Z"
   },
   {
    "duration": 23,
    "start_time": "2023-08-10T05:37:15.616Z"
   },
   {
    "duration": 22,
    "start_time": "2023-08-10T05:38:27.862Z"
   },
   {
    "duration": 33,
    "start_time": "2023-08-10T05:39:51.322Z"
   },
   {
    "duration": 6,
    "start_time": "2023-08-10T05:40:46.611Z"
   },
   {
    "duration": 1165,
    "start_time": "2023-08-10T05:41:08.089Z"
   },
   {
    "duration": 8,
    "start_time": "2023-08-10T05:41:25.396Z"
   },
   {
    "duration": 15,
    "start_time": "2023-08-10T05:41:30.252Z"
   },
   {
    "duration": 10,
    "start_time": "2023-08-10T05:41:50.362Z"
   },
   {
    "duration": 1076,
    "start_time": "2023-08-10T05:42:01.330Z"
   },
   {
    "duration": 5,
    "start_time": "2023-08-10T05:42:11.443Z"
   },
   {
    "duration": 11,
    "start_time": "2023-08-10T05:42:25.294Z"
   },
   {
    "duration": 16,
    "start_time": "2023-08-10T05:42:33.135Z"
   },
   {
    "duration": 15,
    "start_time": "2023-08-10T05:42:36.439Z"
   },
   {
    "duration": 14,
    "start_time": "2023-08-10T05:43:15.883Z"
   },
   {
    "duration": 1241,
    "start_time": "2023-08-10T05:43:22.301Z"
   },
   {
    "duration": 1411,
    "start_time": "2023-08-10T05:43:23.544Z"
   },
   {
    "duration": 24,
    "start_time": "2023-08-10T05:43:24.957Z"
   },
   {
    "duration": 22,
    "start_time": "2023-08-10T05:43:24.983Z"
   },
   {
    "duration": 4,
    "start_time": "2023-08-10T05:43:25.007Z"
   },
   {
    "duration": 12,
    "start_time": "2023-08-10T05:43:25.013Z"
   },
   {
    "duration": 40,
    "start_time": "2023-08-10T05:43:25.027Z"
   },
   {
    "duration": 25,
    "start_time": "2023-08-10T05:43:25.069Z"
   },
   {
    "duration": 15,
    "start_time": "2023-08-10T05:43:25.095Z"
   },
   {
    "duration": 16,
    "start_time": "2023-08-10T05:43:25.113Z"
   },
   {
    "duration": 35,
    "start_time": "2023-08-10T05:43:25.131Z"
   },
   {
    "duration": 11,
    "start_time": "2023-08-10T05:43:25.168Z"
   },
   {
    "duration": 9,
    "start_time": "2023-08-10T05:43:25.180Z"
   },
   {
    "duration": 42,
    "start_time": "2023-08-10T05:43:25.190Z"
   },
   {
    "duration": 25,
    "start_time": "2023-08-10T05:43:25.235Z"
   },
   {
    "duration": 7,
    "start_time": "2023-08-10T05:43:25.262Z"
   },
   {
    "duration": 25,
    "start_time": "2023-08-10T05:43:25.270Z"
   },
   {
    "duration": 36,
    "start_time": "2023-08-10T05:43:25.297Z"
   },
   {
    "duration": 15,
    "start_time": "2023-08-10T05:43:25.336Z"
   },
   {
    "duration": 14,
    "start_time": "2023-08-10T05:43:25.353Z"
   },
   {
    "duration": 31,
    "start_time": "2023-08-10T05:43:25.369Z"
   },
   {
    "duration": 1706,
    "start_time": "2023-08-10T05:43:25.402Z"
   },
   {
    "duration": 304,
    "start_time": "2023-08-10T05:43:27.111Z"
   },
   {
    "duration": 9,
    "start_time": "2023-08-10T05:43:27.418Z"
   },
   {
    "duration": 7,
    "start_time": "2023-08-10T05:43:27.430Z"
   },
   {
    "duration": 48,
    "start_time": "2023-08-10T05:43:27.457Z"
   },
   {
    "duration": 5,
    "start_time": "2023-08-10T05:43:27.507Z"
   },
   {
    "duration": 6,
    "start_time": "2023-08-10T05:43:27.516Z"
   },
   {
    "duration": 8,
    "start_time": "2023-08-10T05:43:27.524Z"
   },
   {
    "duration": 26,
    "start_time": "2023-08-10T05:43:27.534Z"
   },
   {
    "duration": 18,
    "start_time": "2023-08-10T05:43:27.562Z"
   },
   {
    "duration": 4,
    "start_time": "2023-08-10T05:43:27.582Z"
   },
   {
    "duration": 22,
    "start_time": "2023-08-10T05:43:27.587Z"
   },
   {
    "duration": 13,
    "start_time": "2023-08-10T05:43:27.611Z"
   },
   {
    "duration": 32,
    "start_time": "2023-08-10T05:43:27.626Z"
   },
   {
    "duration": 16,
    "start_time": "2023-08-10T05:43:27.660Z"
   },
   {
    "duration": 43,
    "start_time": "2023-08-10T05:43:27.677Z"
   },
   {
    "duration": 11,
    "start_time": "2023-08-10T05:43:27.721Z"
   },
   {
    "duration": 13,
    "start_time": "2023-08-10T05:43:27.733Z"
   },
   {
    "duration": 221,
    "start_time": "2023-08-10T05:43:27.747Z"
   },
   {
    "duration": 198,
    "start_time": "2023-08-10T05:43:27.970Z"
   },
   {
    "duration": 213,
    "start_time": "2023-08-10T05:43:28.169Z"
   },
   {
    "duration": 13,
    "start_time": "2023-08-10T05:43:28.384Z"
   },
   {
    "duration": 75,
    "start_time": "2023-08-10T05:43:28.399Z"
   },
   {
    "duration": 17,
    "start_time": "2023-08-10T05:43:28.476Z"
   },
   {
    "duration": 831,
    "start_time": "2023-08-10T05:43:28.496Z"
   },
   {
    "duration": 54,
    "start_time": "2023-08-10T05:43:29.330Z"
   },
   {
    "duration": 872,
    "start_time": "2023-08-10T05:43:29.387Z"
   },
   {
    "duration": 24,
    "start_time": "2023-08-10T05:43:30.261Z"
   },
   {
    "duration": 19,
    "start_time": "2023-08-10T05:43:30.287Z"
   },
   {
    "duration": 41,
    "start_time": "2023-08-10T05:43:30.308Z"
   },
   {
    "duration": 34,
    "start_time": "2023-08-10T05:43:30.351Z"
   },
   {
    "duration": 30,
    "start_time": "2023-08-10T05:43:30.387Z"
   },
   {
    "duration": 44,
    "start_time": "2023-08-10T05:43:30.419Z"
   },
   {
    "duration": 18,
    "start_time": "2023-08-10T05:43:30.465Z"
   },
   {
    "duration": 34,
    "start_time": "2023-08-10T05:43:30.485Z"
   },
   {
    "duration": 39,
    "start_time": "2023-08-10T05:43:30.521Z"
   },
   {
    "duration": 41,
    "start_time": "2023-08-10T05:43:30.562Z"
   },
   {
    "duration": 28,
    "start_time": "2023-08-10T05:43:30.605Z"
   },
   {
    "duration": 18,
    "start_time": "2023-08-10T05:43:30.635Z"
   },
   {
    "duration": 28,
    "start_time": "2023-08-10T05:43:30.656Z"
   },
   {
    "duration": 22,
    "start_time": "2023-08-10T05:43:30.686Z"
   },
   {
    "duration": 33,
    "start_time": "2023-08-10T05:43:30.710Z"
   },
   {
    "duration": 47,
    "start_time": "2023-08-10T05:43:30.745Z"
   },
   {
    "duration": 34,
    "start_time": "2023-08-10T05:43:30.794Z"
   },
   {
    "duration": 36,
    "start_time": "2023-08-10T05:43:30.830Z"
   },
   {
    "duration": 48,
    "start_time": "2023-08-10T05:43:30.868Z"
   },
   {
    "duration": 6,
    "start_time": "2023-08-10T05:43:30.918Z"
   },
   {
    "duration": 44,
    "start_time": "2023-08-10T05:43:30.926Z"
   },
   {
    "duration": 42,
    "start_time": "2023-08-10T05:43:30.972Z"
   },
   {
    "duration": 46,
    "start_time": "2023-08-10T05:43:31.016Z"
   },
   {
    "duration": 105,
    "start_time": "2023-08-10T05:43:31.064Z"
   },
   {
    "duration": 1272,
    "start_time": "2023-08-10T05:43:31.171Z"
   },
   {
    "duration": 0,
    "start_time": "2023-08-10T05:43:32.445Z"
   },
   {
    "duration": 0,
    "start_time": "2023-08-10T05:43:32.447Z"
   },
   {
    "duration": 0,
    "start_time": "2023-08-10T05:43:32.449Z"
   },
   {
    "duration": 0,
    "start_time": "2023-08-10T05:43:32.450Z"
   },
   {
    "duration": 0,
    "start_time": "2023-08-10T05:43:32.451Z"
   },
   {
    "duration": 0,
    "start_time": "2023-08-10T05:43:32.452Z"
   },
   {
    "duration": 0,
    "start_time": "2023-08-10T05:43:32.453Z"
   },
   {
    "duration": 0,
    "start_time": "2023-08-10T05:43:32.454Z"
   },
   {
    "duration": 0,
    "start_time": "2023-08-10T05:43:32.456Z"
   },
   {
    "duration": 0,
    "start_time": "2023-08-10T05:43:32.457Z"
   },
   {
    "duration": 0,
    "start_time": "2023-08-10T05:43:32.458Z"
   },
   {
    "duration": 0,
    "start_time": "2023-08-10T05:43:32.459Z"
   },
   {
    "duration": 0,
    "start_time": "2023-08-10T05:43:32.460Z"
   },
   {
    "duration": 4,
    "start_time": "2023-08-10T05:45:07.899Z"
   },
   {
    "duration": 11,
    "start_time": "2023-08-10T05:45:11.493Z"
   },
   {
    "duration": 4,
    "start_time": "2023-08-10T05:45:14.844Z"
   },
   {
    "duration": 13,
    "start_time": "2023-08-10T05:45:22.456Z"
   },
   {
    "duration": 23,
    "start_time": "2023-08-10T05:45:23.371Z"
   },
   {
    "duration": 1356,
    "start_time": "2023-08-10T05:45:28.176Z"
   },
   {
    "duration": 1263,
    "start_time": "2023-08-10T05:45:29.534Z"
   },
   {
    "duration": 25,
    "start_time": "2023-08-10T05:45:30.798Z"
   },
   {
    "duration": 51,
    "start_time": "2023-08-10T05:45:30.825Z"
   },
   {
    "duration": 70,
    "start_time": "2023-08-10T05:45:30.877Z"
   },
   {
    "duration": 118,
    "start_time": "2023-08-10T05:45:30.948Z"
   },
   {
    "duration": 302,
    "start_time": "2023-08-10T05:45:31.068Z"
   },
   {
    "duration": 67,
    "start_time": "2023-08-10T05:45:31.373Z"
   },
   {
    "duration": 73,
    "start_time": "2023-08-10T05:45:31.442Z"
   },
   {
    "duration": 61,
    "start_time": "2023-08-10T05:45:31.519Z"
   },
   {
    "duration": 37,
    "start_time": "2023-08-10T05:45:31.582Z"
   },
   {
    "duration": 47,
    "start_time": "2023-08-10T05:45:31.621Z"
   },
   {
    "duration": 53,
    "start_time": "2023-08-10T05:45:31.670Z"
   },
   {
    "duration": 60,
    "start_time": "2023-08-10T05:45:31.726Z"
   },
   {
    "duration": 158,
    "start_time": "2023-08-10T05:45:31.788Z"
   },
   {
    "duration": 219,
    "start_time": "2023-08-10T05:45:31.948Z"
   },
   {
    "duration": 121,
    "start_time": "2023-08-10T05:45:32.170Z"
   },
   {
    "duration": 95,
    "start_time": "2023-08-10T05:45:32.293Z"
   },
   {
    "duration": 53,
    "start_time": "2023-08-10T05:45:32.389Z"
   },
   {
    "duration": 39,
    "start_time": "2023-08-10T05:45:32.444Z"
   },
   {
    "duration": 42,
    "start_time": "2023-08-10T05:45:32.485Z"
   },
   {
    "duration": 1687,
    "start_time": "2023-08-10T05:45:32.529Z"
   },
   {
    "duration": 294,
    "start_time": "2023-08-10T05:45:34.218Z"
   },
   {
    "duration": 8,
    "start_time": "2023-08-10T05:45:34.514Z"
   },
   {
    "duration": 6,
    "start_time": "2023-08-10T05:45:34.524Z"
   },
   {
    "duration": 60,
    "start_time": "2023-08-10T05:45:34.531Z"
   },
   {
    "duration": 5,
    "start_time": "2023-08-10T05:45:34.592Z"
   },
   {
    "duration": 5,
    "start_time": "2023-08-10T05:45:34.601Z"
   },
   {
    "duration": 8,
    "start_time": "2023-08-10T05:45:34.608Z"
   },
   {
    "duration": 12,
    "start_time": "2023-08-10T05:45:34.618Z"
   },
   {
    "duration": 39,
    "start_time": "2023-08-10T05:45:34.632Z"
   },
   {
    "duration": 5,
    "start_time": "2023-08-10T05:45:34.673Z"
   },
   {
    "duration": 14,
    "start_time": "2023-08-10T05:45:34.680Z"
   },
   {
    "duration": 12,
    "start_time": "2023-08-10T05:45:34.696Z"
   },
   {
    "duration": 46,
    "start_time": "2023-08-10T05:45:34.710Z"
   },
   {
    "duration": 26,
    "start_time": "2023-08-10T05:45:34.759Z"
   },
   {
    "duration": 15,
    "start_time": "2023-08-10T05:45:34.787Z"
   },
   {
    "duration": 7,
    "start_time": "2023-08-10T05:45:34.804Z"
   },
   {
    "duration": 14,
    "start_time": "2023-08-10T05:45:34.812Z"
   },
   {
    "duration": 245,
    "start_time": "2023-08-10T05:45:34.828Z"
   },
   {
    "duration": 191,
    "start_time": "2023-08-10T05:45:35.074Z"
   },
   {
    "duration": 206,
    "start_time": "2023-08-10T05:45:35.266Z"
   },
   {
    "duration": 12,
    "start_time": "2023-08-10T05:45:35.474Z"
   },
   {
    "duration": 74,
    "start_time": "2023-08-10T05:45:35.488Z"
   },
   {
    "duration": 17,
    "start_time": "2023-08-10T05:45:35.564Z"
   },
   {
    "duration": 558,
    "start_time": "2023-08-10T05:45:35.583Z"
   },
   {
    "duration": 41,
    "start_time": "2023-08-10T05:45:36.142Z"
   },
   {
    "duration": 881,
    "start_time": "2023-08-10T05:45:36.185Z"
   },
   {
    "duration": 26,
    "start_time": "2023-08-10T05:45:37.068Z"
   },
   {
    "duration": 7,
    "start_time": "2023-08-10T05:45:37.096Z"
   },
   {
    "duration": 8,
    "start_time": "2023-08-10T05:45:37.105Z"
   },
   {
    "duration": 8,
    "start_time": "2023-08-10T05:45:37.114Z"
   },
   {
    "duration": 39,
    "start_time": "2023-08-10T05:45:37.123Z"
   },
   {
    "duration": 10,
    "start_time": "2023-08-10T05:45:37.164Z"
   },
   {
    "duration": 9,
    "start_time": "2023-08-10T05:45:37.175Z"
   },
   {
    "duration": 11,
    "start_time": "2023-08-10T05:45:37.186Z"
   },
   {
    "duration": 12,
    "start_time": "2023-08-10T05:45:37.199Z"
   },
   {
    "duration": 23,
    "start_time": "2023-08-10T05:45:37.212Z"
   },
   {
    "duration": 24,
    "start_time": "2023-08-10T05:45:37.237Z"
   },
   {
    "duration": 6,
    "start_time": "2023-08-10T05:45:37.263Z"
   },
   {
    "duration": 7,
    "start_time": "2023-08-10T05:45:37.270Z"
   },
   {
    "duration": 12,
    "start_time": "2023-08-10T05:45:37.279Z"
   },
   {
    "duration": 4,
    "start_time": "2023-08-10T05:45:37.293Z"
   },
   {
    "duration": 5,
    "start_time": "2023-08-10T05:45:37.298Z"
   },
   {
    "duration": 11,
    "start_time": "2023-08-10T05:45:37.304Z"
   },
   {
    "duration": 46,
    "start_time": "2023-08-10T05:45:37.317Z"
   },
   {
    "duration": 26,
    "start_time": "2023-08-10T05:45:37.366Z"
   },
   {
    "duration": 27,
    "start_time": "2023-08-10T05:45:37.394Z"
   },
   {
    "duration": 34,
    "start_time": "2023-08-10T05:45:37.423Z"
   },
   {
    "duration": 15,
    "start_time": "2023-08-10T05:45:37.460Z"
   },
   {
    "duration": 7,
    "start_time": "2023-08-10T05:45:37.477Z"
   },
   {
    "duration": 5,
    "start_time": "2023-08-10T05:45:37.486Z"
   },
   {
    "duration": 75,
    "start_time": "2023-08-10T05:45:37.493Z"
   },
   {
    "duration": 1150,
    "start_time": "2023-08-10T05:45:37.570Z"
   },
   {
    "duration": 0,
    "start_time": "2023-08-10T05:45:38.722Z"
   },
   {
    "duration": 0,
    "start_time": "2023-08-10T05:45:38.723Z"
   },
   {
    "duration": 0,
    "start_time": "2023-08-10T05:45:38.724Z"
   },
   {
    "duration": 1,
    "start_time": "2023-08-10T05:45:38.725Z"
   },
   {
    "duration": 0,
    "start_time": "2023-08-10T05:45:38.727Z"
   },
   {
    "duration": 0,
    "start_time": "2023-08-10T05:45:38.728Z"
   },
   {
    "duration": 0,
    "start_time": "2023-08-10T05:45:38.729Z"
   },
   {
    "duration": 0,
    "start_time": "2023-08-10T05:45:38.730Z"
   },
   {
    "duration": 0,
    "start_time": "2023-08-10T05:45:38.731Z"
   },
   {
    "duration": 0,
    "start_time": "2023-08-10T05:45:38.732Z"
   },
   {
    "duration": 0,
    "start_time": "2023-08-10T05:45:38.733Z"
   },
   {
    "duration": 0,
    "start_time": "2023-08-10T05:45:38.734Z"
   },
   {
    "duration": 0,
    "start_time": "2023-08-10T05:45:38.735Z"
   },
   {
    "duration": 5,
    "start_time": "2023-08-10T05:46:59.853Z"
   },
   {
    "duration": 26,
    "start_time": "2023-08-10T05:47:05.638Z"
   },
   {
    "duration": 1178,
    "start_time": "2023-08-10T05:47:42.834Z"
   },
   {
    "duration": 0,
    "start_time": "2023-08-10T05:47:44.014Z"
   },
   {
    "duration": 1368,
    "start_time": "2023-08-10T05:48:01.718Z"
   },
   {
    "duration": 1350,
    "start_time": "2023-08-10T05:48:03.088Z"
   },
   {
    "duration": 22,
    "start_time": "2023-08-10T05:48:04.440Z"
   },
   {
    "duration": 24,
    "start_time": "2023-08-10T05:48:04.464Z"
   },
   {
    "duration": 6,
    "start_time": "2023-08-10T05:48:04.490Z"
   },
   {
    "duration": 12,
    "start_time": "2023-08-10T05:48:04.498Z"
   },
   {
    "duration": 14,
    "start_time": "2023-08-10T05:48:04.511Z"
   },
   {
    "duration": 40,
    "start_time": "2023-08-10T05:48:04.526Z"
   },
   {
    "duration": 12,
    "start_time": "2023-08-10T05:48:04.568Z"
   },
   {
    "duration": 15,
    "start_time": "2023-08-10T05:48:04.583Z"
   },
   {
    "duration": 11,
    "start_time": "2023-08-10T05:48:04.599Z"
   },
   {
    "duration": 9,
    "start_time": "2023-08-10T05:48:04.611Z"
   },
   {
    "duration": 4,
    "start_time": "2023-08-10T05:48:04.657Z"
   },
   {
    "duration": 29,
    "start_time": "2023-08-10T05:48:04.662Z"
   },
   {
    "duration": 11,
    "start_time": "2023-08-10T05:48:04.692Z"
   },
   {
    "duration": 7,
    "start_time": "2023-08-10T05:48:04.704Z"
   },
   {
    "duration": 53,
    "start_time": "2023-08-10T05:48:04.712Z"
   },
   {
    "duration": 18,
    "start_time": "2023-08-10T05:48:04.767Z"
   },
   {
    "duration": 26,
    "start_time": "2023-08-10T05:48:04.787Z"
   },
   {
    "duration": 7,
    "start_time": "2023-08-10T05:48:04.815Z"
   },
   {
    "duration": 26,
    "start_time": "2023-08-10T05:48:04.823Z"
   },
   {
    "duration": 1706,
    "start_time": "2023-08-10T05:48:04.850Z"
   },
   {
    "duration": 298,
    "start_time": "2023-08-10T05:48:06.558Z"
   },
   {
    "duration": 7,
    "start_time": "2023-08-10T05:48:06.859Z"
   },
   {
    "duration": 9,
    "start_time": "2023-08-10T05:48:06.868Z"
   },
   {
    "duration": 100,
    "start_time": "2023-08-10T05:48:06.879Z"
   },
   {
    "duration": 5,
    "start_time": "2023-08-10T05:48:06.980Z"
   },
   {
    "duration": 8,
    "start_time": "2023-08-10T05:48:06.990Z"
   },
   {
    "duration": 15,
    "start_time": "2023-08-10T05:48:06.999Z"
   },
   {
    "duration": 14,
    "start_time": "2023-08-10T05:48:07.015Z"
   },
   {
    "duration": 41,
    "start_time": "2023-08-10T05:48:07.031Z"
   },
   {
    "duration": 5,
    "start_time": "2023-08-10T05:48:07.074Z"
   },
   {
    "duration": 15,
    "start_time": "2023-08-10T05:48:07.080Z"
   },
   {
    "duration": 12,
    "start_time": "2023-08-10T05:48:07.096Z"
   },
   {
    "duration": 11,
    "start_time": "2023-08-10T05:48:07.109Z"
   },
   {
    "duration": 51,
    "start_time": "2023-08-10T05:48:07.121Z"
   },
   {
    "duration": 30,
    "start_time": "2023-08-10T05:48:07.174Z"
   },
   {
    "duration": 6,
    "start_time": "2023-08-10T05:48:07.205Z"
   },
   {
    "duration": 17,
    "start_time": "2023-08-10T05:48:07.213Z"
   },
   {
    "duration": 268,
    "start_time": "2023-08-10T05:48:07.232Z"
   },
   {
    "duration": 178,
    "start_time": "2023-08-10T05:48:07.502Z"
   },
   {
    "duration": 228,
    "start_time": "2023-08-10T05:48:07.683Z"
   },
   {
    "duration": 12,
    "start_time": "2023-08-10T05:48:07.912Z"
   },
   {
    "duration": 68,
    "start_time": "2023-08-10T05:48:07.926Z"
   },
   {
    "duration": 14,
    "start_time": "2023-08-10T05:48:07.996Z"
   },
   {
    "duration": 596,
    "start_time": "2023-08-10T05:48:08.012Z"
   },
   {
    "duration": 29,
    "start_time": "2023-08-10T05:48:08.609Z"
   },
   {
    "duration": 954,
    "start_time": "2023-08-10T05:48:08.640Z"
   },
   {
    "duration": 25,
    "start_time": "2023-08-10T05:48:09.595Z"
   },
   {
    "duration": 7,
    "start_time": "2023-08-10T05:48:09.621Z"
   },
   {
    "duration": 8,
    "start_time": "2023-08-10T05:48:09.630Z"
   },
   {
    "duration": 17,
    "start_time": "2023-08-10T05:48:09.657Z"
   },
   {
    "duration": 12,
    "start_time": "2023-08-10T05:48:09.675Z"
   },
   {
    "duration": 36,
    "start_time": "2023-08-10T05:48:09.689Z"
   },
   {
    "duration": 5,
    "start_time": "2023-08-10T05:48:09.727Z"
   },
   {
    "duration": 13,
    "start_time": "2023-08-10T05:48:09.733Z"
   },
   {
    "duration": 13,
    "start_time": "2023-08-10T05:48:09.748Z"
   },
   {
    "duration": 27,
    "start_time": "2023-08-10T05:48:09.763Z"
   },
   {
    "duration": 6,
    "start_time": "2023-08-10T05:48:09.792Z"
   },
   {
    "duration": 5,
    "start_time": "2023-08-10T05:48:09.799Z"
   },
   {
    "duration": 8,
    "start_time": "2023-08-10T05:48:09.805Z"
   },
   {
    "duration": 13,
    "start_time": "2023-08-10T05:48:09.814Z"
   },
   {
    "duration": 21,
    "start_time": "2023-08-10T05:48:09.828Z"
   },
   {
    "duration": 157,
    "start_time": "2023-08-10T05:48:09.857Z"
   },
   {
    "duration": 0,
    "start_time": "2023-08-10T05:48:10.016Z"
   },
   {
    "duration": 0,
    "start_time": "2023-08-10T05:48:10.017Z"
   },
   {
    "duration": 0,
    "start_time": "2023-08-10T05:48:10.018Z"
   },
   {
    "duration": 0,
    "start_time": "2023-08-10T05:48:10.019Z"
   },
   {
    "duration": 0,
    "start_time": "2023-08-10T05:48:10.020Z"
   },
   {
    "duration": 0,
    "start_time": "2023-08-10T05:48:10.021Z"
   },
   {
    "duration": 0,
    "start_time": "2023-08-10T05:48:10.022Z"
   },
   {
    "duration": 0,
    "start_time": "2023-08-10T05:48:10.023Z"
   },
   {
    "duration": 0,
    "start_time": "2023-08-10T05:48:10.024Z"
   },
   {
    "duration": 1,
    "start_time": "2023-08-10T05:48:10.025Z"
   },
   {
    "duration": 0,
    "start_time": "2023-08-10T05:48:10.027Z"
   },
   {
    "duration": 0,
    "start_time": "2023-08-10T05:48:10.028Z"
   },
   {
    "duration": 0,
    "start_time": "2023-08-10T05:48:10.029Z"
   },
   {
    "duration": 0,
    "start_time": "2023-08-10T05:48:10.030Z"
   },
   {
    "duration": 0,
    "start_time": "2023-08-10T05:48:10.057Z"
   },
   {
    "duration": 0,
    "start_time": "2023-08-10T05:48:10.058Z"
   },
   {
    "duration": 0,
    "start_time": "2023-08-10T05:48:10.060Z"
   },
   {
    "duration": 0,
    "start_time": "2023-08-10T05:48:10.060Z"
   },
   {
    "duration": 0,
    "start_time": "2023-08-10T05:48:10.061Z"
   },
   {
    "duration": 0,
    "start_time": "2023-08-10T05:48:10.062Z"
   },
   {
    "duration": 0,
    "start_time": "2023-08-10T05:48:10.063Z"
   },
   {
    "duration": 0,
    "start_time": "2023-08-10T05:48:10.064Z"
   },
   {
    "duration": 0,
    "start_time": "2023-08-10T05:48:10.065Z"
   },
   {
    "duration": 0,
    "start_time": "2023-08-10T05:48:10.067Z"
   },
   {
    "duration": 13,
    "start_time": "2023-08-10T05:48:38.373Z"
   },
   {
    "duration": 10,
    "start_time": "2023-08-10T05:48:40.475Z"
   },
   {
    "duration": 5,
    "start_time": "2023-08-10T05:48:47.177Z"
   },
   {
    "duration": 4,
    "start_time": "2023-08-10T05:48:56.352Z"
   },
   {
    "duration": 9,
    "start_time": "2023-08-10T05:49:00.074Z"
   },
   {
    "duration": 17,
    "start_time": "2023-08-10T05:49:01.641Z"
   },
   {
    "duration": 40,
    "start_time": "2023-08-10T05:49:17.265Z"
   },
   {
    "duration": 7,
    "start_time": "2023-08-10T05:49:46.846Z"
   },
   {
    "duration": 9,
    "start_time": "2023-08-10T05:50:25.140Z"
   },
   {
    "duration": 8,
    "start_time": "2023-08-10T05:50:48.179Z"
   },
   {
    "duration": 5,
    "start_time": "2023-08-10T05:53:39.085Z"
   },
   {
    "duration": 1076,
    "start_time": "2023-08-10T05:53:39.255Z"
   },
   {
    "duration": 20,
    "start_time": "2023-08-10T05:53:40.334Z"
   },
   {
    "duration": 20,
    "start_time": "2023-08-10T05:53:40.356Z"
   },
   {
    "duration": 5,
    "start_time": "2023-08-10T05:53:40.379Z"
   },
   {
    "duration": 19,
    "start_time": "2023-08-10T05:53:40.386Z"
   },
   {
    "duration": 16,
    "start_time": "2023-08-10T05:53:40.485Z"
   },
   {
    "duration": 14,
    "start_time": "2023-08-10T05:53:40.703Z"
   },
   {
    "duration": 22,
    "start_time": "2023-08-10T05:53:41.258Z"
   },
   {
    "duration": 30,
    "start_time": "2023-08-10T05:53:41.419Z"
   },
   {
    "duration": 19,
    "start_time": "2023-08-10T05:53:41.758Z"
   },
   {
    "duration": 15,
    "start_time": "2023-08-10T05:53:41.935Z"
   },
   {
    "duration": 5,
    "start_time": "2023-08-10T05:53:42.310Z"
   },
   {
    "duration": 31,
    "start_time": "2023-08-10T05:53:42.883Z"
   },
   {
    "duration": 19,
    "start_time": "2023-08-10T05:53:43.279Z"
   },
   {
    "duration": 13,
    "start_time": "2023-08-10T05:53:43.781Z"
   },
   {
    "duration": 11,
    "start_time": "2023-08-10T05:53:44.050Z"
   },
   {
    "duration": 18,
    "start_time": "2023-08-10T05:53:44.222Z"
   },
   {
    "duration": 12,
    "start_time": "2023-08-10T05:53:44.413Z"
   },
   {
    "duration": 8,
    "start_time": "2023-08-10T05:53:44.592Z"
   },
   {
    "duration": 22,
    "start_time": "2023-08-10T05:53:45.217Z"
   },
   {
    "duration": 2181,
    "start_time": "2023-08-10T05:53:45.998Z"
   },
   {
    "duration": 352,
    "start_time": "2023-08-10T05:53:48.183Z"
   },
   {
    "duration": 25,
    "start_time": "2023-08-10T05:53:48.537Z"
   },
   {
    "duration": 56,
    "start_time": "2023-08-10T05:53:48.565Z"
   },
   {
    "duration": 105,
    "start_time": "2023-08-10T05:53:48.624Z"
   },
   {
    "duration": 7,
    "start_time": "2023-08-10T05:53:48.732Z"
   },
   {
    "duration": 19,
    "start_time": "2023-08-10T05:53:48.744Z"
   },
   {
    "duration": 34,
    "start_time": "2023-08-10T05:53:48.765Z"
   },
   {
    "duration": 56,
    "start_time": "2023-08-10T05:53:48.801Z"
   },
   {
    "duration": 22,
    "start_time": "2023-08-10T05:53:51.060Z"
   },
   {
    "duration": 5,
    "start_time": "2023-08-10T05:53:52.756Z"
   },
   {
    "duration": 22,
    "start_time": "2023-08-10T05:53:54.302Z"
   },
   {
    "duration": 15,
    "start_time": "2023-08-10T05:53:54.829Z"
   },
   {
    "duration": 14,
    "start_time": "2023-08-10T05:53:55.702Z"
   },
   {
    "duration": 18,
    "start_time": "2023-08-10T05:53:56.109Z"
   },
   {
    "duration": 23,
    "start_time": "2023-08-10T05:53:56.387Z"
   },
   {
    "duration": 7,
    "start_time": "2023-08-10T05:53:56.525Z"
   },
   {
    "duration": 16,
    "start_time": "2023-08-10T05:53:56.665Z"
   },
   {
    "duration": 227,
    "start_time": "2023-08-10T05:53:57.009Z"
   },
   {
    "duration": 248,
    "start_time": "2023-08-10T05:53:57.239Z"
   },
   {
    "duration": 215,
    "start_time": "2023-08-10T05:53:57.491Z"
   },
   {
    "duration": 18,
    "start_time": "2023-08-10T05:53:58.051Z"
   },
   {
    "duration": 20,
    "start_time": "2023-08-10T05:53:59.236Z"
   },
   {
    "duration": 24,
    "start_time": "2023-08-10T05:53:59.614Z"
   },
   {
    "duration": 69,
    "start_time": "2023-08-10T05:54:00.000Z"
   },
   {
    "duration": 34,
    "start_time": "2023-08-10T05:54:01.086Z"
   },
   {
    "duration": 1195,
    "start_time": "2023-08-10T05:54:01.917Z"
   },
   {
    "duration": 40,
    "start_time": "2023-08-10T05:54:03.991Z"
   },
   {
    "duration": 8,
    "start_time": "2023-08-10T05:54:04.908Z"
   },
   {
    "duration": 4,
    "start_time": "2023-08-10T05:54:05.448Z"
   },
   {
    "duration": 5,
    "start_time": "2023-08-10T05:54:05.981Z"
   },
   {
    "duration": 12,
    "start_time": "2023-08-10T05:54:06.457Z"
   },
   {
    "duration": 7,
    "start_time": "2023-08-10T05:54:10.793Z"
   },
   {
    "duration": 6,
    "start_time": "2023-08-10T05:54:19.093Z"
   },
   {
    "duration": 17,
    "start_time": "2023-08-10T05:54:21.866Z"
   },
   {
    "duration": 16,
    "start_time": "2023-08-10T05:54:22.793Z"
   },
   {
    "duration": 26,
    "start_time": "2023-08-10T05:54:28.180Z"
   },
   {
    "duration": 7,
    "start_time": "2023-08-10T05:54:30.138Z"
   },
   {
    "duration": 6,
    "start_time": "2023-08-10T05:54:34.199Z"
   },
   {
    "duration": 11,
    "start_time": "2023-08-10T05:54:36.193Z"
   },
   {
    "duration": 5,
    "start_time": "2023-08-10T05:54:40.412Z"
   },
   {
    "duration": 8,
    "start_time": "2023-08-10T05:54:45.845Z"
   },
   {
    "duration": 14,
    "start_time": "2023-08-10T05:54:49.891Z"
   },
   {
    "duration": 21,
    "start_time": "2023-08-10T05:54:51.205Z"
   },
   {
    "duration": 10,
    "start_time": "2023-08-10T05:54:56.934Z"
   },
   {
    "duration": 18,
    "start_time": "2023-08-10T05:56:24.623Z"
   },
   {
    "duration": 4,
    "start_time": "2023-08-10T05:56:54.334Z"
   },
   {
    "duration": 54,
    "start_time": "2023-08-10T05:56:55.109Z"
   },
   {
    "duration": 17,
    "start_time": "2023-08-10T05:57:03.915Z"
   },
   {
    "duration": 8,
    "start_time": "2023-08-10T05:57:23.315Z"
   },
   {
    "duration": 7,
    "start_time": "2023-08-10T05:57:30.455Z"
   },
   {
    "duration": 88,
    "start_time": "2023-08-10T05:59:08.380Z"
   },
   {
    "duration": 22,
    "start_time": "2023-08-10T05:59:51.650Z"
   },
   {
    "duration": 42,
    "start_time": "2023-08-10T06:00:02.682Z"
   },
   {
    "duration": 678,
    "start_time": "2023-08-10T06:00:10.502Z"
   },
   {
    "duration": 12,
    "start_time": "2023-08-10T06:02:20.422Z"
   },
   {
    "duration": 31,
    "start_time": "2023-08-10T06:03:24.723Z"
   },
   {
    "duration": 692,
    "start_time": "2023-08-10T06:03:26.396Z"
   },
   {
    "duration": 30,
    "start_time": "2023-08-10T06:03:46.399Z"
   },
   {
    "duration": 658,
    "start_time": "2023-08-10T06:03:46.549Z"
   },
   {
    "duration": 785,
    "start_time": "2023-08-10T06:04:49.574Z"
   },
   {
    "duration": 1311,
    "start_time": "2023-08-10T06:07:28.218Z"
   },
   {
    "duration": 934,
    "start_time": "2023-08-10T06:07:29.531Z"
   },
   {
    "duration": 23,
    "start_time": "2023-08-10T06:07:30.467Z"
   },
   {
    "duration": 39,
    "start_time": "2023-08-10T06:07:30.493Z"
   },
   {
    "duration": 37,
    "start_time": "2023-08-10T06:07:30.533Z"
   },
   {
    "duration": 58,
    "start_time": "2023-08-10T06:07:30.572Z"
   },
   {
    "duration": 35,
    "start_time": "2023-08-10T06:07:30.632Z"
   },
   {
    "duration": 27,
    "start_time": "2023-08-10T06:07:30.669Z"
   },
   {
    "duration": 26,
    "start_time": "2023-08-10T06:07:30.698Z"
   },
   {
    "duration": 76,
    "start_time": "2023-08-10T06:07:30.726Z"
   },
   {
    "duration": 26,
    "start_time": "2023-08-10T06:07:30.803Z"
   },
   {
    "duration": 19,
    "start_time": "2023-08-10T06:07:30.831Z"
   },
   {
    "duration": 14,
    "start_time": "2023-08-10T06:07:30.851Z"
   },
   {
    "duration": 48,
    "start_time": "2023-08-10T06:07:30.866Z"
   },
   {
    "duration": 16,
    "start_time": "2023-08-10T06:07:30.916Z"
   },
   {
    "duration": 29,
    "start_time": "2023-08-10T06:07:30.934Z"
   },
   {
    "duration": 46,
    "start_time": "2023-08-10T06:07:30.964Z"
   },
   {
    "duration": 55,
    "start_time": "2023-08-10T06:07:31.012Z"
   },
   {
    "duration": 58,
    "start_time": "2023-08-10T06:07:31.069Z"
   },
   {
    "duration": 34,
    "start_time": "2023-08-10T06:07:31.129Z"
   },
   {
    "duration": 48,
    "start_time": "2023-08-10T06:07:31.165Z"
   },
   {
    "duration": 1746,
    "start_time": "2023-08-10T06:07:31.215Z"
   },
   {
    "duration": 315,
    "start_time": "2023-08-10T06:07:32.963Z"
   },
   {
    "duration": 10,
    "start_time": "2023-08-10T06:07:33.280Z"
   },
   {
    "duration": 16,
    "start_time": "2023-08-10T06:07:33.291Z"
   },
   {
    "duration": 49,
    "start_time": "2023-08-10T06:07:33.309Z"
   },
   {
    "duration": 4,
    "start_time": "2023-08-10T06:07:33.360Z"
   },
   {
    "duration": 16,
    "start_time": "2023-08-10T06:07:33.367Z"
   },
   {
    "duration": 14,
    "start_time": "2023-08-10T06:07:33.385Z"
   },
   {
    "duration": 14,
    "start_time": "2023-08-10T06:07:33.400Z"
   },
   {
    "duration": 18,
    "start_time": "2023-08-10T06:07:33.415Z"
   },
   {
    "duration": 15,
    "start_time": "2023-08-10T06:07:33.435Z"
   },
   {
    "duration": 24,
    "start_time": "2023-08-10T06:07:33.452Z"
   },
   {
    "duration": 12,
    "start_time": "2023-08-10T06:07:33.477Z"
   },
   {
    "duration": 11,
    "start_time": "2023-08-10T06:07:33.490Z"
   },
   {
    "duration": 16,
    "start_time": "2023-08-10T06:07:33.502Z"
   },
   {
    "duration": 42,
    "start_time": "2023-08-10T06:07:33.520Z"
   },
   {
    "duration": 17,
    "start_time": "2023-08-10T06:07:33.563Z"
   },
   {
    "duration": 12,
    "start_time": "2023-08-10T06:07:33.582Z"
   },
   {
    "duration": 232,
    "start_time": "2023-08-10T06:07:33.596Z"
   },
   {
    "duration": 185,
    "start_time": "2023-08-10T06:07:33.829Z"
   },
   {
    "duration": 209,
    "start_time": "2023-08-10T06:07:34.015Z"
   },
   {
    "duration": 13,
    "start_time": "2023-08-10T06:07:34.226Z"
   },
   {
    "duration": 69,
    "start_time": "2023-08-10T06:07:34.240Z"
   },
   {
    "duration": 16,
    "start_time": "2023-08-10T06:07:34.311Z"
   },
   {
    "duration": 554,
    "start_time": "2023-08-10T06:07:34.329Z"
   },
   {
    "duration": 33,
    "start_time": "2023-08-10T06:07:34.885Z"
   },
   {
    "duration": 883,
    "start_time": "2023-08-10T06:07:34.920Z"
   },
   {
    "duration": 26,
    "start_time": "2023-08-10T06:07:35.804Z"
   },
   {
    "duration": 72,
    "start_time": "2023-08-10T06:07:35.833Z"
   },
   {
    "duration": 131,
    "start_time": "2023-08-10T06:07:35.906Z"
   },
   {
    "duration": 111,
    "start_time": "2023-08-10T06:07:36.040Z"
   },
   {
    "duration": 63,
    "start_time": "2023-08-10T06:07:36.153Z"
   },
   {
    "duration": 20,
    "start_time": "2023-08-10T06:07:36.218Z"
   },
   {
    "duration": 6,
    "start_time": "2023-08-10T06:07:36.240Z"
   },
   {
    "duration": 29,
    "start_time": "2023-08-10T06:07:36.248Z"
   },
   {
    "duration": 13,
    "start_time": "2023-08-10T06:07:36.279Z"
   },
   {
    "duration": 34,
    "start_time": "2023-08-10T06:07:36.294Z"
   },
   {
    "duration": 6,
    "start_time": "2023-08-10T06:07:36.329Z"
   },
   {
    "duration": 7,
    "start_time": "2023-08-10T06:07:36.337Z"
   },
   {
    "duration": 36,
    "start_time": "2023-08-10T06:07:36.346Z"
   },
   {
    "duration": 20,
    "start_time": "2023-08-10T06:07:36.384Z"
   },
   {
    "duration": 25,
    "start_time": "2023-08-10T06:07:36.405Z"
   },
   {
    "duration": 14,
    "start_time": "2023-08-10T06:07:36.432Z"
   },
   {
    "duration": 20,
    "start_time": "2023-08-10T06:07:36.448Z"
   },
   {
    "duration": 7,
    "start_time": "2023-08-10T06:07:36.470Z"
   },
   {
    "duration": 6,
    "start_time": "2023-08-10T06:07:36.479Z"
   },
   {
    "duration": 57,
    "start_time": "2023-08-10T06:07:36.486Z"
   },
   {
    "duration": 12,
    "start_time": "2023-08-10T06:07:36.546Z"
   },
   {
    "duration": 72,
    "start_time": "2023-08-10T06:07:36.560Z"
   },
   {
    "duration": 24,
    "start_time": "2023-08-10T06:07:36.634Z"
   },
   {
    "duration": 30,
    "start_time": "2023-08-10T06:07:36.660Z"
   },
   {
    "duration": 629,
    "start_time": "2023-08-10T06:07:36.692Z"
   },
   {
    "duration": 3,
    "start_time": "2023-08-10T06:07:37.323Z"
   },
   {
    "duration": 57,
    "start_time": "2023-08-10T06:07:37.328Z"
   },
   {
    "duration": 56,
    "start_time": "2023-08-10T06:07:37.387Z"
   },
   {
    "duration": 3,
    "start_time": "2023-08-10T06:07:37.456Z"
   },
   {
    "duration": 174,
    "start_time": "2023-08-10T06:07:37.461Z"
   },
   {
    "duration": 49,
    "start_time": "2023-08-10T06:07:37.637Z"
   },
   {
    "duration": 1280,
    "start_time": "2023-08-10T07:55:25.250Z"
   },
   {
    "duration": 1166,
    "start_time": "2023-08-10T07:55:26.533Z"
   },
   {
    "duration": 21,
    "start_time": "2023-08-10T07:55:27.701Z"
   },
   {
    "duration": 30,
    "start_time": "2023-08-10T07:55:27.723Z"
   },
   {
    "duration": 4,
    "start_time": "2023-08-10T07:55:27.756Z"
   },
   {
    "duration": 34,
    "start_time": "2023-08-10T07:55:27.762Z"
   },
   {
    "duration": 20,
    "start_time": "2023-08-10T07:55:27.797Z"
   },
   {
    "duration": 17,
    "start_time": "2023-08-10T07:55:27.819Z"
   },
   {
    "duration": 26,
    "start_time": "2023-08-10T07:55:27.838Z"
   },
   {
    "duration": 54,
    "start_time": "2023-08-10T07:55:27.866Z"
   },
   {
    "duration": 11,
    "start_time": "2023-08-10T07:55:27.922Z"
   },
   {
    "duration": 11,
    "start_time": "2023-08-10T07:55:27.934Z"
   },
   {
    "duration": 4,
    "start_time": "2023-08-10T07:55:27.946Z"
   },
   {
    "duration": 37,
    "start_time": "2023-08-10T07:55:27.952Z"
   },
   {
    "duration": 10,
    "start_time": "2023-08-10T07:55:27.990Z"
   },
   {
    "duration": 27,
    "start_time": "2023-08-10T07:55:28.002Z"
   },
   {
    "duration": 10,
    "start_time": "2023-08-10T07:55:28.031Z"
   },
   {
    "duration": 37,
    "start_time": "2023-08-10T07:55:28.043Z"
   },
   {
    "duration": 35,
    "start_time": "2023-08-10T07:55:28.087Z"
   },
   {
    "duration": 7,
    "start_time": "2023-08-10T07:55:28.124Z"
   },
   {
    "duration": 18,
    "start_time": "2023-08-10T07:55:28.133Z"
   },
   {
    "duration": 1650,
    "start_time": "2023-08-10T07:55:28.152Z"
   },
   {
    "duration": 308,
    "start_time": "2023-08-10T07:55:29.805Z"
   },
   {
    "duration": 9,
    "start_time": "2023-08-10T07:55:30.115Z"
   },
   {
    "duration": 41,
    "start_time": "2023-08-10T07:55:30.126Z"
   },
   {
    "duration": 108,
    "start_time": "2023-08-10T07:55:30.169Z"
   },
   {
    "duration": 6,
    "start_time": "2023-08-10T07:55:30.286Z"
   },
   {
    "duration": 47,
    "start_time": "2023-08-10T07:55:30.294Z"
   },
   {
    "duration": 35,
    "start_time": "2023-08-10T07:55:30.343Z"
   },
   {
    "duration": 56,
    "start_time": "2023-08-10T07:55:30.380Z"
   },
   {
    "duration": 73,
    "start_time": "2023-08-10T07:55:30.438Z"
   },
   {
    "duration": 19,
    "start_time": "2023-08-10T07:55:30.513Z"
   },
   {
    "duration": 35,
    "start_time": "2023-08-10T07:55:30.534Z"
   },
   {
    "duration": 50,
    "start_time": "2023-08-10T07:55:30.571Z"
   },
   {
    "duration": 38,
    "start_time": "2023-08-10T07:55:30.623Z"
   },
   {
    "duration": 54,
    "start_time": "2023-08-10T07:55:30.663Z"
   },
   {
    "duration": 80,
    "start_time": "2023-08-10T07:55:30.719Z"
   },
   {
    "duration": 38,
    "start_time": "2023-08-10T07:55:30.801Z"
   },
   {
    "duration": 46,
    "start_time": "2023-08-10T07:55:30.841Z"
   },
   {
    "duration": 239,
    "start_time": "2023-08-10T07:55:30.888Z"
   },
   {
    "duration": 184,
    "start_time": "2023-08-10T07:55:31.132Z"
   },
   {
    "duration": 204,
    "start_time": "2023-08-10T07:55:31.318Z"
   },
   {
    "duration": 13,
    "start_time": "2023-08-10T07:55:31.524Z"
   },
   {
    "duration": 78,
    "start_time": "2023-08-10T07:55:31.539Z"
   },
   {
    "duration": 14,
    "start_time": "2023-08-10T07:55:31.619Z"
   },
   {
    "duration": 546,
    "start_time": "2023-08-10T07:55:31.635Z"
   },
   {
    "duration": 59,
    "start_time": "2023-08-10T07:55:32.186Z"
   },
   {
    "duration": 0,
    "start_time": "2023-08-10T07:55:32.246Z"
   },
   {
    "duration": 0,
    "start_time": "2023-08-10T07:55:32.248Z"
   },
   {
    "duration": 0,
    "start_time": "2023-08-10T07:55:32.249Z"
   },
   {
    "duration": 0,
    "start_time": "2023-08-10T07:55:32.250Z"
   },
   {
    "duration": 0,
    "start_time": "2023-08-10T07:55:32.251Z"
   },
   {
    "duration": 0,
    "start_time": "2023-08-10T07:55:32.252Z"
   },
   {
    "duration": 0,
    "start_time": "2023-08-10T07:55:32.253Z"
   },
   {
    "duration": 0,
    "start_time": "2023-08-10T07:55:32.254Z"
   },
   {
    "duration": 0,
    "start_time": "2023-08-10T07:55:32.255Z"
   },
   {
    "duration": 0,
    "start_time": "2023-08-10T07:55:32.256Z"
   },
   {
    "duration": 0,
    "start_time": "2023-08-10T07:55:32.257Z"
   },
   {
    "duration": 0,
    "start_time": "2023-08-10T07:55:32.258Z"
   },
   {
    "duration": 0,
    "start_time": "2023-08-10T07:55:32.259Z"
   },
   {
    "duration": 0,
    "start_time": "2023-08-10T07:55:32.261Z"
   },
   {
    "duration": 0,
    "start_time": "2023-08-10T07:55:32.261Z"
   },
   {
    "duration": 0,
    "start_time": "2023-08-10T07:55:32.263Z"
   },
   {
    "duration": 0,
    "start_time": "2023-08-10T07:55:32.264Z"
   },
   {
    "duration": 0,
    "start_time": "2023-08-10T07:55:32.265Z"
   },
   {
    "duration": 0,
    "start_time": "2023-08-10T07:55:32.266Z"
   },
   {
    "duration": 0,
    "start_time": "2023-08-10T07:55:32.267Z"
   },
   {
    "duration": 0,
    "start_time": "2023-08-10T07:55:32.268Z"
   },
   {
    "duration": 0,
    "start_time": "2023-08-10T07:55:32.269Z"
   },
   {
    "duration": 0,
    "start_time": "2023-08-10T07:55:32.270Z"
   },
   {
    "duration": 0,
    "start_time": "2023-08-10T07:55:32.271Z"
   },
   {
    "duration": 0,
    "start_time": "2023-08-10T07:55:32.273Z"
   },
   {
    "duration": 0,
    "start_time": "2023-08-10T07:55:32.274Z"
   },
   {
    "duration": 0,
    "start_time": "2023-08-10T07:55:32.274Z"
   },
   {
    "duration": 0,
    "start_time": "2023-08-10T07:55:32.277Z"
   },
   {
    "duration": 0,
    "start_time": "2023-08-10T07:55:32.277Z"
   },
   {
    "duration": 0,
    "start_time": "2023-08-10T07:55:32.278Z"
   },
   {
    "duration": 0,
    "start_time": "2023-08-10T07:55:32.279Z"
   },
   {
    "duration": 0,
    "start_time": "2023-08-10T07:55:32.279Z"
   },
   {
    "duration": 0,
    "start_time": "2023-08-10T07:55:32.280Z"
   },
   {
    "duration": 1194,
    "start_time": "2023-08-10T08:18:06.777Z"
   },
   {
    "duration": 958,
    "start_time": "2023-08-10T08:18:07.974Z"
   },
   {
    "duration": 20,
    "start_time": "2023-08-10T08:18:08.934Z"
   },
   {
    "duration": 19,
    "start_time": "2023-08-10T08:18:08.956Z"
   },
   {
    "duration": 3,
    "start_time": "2023-08-10T08:18:08.977Z"
   },
   {
    "duration": 22,
    "start_time": "2023-08-10T08:18:08.982Z"
   },
   {
    "duration": 17,
    "start_time": "2023-08-10T08:18:09.005Z"
   },
   {
    "duration": 11,
    "start_time": "2023-08-10T08:18:09.024Z"
   },
   {
    "duration": 12,
    "start_time": "2023-08-10T08:18:09.037Z"
   },
   {
    "duration": 14,
    "start_time": "2023-08-10T08:18:09.051Z"
   },
   {
    "duration": 9,
    "start_time": "2023-08-10T08:18:09.067Z"
   },
   {
    "duration": 17,
    "start_time": "2023-08-10T08:18:09.078Z"
   },
   {
    "duration": 4,
    "start_time": "2023-08-10T08:18:09.096Z"
   },
   {
    "duration": 20,
    "start_time": "2023-08-10T08:18:09.101Z"
   },
   {
    "duration": 9,
    "start_time": "2023-08-10T08:18:09.123Z"
   },
   {
    "duration": 13,
    "start_time": "2023-08-10T08:18:09.133Z"
   },
   {
    "duration": 38,
    "start_time": "2023-08-10T08:18:09.148Z"
   },
   {
    "duration": 22,
    "start_time": "2023-08-10T08:18:09.188Z"
   },
   {
    "duration": 22,
    "start_time": "2023-08-10T08:18:09.211Z"
   },
   {
    "duration": 15,
    "start_time": "2023-08-10T08:18:09.235Z"
   },
   {
    "duration": 35,
    "start_time": "2023-08-10T08:18:09.252Z"
   },
   {
    "duration": 1733,
    "start_time": "2023-08-10T08:18:09.289Z"
   },
   {
    "duration": 295,
    "start_time": "2023-08-10T08:18:11.025Z"
   },
   {
    "duration": 8,
    "start_time": "2023-08-10T08:18:11.322Z"
   },
   {
    "duration": 23,
    "start_time": "2023-08-10T08:18:11.332Z"
   },
   {
    "duration": 90,
    "start_time": "2023-08-10T08:18:11.357Z"
   },
   {
    "duration": 4,
    "start_time": "2023-08-10T08:18:11.449Z"
   },
   {
    "duration": 7,
    "start_time": "2023-08-10T08:18:11.459Z"
   },
   {
    "duration": 17,
    "start_time": "2023-08-10T08:18:11.468Z"
   },
   {
    "duration": 31,
    "start_time": "2023-08-10T08:18:11.488Z"
   },
   {
    "duration": 27,
    "start_time": "2023-08-10T08:18:11.521Z"
   },
   {
    "duration": 5,
    "start_time": "2023-08-10T08:18:11.550Z"
   },
   {
    "duration": 18,
    "start_time": "2023-08-10T08:18:11.557Z"
   },
   {
    "duration": 18,
    "start_time": "2023-08-10T08:18:11.577Z"
   },
   {
    "duration": 13,
    "start_time": "2023-08-10T08:18:11.597Z"
   },
   {
    "duration": 20,
    "start_time": "2023-08-10T08:18:11.612Z"
   },
   {
    "duration": 41,
    "start_time": "2023-08-10T08:18:11.634Z"
   },
   {
    "duration": 6,
    "start_time": "2023-08-10T08:18:11.676Z"
   },
   {
    "duration": 29,
    "start_time": "2023-08-10T08:18:11.684Z"
   },
   {
    "duration": 210,
    "start_time": "2023-08-10T08:18:11.715Z"
   },
   {
    "duration": 176,
    "start_time": "2023-08-10T08:18:11.927Z"
   },
   {
    "duration": 196,
    "start_time": "2023-08-10T08:18:12.105Z"
   },
   {
    "duration": 12,
    "start_time": "2023-08-10T08:18:12.302Z"
   },
   {
    "duration": 60,
    "start_time": "2023-08-10T08:18:12.315Z"
   },
   {
    "duration": 14,
    "start_time": "2023-08-10T08:18:12.377Z"
   },
   {
    "duration": 495,
    "start_time": "2023-08-10T08:18:12.392Z"
   },
   {
    "duration": 69,
    "start_time": "2023-08-10T08:18:12.888Z"
   },
   {
    "duration": 0,
    "start_time": "2023-08-10T08:18:12.958Z"
   },
   {
    "duration": 0,
    "start_time": "2023-08-10T08:18:12.960Z"
   },
   {
    "duration": 0,
    "start_time": "2023-08-10T08:18:12.961Z"
   },
   {
    "duration": 0,
    "start_time": "2023-08-10T08:18:12.962Z"
   },
   {
    "duration": 0,
    "start_time": "2023-08-10T08:18:12.963Z"
   },
   {
    "duration": 0,
    "start_time": "2023-08-10T08:18:12.964Z"
   },
   {
    "duration": 0,
    "start_time": "2023-08-10T08:18:12.965Z"
   },
   {
    "duration": 0,
    "start_time": "2023-08-10T08:18:12.966Z"
   },
   {
    "duration": 0,
    "start_time": "2023-08-10T08:18:12.967Z"
   },
   {
    "duration": 0,
    "start_time": "2023-08-10T08:18:12.968Z"
   },
   {
    "duration": 0,
    "start_time": "2023-08-10T08:18:12.969Z"
   },
   {
    "duration": 0,
    "start_time": "2023-08-10T08:18:12.970Z"
   },
   {
    "duration": 0,
    "start_time": "2023-08-10T08:18:12.971Z"
   },
   {
    "duration": 0,
    "start_time": "2023-08-10T08:18:12.972Z"
   },
   {
    "duration": 0,
    "start_time": "2023-08-10T08:18:12.973Z"
   },
   {
    "duration": 0,
    "start_time": "2023-08-10T08:18:12.974Z"
   },
   {
    "duration": 0,
    "start_time": "2023-08-10T08:18:12.975Z"
   },
   {
    "duration": 0,
    "start_time": "2023-08-10T08:18:12.976Z"
   },
   {
    "duration": 0,
    "start_time": "2023-08-10T08:18:12.977Z"
   },
   {
    "duration": 0,
    "start_time": "2023-08-10T08:18:12.978Z"
   },
   {
    "duration": 0,
    "start_time": "2023-08-10T08:18:12.980Z"
   },
   {
    "duration": 0,
    "start_time": "2023-08-10T08:18:12.981Z"
   },
   {
    "duration": 0,
    "start_time": "2023-08-10T08:18:12.982Z"
   },
   {
    "duration": 0,
    "start_time": "2023-08-10T08:18:12.985Z"
   },
   {
    "duration": 0,
    "start_time": "2023-08-10T08:18:12.986Z"
   },
   {
    "duration": 0,
    "start_time": "2023-08-10T08:18:12.987Z"
   },
   {
    "duration": 0,
    "start_time": "2023-08-10T08:18:12.988Z"
   },
   {
    "duration": 0,
    "start_time": "2023-08-10T08:18:12.989Z"
   },
   {
    "duration": 0,
    "start_time": "2023-08-10T08:18:12.991Z"
   },
   {
    "duration": 0,
    "start_time": "2023-08-10T08:18:12.993Z"
   },
   {
    "duration": 0,
    "start_time": "2023-08-10T08:18:12.994Z"
   },
   {
    "duration": 0,
    "start_time": "2023-08-10T08:18:12.995Z"
   },
   {
    "duration": 0,
    "start_time": "2023-08-10T08:18:12.997Z"
   },
   {
    "duration": 1172,
    "start_time": "2023-08-10T08:19:08.370Z"
   },
   {
    "duration": 878,
    "start_time": "2023-08-10T08:19:09.544Z"
   },
   {
    "duration": 22,
    "start_time": "2023-08-10T08:19:10.424Z"
   },
   {
    "duration": 26,
    "start_time": "2023-08-10T08:19:10.448Z"
   },
   {
    "duration": 4,
    "start_time": "2023-08-10T08:19:10.475Z"
   },
   {
    "duration": 15,
    "start_time": "2023-08-10T08:19:10.481Z"
   },
   {
    "duration": 10,
    "start_time": "2023-08-10T08:19:10.497Z"
   },
   {
    "duration": 11,
    "start_time": "2023-08-10T08:19:10.509Z"
   },
   {
    "duration": 13,
    "start_time": "2023-08-10T08:19:10.522Z"
   },
   {
    "duration": 40,
    "start_time": "2023-08-10T08:19:10.537Z"
   },
   {
    "duration": 10,
    "start_time": "2023-08-10T08:19:10.579Z"
   },
   {
    "duration": 9,
    "start_time": "2023-08-10T08:19:10.590Z"
   },
   {
    "duration": 4,
    "start_time": "2023-08-10T08:19:10.600Z"
   },
   {
    "duration": 21,
    "start_time": "2023-08-10T08:19:10.605Z"
   },
   {
    "duration": 9,
    "start_time": "2023-08-10T08:19:10.627Z"
   },
   {
    "duration": 42,
    "start_time": "2023-08-10T08:19:10.637Z"
   },
   {
    "duration": 8,
    "start_time": "2023-08-10T08:19:10.681Z"
   },
   {
    "duration": 21,
    "start_time": "2023-08-10T08:19:10.690Z"
   },
   {
    "duration": 18,
    "start_time": "2023-08-10T08:19:10.713Z"
   },
   {
    "duration": 6,
    "start_time": "2023-08-10T08:19:10.733Z"
   },
   {
    "duration": 16,
    "start_time": "2023-08-10T08:19:10.741Z"
   },
   {
    "duration": 1554,
    "start_time": "2023-08-10T08:19:10.758Z"
   },
   {
    "duration": 292,
    "start_time": "2023-08-10T08:19:12.314Z"
   },
   {
    "duration": 7,
    "start_time": "2023-08-10T08:19:12.608Z"
   },
   {
    "duration": 17,
    "start_time": "2023-08-10T08:19:12.616Z"
   },
   {
    "duration": 58,
    "start_time": "2023-08-10T08:19:12.634Z"
   },
   {
    "duration": 5,
    "start_time": "2023-08-10T08:19:12.694Z"
   },
   {
    "duration": 5,
    "start_time": "2023-08-10T08:19:12.703Z"
   },
   {
    "duration": 8,
    "start_time": "2023-08-10T08:19:12.709Z"
   },
   {
    "duration": 9,
    "start_time": "2023-08-10T08:19:12.719Z"
   },
   {
    "duration": 16,
    "start_time": "2023-08-10T08:19:12.729Z"
   },
   {
    "duration": 29,
    "start_time": "2023-08-10T08:19:12.747Z"
   },
   {
    "duration": 25,
    "start_time": "2023-08-10T08:19:12.777Z"
   },
   {
    "duration": 10,
    "start_time": "2023-08-10T08:19:12.804Z"
   },
   {
    "duration": 12,
    "start_time": "2023-08-10T08:19:12.816Z"
   },
   {
    "duration": 14,
    "start_time": "2023-08-10T08:19:12.829Z"
   },
   {
    "duration": 13,
    "start_time": "2023-08-10T08:19:12.845Z"
   },
   {
    "duration": 12,
    "start_time": "2023-08-10T08:19:12.874Z"
   },
   {
    "duration": 24,
    "start_time": "2023-08-10T08:19:12.887Z"
   },
   {
    "duration": 197,
    "start_time": "2023-08-10T08:19:12.913Z"
   },
   {
    "duration": 167,
    "start_time": "2023-08-10T08:19:13.111Z"
   },
   {
    "duration": 199,
    "start_time": "2023-08-10T08:19:13.280Z"
   },
   {
    "duration": 12,
    "start_time": "2023-08-10T08:19:13.481Z"
   },
   {
    "duration": 100,
    "start_time": "2023-08-10T08:19:13.495Z"
   },
   {
    "duration": 13,
    "start_time": "2023-08-10T08:19:13.596Z"
   },
   {
    "duration": 499,
    "start_time": "2023-08-10T08:19:13.611Z"
   },
   {
    "duration": 30,
    "start_time": "2023-08-10T08:19:14.111Z"
   },
   {
    "duration": 813,
    "start_time": "2023-08-10T08:19:14.142Z"
   },
   {
    "duration": 30,
    "start_time": "2023-08-10T08:19:14.956Z"
   },
   {
    "duration": 10,
    "start_time": "2023-08-10T08:19:14.988Z"
   },
   {
    "duration": 80,
    "start_time": "2023-08-10T08:19:15.000Z"
   },
   {
    "duration": 13,
    "start_time": "2023-08-10T08:19:15.082Z"
   },
   {
    "duration": 28,
    "start_time": "2023-08-10T08:19:15.097Z"
   },
   {
    "duration": 12,
    "start_time": "2023-08-10T08:19:15.127Z"
   },
   {
    "duration": 6,
    "start_time": "2023-08-10T08:19:15.140Z"
   },
   {
    "duration": 10,
    "start_time": "2023-08-10T08:19:15.147Z"
   },
   {
    "duration": 11,
    "start_time": "2023-08-10T08:19:15.159Z"
   },
   {
    "duration": 25,
    "start_time": "2023-08-10T08:19:15.172Z"
   },
   {
    "duration": 6,
    "start_time": "2023-08-10T08:19:15.199Z"
   },
   {
    "duration": 7,
    "start_time": "2023-08-10T08:19:15.207Z"
   },
   {
    "duration": 20,
    "start_time": "2023-08-10T08:19:15.215Z"
   },
   {
    "duration": 8,
    "start_time": "2023-08-10T08:19:15.236Z"
   },
   {
    "duration": 8,
    "start_time": "2023-08-10T08:19:15.246Z"
   },
   {
    "duration": 13,
    "start_time": "2023-08-10T08:19:15.255Z"
   },
   {
    "duration": 19,
    "start_time": "2023-08-10T08:19:15.270Z"
   },
   {
    "duration": 9,
    "start_time": "2023-08-10T08:19:15.291Z"
   },
   {
    "duration": 5,
    "start_time": "2023-08-10T08:19:15.302Z"
   },
   {
    "duration": 62,
    "start_time": "2023-08-10T08:19:15.308Z"
   },
   {
    "duration": 5,
    "start_time": "2023-08-10T08:19:15.372Z"
   },
   {
    "duration": 69,
    "start_time": "2023-08-10T08:19:15.379Z"
   },
   {
    "duration": 10,
    "start_time": "2023-08-10T08:19:15.449Z"
   },
   {
    "duration": 27,
    "start_time": "2023-08-10T08:19:15.461Z"
   },
   {
    "duration": 633,
    "start_time": "2023-08-10T08:19:15.490Z"
   },
   {
    "duration": 3,
    "start_time": "2023-08-10T08:19:16.125Z"
   },
   {
    "duration": 44,
    "start_time": "2023-08-10T08:19:16.130Z"
   },
   {
    "duration": 48,
    "start_time": "2023-08-10T08:19:16.176Z"
   },
   {
    "duration": 3,
    "start_time": "2023-08-10T08:19:16.226Z"
   },
   {
    "duration": 149,
    "start_time": "2023-08-10T08:19:16.230Z"
   },
   {
    "duration": 45,
    "start_time": "2023-08-10T08:19:16.380Z"
   },
   {
    "duration": 12,
    "start_time": "2023-08-10T09:01:30.861Z"
   },
   {
    "duration": 12,
    "start_time": "2023-08-10T09:06:42.364Z"
   },
   {
    "duration": 1515,
    "start_time": "2023-08-10T17:42:31.780Z"
   },
   {
    "duration": 1344,
    "start_time": "2023-08-10T17:42:33.297Z"
   },
   {
    "duration": 23,
    "start_time": "2023-08-10T17:42:34.643Z"
   },
   {
    "duration": 19,
    "start_time": "2023-08-10T17:42:34.668Z"
   },
   {
    "duration": 23,
    "start_time": "2023-08-10T17:42:34.689Z"
   },
   {
    "duration": 37,
    "start_time": "2023-08-10T17:42:34.714Z"
   },
   {
    "duration": 33,
    "start_time": "2023-08-10T17:42:34.754Z"
   },
   {
    "duration": 31,
    "start_time": "2023-08-10T17:42:34.790Z"
   },
   {
    "duration": 21,
    "start_time": "2023-08-10T17:42:34.824Z"
   },
   {
    "duration": 32,
    "start_time": "2023-08-10T17:42:34.849Z"
   },
   {
    "duration": 21,
    "start_time": "2023-08-10T17:42:34.883Z"
   },
   {
    "duration": 24,
    "start_time": "2023-08-10T17:42:34.906Z"
   },
   {
    "duration": 8,
    "start_time": "2023-08-10T17:42:34.932Z"
   },
   {
    "duration": 45,
    "start_time": "2023-08-10T17:42:34.941Z"
   },
   {
    "duration": 20,
    "start_time": "2023-08-10T17:42:34.988Z"
   },
   {
    "duration": 23,
    "start_time": "2023-08-10T17:42:35.009Z"
   },
   {
    "duration": 36,
    "start_time": "2023-08-10T17:42:35.034Z"
   },
   {
    "duration": 39,
    "start_time": "2023-08-10T17:42:35.071Z"
   },
   {
    "duration": 47,
    "start_time": "2023-08-10T17:42:35.111Z"
   },
   {
    "duration": 6,
    "start_time": "2023-08-10T17:42:35.160Z"
   },
   {
    "duration": 18,
    "start_time": "2023-08-10T17:42:35.168Z"
   },
   {
    "duration": 2182,
    "start_time": "2023-08-10T17:42:35.187Z"
   },
   {
    "duration": 296,
    "start_time": "2023-08-10T17:42:37.371Z"
   },
   {
    "duration": 21,
    "start_time": "2023-08-10T17:42:37.669Z"
   },
   {
    "duration": 7,
    "start_time": "2023-08-10T17:42:37.692Z"
   },
   {
    "duration": 51,
    "start_time": "2023-08-10T17:42:37.700Z"
   },
   {
    "duration": 4,
    "start_time": "2023-08-10T17:42:37.752Z"
   },
   {
    "duration": 5,
    "start_time": "2023-08-10T17:42:37.762Z"
   },
   {
    "duration": 20,
    "start_time": "2023-08-10T17:42:37.768Z"
   },
   {
    "duration": 10,
    "start_time": "2023-08-10T17:42:37.790Z"
   },
   {
    "duration": 17,
    "start_time": "2023-08-10T17:42:37.802Z"
   },
   {
    "duration": 4,
    "start_time": "2023-08-10T17:42:37.820Z"
   },
   {
    "duration": 11,
    "start_time": "2023-08-10T17:42:37.825Z"
   },
   {
    "duration": 10,
    "start_time": "2023-08-10T17:42:37.838Z"
   },
   {
    "duration": 13,
    "start_time": "2023-08-10T17:42:37.887Z"
   },
   {
    "duration": 15,
    "start_time": "2023-08-10T17:42:37.902Z"
   },
   {
    "duration": 16,
    "start_time": "2023-08-10T17:42:37.918Z"
   },
   {
    "duration": 11,
    "start_time": "2023-08-10T17:42:37.936Z"
   },
   {
    "duration": 40,
    "start_time": "2023-08-10T17:42:37.948Z"
   },
   {
    "duration": 219,
    "start_time": "2023-08-10T17:42:37.990Z"
   },
   {
    "duration": 174,
    "start_time": "2023-08-10T17:42:38.210Z"
   },
   {
    "duration": 181,
    "start_time": "2023-08-10T17:42:38.387Z"
   },
   {
    "duration": 19,
    "start_time": "2023-08-10T17:42:38.569Z"
   },
   {
    "duration": 49,
    "start_time": "2023-08-10T17:42:38.589Z"
   },
   {
    "duration": 14,
    "start_time": "2023-08-10T17:42:38.640Z"
   },
   {
    "duration": 512,
    "start_time": "2023-08-10T17:42:38.656Z"
   },
   {
    "duration": 39,
    "start_time": "2023-08-10T17:42:39.169Z"
   },
   {
    "duration": 817,
    "start_time": "2023-08-10T17:42:39.210Z"
   },
   {
    "duration": 22,
    "start_time": "2023-08-10T17:42:40.028Z"
   },
   {
    "duration": 6,
    "start_time": "2023-08-10T17:42:40.052Z"
   },
   {
    "duration": 27,
    "start_time": "2023-08-10T17:42:40.060Z"
   },
   {
    "duration": 5,
    "start_time": "2023-08-10T17:42:40.089Z"
   },
   {
    "duration": 12,
    "start_time": "2023-08-10T17:42:40.096Z"
   },
   {
    "duration": 15,
    "start_time": "2023-08-10T17:42:40.110Z"
   },
   {
    "duration": 17,
    "start_time": "2023-08-10T17:42:40.127Z"
   },
   {
    "duration": 10,
    "start_time": "2023-08-10T17:42:40.146Z"
   },
   {
    "duration": 12,
    "start_time": "2023-08-10T17:42:40.158Z"
   },
   {
    "duration": 29,
    "start_time": "2023-08-10T17:42:40.172Z"
   },
   {
    "duration": 6,
    "start_time": "2023-08-10T17:42:40.203Z"
   },
   {
    "duration": 13,
    "start_time": "2023-08-10T17:42:40.211Z"
   },
   {
    "duration": 11,
    "start_time": "2023-08-10T17:42:40.226Z"
   },
   {
    "duration": 5,
    "start_time": "2023-08-10T17:42:40.239Z"
   },
   {
    "duration": 5,
    "start_time": "2023-08-10T17:42:40.246Z"
   },
   {
    "duration": 9,
    "start_time": "2023-08-10T17:42:40.252Z"
   },
   {
    "duration": 13,
    "start_time": "2023-08-10T17:42:40.288Z"
   },
   {
    "duration": 6,
    "start_time": "2023-08-10T17:42:40.303Z"
   },
   {
    "duration": 3,
    "start_time": "2023-08-10T17:42:40.311Z"
   },
   {
    "duration": 47,
    "start_time": "2023-08-10T17:42:40.316Z"
   },
   {
    "duration": 26,
    "start_time": "2023-08-10T17:42:40.364Z"
   },
   {
    "duration": 66,
    "start_time": "2023-08-10T17:42:40.391Z"
   },
   {
    "duration": 10,
    "start_time": "2023-08-10T17:42:40.459Z"
   },
   {
    "duration": 25,
    "start_time": "2023-08-10T17:42:40.487Z"
   },
   {
    "duration": 601,
    "start_time": "2023-08-10T17:42:40.514Z"
   },
   {
    "duration": 12,
    "start_time": "2023-08-10T17:42:41.116Z"
   },
   {
    "duration": 1394,
    "start_time": "2023-08-10T17:42:41.129Z"
   },
   {
    "duration": 0,
    "start_time": "2023-08-10T17:42:42.525Z"
   },
   {
    "duration": 0,
    "start_time": "2023-08-10T17:42:42.527Z"
   },
   {
    "duration": 0,
    "start_time": "2023-08-10T17:42:42.528Z"
   },
   {
    "duration": 0,
    "start_time": "2023-08-10T17:42:42.530Z"
   },
   {
    "duration": 0,
    "start_time": "2023-08-10T17:42:42.531Z"
   },
   {
    "duration": 0,
    "start_time": "2023-08-10T17:42:42.533Z"
   },
   {
    "duration": 0,
    "start_time": "2023-08-10T17:42:42.534Z"
   },
   {
    "duration": 0,
    "start_time": "2023-08-10T17:42:42.535Z"
   },
   {
    "duration": 3,
    "start_time": "2023-08-10T17:44:54.277Z"
   },
   {
    "duration": 13,
    "start_time": "2023-08-10T17:44:55.233Z"
   },
   {
    "duration": 2366,
    "start_time": "2023-08-10T17:45:03.616Z"
   },
   {
    "duration": 4,
    "start_time": "2023-08-10T17:48:28.634Z"
   },
   {
    "duration": 358,
    "start_time": "2023-08-10T17:48:31.297Z"
   },
   {
    "duration": 3,
    "start_time": "2023-08-10T17:51:23.904Z"
   },
   {
    "duration": 29,
    "start_time": "2023-08-10T17:51:34.135Z"
   },
   {
    "duration": 3,
    "start_time": "2023-08-10T17:51:56.935Z"
   },
   {
    "duration": 125,
    "start_time": "2023-08-10T17:51:58.409Z"
   },
   {
    "duration": 4,
    "start_time": "2023-08-10T17:52:23.285Z"
   },
   {
    "duration": 28,
    "start_time": "2023-08-10T17:52:24.028Z"
   },
   {
    "duration": 3,
    "start_time": "2023-08-10T17:59:51.340Z"
   },
   {
    "duration": 23,
    "start_time": "2023-08-10T18:00:00.390Z"
   },
   {
    "duration": 1418,
    "start_time": "2023-08-10T18:00:21.239Z"
   },
   {
    "duration": 1492,
    "start_time": "2023-08-10T18:00:22.659Z"
   },
   {
    "duration": 23,
    "start_time": "2023-08-10T18:00:24.153Z"
   },
   {
    "duration": 40,
    "start_time": "2023-08-10T18:00:24.178Z"
   },
   {
    "duration": 13,
    "start_time": "2023-08-10T18:00:24.221Z"
   },
   {
    "duration": 17,
    "start_time": "2023-08-10T18:00:24.236Z"
   },
   {
    "duration": 16,
    "start_time": "2023-08-10T18:00:24.256Z"
   },
   {
    "duration": 41,
    "start_time": "2023-08-10T18:00:24.274Z"
   },
   {
    "duration": 19,
    "start_time": "2023-08-10T18:00:24.317Z"
   },
   {
    "duration": 17,
    "start_time": "2023-08-10T18:00:24.340Z"
   },
   {
    "duration": 46,
    "start_time": "2023-08-10T18:00:24.360Z"
   },
   {
    "duration": 24,
    "start_time": "2023-08-10T18:00:24.410Z"
   },
   {
    "duration": 6,
    "start_time": "2023-08-10T18:00:24.436Z"
   },
   {
    "duration": 36,
    "start_time": "2023-08-10T18:00:24.445Z"
   },
   {
    "duration": 17,
    "start_time": "2023-08-10T18:00:24.486Z"
   },
   {
    "duration": 21,
    "start_time": "2023-08-10T18:00:24.505Z"
   },
   {
    "duration": 8,
    "start_time": "2023-08-10T18:00:24.527Z"
   },
   {
    "duration": 59,
    "start_time": "2023-08-10T18:00:24.538Z"
   },
   {
    "duration": 58,
    "start_time": "2023-08-10T18:00:24.600Z"
   },
   {
    "duration": 52,
    "start_time": "2023-08-10T18:00:24.660Z"
   },
   {
    "duration": 32,
    "start_time": "2023-08-10T18:00:24.715Z"
   },
   {
    "duration": 2422,
    "start_time": "2023-08-10T18:00:24.749Z"
   },
   {
    "duration": 440,
    "start_time": "2023-08-10T18:00:27.174Z"
   },
   {
    "duration": 16,
    "start_time": "2023-08-10T18:00:27.618Z"
   },
   {
    "duration": 72,
    "start_time": "2023-08-10T18:00:27.637Z"
   },
   {
    "duration": 148,
    "start_time": "2023-08-10T18:00:27.711Z"
   },
   {
    "duration": 6,
    "start_time": "2023-08-10T18:00:27.870Z"
   },
   {
    "duration": 22,
    "start_time": "2023-08-10T18:00:27.882Z"
   },
   {
    "duration": 27,
    "start_time": "2023-08-10T18:00:27.915Z"
   },
   {
    "duration": 30,
    "start_time": "2023-08-10T18:00:27.944Z"
   },
   {
    "duration": 48,
    "start_time": "2023-08-10T18:00:27.978Z"
   },
   {
    "duration": 7,
    "start_time": "2023-08-10T18:00:28.037Z"
   },
   {
    "duration": 65,
    "start_time": "2023-08-10T18:00:28.053Z"
   },
   {
    "duration": 39,
    "start_time": "2023-08-10T18:00:28.125Z"
   },
   {
    "duration": 46,
    "start_time": "2023-08-10T18:00:28.167Z"
   },
   {
    "duration": 50,
    "start_time": "2023-08-10T18:00:28.216Z"
   },
   {
    "duration": 74,
    "start_time": "2023-08-10T18:00:28.268Z"
   },
   {
    "duration": 17,
    "start_time": "2023-08-10T18:00:28.344Z"
   },
   {
    "duration": 42,
    "start_time": "2023-08-10T18:00:28.363Z"
   },
   {
    "duration": 401,
    "start_time": "2023-08-10T18:00:28.407Z"
   },
   {
    "duration": 298,
    "start_time": "2023-08-10T18:00:28.810Z"
   },
   {
    "duration": 291,
    "start_time": "2023-08-10T18:00:29.116Z"
   },
   {
    "duration": 16,
    "start_time": "2023-08-10T18:00:29.409Z"
   },
   {
    "duration": 67,
    "start_time": "2023-08-10T18:00:29.429Z"
   },
   {
    "duration": 30,
    "start_time": "2023-08-10T18:00:29.498Z"
   },
   {
    "duration": 684,
    "start_time": "2023-08-10T18:00:29.530Z"
   },
   {
    "duration": 30,
    "start_time": "2023-08-10T18:00:30.217Z"
   },
   {
    "duration": 1092,
    "start_time": "2023-08-10T18:00:30.249Z"
   },
   {
    "duration": 24,
    "start_time": "2023-08-10T18:00:31.343Z"
   },
   {
    "duration": 239,
    "start_time": "2023-08-10T18:00:31.368Z"
   },
   {
    "duration": 4,
    "start_time": "2023-08-10T18:00:31.608Z"
   },
   {
    "duration": 203,
    "start_time": "2023-08-10T18:00:31.614Z"
   },
   {
    "duration": 78,
    "start_time": "2023-08-10T18:00:31.819Z"
   },
   {
    "duration": 123,
    "start_time": "2023-08-10T18:00:31.900Z"
   },
   {
    "duration": 435,
    "start_time": "2023-08-10T18:00:32.025Z"
   },
   {
    "duration": 114,
    "start_time": "2023-08-10T18:00:32.463Z"
   },
   {
    "duration": 286,
    "start_time": "2023-08-10T18:00:32.580Z"
   },
   {
    "duration": 280,
    "start_time": "2023-08-10T18:00:32.869Z"
   },
   {
    "duration": 61,
    "start_time": "2023-08-10T18:00:33.152Z"
   },
   {
    "duration": 12,
    "start_time": "2023-08-10T18:00:33.218Z"
   },
   {
    "duration": 81,
    "start_time": "2023-08-10T18:00:33.233Z"
   },
   {
    "duration": 34,
    "start_time": "2023-08-10T18:00:33.316Z"
   },
   {
    "duration": 26,
    "start_time": "2023-08-10T18:00:33.353Z"
   },
   {
    "duration": 70,
    "start_time": "2023-08-10T18:00:33.382Z"
   },
   {
    "duration": 52,
    "start_time": "2023-08-10T18:00:33.455Z"
   },
   {
    "duration": 38,
    "start_time": "2023-08-10T18:00:33.509Z"
   },
   {
    "duration": 48,
    "start_time": "2023-08-10T18:00:33.550Z"
   },
   {
    "duration": 184,
    "start_time": "2023-08-10T18:00:33.600Z"
   },
   {
    "duration": 9,
    "start_time": "2023-08-10T18:00:33.786Z"
   },
   {
    "duration": 244,
    "start_time": "2023-08-10T18:00:33.798Z"
   },
   {
    "duration": 18,
    "start_time": "2023-08-10T18:00:34.044Z"
   },
   {
    "duration": 63,
    "start_time": "2023-08-10T18:00:34.064Z"
   },
   {
    "duration": 816,
    "start_time": "2023-08-10T18:00:34.129Z"
   },
   {
    "duration": 8,
    "start_time": "2023-08-10T18:00:34.947Z"
   },
   {
    "duration": 27,
    "start_time": "2023-08-10T18:00:34.958Z"
   },
   {
    "duration": 91,
    "start_time": "2023-08-10T18:00:34.988Z"
   },
   {
    "duration": 14,
    "start_time": "2023-08-10T18:00:35.081Z"
   },
   {
    "duration": 262,
    "start_time": "2023-08-10T18:00:35.098Z"
   },
   {
    "duration": 0,
    "start_time": "2023-08-10T18:00:35.363Z"
   },
   {
    "duration": 0,
    "start_time": "2023-08-10T18:00:35.364Z"
   },
   {
    "duration": 0,
    "start_time": "2023-08-10T18:00:35.366Z"
   },
   {
    "duration": 0,
    "start_time": "2023-08-10T18:00:35.368Z"
   },
   {
    "duration": 0,
    "start_time": "2023-08-10T18:00:35.369Z"
   },
   {
    "duration": 0,
    "start_time": "2023-08-10T18:00:35.371Z"
   },
   {
    "duration": 0,
    "start_time": "2023-08-10T18:00:35.372Z"
   },
   {
    "duration": 0,
    "start_time": "2023-08-10T18:00:35.387Z"
   },
   {
    "duration": 5,
    "start_time": "2023-08-10T18:00:44.939Z"
   },
   {
    "duration": 13,
    "start_time": "2023-08-10T18:00:47.032Z"
   },
   {
    "duration": 20,
    "start_time": "2023-08-10T18:04:40.227Z"
   },
   {
    "duration": 6,
    "start_time": "2023-08-10T18:05:36.803Z"
   },
   {
    "duration": 370,
    "start_time": "2023-08-10T18:05:41.443Z"
   },
   {
    "duration": 355,
    "start_time": "2023-08-10T18:06:35.491Z"
   },
   {
    "duration": 6,
    "start_time": "2023-08-10T18:07:08.806Z"
   },
   {
    "duration": 5,
    "start_time": "2023-08-10T18:07:41.213Z"
   },
   {
    "duration": 5,
    "start_time": "2023-08-10T18:07:41.845Z"
   },
   {
    "duration": 16,
    "start_time": "2023-08-10T18:07:46.186Z"
   },
   {
    "duration": 1274,
    "start_time": "2023-08-10T18:07:56.610Z"
   },
   {
    "duration": 12,
    "start_time": "2023-08-10T18:08:09.750Z"
   },
   {
    "duration": 10,
    "start_time": "2023-08-10T18:08:12.903Z"
   },
   {
    "duration": 6,
    "start_time": "2023-08-10T18:09:46.025Z"
   },
   {
    "duration": 7,
    "start_time": "2023-08-10T18:11:02.341Z"
   },
   {
    "duration": 13,
    "start_time": "2023-08-10T18:13:56.203Z"
   },
   {
    "duration": 19,
    "start_time": "2023-08-10T18:14:59.187Z"
   },
   {
    "duration": 1321,
    "start_time": "2023-08-10T19:41:36.731Z"
   },
   {
    "duration": 1329,
    "start_time": "2023-08-10T19:41:38.055Z"
   },
   {
    "duration": 33,
    "start_time": "2023-08-10T19:41:39.386Z"
   },
   {
    "duration": 30,
    "start_time": "2023-08-10T19:41:39.423Z"
   },
   {
    "duration": 5,
    "start_time": "2023-08-10T19:41:39.454Z"
   },
   {
    "duration": 40,
    "start_time": "2023-08-10T19:41:39.460Z"
   },
   {
    "duration": 14,
    "start_time": "2023-08-10T19:41:39.506Z"
   },
   {
    "duration": 18,
    "start_time": "2023-08-10T19:41:39.521Z"
   },
   {
    "duration": 19,
    "start_time": "2023-08-10T19:41:39.541Z"
   },
   {
    "duration": 34,
    "start_time": "2023-08-10T19:41:39.562Z"
   },
   {
    "duration": 30,
    "start_time": "2023-08-10T19:41:39.598Z"
   },
   {
    "duration": 9,
    "start_time": "2023-08-10T19:41:39.630Z"
   },
   {
    "duration": 5,
    "start_time": "2023-08-10T19:41:39.641Z"
   },
   {
    "duration": 37,
    "start_time": "2023-08-10T19:41:39.647Z"
   },
   {
    "duration": 17,
    "start_time": "2023-08-10T19:41:39.693Z"
   },
   {
    "duration": 13,
    "start_time": "2023-08-10T19:41:39.713Z"
   },
   {
    "duration": 60,
    "start_time": "2023-08-10T19:41:39.728Z"
   },
   {
    "duration": 43,
    "start_time": "2023-08-10T19:41:39.794Z"
   },
   {
    "duration": 20,
    "start_time": "2023-08-10T19:41:39.839Z"
   },
   {
    "duration": 32,
    "start_time": "2023-08-10T19:41:39.861Z"
   },
   {
    "duration": 29,
    "start_time": "2023-08-10T19:41:39.895Z"
   },
   {
    "duration": 1958,
    "start_time": "2023-08-10T19:41:39.925Z"
   },
   {
    "duration": 354,
    "start_time": "2023-08-10T19:41:41.885Z"
   },
   {
    "duration": 8,
    "start_time": "2023-08-10T19:41:42.241Z"
   },
   {
    "duration": 54,
    "start_time": "2023-08-10T19:41:42.251Z"
   },
   {
    "duration": 56,
    "start_time": "2023-08-10T19:41:42.307Z"
   },
   {
    "duration": 5,
    "start_time": "2023-08-10T19:41:42.365Z"
   },
   {
    "duration": 44,
    "start_time": "2023-08-10T19:41:42.375Z"
   },
   {
    "duration": 8,
    "start_time": "2023-08-10T19:41:42.424Z"
   },
   {
    "duration": 31,
    "start_time": "2023-08-10T19:41:42.434Z"
   },
   {
    "duration": 62,
    "start_time": "2023-08-10T19:41:42.467Z"
   },
   {
    "duration": 17,
    "start_time": "2023-08-10T19:41:42.531Z"
   },
   {
    "duration": 26,
    "start_time": "2023-08-10T19:41:42.552Z"
   },
   {
    "duration": 50,
    "start_time": "2023-08-10T19:41:42.581Z"
   },
   {
    "duration": 26,
    "start_time": "2023-08-10T19:41:42.633Z"
   },
   {
    "duration": 21,
    "start_time": "2023-08-10T19:41:42.660Z"
   },
   {
    "duration": 54,
    "start_time": "2023-08-10T19:41:42.682Z"
   },
   {
    "duration": 23,
    "start_time": "2023-08-10T19:41:42.738Z"
   },
   {
    "duration": 26,
    "start_time": "2023-08-10T19:41:42.763Z"
   },
   {
    "duration": 277,
    "start_time": "2023-08-10T19:41:42.794Z"
   },
   {
    "duration": 189,
    "start_time": "2023-08-10T19:41:43.073Z"
   },
   {
    "duration": 232,
    "start_time": "2023-08-10T19:41:43.264Z"
   },
   {
    "duration": 19,
    "start_time": "2023-08-10T19:41:43.498Z"
   },
   {
    "duration": 65,
    "start_time": "2023-08-10T19:41:43.518Z"
   },
   {
    "duration": 38,
    "start_time": "2023-08-10T19:41:43.585Z"
   },
   {
    "duration": 600,
    "start_time": "2023-08-10T19:41:43.633Z"
   },
   {
    "duration": 65,
    "start_time": "2023-08-10T19:41:44.236Z"
   },
   {
    "duration": 1098,
    "start_time": "2023-08-10T19:41:44.302Z"
   },
   {
    "duration": 37,
    "start_time": "2023-08-10T19:41:45.401Z"
   },
   {
    "duration": 11,
    "start_time": "2023-08-10T19:41:45.443Z"
   },
   {
    "duration": 58,
    "start_time": "2023-08-10T19:41:45.455Z"
   },
   {
    "duration": 10,
    "start_time": "2023-08-10T19:41:45.520Z"
   },
   {
    "duration": 48,
    "start_time": "2023-08-10T19:41:45.531Z"
   },
   {
    "duration": 36,
    "start_time": "2023-08-10T19:41:45.581Z"
   },
   {
    "duration": 16,
    "start_time": "2023-08-10T19:41:45.623Z"
   },
   {
    "duration": 34,
    "start_time": "2023-08-10T19:41:45.641Z"
   },
   {
    "duration": 58,
    "start_time": "2023-08-10T19:41:45.676Z"
   },
   {
    "duration": 40,
    "start_time": "2023-08-10T19:41:45.736Z"
   },
   {
    "duration": 22,
    "start_time": "2023-08-10T19:41:45.778Z"
   },
   {
    "duration": 28,
    "start_time": "2023-08-10T19:41:45.802Z"
   },
   {
    "duration": 38,
    "start_time": "2023-08-10T19:41:45.831Z"
   },
   {
    "duration": 32,
    "start_time": "2023-08-10T19:41:45.870Z"
   },
   {
    "duration": 30,
    "start_time": "2023-08-10T19:41:45.903Z"
   },
   {
    "duration": 33,
    "start_time": "2023-08-10T19:41:45.934Z"
   },
   {
    "duration": 60,
    "start_time": "2023-08-10T19:41:45.969Z"
   },
   {
    "duration": 36,
    "start_time": "2023-08-10T19:41:46.032Z"
   },
   {
    "duration": 26,
    "start_time": "2023-08-10T19:41:46.070Z"
   },
   {
    "duration": 105,
    "start_time": "2023-08-10T19:41:46.104Z"
   },
   {
    "duration": 6,
    "start_time": "2023-08-10T19:41:46.215Z"
   },
   {
    "duration": 140,
    "start_time": "2023-08-10T19:41:46.223Z"
   },
   {
    "duration": 11,
    "start_time": "2023-08-10T19:41:46.365Z"
   },
   {
    "duration": 59,
    "start_time": "2023-08-10T19:41:46.377Z"
   },
   {
    "duration": 720,
    "start_time": "2023-08-10T19:41:46.437Z"
   },
   {
    "duration": 4,
    "start_time": "2023-08-10T19:41:47.158Z"
   },
   {
    "duration": 20,
    "start_time": "2023-08-10T19:41:47.164Z"
   },
   {
    "duration": 16,
    "start_time": "2023-08-10T19:41:47.185Z"
   },
   {
    "duration": 28,
    "start_time": "2023-08-10T19:41:47.202Z"
   },
   {
    "duration": 25,
    "start_time": "2023-08-10T19:41:47.231Z"
   },
   {
    "duration": 10,
    "start_time": "2023-08-10T19:41:47.258Z"
   },
   {
    "duration": 10,
    "start_time": "2023-08-10T19:41:47.270Z"
   },
   {
    "duration": 23,
    "start_time": "2023-08-10T19:41:47.281Z"
   },
   {
    "duration": 5,
    "start_time": "2023-08-10T19:41:47.313Z"
   },
   {
    "duration": 56,
    "start_time": "2023-08-10T19:41:47.323Z"
   },
   {
    "duration": 65,
    "start_time": "2023-08-10T19:41:47.381Z"
   },
   {
    "duration": 4,
    "start_time": "2023-08-10T19:41:47.448Z"
   },
   {
    "duration": 173,
    "start_time": "2023-08-10T19:41:47.454Z"
   },
   {
    "duration": 73,
    "start_time": "2023-08-10T19:41:47.629Z"
   },
   {
    "duration": 18,
    "start_time": "2023-08-10T19:44:42.513Z"
   },
   {
    "duration": 898,
    "start_time": "2023-08-10T19:46:56.632Z"
   },
   {
    "duration": 0,
    "start_time": "2023-08-10T19:46:57.532Z"
   },
   {
    "duration": 10,
    "start_time": "2023-08-10T19:47:10.726Z"
   },
   {
    "duration": 18,
    "start_time": "2023-08-10T19:47:11.313Z"
   },
   {
    "duration": 9,
    "start_time": "2023-08-10T19:47:56.111Z"
   },
   {
    "duration": 8,
    "start_time": "2023-08-10T19:47:56.312Z"
   },
   {
    "duration": 6,
    "start_time": "2023-08-10T19:48:22.635Z"
   },
   {
    "duration": 16,
    "start_time": "2023-08-10T19:49:15.010Z"
   },
   {
    "duration": 7,
    "start_time": "2023-08-10T19:50:07.183Z"
   },
   {
    "duration": 6,
    "start_time": "2023-08-10T19:50:12.231Z"
   },
   {
    "duration": 7,
    "start_time": "2023-08-10T19:50:19.012Z"
   },
   {
    "duration": 7,
    "start_time": "2023-08-10T19:52:29.252Z"
   },
   {
    "duration": 6,
    "start_time": "2023-08-10T19:52:29.445Z"
   },
   {
    "duration": 6,
    "start_time": "2023-08-10T19:52:53.642Z"
   },
   {
    "duration": 9,
    "start_time": "2023-08-10T19:52:59.821Z"
   },
   {
    "duration": 6,
    "start_time": "2023-08-10T19:53:21.247Z"
   },
   {
    "duration": 14,
    "start_time": "2023-08-10T19:53:25.032Z"
   },
   {
    "duration": 6,
    "start_time": "2023-08-10T19:53:28.334Z"
   },
   {
    "duration": 7,
    "start_time": "2023-08-10T19:57:13.378Z"
   },
   {
    "duration": 5,
    "start_time": "2023-08-10T19:57:24.576Z"
   },
   {
    "duration": 31,
    "start_time": "2023-08-10T20:17:25.146Z"
   },
   {
    "duration": 1299,
    "start_time": "2023-08-10T20:26:38.933Z"
   },
   {
    "duration": 1600,
    "start_time": "2023-08-10T20:26:40.234Z"
   },
   {
    "duration": 33,
    "start_time": "2023-08-10T20:26:41.837Z"
   },
   {
    "duration": 30,
    "start_time": "2023-08-10T20:26:41.873Z"
   },
   {
    "duration": 11,
    "start_time": "2023-08-10T20:26:41.905Z"
   },
   {
    "duration": 20,
    "start_time": "2023-08-10T20:26:41.917Z"
   },
   {
    "duration": 17,
    "start_time": "2023-08-10T20:26:41.939Z"
   },
   {
    "duration": 18,
    "start_time": "2023-08-10T20:26:41.957Z"
   },
   {
    "duration": 34,
    "start_time": "2023-08-10T20:26:41.976Z"
   },
   {
    "duration": 25,
    "start_time": "2023-08-10T20:26:42.016Z"
   },
   {
    "duration": 16,
    "start_time": "2023-08-10T20:26:42.042Z"
   },
   {
    "duration": 16,
    "start_time": "2023-08-10T20:26:42.060Z"
   },
   {
    "duration": 10,
    "start_time": "2023-08-10T20:26:42.078Z"
   },
   {
    "duration": 46,
    "start_time": "2023-08-10T20:26:42.092Z"
   },
   {
    "duration": 14,
    "start_time": "2023-08-10T20:26:42.140Z"
   },
   {
    "duration": 9,
    "start_time": "2023-08-10T20:26:42.156Z"
   },
   {
    "duration": 11,
    "start_time": "2023-08-10T20:26:42.166Z"
   },
   {
    "duration": 43,
    "start_time": "2023-08-10T20:26:42.179Z"
   },
   {
    "duration": 24,
    "start_time": "2023-08-10T20:26:42.223Z"
   },
   {
    "duration": 30,
    "start_time": "2023-08-10T20:26:42.248Z"
   },
   {
    "duration": 41,
    "start_time": "2023-08-10T20:26:42.280Z"
   },
   {
    "duration": 1759,
    "start_time": "2023-08-10T20:26:42.322Z"
   },
   {
    "duration": 332,
    "start_time": "2023-08-10T20:26:44.089Z"
   },
   {
    "duration": 8,
    "start_time": "2023-08-10T20:26:44.423Z"
   },
   {
    "duration": 26,
    "start_time": "2023-08-10T20:26:44.433Z"
   },
   {
    "duration": 98,
    "start_time": "2023-08-10T20:26:44.460Z"
   },
   {
    "duration": 5,
    "start_time": "2023-08-10T20:26:44.560Z"
   },
   {
    "duration": 39,
    "start_time": "2023-08-10T20:26:44.570Z"
   },
   {
    "duration": 13,
    "start_time": "2023-08-10T20:26:44.610Z"
   },
   {
    "duration": 27,
    "start_time": "2023-08-10T20:26:44.624Z"
   },
   {
    "duration": 26,
    "start_time": "2023-08-10T20:26:44.652Z"
   },
   {
    "duration": 36,
    "start_time": "2023-08-10T20:26:44.680Z"
   },
   {
    "duration": 28,
    "start_time": "2023-08-10T20:26:44.720Z"
   },
   {
    "duration": 16,
    "start_time": "2023-08-10T20:26:44.750Z"
   },
   {
    "duration": 13,
    "start_time": "2023-08-10T20:26:44.768Z"
   },
   {
    "duration": 67,
    "start_time": "2023-08-10T20:26:44.783Z"
   },
   {
    "duration": 26,
    "start_time": "2023-08-10T20:26:44.853Z"
   },
   {
    "duration": 45,
    "start_time": "2023-08-10T20:26:44.881Z"
   },
   {
    "duration": 21,
    "start_time": "2023-08-10T20:26:44.928Z"
   },
   {
    "duration": 269,
    "start_time": "2023-08-10T20:26:44.951Z"
   },
   {
    "duration": 206,
    "start_time": "2023-08-10T20:26:45.222Z"
   },
   {
    "duration": 210,
    "start_time": "2023-08-10T20:26:45.430Z"
   },
   {
    "duration": 11,
    "start_time": "2023-08-10T20:26:45.642Z"
   },
   {
    "duration": 70,
    "start_time": "2023-08-10T20:26:45.655Z"
   },
   {
    "duration": 13,
    "start_time": "2023-08-10T20:26:45.726Z"
   },
   {
    "duration": 584,
    "start_time": "2023-08-10T20:26:45.741Z"
   },
   {
    "duration": 29,
    "start_time": "2023-08-10T20:26:46.327Z"
   },
   {
    "duration": 905,
    "start_time": "2023-08-10T20:26:46.358Z"
   },
   {
    "duration": 48,
    "start_time": "2023-08-10T20:26:47.264Z"
   },
   {
    "duration": 9,
    "start_time": "2023-08-10T20:26:47.314Z"
   },
   {
    "duration": 66,
    "start_time": "2023-08-10T20:26:47.325Z"
   },
   {
    "duration": 28,
    "start_time": "2023-08-10T20:26:47.393Z"
   },
   {
    "duration": 35,
    "start_time": "2023-08-10T20:26:47.424Z"
   },
   {
    "duration": 38,
    "start_time": "2023-08-10T20:26:47.460Z"
   },
   {
    "duration": 9,
    "start_time": "2023-08-10T20:26:47.500Z"
   },
   {
    "duration": 34,
    "start_time": "2023-08-10T20:26:47.511Z"
   },
   {
    "duration": 19,
    "start_time": "2023-08-10T20:26:47.547Z"
   },
   {
    "duration": 49,
    "start_time": "2023-08-10T20:26:47.568Z"
   },
   {
    "duration": 6,
    "start_time": "2023-08-10T20:26:47.626Z"
   },
   {
    "duration": 28,
    "start_time": "2023-08-10T20:26:47.633Z"
   },
   {
    "duration": 17,
    "start_time": "2023-08-10T20:26:47.663Z"
   },
   {
    "duration": 34,
    "start_time": "2023-08-10T20:26:47.682Z"
   },
   {
    "duration": 6,
    "start_time": "2023-08-10T20:26:47.718Z"
   },
   {
    "duration": 17,
    "start_time": "2023-08-10T20:26:47.725Z"
   },
   {
    "duration": 28,
    "start_time": "2023-08-10T20:26:47.743Z"
   },
   {
    "duration": 13,
    "start_time": "2023-08-10T20:26:47.773Z"
   },
   {
    "duration": 10,
    "start_time": "2023-08-10T20:26:47.803Z"
   },
   {
    "duration": 65,
    "start_time": "2023-08-10T20:26:47.814Z"
   },
   {
    "duration": 4,
    "start_time": "2023-08-10T20:26:47.881Z"
   },
   {
    "duration": 150,
    "start_time": "2023-08-10T20:26:47.887Z"
   },
   {
    "duration": 25,
    "start_time": "2023-08-10T20:26:48.039Z"
   },
   {
    "duration": 680,
    "start_time": "2023-08-10T20:26:48.066Z"
   },
   {
    "duration": 4,
    "start_time": "2023-08-10T20:26:48.748Z"
   },
   {
    "duration": 33,
    "start_time": "2023-08-10T20:26:48.753Z"
   },
   {
    "duration": 13,
    "start_time": "2023-08-10T20:26:48.790Z"
   },
   {
    "duration": 22,
    "start_time": "2023-08-10T20:26:48.813Z"
   },
   {
    "duration": 18,
    "start_time": "2023-08-10T20:26:48.837Z"
   },
   {
    "duration": 9,
    "start_time": "2023-08-10T20:26:48.857Z"
   },
   {
    "duration": 15,
    "start_time": "2023-08-10T20:26:48.868Z"
   },
   {
    "duration": 30,
    "start_time": "2023-08-10T20:26:48.885Z"
   },
   {
    "duration": 10,
    "start_time": "2023-08-10T20:26:48.917Z"
   },
   {
    "duration": 16,
    "start_time": "2023-08-10T20:26:48.932Z"
   },
   {
    "duration": 10,
    "start_time": "2023-08-10T20:26:48.950Z"
   },
   {
    "duration": 8,
    "start_time": "2023-08-10T20:26:48.962Z"
   },
   {
    "duration": 43,
    "start_time": "2023-08-10T20:26:48.971Z"
   },
   {
    "duration": 6,
    "start_time": "2023-08-10T20:26:49.018Z"
   },
   {
    "duration": 31,
    "start_time": "2023-08-10T20:26:49.025Z"
   },
   {
    "duration": 1363,
    "start_time": "2023-08-12T14:11:46.685Z"
   },
   {
    "duration": 1160,
    "start_time": "2023-08-12T14:11:48.050Z"
   },
   {
    "duration": 18,
    "start_time": "2023-08-12T14:11:49.212Z"
   },
   {
    "duration": 28,
    "start_time": "2023-08-12T14:11:49.232Z"
   },
   {
    "duration": 4,
    "start_time": "2023-08-12T14:11:49.262Z"
   },
   {
    "duration": 38,
    "start_time": "2023-08-12T14:11:49.268Z"
   },
   {
    "duration": 18,
    "start_time": "2023-08-12T14:11:49.307Z"
   },
   {
    "duration": 9,
    "start_time": "2023-08-12T14:11:49.327Z"
   },
   {
    "duration": 10,
    "start_time": "2023-08-12T14:11:49.338Z"
   },
   {
    "duration": 30,
    "start_time": "2023-08-12T14:11:49.349Z"
   },
   {
    "duration": 9,
    "start_time": "2023-08-12T14:11:49.380Z"
   },
   {
    "duration": 15,
    "start_time": "2023-08-12T14:11:49.390Z"
   },
   {
    "duration": 7,
    "start_time": "2023-08-12T14:11:49.407Z"
   },
   {
    "duration": 19,
    "start_time": "2023-08-12T14:11:49.416Z"
   },
   {
    "duration": 8,
    "start_time": "2023-08-12T14:11:49.436Z"
   },
   {
    "duration": 5,
    "start_time": "2023-08-12T14:11:49.446Z"
   },
   {
    "duration": 13,
    "start_time": "2023-08-12T14:11:49.453Z"
   },
   {
    "duration": 16,
    "start_time": "2023-08-12T14:11:49.467Z"
   },
   {
    "duration": 16,
    "start_time": "2023-08-12T14:11:49.499Z"
   },
   {
    "duration": 14,
    "start_time": "2023-08-12T14:11:49.516Z"
   },
   {
    "duration": 17,
    "start_time": "2023-08-12T14:11:49.532Z"
   },
   {
    "duration": 1290,
    "start_time": "2023-08-12T14:11:49.550Z"
   },
   {
    "duration": 252,
    "start_time": "2023-08-12T14:11:50.841Z"
   },
   {
    "duration": 6,
    "start_time": "2023-08-12T14:11:51.100Z"
   },
   {
    "duration": 25,
    "start_time": "2023-08-12T14:11:51.107Z"
   },
   {
    "duration": 50,
    "start_time": "2023-08-12T14:11:51.134Z"
   },
   {
    "duration": 4,
    "start_time": "2023-08-12T14:11:51.185Z"
   },
   {
    "duration": 14,
    "start_time": "2023-08-12T14:11:51.190Z"
   },
   {
    "duration": 7,
    "start_time": "2023-08-12T14:11:51.205Z"
   },
   {
    "duration": 15,
    "start_time": "2023-08-12T14:11:51.213Z"
   },
   {
    "duration": 21,
    "start_time": "2023-08-12T14:11:51.229Z"
   },
   {
    "duration": 5,
    "start_time": "2023-08-12T14:11:51.252Z"
   },
   {
    "duration": 12,
    "start_time": "2023-08-12T14:11:51.258Z"
   },
   {
    "duration": 9,
    "start_time": "2023-08-12T14:11:51.271Z"
   },
   {
    "duration": 27,
    "start_time": "2023-08-12T14:11:51.281Z"
   },
   {
    "duration": 26,
    "start_time": "2023-08-12T14:11:51.309Z"
   },
   {
    "duration": 12,
    "start_time": "2023-08-12T14:11:51.336Z"
   },
   {
    "duration": 13,
    "start_time": "2023-08-12T14:11:51.349Z"
   },
   {
    "duration": 204,
    "start_time": "2023-08-12T14:11:51.364Z"
   },
   {
    "duration": 149,
    "start_time": "2023-08-12T14:11:51.570Z"
   },
   {
    "duration": 164,
    "start_time": "2023-08-12T14:11:51.723Z"
   },
   {
    "duration": 16,
    "start_time": "2023-08-12T14:11:51.888Z"
   },
   {
    "duration": 68,
    "start_time": "2023-08-12T14:11:51.906Z"
   },
   {
    "duration": 28,
    "start_time": "2023-08-12T14:11:51.976Z"
   },
   {
    "duration": 474,
    "start_time": "2023-08-12T14:11:52.005Z"
   },
   {
    "duration": 31,
    "start_time": "2023-08-12T14:11:52.480Z"
   },
   {
    "duration": 724,
    "start_time": "2023-08-12T14:11:52.512Z"
   },
   {
    "duration": 20,
    "start_time": "2023-08-12T14:11:53.238Z"
   },
   {
    "duration": 5,
    "start_time": "2023-08-12T14:11:53.259Z"
   },
   {
    "duration": 9,
    "start_time": "2023-08-12T14:11:53.265Z"
   },
   {
    "duration": 6,
    "start_time": "2023-08-12T14:11:53.275Z"
   },
   {
    "duration": 8,
    "start_time": "2023-08-12T14:11:53.299Z"
   },
   {
    "duration": 8,
    "start_time": "2023-08-12T14:11:53.308Z"
   },
   {
    "duration": 5,
    "start_time": "2023-08-12T14:11:53.317Z"
   },
   {
    "duration": 11,
    "start_time": "2023-08-12T14:11:53.323Z"
   },
   {
    "duration": 10,
    "start_time": "2023-08-12T14:11:53.335Z"
   },
   {
    "duration": 19,
    "start_time": "2023-08-12T14:11:53.346Z"
   },
   {
    "duration": 35,
    "start_time": "2023-08-12T14:11:53.366Z"
   },
   {
    "duration": 8,
    "start_time": "2023-08-12T14:11:53.403Z"
   },
   {
    "duration": 9,
    "start_time": "2023-08-12T14:11:53.413Z"
   },
   {
    "duration": 6,
    "start_time": "2023-08-12T14:11:53.424Z"
   },
   {
    "duration": 5,
    "start_time": "2023-08-12T14:11:53.431Z"
   },
   {
    "duration": 10,
    "start_time": "2023-08-12T14:11:53.438Z"
   },
   {
    "duration": 13,
    "start_time": "2023-08-12T14:11:53.449Z"
   },
   {
    "duration": 10,
    "start_time": "2023-08-12T14:11:53.463Z"
   },
   {
    "duration": 6,
    "start_time": "2023-08-12T14:11:53.474Z"
   },
   {
    "duration": 55,
    "start_time": "2023-08-12T14:11:53.482Z"
   },
   {
    "duration": 4,
    "start_time": "2023-08-12T14:11:53.539Z"
   },
   {
    "duration": 71,
    "start_time": "2023-08-12T14:11:53.544Z"
   },
   {
    "duration": 23,
    "start_time": "2023-08-12T14:11:53.616Z"
   },
   {
    "duration": 528,
    "start_time": "2023-08-12T14:11:53.640Z"
   },
   {
    "duration": 3,
    "start_time": "2023-08-12T14:11:54.169Z"
   },
   {
    "duration": 14,
    "start_time": "2023-08-12T14:11:54.174Z"
   },
   {
    "duration": 11,
    "start_time": "2023-08-12T14:11:54.189Z"
   },
   {
    "duration": 13,
    "start_time": "2023-08-12T14:11:54.202Z"
   },
   {
    "duration": 16,
    "start_time": "2023-08-12T14:11:54.216Z"
   },
   {
    "duration": 16,
    "start_time": "2023-08-12T14:11:54.233Z"
   },
   {
    "duration": 5,
    "start_time": "2023-08-12T14:11:54.251Z"
   },
   {
    "duration": 12,
    "start_time": "2023-08-12T14:11:54.257Z"
   },
   {
    "duration": 7,
    "start_time": "2023-08-12T14:11:54.270Z"
   },
   {
    "duration": 14,
    "start_time": "2023-08-12T14:11:54.278Z"
   },
   {
    "duration": 10,
    "start_time": "2023-08-12T14:11:54.293Z"
   },
   {
    "duration": 23,
    "start_time": "2023-08-12T14:11:54.305Z"
   },
   {
    "duration": 7,
    "start_time": "2023-08-12T14:11:54.329Z"
   },
   {
    "duration": 11,
    "start_time": "2023-08-12T14:11:54.337Z"
   },
   {
    "duration": 11,
    "start_time": "2023-08-12T14:11:54.349Z"
   },
   {
    "duration": 56,
    "start_time": "2023-08-13T12:49:26.382Z"
   },
   {
    "duration": 6,
    "start_time": "2023-08-13T12:49:37.226Z"
   },
   {
    "duration": 1392,
    "start_time": "2023-08-13T12:49:42.797Z"
   },
   {
    "duration": 1296,
    "start_time": "2023-08-13T12:49:44.191Z"
   },
   {
    "duration": 31,
    "start_time": "2023-08-13T12:49:45.488Z"
   },
   {
    "duration": 21,
    "start_time": "2023-08-13T12:49:45.521Z"
   },
   {
    "duration": 9,
    "start_time": "2023-08-13T12:49:45.543Z"
   },
   {
    "duration": 16,
    "start_time": "2023-08-13T12:49:45.554Z"
   },
   {
    "duration": 23,
    "start_time": "2023-08-13T12:49:45.571Z"
   },
   {
    "duration": 18,
    "start_time": "2023-08-13T12:49:45.606Z"
   },
   {
    "duration": 12,
    "start_time": "2023-08-13T12:49:45.626Z"
   },
   {
    "duration": 25,
    "start_time": "2023-08-13T12:49:45.640Z"
   },
   {
    "duration": 10,
    "start_time": "2023-08-13T12:49:45.667Z"
   },
   {
    "duration": 31,
    "start_time": "2023-08-13T12:49:45.679Z"
   },
   {
    "duration": 5,
    "start_time": "2023-08-13T12:49:45.712Z"
   },
   {
    "duration": 30,
    "start_time": "2023-08-13T12:49:45.719Z"
   },
   {
    "duration": 10,
    "start_time": "2023-08-13T12:49:45.751Z"
   },
   {
    "duration": 7,
    "start_time": "2023-08-13T12:49:45.764Z"
   },
   {
    "duration": 38,
    "start_time": "2023-08-13T12:49:45.772Z"
   },
   {
    "duration": 48,
    "start_time": "2023-08-13T12:49:45.812Z"
   },
   {
    "duration": 28,
    "start_time": "2023-08-13T12:49:45.862Z"
   },
   {
    "duration": 40,
    "start_time": "2023-08-13T12:49:45.892Z"
   },
   {
    "duration": 31,
    "start_time": "2023-08-13T12:49:45.935Z"
   },
   {
    "duration": 1959,
    "start_time": "2023-08-13T12:49:45.968Z"
   },
   {
    "duration": 332,
    "start_time": "2023-08-13T12:49:47.931Z"
   },
   {
    "duration": 7,
    "start_time": "2023-08-13T12:49:48.265Z"
   },
   {
    "duration": 8,
    "start_time": "2023-08-13T12:49:48.299Z"
   },
   {
    "duration": 78,
    "start_time": "2023-08-13T12:49:48.309Z"
   },
   {
    "duration": 7,
    "start_time": "2023-08-13T12:49:48.389Z"
   },
   {
    "duration": 27,
    "start_time": "2023-08-13T12:49:48.402Z"
   },
   {
    "duration": 16,
    "start_time": "2023-08-13T12:49:48.431Z"
   },
   {
    "duration": 14,
    "start_time": "2023-08-13T12:49:48.449Z"
   },
   {
    "duration": 23,
    "start_time": "2023-08-13T12:49:48.465Z"
   },
   {
    "duration": 12,
    "start_time": "2023-08-13T12:49:48.490Z"
   },
   {
    "duration": 22,
    "start_time": "2023-08-13T12:49:48.506Z"
   },
   {
    "duration": 13,
    "start_time": "2023-08-13T12:49:48.530Z"
   },
   {
    "duration": 26,
    "start_time": "2023-08-13T12:49:48.545Z"
   },
   {
    "duration": 25,
    "start_time": "2023-08-13T12:49:48.573Z"
   },
   {
    "duration": 21,
    "start_time": "2023-08-13T12:49:48.602Z"
   },
   {
    "duration": 15,
    "start_time": "2023-08-13T12:49:48.625Z"
   },
   {
    "duration": 228,
    "start_time": "2023-08-13T12:49:48.642Z"
   },
   {
    "duration": 189,
    "start_time": "2023-08-13T12:49:48.872Z"
   },
   {
    "duration": 238,
    "start_time": "2023-08-13T12:49:49.063Z"
   },
   {
    "duration": 15,
    "start_time": "2023-08-13T12:49:49.302Z"
   },
   {
    "duration": 58,
    "start_time": "2023-08-13T12:49:49.318Z"
   },
   {
    "duration": 35,
    "start_time": "2023-08-13T12:49:49.378Z"
   },
   {
    "duration": 560,
    "start_time": "2023-08-13T12:49:49.415Z"
   },
   {
    "duration": 45,
    "start_time": "2023-08-13T12:49:49.976Z"
   },
   {
    "duration": 1014,
    "start_time": "2023-08-13T12:49:50.024Z"
   },
   {
    "duration": 26,
    "start_time": "2023-08-13T12:49:51.040Z"
   },
   {
    "duration": 30,
    "start_time": "2023-08-13T12:49:51.068Z"
   },
   {
    "duration": 50,
    "start_time": "2023-08-13T12:49:51.100Z"
   },
   {
    "duration": 14,
    "start_time": "2023-08-13T12:49:51.151Z"
   },
   {
    "duration": 56,
    "start_time": "2023-08-13T12:49:51.167Z"
   },
   {
    "duration": 15,
    "start_time": "2023-08-13T12:49:51.225Z"
   },
   {
    "duration": 15,
    "start_time": "2023-08-13T12:49:51.242Z"
   },
   {
    "duration": 34,
    "start_time": "2023-08-13T12:49:51.259Z"
   },
   {
    "duration": 49,
    "start_time": "2023-08-13T12:49:51.294Z"
   },
   {
    "duration": 70,
    "start_time": "2023-08-13T12:49:51.345Z"
   },
   {
    "duration": 28,
    "start_time": "2023-08-13T12:49:51.417Z"
   },
   {
    "duration": 26,
    "start_time": "2023-08-13T12:49:51.447Z"
   },
   {
    "duration": 76,
    "start_time": "2023-08-13T12:49:51.475Z"
   },
   {
    "duration": 24,
    "start_time": "2023-08-13T12:49:51.553Z"
   },
   {
    "duration": 62,
    "start_time": "2023-08-13T12:49:51.579Z"
   },
   {
    "duration": 50,
    "start_time": "2023-08-13T12:49:51.643Z"
   },
   {
    "duration": 38,
    "start_time": "2023-08-13T12:49:51.696Z"
   },
   {
    "duration": 9,
    "start_time": "2023-08-13T12:49:51.736Z"
   },
   {
    "duration": 17,
    "start_time": "2023-08-13T12:49:51.746Z"
   },
   {
    "duration": 93,
    "start_time": "2023-08-13T12:49:51.765Z"
   },
   {
    "duration": 5,
    "start_time": "2023-08-13T12:49:51.860Z"
   },
   {
    "duration": 102,
    "start_time": "2023-08-13T12:49:51.866Z"
   },
   {
    "duration": 46,
    "start_time": "2023-08-13T12:49:51.970Z"
   },
   {
    "duration": 660,
    "start_time": "2023-08-13T12:49:52.018Z"
   },
   {
    "duration": 22,
    "start_time": "2023-08-13T12:49:52.681Z"
   },
   {
    "duration": 5,
    "start_time": "2023-08-13T12:49:52.705Z"
   },
   {
    "duration": 7,
    "start_time": "2023-08-13T12:49:52.712Z"
   },
   {
    "duration": 12,
    "start_time": "2023-08-13T12:49:52.720Z"
   },
   {
    "duration": 21,
    "start_time": "2023-08-13T12:49:52.734Z"
   },
   {
    "duration": 10,
    "start_time": "2023-08-13T12:49:52.757Z"
   },
   {
    "duration": 8,
    "start_time": "2023-08-13T12:49:52.769Z"
   },
   {
    "duration": 37,
    "start_time": "2023-08-13T12:49:52.779Z"
   },
   {
    "duration": 93,
    "start_time": "2023-08-13T12:49:52.818Z"
   },
   {
    "duration": 44,
    "start_time": "2023-08-13T12:49:52.913Z"
   },
   {
    "duration": 40,
    "start_time": "2023-08-13T12:49:52.962Z"
   },
   {
    "duration": 34,
    "start_time": "2023-08-13T12:49:53.004Z"
   },
   {
    "duration": 47,
    "start_time": "2023-08-13T12:49:53.040Z"
   },
   {
    "duration": 52,
    "start_time": "2023-08-13T12:49:53.089Z"
   },
   {
    "duration": 33,
    "start_time": "2023-08-13T12:49:53.143Z"
   },
   {
    "duration": 185,
    "start_time": "2023-08-13T12:49:53.177Z"
   },
   {
    "duration": 191,
    "start_time": "2023-08-13T12:50:12.044Z"
   },
   {
    "duration": 159,
    "start_time": "2023-08-13T12:52:43.726Z"
   },
   {
    "duration": 147,
    "start_time": "2023-08-13T12:52:47.511Z"
   },
   {
    "duration": 26,
    "start_time": "2023-08-13T13:01:32.710Z"
   },
   {
    "duration": 14,
    "start_time": "2023-08-13T13:01:51.557Z"
   },
   {
    "duration": 1667,
    "start_time": "2023-08-20T11:19:52.908Z"
   },
   {
    "duration": 1019,
    "start_time": "2023-08-20T11:19:54.577Z"
   },
   {
    "duration": 38,
    "start_time": "2023-08-20T11:19:55.598Z"
   },
   {
    "duration": 194,
    "start_time": "2023-08-20T11:19:55.639Z"
   },
   {
    "duration": 25,
    "start_time": "2023-08-20T11:19:55.835Z"
   },
   {
    "duration": 90,
    "start_time": "2023-08-20T11:19:55.861Z"
   },
   {
    "duration": 28,
    "start_time": "2023-08-20T11:19:55.952Z"
   },
   {
    "duration": 15,
    "start_time": "2023-08-20T11:19:55.984Z"
   },
   {
    "duration": 38,
    "start_time": "2023-08-20T11:19:56.001Z"
   },
   {
    "duration": 15,
    "start_time": "2023-08-20T11:19:56.042Z"
   },
   {
    "duration": 11,
    "start_time": "2023-08-20T11:19:56.059Z"
   },
   {
    "duration": 23,
    "start_time": "2023-08-20T11:19:56.072Z"
   },
   {
    "duration": 14,
    "start_time": "2023-08-20T11:19:56.097Z"
   },
   {
    "duration": 35,
    "start_time": "2023-08-20T11:19:56.115Z"
   },
   {
    "duration": 10,
    "start_time": "2023-08-20T11:19:56.152Z"
   },
   {
    "duration": 22,
    "start_time": "2023-08-20T11:19:56.164Z"
   },
   {
    "duration": 12,
    "start_time": "2023-08-20T11:19:56.190Z"
   },
   {
    "duration": 40,
    "start_time": "2023-08-20T11:19:56.205Z"
   },
   {
    "duration": 44,
    "start_time": "2023-08-20T11:19:56.247Z"
   },
   {
    "duration": 30,
    "start_time": "2023-08-20T11:19:56.295Z"
   },
   {
    "duration": 40,
    "start_time": "2023-08-20T11:19:56.329Z"
   },
   {
    "duration": 2162,
    "start_time": "2023-08-20T11:19:56.371Z"
   },
   {
    "duration": 390,
    "start_time": "2023-08-20T11:19:58.536Z"
   },
   {
    "duration": 8,
    "start_time": "2023-08-20T11:19:58.928Z"
   },
   {
    "duration": 8,
    "start_time": "2023-08-20T11:19:58.937Z"
   },
   {
    "duration": 90,
    "start_time": "2023-08-20T11:19:58.947Z"
   },
   {
    "duration": 5,
    "start_time": "2023-08-20T11:19:59.038Z"
   },
   {
    "duration": 5,
    "start_time": "2023-08-20T11:19:59.048Z"
   },
   {
    "duration": 10,
    "start_time": "2023-08-20T11:19:59.055Z"
   },
   {
    "duration": 22,
    "start_time": "2023-08-20T11:19:59.066Z"
   },
   {
    "duration": 27,
    "start_time": "2023-08-20T11:19:59.090Z"
   },
   {
    "duration": 8,
    "start_time": "2023-08-20T11:19:59.119Z"
   },
   {
    "duration": 14,
    "start_time": "2023-08-20T11:19:59.129Z"
   },
   {
    "duration": 12,
    "start_time": "2023-08-20T11:19:59.144Z"
   },
   {
    "duration": 32,
    "start_time": "2023-08-20T11:19:59.186Z"
   },
   {
    "duration": 24,
    "start_time": "2023-08-20T11:19:59.222Z"
   },
   {
    "duration": 6,
    "start_time": "2023-08-20T11:19:59.247Z"
   },
   {
    "duration": 14,
    "start_time": "2023-08-20T11:19:59.254Z"
   },
   {
    "duration": 282,
    "start_time": "2023-08-20T11:19:59.269Z"
   },
   {
    "duration": 215,
    "start_time": "2023-08-20T11:19:59.553Z"
   },
   {
    "duration": 242,
    "start_time": "2023-08-20T11:19:59.770Z"
   },
   {
    "duration": 16,
    "start_time": "2023-08-20T11:20:00.015Z"
   },
   {
    "duration": 129,
    "start_time": "2023-08-20T11:20:00.033Z"
   },
   {
    "duration": 13,
    "start_time": "2023-08-20T11:20:00.164Z"
   },
   {
    "duration": 679,
    "start_time": "2023-08-20T11:20:00.178Z"
   },
   {
    "duration": 48,
    "start_time": "2023-08-20T11:20:00.859Z"
   },
   {
    "duration": 1162,
    "start_time": "2023-08-20T11:20:00.909Z"
   },
   {
    "duration": 32,
    "start_time": "2023-08-20T11:20:02.073Z"
   },
   {
    "duration": 118,
    "start_time": "2023-08-20T11:20:02.107Z"
   },
   {
    "duration": 60,
    "start_time": "2023-08-20T11:20:02.227Z"
   },
   {
    "duration": 33,
    "start_time": "2023-08-20T11:20:02.292Z"
   },
   {
    "duration": 35,
    "start_time": "2023-08-20T11:20:02.327Z"
   },
   {
    "duration": 19,
    "start_time": "2023-08-20T11:20:02.365Z"
   },
   {
    "duration": 28,
    "start_time": "2023-08-20T11:20:02.386Z"
   },
   {
    "duration": 47,
    "start_time": "2023-08-20T11:20:02.416Z"
   },
   {
    "duration": 52,
    "start_time": "2023-08-20T11:20:02.466Z"
   },
   {
    "duration": 35,
    "start_time": "2023-08-20T11:20:02.520Z"
   },
   {
    "duration": 48,
    "start_time": "2023-08-20T11:20:02.557Z"
   },
   {
    "duration": 23,
    "start_time": "2023-08-20T11:20:02.607Z"
   },
   {
    "duration": 24,
    "start_time": "2023-08-20T11:20:02.633Z"
   },
   {
    "duration": 34,
    "start_time": "2023-08-20T11:20:02.659Z"
   },
   {
    "duration": 63,
    "start_time": "2023-08-20T11:20:02.695Z"
   },
   {
    "duration": 39,
    "start_time": "2023-08-20T11:20:02.760Z"
   },
   {
    "duration": 59,
    "start_time": "2023-08-20T11:20:02.801Z"
   },
   {
    "duration": 57,
    "start_time": "2023-08-20T11:20:02.862Z"
   },
   {
    "duration": 41,
    "start_time": "2023-08-20T11:20:02.921Z"
   },
   {
    "duration": 85,
    "start_time": "2023-08-20T11:20:02.964Z"
   },
   {
    "duration": 6,
    "start_time": "2023-08-20T11:20:03.051Z"
   },
   {
    "duration": 109,
    "start_time": "2023-08-20T11:20:03.059Z"
   },
   {
    "duration": 52,
    "start_time": "2023-08-20T11:20:03.171Z"
   },
   {
    "duration": 804,
    "start_time": "2023-08-20T11:20:03.227Z"
   },
   {
    "duration": 4,
    "start_time": "2023-08-20T11:20:04.033Z"
   },
   {
    "duration": 17,
    "start_time": "2023-08-20T11:20:04.039Z"
   },
   {
    "duration": 8,
    "start_time": "2023-08-20T11:20:04.058Z"
   },
   {
    "duration": 19,
    "start_time": "2023-08-20T11:20:04.068Z"
   },
   {
    "duration": 22,
    "start_time": "2023-08-20T11:20:04.090Z"
   },
   {
    "duration": 32,
    "start_time": "2023-08-20T11:20:04.114Z"
   },
   {
    "duration": 10,
    "start_time": "2023-08-20T11:20:04.148Z"
   },
   {
    "duration": 7,
    "start_time": "2023-08-20T11:20:04.160Z"
   },
   {
    "duration": 10,
    "start_time": "2023-08-20T11:20:04.168Z"
   },
   {
    "duration": 30,
    "start_time": "2023-08-20T11:20:04.180Z"
   },
   {
    "duration": 13,
    "start_time": "2023-08-20T11:20:04.218Z"
   },
   {
    "duration": 15,
    "start_time": "2023-08-20T11:20:04.233Z"
   },
   {
    "duration": 20,
    "start_time": "2023-08-20T11:20:04.250Z"
   },
   {
    "duration": 17,
    "start_time": "2023-08-20T11:20:04.272Z"
   },
   {
    "duration": 22,
    "start_time": "2023-08-20T11:20:04.291Z"
   },
   {
    "duration": 158,
    "start_time": "2023-08-20T11:20:04.317Z"
   },
   {
    "duration": 36,
    "start_time": "2023-08-20T11:20:04.478Z"
   }
  ],
  "kernelspec": {
   "display_name": "Python 3 (ipykernel)",
   "language": "python",
   "name": "python3"
  },
  "language_info": {
   "codemirror_mode": {
    "name": "ipython",
    "version": 3
   },
   "file_extension": ".py",
   "mimetype": "text/x-python",
   "name": "python",
   "nbconvert_exporter": "python",
   "pygments_lexer": "ipython3",
   "version": "3.10.9"
  },
  "toc": {
   "base_numbering": 1,
   "nav_menu": {},
   "number_sections": true,
   "sideBar": true,
   "skip_h1_title": true,
   "title_cell": "Table of Contents",
   "title_sidebar": "Contents",
   "toc_cell": false,
   "toc_position": {},
   "toc_section_display": true,
   "toc_window_display": false
  }
 },
 "nbformat": 4,
 "nbformat_minor": 2
}
